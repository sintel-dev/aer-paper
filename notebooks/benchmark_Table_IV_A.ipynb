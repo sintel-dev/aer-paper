{
 "cells": [
  {
   "cell_type": "code",
   "execution_count": 1,
   "id": "9cabb6c5-dc3f-4006-96b6-ac9f4f21e4ac",
   "metadata": {},
   "outputs": [],
   "source": [
    "import os\n",
    "import sys\n",
    "from functools import partial\n",
    "os.environ[\"CUDA_VISIBLE_DEVICES\"]=\"0\""
   ]
  },
  {
   "cell_type": "code",
   "execution_count": 2,
   "id": "9c92255e-258d-4cf5-81c4-d6cc983d2ee3",
   "metadata": {},
   "outputs": [
    {
     "name": "stderr",
     "output_type": "stream",
     "text": [
      "2022-10-26 00:12:01.317424: I tensorflow/stream_executor/platform/default/dso_loader.cc:48] Successfully opened dynamic library libcudart.so.10.1\n"
     ]
    }
   ],
   "source": [
    "import pandas as pd\n",
    "from aer.benchmark import benchmark, BENCHMARK_DATA, METRICS\n",
    "from orion.evaluation import contextual_confusion_matrix\n",
    "from orion.evaluation.contextual import record_observed, record_expected\n",
    "\n",
    "# Datasets\n",
    "NAB = ['artificialWithAnomaly', 'realAdExchange', 'realAWSCloudwatch', 'realTraffic', 'realTweets']\n",
    "NASA = ['MSL', 'SMAP']\n",
    "YAHOO = ['YAHOOA1', 'YAHOOA2', 'YAHOOA3', 'YAHOOA4']\n",
    "UCR = ['UCR']\n",
    "ALL_DATASETS = NAB + NASA + YAHOO + UCR\n",
    "\n",
    "RESULTS_DIRECTORY = os.path.join(os.getcwd(), 'results')\n",
    "\n",
    "# Additional Metrics\n",
    "del METRICS['accuracy']\n",
    "METRICS['confusion_matrix'] = contextual_confusion_matrix\n",
    "METRICS['observed'] = record_observed\n",
    "METRICS['expected'] = record_expected\n",
    "METRICS = {k: partial(fun, weighted=False) for k, fun in METRICS.items()}\n",
    "\n",
    "\n",
    "def run_experiment(experiment_name: str, pipelines: dict, datasets: list, metrics: dict,\n",
    "                   results_directory: str = RESULTS_DIRECTORY, workers: int = 1,\n",
    "                   tqdm_log_file: str = 'output.txt'):\n",
    "    datasets = {key: BENCHMARK_DATA[key] for key in datasets}\n",
    "    scores = benchmark(\n",
    "        pipelines=pipelines,\n",
    "        datasets=datasets,\n",
    "        metrics=metrics,\n",
    "        rank='f1',\n",
    "        show_progress=True,\n",
    "        workers=workers,\n",
    "        tqdm_log_file=tqdm_log_file\n",
    "    )\n",
    "    return scores"
   ]
  },
  {
   "cell_type": "code",
   "execution_count": null,
   "id": "cfd52703-2dc3-499a-a75e-74b89112b107",
   "metadata": {
    "tags": []
   },
   "outputs": [
    {
     "name": "stdout",
     "output_type": "stream",
     "text": [
      "None artificialWithAnomaly arima\n",
      "/home/dongyu/apps/aer-paper/aer/pipelines/dbs/arima/arima_artificialwithanomaly.json\n",
      "None artificialWithAnomaly lstm_dynamic_threshold\n",
      "/home/dongyu/apps/aer-paper/aer/pipelines/dbs/lstm_dynamic_threshold/lstm_dynamic_threshold_artificialwithanomaly.json\n",
      "None artificialWithAnomaly lstm_autoencoder\n",
      "/home/dongyu/apps/aer-paper/aer/pipelines/dbs/lstm_autoencoder/lstm_autoencoder_artificialwithanomaly.json\n",
      "None artificialWithAnomaly vae\n",
      "/home/dongyu/apps/aer-paper/aer/pipelines/dbs/vae/vae_artificialwithanomaly.json\n",
      "None artificialWithAnomaly tadgan\n",
      "/home/dongyu/apps/aer-paper/aer/pipelines/dbs/tadgan/tadgan_artificialwithanomaly.json\n",
      "None realAdExchange arima\n",
      "/home/dongyu/apps/aer-paper/aer/pipelines/dbs/arima/arima_realadexchange.json\n",
      "None realAdExchange lstm_dynamic_threshold\n",
      "/home/dongyu/apps/aer-paper/aer/pipelines/dbs/lstm_dynamic_threshold/lstm_dynamic_threshold_realadexchange.json\n",
      "None realAdExchange lstm_autoencoder\n",
      "/home/dongyu/apps/aer-paper/aer/pipelines/dbs/lstm_autoencoder/lstm_autoencoder_realadexchange.json\n",
      "None realAdExchange vae\n",
      "/home/dongyu/apps/aer-paper/aer/pipelines/dbs/vae/vae_realadexchange.json\n",
      "None realAdExchange tadgan\n",
      "/home/dongyu/apps/aer-paper/aer/pipelines/dbs/tadgan/tadgan_realadexchange.json\n",
      "None realAWSCloudwatch arima\n",
      "/home/dongyu/apps/aer-paper/aer/pipelines/dbs/arima/arima_realawscloudwatch.json\n",
      "None realAWSCloudwatch lstm_dynamic_threshold\n",
      "/home/dongyu/apps/aer-paper/aer/pipelines/dbs/lstm_dynamic_threshold/lstm_dynamic_threshold_realawscloudwatch.json\n",
      "None realAWSCloudwatch lstm_autoencoder\n",
      "/home/dongyu/apps/aer-paper/aer/pipelines/dbs/lstm_autoencoder/lstm_autoencoder_realawscloudwatch.json\n",
      "None realAWSCloudwatch vae\n",
      "/home/dongyu/apps/aer-paper/aer/pipelines/dbs/vae/vae_realawscloudwatch.json\n",
      "None realAWSCloudwatch tadgan\n",
      "/home/dongyu/apps/aer-paper/aer/pipelines/dbs/tadgan/tadgan_realawscloudwatch.json\n",
      "None realTraffic arima\n",
      "/home/dongyu/apps/aer-paper/aer/pipelines/dbs/arima/arima_realtraffic.json\n",
      "None realTraffic lstm_dynamic_threshold\n",
      "/home/dongyu/apps/aer-paper/aer/pipelines/dbs/lstm_dynamic_threshold/lstm_dynamic_threshold_realtraffic.json\n",
      "None realTraffic lstm_autoencoder\n",
      "/home/dongyu/apps/aer-paper/aer/pipelines/dbs/lstm_autoencoder/lstm_autoencoder_realtraffic.json\n",
      "None realTraffic vae\n",
      "/home/dongyu/apps/aer-paper/aer/pipelines/dbs/vae/vae_realtraffic.json\n",
      "None realTraffic tadgan\n",
      "/home/dongyu/apps/aer-paper/aer/pipelines/dbs/tadgan/tadgan_realtraffic.json\n",
      "None realTweets arima\n",
      "/home/dongyu/apps/aer-paper/aer/pipelines/dbs/arima/arima_realtweets.json\n",
      "None realTweets lstm_dynamic_threshold\n",
      "/home/dongyu/apps/aer-paper/aer/pipelines/dbs/lstm_dynamic_threshold/lstm_dynamic_threshold_realtweets.json\n",
      "None realTweets lstm_autoencoder\n",
      "/home/dongyu/apps/aer-paper/aer/pipelines/dbs/lstm_autoencoder/lstm_autoencoder_realtweets.json\n",
      "None realTweets vae\n",
      "/home/dongyu/apps/aer-paper/aer/pipelines/dbs/vae/vae_realtweets.json\n",
      "None realTweets tadgan\n",
      "/home/dongyu/apps/aer-paper/aer/pipelines/dbs/tadgan/tadgan_realtweets.json\n",
      "None MSL arima\n",
      "/home/dongyu/apps/aer-paper/aer/pipelines/dbs/arima/arima_msl.json\n",
      "None MSL lstm_dynamic_threshold\n",
      "/home/dongyu/apps/aer-paper/aer/pipelines/dbs/lstm_dynamic_threshold/lstm_dynamic_threshold_msl.json\n",
      "None MSL lstm_autoencoder\n",
      "/home/dongyu/apps/aer-paper/aer/pipelines/dbs/lstm_autoencoder/lstm_autoencoder_msl.json\n",
      "None MSL vae\n",
      "/home/dongyu/apps/aer-paper/aer/pipelines/dbs/vae/vae_msl.json\n",
      "None MSL tadgan\n",
      "/home/dongyu/apps/aer-paper/aer/pipelines/dbs/tadgan/tadgan_msl.json\n",
      "None SMAP arima\n",
      "/home/dongyu/apps/aer-paper/aer/pipelines/dbs/arima/arima_smap.json\n",
      "None SMAP lstm_dynamic_threshold\n",
      "/home/dongyu/apps/aer-paper/aer/pipelines/dbs/lstm_dynamic_threshold/lstm_dynamic_threshold_smap.json\n",
      "None SMAP lstm_autoencoder\n",
      "/home/dongyu/apps/aer-paper/aer/pipelines/dbs/lstm_autoencoder/lstm_autoencoder_smap.json\n",
      "None SMAP vae\n",
      "/home/dongyu/apps/aer-paper/aer/pipelines/dbs/vae/vae_smap.json\n",
      "None SMAP tadgan\n",
      "/home/dongyu/apps/aer-paper/aer/pipelines/dbs/tadgan/tadgan_smap.json\n",
      "None YAHOOA1 arima\n",
      "/home/dongyu/apps/aer-paper/aer/pipelines/dbs/arima/arima_yahooa1.json\n",
      "None YAHOOA1 lstm_dynamic_threshold\n",
      "/home/dongyu/apps/aer-paper/aer/pipelines/dbs/lstm_dynamic_threshold/lstm_dynamic_threshold_yahooa1.json\n",
      "None YAHOOA1 lstm_autoencoder\n",
      "/home/dongyu/apps/aer-paper/aer/pipelines/dbs/lstm_autoencoder/lstm_autoencoder_yahooa1.json\n",
      "None YAHOOA1 vae\n",
      "/home/dongyu/apps/aer-paper/aer/pipelines/dbs/vae/vae_yahooa1.json\n",
      "None YAHOOA1 tadgan\n",
      "/home/dongyu/apps/aer-paper/aer/pipelines/dbs/tadgan/tadgan_yahooa1.json\n",
      "None YAHOOA2 arima\n",
      "/home/dongyu/apps/aer-paper/aer/pipelines/dbs/arima/arima_yahooa2.json\n",
      "None YAHOOA2 lstm_dynamic_threshold\n",
      "/home/dongyu/apps/aer-paper/aer/pipelines/dbs/lstm_dynamic_threshold/lstm_dynamic_threshold_yahooa2.json\n",
      "None YAHOOA2 lstm_autoencoder\n",
      "/home/dongyu/apps/aer-paper/aer/pipelines/dbs/lstm_autoencoder/lstm_autoencoder_yahooa2.json\n",
      "None YAHOOA2 vae\n",
      "/home/dongyu/apps/aer-paper/aer/pipelines/dbs/vae/vae_yahooa2.json\n",
      "None YAHOOA2 tadgan\n",
      "/home/dongyu/apps/aer-paper/aer/pipelines/dbs/tadgan/tadgan_yahooa2.json\n",
      "None YAHOOA3 arima\n",
      "/home/dongyu/apps/aer-paper/aer/pipelines/dbs/arima/arima_yahooa3.json\n",
      "None YAHOOA3 lstm_dynamic_threshold\n",
      "/home/dongyu/apps/aer-paper/aer/pipelines/dbs/lstm_dynamic_threshold/lstm_dynamic_threshold_yahooa3.json\n",
      "None YAHOOA3 lstm_autoencoder\n",
      "/home/dongyu/apps/aer-paper/aer/pipelines/dbs/lstm_autoencoder/lstm_autoencoder_yahooa3.json\n",
      "None YAHOOA3 vae\n",
      "/home/dongyu/apps/aer-paper/aer/pipelines/dbs/vae/vae_yahooa3.json\n",
      "None YAHOOA3 tadgan\n",
      "/home/dongyu/apps/aer-paper/aer/pipelines/dbs/tadgan/tadgan_yahooa3.json\n",
      "None YAHOOA4 arima\n",
      "/home/dongyu/apps/aer-paper/aer/pipelines/dbs/arima/arima_yahooa4.json\n",
      "None YAHOOA4 lstm_dynamic_threshold\n",
      "/home/dongyu/apps/aer-paper/aer/pipelines/dbs/lstm_dynamic_threshold/lstm_dynamic_threshold_yahooa4.json\n",
      "None YAHOOA4 lstm_autoencoder\n",
      "/home/dongyu/apps/aer-paper/aer/pipelines/dbs/lstm_autoencoder/lstm_autoencoder_yahooa4.json\n",
      "None YAHOOA4 vae\n",
      "/home/dongyu/apps/aer-paper/aer/pipelines/dbs/vae/vae_yahooa4.json\n",
      "None YAHOOA4 tadgan\n",
      "/home/dongyu/apps/aer-paper/aer/pipelines/dbs/tadgan/tadgan_yahooa4.json\n",
      "None UCR arima\n",
      "/home/dongyu/apps/aer-paper/aer/pipelines/dbs/arima/arima_ucr.json\n",
      "None UCR lstm_dynamic_threshold\n",
      "/home/dongyu/apps/aer-paper/aer/pipelines/dbs/lstm_dynamic_threshold/lstm_dynamic_threshold_ucr.json\n",
      "None UCR lstm_autoencoder\n",
      "/home/dongyu/apps/aer-paper/aer/pipelines/dbs/lstm_autoencoder/lstm_autoencoder_ucr.json\n",
      "None UCR vae\n",
      "/home/dongyu/apps/aer-paper/aer/pipelines/dbs/vae/vae_ucr.json\n",
      "None UCR tadgan\n",
      "/home/dongyu/apps/aer-paper/aer/pipelines/dbs/tadgan/tadgan_ucr.json\n"
     ]
    },
    {
     "name": "stderr",
     "output_type": "stream",
     "text": [
      "\n",
      "\n",
      "  0%|          | 0/3710 [00:00<?, ?it/s]\u001b[A\u001b[A"
     ]
    },
    {
     "name": "stdout",
     "output_type": "stream",
     "text": [
      "pipeline: arima_ablation, signal: art_daily_flatmiddle, test_split: False, detrend: False\n"
     ]
    },
    {
     "name": "stderr",
     "output_type": "stream",
     "text": [
      "/home/dongyu/miniconda/envs/aer-paper/lib/python3.7/site-packages/statsmodels/base/model.py:568: ConvergenceWarning: Maximum Likelihood optimization failed to converge. Check mle_retvals\n",
      "  ConvergenceWarning)\n",
      "/home/dongyu/miniconda/envs/aer-paper/lib/python3.7/site-packages/statsmodels/base/model.py:568: ConvergenceWarning: Maximum Likelihood optimization failed to converge. Check mle_retvals\n",
      "  ConvergenceWarning)\n",
      "/home/dongyu/miniconda/envs/aer-paper/lib/python3.7/site-packages/statsmodels/base/model.py:568: ConvergenceWarning: Maximum Likelihood optimization failed to converge. Check mle_retvals\n",
      "  ConvergenceWarning)\n",
      "/home/dongyu/miniconda/envs/aer-paper/lib/python3.7/site-packages/statsmodels/base/model.py:568: ConvergenceWarning: Maximum Likelihood optimization failed to converge. Check mle_retvals\n",
      "  ConvergenceWarning)\n",
      "/home/dongyu/miniconda/envs/aer-paper/lib/python3.7/site-packages/statsmodels/base/model.py:568: ConvergenceWarning: Maximum Likelihood optimization failed to converge. Check mle_retvals\n",
      "  ConvergenceWarning)\n",
      "/home/dongyu/miniconda/envs/aer-paper/lib/python3.7/site-packages/statsmodels/base/model.py:568: ConvergenceWarning: Maximum Likelihood optimization failed to converge. Check mle_retvals\n",
      "  ConvergenceWarning)\n",
      "Invalid value encountered for precision 0.0/ recall 0.0.\n",
      "Traceback (most recent call last):\n",
      "  File \"/home/dongyu/miniconda/envs/aer-paper/lib/python3.7/site-packages/orion/evaluation/common.py\", line 70, in _f1_score\n",
      "    return 2 * (precision * recall) / (precision + recall)\n",
      "ZeroDivisionError: float division by zero\n",
      "\n",
      "\n",
      "  0%|          | 1/3710 [00:32<33:55:59, 32.94s/it]\u001b[A\u001b[A"
     ]
    },
    {
     "name": "stdout",
     "output_type": "stream",
     "text": [
      "pipeline: arima_ablation, signal: art_daily_jumpsdown, test_split: False, detrend: False\n"
     ]
    },
    {
     "name": "stderr",
     "output_type": "stream",
     "text": [
      "/home/dongyu/miniconda/envs/aer-paper/lib/python3.7/site-packages/statsmodels/base/model.py:568: ConvergenceWarning: Maximum Likelihood optimization failed to converge. Check mle_retvals\n",
      "  ConvergenceWarning)\n",
      "/home/dongyu/miniconda/envs/aer-paper/lib/python3.7/site-packages/statsmodels/base/model.py:568: ConvergenceWarning: Maximum Likelihood optimization failed to converge. Check mle_retvals\n",
      "  ConvergenceWarning)\n",
      "/home/dongyu/miniconda/envs/aer-paper/lib/python3.7/site-packages/statsmodels/base/model.py:568: ConvergenceWarning: Maximum Likelihood optimization failed to converge. Check mle_retvals\n",
      "  ConvergenceWarning)\n",
      "Invalid value encountered for precision 0.0/ recall 0.0.\n",
      "Traceback (most recent call last):\n",
      "  File \"/home/dongyu/miniconda/envs/aer-paper/lib/python3.7/site-packages/orion/evaluation/common.py\", line 70, in _f1_score\n",
      "    return 2 * (precision * recall) / (precision + recall)\n",
      "ZeroDivisionError: float division by zero\n",
      "\n",
      "\n",
      "  0%|          | 2/3710 [01:04<33:19:10, 32.35s/it]\u001b[A\u001b[A"
     ]
    },
    {
     "name": "stdout",
     "output_type": "stream",
     "text": [
      "pipeline: arima_ablation, signal: art_daily_jumpsup, test_split: False, detrend: False\n"
     ]
    },
    {
     "name": "stderr",
     "output_type": "stream",
     "text": [
      "/home/dongyu/miniconda/envs/aer-paper/lib/python3.7/site-packages/statsmodels/base/model.py:568: ConvergenceWarning: Maximum Likelihood optimization failed to converge. Check mle_retvals\n",
      "  ConvergenceWarning)\n",
      "/home/dongyu/miniconda/envs/aer-paper/lib/python3.7/site-packages/statsmodels/base/model.py:568: ConvergenceWarning: Maximum Likelihood optimization failed to converge. Check mle_retvals\n",
      "  ConvergenceWarning)\n",
      "/home/dongyu/miniconda/envs/aer-paper/lib/python3.7/site-packages/statsmodels/base/model.py:568: ConvergenceWarning: Maximum Likelihood optimization failed to converge. Check mle_retvals\n",
      "  ConvergenceWarning)\n",
      "/home/dongyu/miniconda/envs/aer-paper/lib/python3.7/site-packages/statsmodels/base/model.py:568: ConvergenceWarning: Maximum Likelihood optimization failed to converge. Check mle_retvals\n",
      "  ConvergenceWarning)\n",
      "/home/dongyu/miniconda/envs/aer-paper/lib/python3.7/site-packages/statsmodels/base/model.py:568: ConvergenceWarning: Maximum Likelihood optimization failed to converge. Check mle_retvals\n",
      "  ConvergenceWarning)\n",
      "/home/dongyu/miniconda/envs/aer-paper/lib/python3.7/site-packages/statsmodels/base/model.py:568: ConvergenceWarning: Maximum Likelihood optimization failed to converge. Check mle_retvals\n",
      "  ConvergenceWarning)\n",
      "/home/dongyu/miniconda/envs/aer-paper/lib/python3.7/site-packages/statsmodels/base/model.py:568: ConvergenceWarning: Maximum Likelihood optimization failed to converge. Check mle_retvals\n",
      "  ConvergenceWarning)\n",
      "\n",
      "\n",
      "  0%|          | 3/3710 [01:38<34:02:30, 33.06s/it]\u001b[A\u001b[A"
     ]
    },
    {
     "name": "stdout",
     "output_type": "stream",
     "text": [
      "pipeline: arima_ablation, signal: art_daily_nojump, test_split: False, detrend: False\n"
     ]
    },
    {
     "name": "stderr",
     "output_type": "stream",
     "text": [
      "/home/dongyu/miniconda/envs/aer-paper/lib/python3.7/site-packages/statsmodels/base/model.py:568: ConvergenceWarning: Maximum Likelihood optimization failed to converge. Check mle_retvals\n",
      "  ConvergenceWarning)\n",
      "/home/dongyu/miniconda/envs/aer-paper/lib/python3.7/site-packages/statsmodels/base/model.py:568: ConvergenceWarning: Maximum Likelihood optimization failed to converge. Check mle_retvals\n",
      "  ConvergenceWarning)\n",
      "Invalid value encountered for precision 0.0/ recall 0.0.\n",
      "Traceback (most recent call last):\n",
      "  File \"/home/dongyu/miniconda/envs/aer-paper/lib/python3.7/site-packages/orion/evaluation/common.py\", line 70, in _f1_score\n",
      "    return 2 * (precision * recall) / (precision + recall)\n",
      "ZeroDivisionError: float division by zero\n",
      "\n",
      "\n",
      "  0%|          | 4/3710 [02:10<33:36:55, 32.65s/it]\u001b[A\u001b[A"
     ]
    },
    {
     "name": "stdout",
     "output_type": "stream",
     "text": [
      "pipeline: arima_ablation, signal: art_increase_spike_density, test_split: False, detrend: False\n"
     ]
    },
    {
     "name": "stderr",
     "output_type": "stream",
     "text": [
      "/home/dongyu/miniconda/envs/aer-paper/lib/python3.7/site-packages/statsmodels/base/model.py:568: ConvergenceWarning: Maximum Likelihood optimization failed to converge. Check mle_retvals\n",
      "  ConvergenceWarning)\n",
      "/home/dongyu/miniconda/envs/aer-paper/lib/python3.7/site-packages/statsmodels/base/model.py:568: ConvergenceWarning: Maximum Likelihood optimization failed to converge. Check mle_retvals\n",
      "  ConvergenceWarning)\n",
      "/home/dongyu/miniconda/envs/aer-paper/lib/python3.7/site-packages/statsmodels/base/model.py:568: ConvergenceWarning: Maximum Likelihood optimization failed to converge. Check mle_retvals\n",
      "  ConvergenceWarning)\n",
      "/home/dongyu/miniconda/envs/aer-paper/lib/python3.7/site-packages/statsmodels/base/model.py:568: ConvergenceWarning: Maximum Likelihood optimization failed to converge. Check mle_retvals\n",
      "  ConvergenceWarning)\n",
      "/home/dongyu/miniconda/envs/aer-paper/lib/python3.7/site-packages/statsmodels/base/model.py:568: ConvergenceWarning: Maximum Likelihood optimization failed to converge. Check mle_retvals\n",
      "  ConvergenceWarning)\n",
      "/home/dongyu/miniconda/envs/aer-paper/lib/python3.7/site-packages/statsmodels/base/model.py:568: ConvergenceWarning: Maximum Likelihood optimization failed to converge. Check mle_retvals\n",
      "  ConvergenceWarning)\n",
      "\n",
      "\n",
      "  0%|          | 5/3710 [02:44<33:53:20, 32.93s/it]\u001b[A\u001b[A"
     ]
    },
    {
     "name": "stdout",
     "output_type": "stream",
     "text": [
      "pipeline: arima_ablation, signal: art_load_balancer_spikes, test_split: False, detrend: False\n"
     ]
    },
    {
     "name": "stderr",
     "output_type": "stream",
     "text": [
      "/home/dongyu/miniconda/envs/aer-paper/lib/python3.7/site-packages/statsmodels/base/model.py:568: ConvergenceWarning: Maximum Likelihood optimization failed to converge. Check mle_retvals\n",
      "  ConvergenceWarning)\n",
      "/home/dongyu/miniconda/envs/aer-paper/lib/python3.7/site-packages/statsmodels/base/model.py:568: ConvergenceWarning: Maximum Likelihood optimization failed to converge. Check mle_retvals\n",
      "  ConvergenceWarning)\n",
      "/home/dongyu/miniconda/envs/aer-paper/lib/python3.7/site-packages/statsmodels/base/model.py:568: ConvergenceWarning: Maximum Likelihood optimization failed to converge. Check mle_retvals\n",
      "  ConvergenceWarning)\n",
      "/home/dongyu/miniconda/envs/aer-paper/lib/python3.7/site-packages/statsmodels/base/model.py:568: ConvergenceWarning: Maximum Likelihood optimization failed to converge. Check mle_retvals\n",
      "  ConvergenceWarning)\n",
      "\n",
      "\n",
      "  0%|          | 6/3710 [03:17<33:53:42, 32.94s/it]\u001b[A\u001b[A"
     ]
    },
    {
     "name": "stdout",
     "output_type": "stream",
     "text": [
      "pipeline: lstm_dynamic_threshold_ablation, signal: art_daily_flatmiddle, test_split: False, detrend: False\n"
     ]
    },
    {
     "name": "stderr",
     "output_type": "stream",
     "text": [
      "2022-10-26 00:15:20.562346: I tensorflow/stream_executor/platform/default/dso_loader.cc:48] Successfully opened dynamic library libcuda.so.1\n",
      "2022-10-26 00:15:20.599961: I tensorflow/core/common_runtime/gpu/gpu_device.cc:1716] Found device 0 with properties: \n",
      "pciBusID: 0000:19:00.0 name: NVIDIA GeForce RTX 2080 Ti computeCapability: 7.5\n",
      "coreClock: 1.545GHz coreCount: 68 deviceMemorySize: 10.76GiB deviceMemoryBandwidth: 573.69GiB/s\n",
      "2022-10-26 00:15:20.599990: I tensorflow/stream_executor/platform/default/dso_loader.cc:48] Successfully opened dynamic library libcudart.so.10.1\n",
      "2022-10-26 00:15:20.601393: I tensorflow/stream_executor/platform/default/dso_loader.cc:48] Successfully opened dynamic library libcublas.so.10\n",
      "2022-10-26 00:15:20.602735: I tensorflow/stream_executor/platform/default/dso_loader.cc:48] Successfully opened dynamic library libcufft.so.10\n",
      "2022-10-26 00:15:20.602987: I tensorflow/stream_executor/platform/default/dso_loader.cc:48] Successfully opened dynamic library libcurand.so.10\n",
      "2022-10-26 00:15:20.604259: I tensorflow/stream_executor/platform/default/dso_loader.cc:48] Successfully opened dynamic library libcusolver.so.10\n",
      "2022-10-26 00:15:20.604991: I tensorflow/stream_executor/platform/default/dso_loader.cc:48] Successfully opened dynamic library libcusparse.so.10\n",
      "2022-10-26 00:15:20.607555: I tensorflow/stream_executor/platform/default/dso_loader.cc:48] Successfully opened dynamic library libcudnn.so.7\n",
      "2022-10-26 00:15:20.608948: I tensorflow/core/common_runtime/gpu/gpu_device.cc:1858] Adding visible gpu devices: 0\n",
      "2022-10-26 00:15:20.609252: I tensorflow/core/platform/cpu_feature_guard.cc:142] This TensorFlow binary is optimized with oneAPI Deep Neural Network Library (oneDNN)to use the following CPU instructions in performance-critical operations:  AVX2 AVX512F FMA\n",
      "To enable them in other operations, rebuild TensorFlow with the appropriate compiler flags.\n",
      "2022-10-26 00:15:20.615040: I tensorflow/core/platform/profile_utils/cpu_utils.cc:104] CPU Frequency: 2899885000 Hz\n",
      "2022-10-26 00:15:20.616627: I tensorflow/compiler/xla/service/service.cc:168] XLA service 0x5a95c50 initialized for platform Host (this does not guarantee that XLA will be used). Devices:\n",
      "2022-10-26 00:15:20.616637: I tensorflow/compiler/xla/service/service.cc:176]   StreamExecutor device (0): Host, Default Version\n",
      "2022-10-26 00:15:20.710990: I tensorflow/compiler/xla/service/service.cc:168] XLA service 0x66b4020 initialized for platform CUDA (this does not guarantee that XLA will be used). Devices:\n",
      "2022-10-26 00:15:20.711034: I tensorflow/compiler/xla/service/service.cc:176]   StreamExecutor device (0): NVIDIA GeForce RTX 2080 Ti, Compute Capability 7.5\n",
      "2022-10-26 00:15:20.712991: I tensorflow/core/common_runtime/gpu/gpu_device.cc:1716] Found device 0 with properties: \n",
      "pciBusID: 0000:19:00.0 name: NVIDIA GeForce RTX 2080 Ti computeCapability: 7.5\n",
      "coreClock: 1.545GHz coreCount: 68 deviceMemorySize: 10.76GiB deviceMemoryBandwidth: 573.69GiB/s\n",
      "2022-10-26 00:15:20.713061: I tensorflow/stream_executor/platform/default/dso_loader.cc:48] Successfully opened dynamic library libcudart.so.10.1\n",
      "2022-10-26 00:15:20.713121: I tensorflow/stream_executor/platform/default/dso_loader.cc:48] Successfully opened dynamic library libcublas.so.10\n",
      "2022-10-26 00:15:20.713155: I tensorflow/stream_executor/platform/default/dso_loader.cc:48] Successfully opened dynamic library libcufft.so.10\n",
      "2022-10-26 00:15:20.713189: I tensorflow/stream_executor/platform/default/dso_loader.cc:48] Successfully opened dynamic library libcurand.so.10\n",
      "2022-10-26 00:15:20.713235: I tensorflow/stream_executor/platform/default/dso_loader.cc:48] Successfully opened dynamic library libcusolver.so.10\n",
      "2022-10-26 00:15:20.713288: I tensorflow/stream_executor/platform/default/dso_loader.cc:48] Successfully opened dynamic library libcusparse.so.10\n",
      "2022-10-26 00:15:20.713341: I tensorflow/stream_executor/platform/default/dso_loader.cc:48] Successfully opened dynamic library libcudnn.so.7\n",
      "2022-10-26 00:15:20.716621: I tensorflow/core/common_runtime/gpu/gpu_device.cc:1858] Adding visible gpu devices: 0\n",
      "2022-10-26 00:15:20.716692: I tensorflow/stream_executor/platform/default/dso_loader.cc:48] Successfully opened dynamic library libcudart.so.10.1\n",
      "2022-10-26 00:15:21.092472: I tensorflow/core/common_runtime/gpu/gpu_device.cc:1257] Device interconnect StreamExecutor with strength 1 edge matrix:\n",
      "2022-10-26 00:15:21.092501: I tensorflow/core/common_runtime/gpu/gpu_device.cc:1263]      0 \n",
      "2022-10-26 00:15:21.092506: I tensorflow/core/common_runtime/gpu/gpu_device.cc:1276] 0:   N \n",
      "2022-10-26 00:15:21.094223: I tensorflow/core/common_runtime/gpu/gpu_device.cc:1402] Created TensorFlow device (/job:localhost/replica:0/task:0/device:GPU:0 with 10070 MB memory) -> physical GPU (device: 0, name: NVIDIA GeForce RTX 2080 Ti, pci bus id: 0000:19:00.0, compute capability: 7.5)\n",
      "2022-10-26 00:15:22.964127: I tensorflow/stream_executor/platform/default/dso_loader.cc:48] Successfully opened dynamic library libcublas.so.10\n",
      "2022-10-26 00:15:23.171134: I tensorflow/stream_executor/platform/default/dso_loader.cc:48] Successfully opened dynamic library libcudnn.so.7\n",
      "Invalid value encountered for precision 0.0/ recall 0.0.\n",
      "Traceback (most recent call last):\n",
      "  File \"/home/dongyu/miniconda/envs/aer-paper/lib/python3.7/site-packages/orion/evaluation/common.py\", line 70, in _f1_score\n",
      "    return 2 * (precision * recall) / (precision + recall)\n",
      "ZeroDivisionError: float division by zero\n",
      "\n",
      "\n",
      "  0%|          | 7/3710 [03:46<32:37:44, 31.72s/it]\u001b[A\u001b[A"
     ]
    },
    {
     "name": "stdout",
     "output_type": "stream",
     "text": [
      "pipeline: lstm_dynamic_threshold_ablation, signal: art_daily_jumpsdown, test_split: False, detrend: False\n"
     ]
    },
    {
     "name": "stderr",
     "output_type": "stream",
     "text": [
      "Invalid value encountered for precision 0.0/ recall 0.0.\n",
      "Traceback (most recent call last):\n",
      "  File \"/home/dongyu/miniconda/envs/aer-paper/lib/python3.7/site-packages/orion/evaluation/common.py\", line 70, in _f1_score\n",
      "    return 2 * (precision * recall) / (precision + recall)\n",
      "ZeroDivisionError: float division by zero\n",
      "\n",
      "\n",
      "  0%|          | 8/3710 [04:14<31:32:11, 30.67s/it]\u001b[A\u001b[A"
     ]
    },
    {
     "name": "stdout",
     "output_type": "stream",
     "text": [
      "pipeline: lstm_dynamic_threshold_ablation, signal: art_daily_jumpsup, test_split: False, detrend: False\n"
     ]
    },
    {
     "name": "stderr",
     "output_type": "stream",
     "text": [
      "\n",
      "\n",
      "  0%|          | 9/3710 [04:43<30:50:48, 30.01s/it]\u001b[A\u001b[A"
     ]
    },
    {
     "name": "stdout",
     "output_type": "stream",
     "text": [
      "pipeline: lstm_dynamic_threshold_ablation, signal: art_daily_nojump, test_split: False, detrend: False\n"
     ]
    },
    {
     "name": "stderr",
     "output_type": "stream",
     "text": [
      "Invalid value encountered for precision 0.0/ recall 0.0.\n",
      "Traceback (most recent call last):\n",
      "  File \"/home/dongyu/miniconda/envs/aer-paper/lib/python3.7/site-packages/orion/evaluation/common.py\", line 70, in _f1_score\n",
      "    return 2 * (precision * recall) / (precision + recall)\n",
      "ZeroDivisionError: float division by zero\n",
      "\n",
      "\n",
      "  0%|          | 10/3710 [05:12<30:25:44, 29.61s/it]\u001b[A\u001b[A"
     ]
    },
    {
     "name": "stdout",
     "output_type": "stream",
     "text": [
      "pipeline: lstm_dynamic_threshold_ablation, signal: art_increase_spike_density, test_split: False, detrend: False\n"
     ]
    },
    {
     "name": "stderr",
     "output_type": "stream",
     "text": [
      "\n",
      "\n",
      "  0%|          | 11/3710 [05:40<30:00:48, 29.21s/it]\u001b[A\u001b[A"
     ]
    },
    {
     "name": "stdout",
     "output_type": "stream",
     "text": [
      "pipeline: lstm_dynamic_threshold_ablation, signal: art_load_balancer_spikes, test_split: False, detrend: False\n"
     ]
    },
    {
     "name": "stderr",
     "output_type": "stream",
     "text": [
      "\n",
      "\n",
      "  0%|          | 12/3710 [05:53<25:00:49, 24.35s/it]\u001b[A\u001b[A"
     ]
    },
    {
     "name": "stdout",
     "output_type": "stream",
     "text": [
      "pipeline: lstm_autoencoder_ablation, signal: art_daily_flatmiddle, test_split: False, detrend: False\n"
     ]
    },
    {
     "name": "stderr",
     "output_type": "stream",
     "text": [
      "\n",
      "\n",
      "  0%|          | 13/3710 [06:12<23:15:30, 22.65s/it]\u001b[A\u001b[A"
     ]
    },
    {
     "name": "stdout",
     "output_type": "stream",
     "text": [
      "pipeline: lstm_autoencoder_ablation, signal: art_daily_jumpsdown, test_split: False, detrend: False\n"
     ]
    },
    {
     "name": "stderr",
     "output_type": "stream",
     "text": [
      "Evaluation exception division by zero (tp 0/ fp 0).\n",
      "Traceback (most recent call last):\n",
      "  File \"/home/dongyu/miniconda/envs/aer-paper/lib/python3.7/site-packages/orion/evaluation/common.py\", line 43, in _precision\n",
      "    return tp / (tp + fp)\n",
      "ZeroDivisionError: division by zero\n",
      "Evaluation exception division by zero (tp 0/ fp 0).\n",
      "Traceback (most recent call last):\n",
      "  File \"/home/dongyu/miniconda/envs/aer-paper/lib/python3.7/site-packages/orion/evaluation/common.py\", line 43, in _precision\n",
      "    return tp / (tp + fp)\n",
      "ZeroDivisionError: division by zero\n",
      "\n",
      "\n",
      "  0%|          | 14/3710 [06:30<21:50:39, 21.28s/it]\u001b[A\u001b[A"
     ]
    },
    {
     "name": "stdout",
     "output_type": "stream",
     "text": [
      "pipeline: lstm_autoencoder_ablation, signal: art_daily_jumpsup, test_split: False, detrend: False\n"
     ]
    },
    {
     "name": "stderr",
     "output_type": "stream",
     "text": [
      "\n",
      "\n",
      "  0%|          | 15/3710 [06:50<21:28:00, 20.91s/it]\u001b[A\u001b[A"
     ]
    },
    {
     "name": "stdout",
     "output_type": "stream",
     "text": [
      "pipeline: lstm_autoencoder_ablation, signal: art_daily_nojump, test_split: False, detrend: False\n"
     ]
    },
    {
     "name": "stderr",
     "output_type": "stream",
     "text": [
      "Evaluation exception division by zero (tp 0/ fp 0).\n",
      "Traceback (most recent call last):\n",
      "  File \"/home/dongyu/miniconda/envs/aer-paper/lib/python3.7/site-packages/orion/evaluation/common.py\", line 43, in _precision\n",
      "    return tp / (tp + fp)\n",
      "ZeroDivisionError: division by zero\n",
      "Evaluation exception division by zero (tp 0/ fp 0).\n",
      "Traceback (most recent call last):\n",
      "  File \"/home/dongyu/miniconda/envs/aer-paper/lib/python3.7/site-packages/orion/evaluation/common.py\", line 43, in _precision\n",
      "    return tp / (tp + fp)\n",
      "ZeroDivisionError: division by zero\n",
      "\n",
      "\n",
      "  0%|          | 16/3710 [07:09<20:58:08, 20.44s/it]\u001b[A\u001b[A"
     ]
    },
    {
     "name": "stdout",
     "output_type": "stream",
     "text": [
      "pipeline: lstm_autoencoder_ablation, signal: art_increase_spike_density, test_split: False, detrend: False\n"
     ]
    },
    {
     "name": "stderr",
     "output_type": "stream",
     "text": [
      "\n",
      "\n",
      "  0%|          | 17/3710 [07:22<18:42:14, 18.23s/it]\u001b[A\u001b[A"
     ]
    },
    {
     "name": "stdout",
     "output_type": "stream",
     "text": [
      "pipeline: lstm_autoencoder_ablation, signal: art_load_balancer_spikes, test_split: False, detrend: False\n"
     ]
    },
    {
     "name": "stderr",
     "output_type": "stream",
     "text": [
      "\n",
      "\n",
      "  0%|          | 18/3710 [07:40<18:32:25, 18.08s/it]\u001b[A\u001b[A"
     ]
    },
    {
     "name": "stdout",
     "output_type": "stream",
     "text": [
      "pipeline: vae_ablation, signal: art_daily_flatmiddle, test_split: False, detrend: False\n"
     ]
    },
    {
     "name": "stderr",
     "output_type": "stream",
     "text": [
      "Evaluation exception division by zero (tp 0/ fp 0).\n",
      "Traceback (most recent call last):\n",
      "  File \"/home/dongyu/miniconda/envs/aer-paper/lib/python3.7/site-packages/orion/evaluation/common.py\", line 43, in _precision\n",
      "    return tp / (tp + fp)\n",
      "ZeroDivisionError: division by zero\n",
      "Evaluation exception division by zero (tp 0/ fp 0).\n",
      "Traceback (most recent call last):\n",
      "  File \"/home/dongyu/miniconda/envs/aer-paper/lib/python3.7/site-packages/orion/evaluation/common.py\", line 43, in _precision\n",
      "    return tp / (tp + fp)\n",
      "ZeroDivisionError: division by zero\n",
      "\n",
      "\n",
      "  1%|          | 19/3710 [08:01<19:30:29, 19.03s/it]\u001b[A\u001b[A"
     ]
    },
    {
     "name": "stdout",
     "output_type": "stream",
     "text": [
      "pipeline: vae_ablation, signal: art_daily_jumpsdown, test_split: False, detrend: False\n"
     ]
    },
    {
     "name": "stderr",
     "output_type": "stream",
     "text": [
      "Evaluation exception division by zero (tp 0/ fp 0).\n",
      "Traceback (most recent call last):\n",
      "  File \"/home/dongyu/miniconda/envs/aer-paper/lib/python3.7/site-packages/orion/evaluation/common.py\", line 43, in _precision\n",
      "    return tp / (tp + fp)\n",
      "ZeroDivisionError: division by zero\n",
      "Evaluation exception division by zero (tp 0/ fp 0).\n",
      "Traceback (most recent call last):\n",
      "  File \"/home/dongyu/miniconda/envs/aer-paper/lib/python3.7/site-packages/orion/evaluation/common.py\", line 43, in _precision\n",
      "    return tp / (tp + fp)\n",
      "ZeroDivisionError: division by zero\n",
      "\n",
      "\n",
      "  1%|          | 20/3710 [08:22<19:52:59, 19.40s/it]\u001b[A\u001b[A"
     ]
    },
    {
     "name": "stdout",
     "output_type": "stream",
     "text": [
      "pipeline: vae_ablation, signal: art_daily_jumpsup, test_split: False, detrend: False\n"
     ]
    },
    {
     "name": "stderr",
     "output_type": "stream",
     "text": [
      "\n",
      "\n",
      "  1%|          | 21/3710 [08:42<20:12:19, 19.72s/it]\u001b[A\u001b[A"
     ]
    },
    {
     "name": "stdout",
     "output_type": "stream",
     "text": [
      "pipeline: vae_ablation, signal: art_daily_nojump, test_split: False, detrend: False\n"
     ]
    },
    {
     "name": "stderr",
     "output_type": "stream",
     "text": [
      "Evaluation exception division by zero (tp 0/ fp 0).\n",
      "Traceback (most recent call last):\n",
      "  File \"/home/dongyu/miniconda/envs/aer-paper/lib/python3.7/site-packages/orion/evaluation/common.py\", line 43, in _precision\n",
      "    return tp / (tp + fp)\n",
      "ZeroDivisionError: division by zero\n",
      "Evaluation exception division by zero (tp 0/ fp 0).\n",
      "Traceback (most recent call last):\n",
      "  File \"/home/dongyu/miniconda/envs/aer-paper/lib/python3.7/site-packages/orion/evaluation/common.py\", line 43, in _precision\n",
      "    return tp / (tp + fp)\n",
      "ZeroDivisionError: division by zero\n",
      "\n",
      "\n",
      "  1%|          | 22/3710 [09:02<20:21:18, 19.87s/it]\u001b[A\u001b[A"
     ]
    },
    {
     "name": "stdout",
     "output_type": "stream",
     "text": [
      "pipeline: vae_ablation, signal: art_increase_spike_density, test_split: False, detrend: False\n"
     ]
    },
    {
     "name": "stderr",
     "output_type": "stream",
     "text": [
      "\n",
      "\n",
      "  1%|          | 23/3710 [09:25<21:04:55, 20.58s/it]\u001b[A\u001b[A"
     ]
    },
    {
     "name": "stdout",
     "output_type": "stream",
     "text": [
      "pipeline: vae_ablation, signal: art_load_balancer_spikes, test_split: False, detrend: False\n"
     ]
    },
    {
     "name": "stderr",
     "output_type": "stream",
     "text": [
      "\n",
      "\n",
      "  1%|          | 24/3710 [09:45<20:55:56, 20.44s/it]\u001b[A\u001b[A"
     ]
    },
    {
     "name": "stdout",
     "output_type": "stream",
     "text": [
      "pipeline: tadgan_ablation, signal: art_daily_flatmiddle, test_split: False, detrend: False\n"
     ]
    },
    {
     "name": "stderr",
     "output_type": "stream",
     "text": [
      "\n",
      "\n",
      "  1%|          | 25/3710 [11:34<48:12:43, 47.10s/it]\u001b[A\u001b[A"
     ]
    },
    {
     "name": "stdout",
     "output_type": "stream",
     "text": [
      "pipeline: tadgan_ablation, signal: art_daily_jumpsdown, test_split: False, detrend: False\n"
     ]
    },
    {
     "name": "stderr",
     "output_type": "stream",
     "text": [
      "\n",
      "\n",
      "  1%|          | 26/3710 [13:22<66:55:27, 65.40s/it]\u001b[A\u001b[A"
     ]
    },
    {
     "name": "stdout",
     "output_type": "stream",
     "text": [
      "pipeline: tadgan_ablation, signal: art_daily_jumpsup, test_split: False, detrend: False\n"
     ]
    },
    {
     "name": "stderr",
     "output_type": "stream",
     "text": [
      "\n",
      "\n",
      "  1%|          | 27/3710 [15:11<80:10:32, 78.37s/it]\u001b[A\u001b[A"
     ]
    },
    {
     "name": "stdout",
     "output_type": "stream",
     "text": [
      "pipeline: tadgan_ablation, signal: art_daily_nojump, test_split: False, detrend: False\n"
     ]
    },
    {
     "name": "stderr",
     "output_type": "stream",
     "text": [
      "Evaluation exception division by zero (tp 0/ fp 0).\n",
      "Traceback (most recent call last):\n",
      "  File \"/home/dongyu/miniconda/envs/aer-paper/lib/python3.7/site-packages/orion/evaluation/common.py\", line 43, in _precision\n",
      "    return tp / (tp + fp)\n",
      "ZeroDivisionError: division by zero\n",
      "Evaluation exception division by zero (tp 0/ fp 0).\n",
      "Traceback (most recent call last):\n",
      "  File \"/home/dongyu/miniconda/envs/aer-paper/lib/python3.7/site-packages/orion/evaluation/common.py\", line 43, in _precision\n",
      "    return tp / (tp + fp)\n",
      "ZeroDivisionError: division by zero\n",
      "\n",
      "\n",
      "  1%|          | 28/3710 [17:00<89:34:54, 87.59s/it]\u001b[A\u001b[A"
     ]
    },
    {
     "name": "stdout",
     "output_type": "stream",
     "text": [
      "pipeline: tadgan_ablation, signal: art_increase_spike_density, test_split: False, detrend: False\n"
     ]
    },
    {
     "name": "stderr",
     "output_type": "stream",
     "text": [
      "\n",
      "\n",
      "  1%|          | 29/3710 [18:49<96:08:24, 94.02s/it]\u001b[A\u001b[A"
     ]
    },
    {
     "name": "stdout",
     "output_type": "stream",
     "text": [
      "pipeline: tadgan_ablation, signal: art_load_balancer_spikes, test_split: False, detrend: False\n"
     ]
    },
    {
     "name": "stderr",
     "output_type": "stream",
     "text": [
      "\n",
      "\n",
      "  1%|          | 30/3710 [20:37<100:33:16, 98.37s/it]\u001b[A\u001b[A"
     ]
    },
    {
     "name": "stdout",
     "output_type": "stream",
     "text": [
      "pipeline: arima_ablation, signal: exchange-2_cpc_results, test_split: False, detrend: False\n"
     ]
    },
    {
     "name": "stderr",
     "output_type": "stream",
     "text": [
      "/home/dongyu/miniconda/envs/aer-paper/lib/python3.7/site-packages/statsmodels/base/model.py:568: ConvergenceWarning: Maximum Likelihood optimization failed to converge. Check mle_retvals\n",
      "  ConvergenceWarning)\n",
      "/home/dongyu/miniconda/envs/aer-paper/lib/python3.7/site-packages/statsmodels/base/model.py:568: ConvergenceWarning: Maximum Likelihood optimization failed to converge. Check mle_retvals\n",
      "  ConvergenceWarning)\n",
      "/home/dongyu/miniconda/envs/aer-paper/lib/python3.7/site-packages/statsmodels/base/model.py:568: ConvergenceWarning: Maximum Likelihood optimization failed to converge. Check mle_retvals\n",
      "  ConvergenceWarning)\n",
      "/home/dongyu/miniconda/envs/aer-paper/lib/python3.7/site-packages/statsmodels/base/model.py:568: ConvergenceWarning: Maximum Likelihood optimization failed to converge. Check mle_retvals\n",
      "  ConvergenceWarning)\n",
      "/home/dongyu/miniconda/envs/aer-paper/lib/python3.7/site-packages/statsmodels/base/model.py:568: ConvergenceWarning: Maximum Likelihood optimization failed to converge. Check mle_retvals\n",
      "  ConvergenceWarning)\n",
      "\n",
      "\n",
      "  1%|          | 31/3710 [21:04<78:25:17, 76.74s/it] \u001b[A\u001b[A"
     ]
    },
    {
     "name": "stdout",
     "output_type": "stream",
     "text": [
      "pipeline: arima_ablation, signal: exchange-2_cpm_results, test_split: False, detrend: False\n"
     ]
    },
    {
     "name": "stderr",
     "output_type": "stream",
     "text": [
      "\n",
      "\n",
      "  1%|          | 32/3710 [21:30<62:57:34, 61.62s/it]\u001b[A\u001b[A"
     ]
    },
    {
     "name": "stdout",
     "output_type": "stream",
     "text": [
      "pipeline: arima_ablation, signal: exchange-3_cpc_results, test_split: False, detrend: False\n"
     ]
    },
    {
     "name": "stderr",
     "output_type": "stream",
     "text": [
      "/home/dongyu/miniconda/envs/aer-paper/lib/python3.7/site-packages/statsmodels/base/model.py:568: ConvergenceWarning: Maximum Likelihood optimization failed to converge. Check mle_retvals\n",
      "  ConvergenceWarning)\n",
      "/home/dongyu/miniconda/envs/aer-paper/lib/python3.7/site-packages/statsmodels/base/model.py:568: ConvergenceWarning: Maximum Likelihood optimization failed to converge. Check mle_retvals\n",
      "  ConvergenceWarning)\n",
      "/home/dongyu/miniconda/envs/aer-paper/lib/python3.7/site-packages/statsmodels/base/model.py:568: ConvergenceWarning: Maximum Likelihood optimization failed to converge. Check mle_retvals\n",
      "  ConvergenceWarning)\n",
      "/home/dongyu/miniconda/envs/aer-paper/lib/python3.7/site-packages/statsmodels/base/model.py:568: ConvergenceWarning: Maximum Likelihood optimization failed to converge. Check mle_retvals\n",
      "  ConvergenceWarning)\n",
      "\n",
      "\n",
      "  1%|          | 33/3710 [21:58<52:31:29, 51.42s/it]\u001b[A\u001b[A"
     ]
    },
    {
     "name": "stdout",
     "output_type": "stream",
     "text": [
      "pipeline: arima_ablation, signal: exchange-3_cpm_results, test_split: False, detrend: False\n"
     ]
    },
    {
     "name": "stderr",
     "output_type": "stream",
     "text": [
      "/home/dongyu/miniconda/envs/aer-paper/lib/python3.7/site-packages/statsmodels/base/model.py:568: ConvergenceWarning: Maximum Likelihood optimization failed to converge. Check mle_retvals\n",
      "  ConvergenceWarning)\n",
      "/home/dongyu/miniconda/envs/aer-paper/lib/python3.7/site-packages/statsmodels/base/model.py:568: ConvergenceWarning: Maximum Likelihood optimization failed to converge. Check mle_retvals\n",
      "  ConvergenceWarning)\n",
      "/home/dongyu/miniconda/envs/aer-paper/lib/python3.7/site-packages/statsmodels/base/model.py:568: ConvergenceWarning: Maximum Likelihood optimization failed to converge. Check mle_retvals\n",
      "  ConvergenceWarning)\n",
      "/home/dongyu/miniconda/envs/aer-paper/lib/python3.7/site-packages/statsmodels/base/model.py:568: ConvergenceWarning: Maximum Likelihood optimization failed to converge. Check mle_retvals\n",
      "  ConvergenceWarning)\n",
      "/home/dongyu/miniconda/envs/aer-paper/lib/python3.7/site-packages/statsmodels/base/model.py:568: ConvergenceWarning: Maximum Likelihood optimization failed to converge. Check mle_retvals\n",
      "  ConvergenceWarning)\n",
      "/home/dongyu/miniconda/envs/aer-paper/lib/python3.7/site-packages/statsmodels/base/model.py:568: ConvergenceWarning: Maximum Likelihood optimization failed to converge. Check mle_retvals\n",
      "  ConvergenceWarning)\n",
      "\n",
      "\n",
      "  1%|          | 34/3710 [22:25<45:10:50, 44.25s/it]\u001b[A\u001b[A"
     ]
    },
    {
     "name": "stdout",
     "output_type": "stream",
     "text": [
      "pipeline: arima_ablation, signal: exchange-4_cpm_results, test_split: False, detrend: False\n"
     ]
    },
    {
     "name": "stderr",
     "output_type": "stream",
     "text": [
      "/home/dongyu/miniconda/envs/aer-paper/lib/python3.7/site-packages/statsmodels/base/model.py:568: ConvergenceWarning: Maximum Likelihood optimization failed to converge. Check mle_retvals\n",
      "  ConvergenceWarning)\n",
      "/home/dongyu/miniconda/envs/aer-paper/lib/python3.7/site-packages/statsmodels/base/model.py:568: ConvergenceWarning: Maximum Likelihood optimization failed to converge. Check mle_retvals\n",
      "  ConvergenceWarning)\n",
      "\n",
      "\n",
      "  1%|          | 35/3710 [22:56<41:05:48, 40.26s/it]\u001b[A\u001b[A"
     ]
    },
    {
     "name": "stdout",
     "output_type": "stream",
     "text": [
      "pipeline: lstm_dynamic_threshold_ablation, signal: exchange-2_cpc_results, test_split: False, detrend: False\n"
     ]
    },
    {
     "name": "stderr",
     "output_type": "stream",
     "text": [
      "\n",
      "\n",
      "  1%|          | 36/3710 [23:30<39:06:15, 38.32s/it]\u001b[A\u001b[A"
     ]
    },
    {
     "name": "stdout",
     "output_type": "stream",
     "text": [
      "pipeline: lstm_dynamic_threshold_ablation, signal: exchange-2_cpm_results, test_split: False, detrend: False\n"
     ]
    },
    {
     "name": "stderr",
     "output_type": "stream",
     "text": [
      "\n",
      "\n",
      "  1%|          | 37/3710 [24:07<38:48:49, 38.04s/it]\u001b[A\u001b[A"
     ]
    },
    {
     "name": "stdout",
     "output_type": "stream",
     "text": [
      "pipeline: lstm_dynamic_threshold_ablation, signal: exchange-3_cpc_results, test_split: False, detrend: False\n"
     ]
    },
    {
     "name": "stderr",
     "output_type": "stream",
     "text": [
      "\n",
      "\n",
      "  1%|          | 38/3710 [24:46<39:02:58, 38.28s/it]\u001b[A\u001b[A"
     ]
    },
    {
     "name": "stdout",
     "output_type": "stream",
     "text": [
      "pipeline: lstm_dynamic_threshold_ablation, signal: exchange-3_cpm_results, test_split: False, detrend: False\n"
     ]
    },
    {
     "name": "stderr",
     "output_type": "stream",
     "text": [
      "\n",
      "\n",
      "  1%|          | 39/3710 [25:15<36:02:45, 35.35s/it]\u001b[A\u001b[A"
     ]
    },
    {
     "name": "stdout",
     "output_type": "stream",
     "text": [
      "pipeline: lstm_dynamic_threshold_ablation, signal: exchange-4_cpm_results, test_split: False, detrend: False\n"
     ]
    },
    {
     "name": "stderr",
     "output_type": "stream",
     "text": [
      "\n",
      "\n",
      "  1%|          | 40/3710 [25:33<30:42:12, 30.12s/it]\u001b[A\u001b[A"
     ]
    },
    {
     "name": "stdout",
     "output_type": "stream",
     "text": [
      "pipeline: lstm_autoencoder_ablation, signal: exchange-2_cpc_results, test_split: False, detrend: False\n"
     ]
    },
    {
     "name": "stderr",
     "output_type": "stream",
     "text": [
      "Invalid value encountered for precision 0.0/ recall 0.0.\n",
      "Traceback (most recent call last):\n",
      "  File \"/home/dongyu/miniconda/envs/aer-paper/lib/python3.7/site-packages/orion/evaluation/common.py\", line 70, in _f1_score\n",
      "    return 2 * (precision * recall) / (precision + recall)\n",
      "ZeroDivisionError: float division by zero\n",
      "\n",
      "\n",
      "  1%|          | 41/3710 [25:52<27:27:55, 26.95s/it]\u001b[A\u001b[A"
     ]
    },
    {
     "name": "stdout",
     "output_type": "stream",
     "text": [
      "pipeline: lstm_autoencoder_ablation, signal: exchange-2_cpm_results, test_split: False, detrend: False\n"
     ]
    },
    {
     "name": "stderr",
     "output_type": "stream",
     "text": [
      "\n",
      "\n",
      "  1%|          | 42/3710 [26:12<25:21:08, 24.88s/it]\u001b[A\u001b[A"
     ]
    },
    {
     "name": "stdout",
     "output_type": "stream",
     "text": [
      "pipeline: lstm_autoencoder_ablation, signal: exchange-3_cpc_results, test_split: False, detrend: False\n"
     ]
    },
    {
     "name": "stderr",
     "output_type": "stream",
     "text": [
      "\n",
      "\n",
      "  1%|          | 43/3710 [26:30<23:19:42, 22.90s/it]\u001b[A\u001b[A"
     ]
    },
    {
     "name": "stdout",
     "output_type": "stream",
     "text": [
      "pipeline: lstm_autoencoder_ablation, signal: exchange-3_cpm_results, test_split: False, detrend: False\n"
     ]
    },
    {
     "name": "stderr",
     "output_type": "stream",
     "text": [
      "\n",
      "\n",
      "  1%|          | 44/3710 [26:51<22:31:41, 22.12s/it]\u001b[A\u001b[A"
     ]
    },
    {
     "name": "stdout",
     "output_type": "stream",
     "text": [
      "pipeline: lstm_autoencoder_ablation, signal: exchange-4_cpm_results, test_split: False, detrend: False\n"
     ]
    },
    {
     "name": "stderr",
     "output_type": "stream",
     "text": [
      "\n",
      "\n",
      "  1%|          | 45/3710 [27:05<20:07:04, 19.76s/it]\u001b[A\u001b[A"
     ]
    },
    {
     "name": "stdout",
     "output_type": "stream",
     "text": [
      "pipeline: vae_ablation, signal: exchange-2_cpc_results, test_split: False, detrend: False\n"
     ]
    },
    {
     "name": "stderr",
     "output_type": "stream",
     "text": [
      "Invalid value encountered for precision 0.0/ recall 0.0.\n",
      "Traceback (most recent call last):\n",
      "  File \"/home/dongyu/miniconda/envs/aer-paper/lib/python3.7/site-packages/orion/evaluation/common.py\", line 70, in _f1_score\n",
      "    return 2 * (precision * recall) / (precision + recall)\n",
      "ZeroDivisionError: float division by zero\n",
      "\n",
      "\n",
      "  1%|          | 46/3710 [27:25<20:13:28, 19.87s/it]\u001b[A\u001b[A"
     ]
    },
    {
     "name": "stdout",
     "output_type": "stream",
     "text": [
      "pipeline: vae_ablation, signal: exchange-2_cpm_results, test_split: False, detrend: False\n"
     ]
    },
    {
     "name": "stderr",
     "output_type": "stream",
     "text": [
      "\n",
      "\n",
      "  1%|▏         | 47/3710 [27:45<20:16:08, 19.92s/it]\u001b[A\u001b[A"
     ]
    },
    {
     "name": "stdout",
     "output_type": "stream",
     "text": [
      "pipeline: vae_ablation, signal: exchange-3_cpc_results, test_split: False, detrend: False\n"
     ]
    },
    {
     "name": "stderr",
     "output_type": "stream",
     "text": [
      "\n",
      "\n",
      "  1%|▏         | 48/3710 [28:05<20:14:00, 19.89s/it]\u001b[A\u001b[A"
     ]
    },
    {
     "name": "stdout",
     "output_type": "stream",
     "text": [
      "pipeline: vae_ablation, signal: exchange-3_cpm_results, test_split: False, detrend: False\n"
     ]
    },
    {
     "name": "stderr",
     "output_type": "stream",
     "text": [
      "\n",
      "\n",
      "  1%|▏         | 49/3710 [28:25<20:09:38, 19.82s/it]\u001b[A\u001b[A"
     ]
    },
    {
     "name": "stdout",
     "output_type": "stream",
     "text": [
      "pipeline: vae_ablation, signal: exchange-4_cpm_results, test_split: False, detrend: False\n"
     ]
    },
    {
     "name": "stderr",
     "output_type": "stream",
     "text": [
      "\n",
      "\n",
      "  1%|▏         | 50/3710 [28:45<20:13:55, 19.90s/it]\u001b[A\u001b[A"
     ]
    },
    {
     "name": "stdout",
     "output_type": "stream",
     "text": [
      "pipeline: tadgan_ablation, signal: exchange-2_cpc_results, test_split: False, detrend: False\n"
     ]
    },
    {
     "name": "stderr",
     "output_type": "stream",
     "text": [
      "Invalid value encountered for precision 0.0/ recall 0.0.\n",
      "Traceback (most recent call last):\n",
      "  File \"/home/dongyu/miniconda/envs/aer-paper/lib/python3.7/site-packages/orion/evaluation/common.py\", line 70, in _f1_score\n",
      "    return 2 * (precision * recall) / (precision + recall)\n",
      "ZeroDivisionError: float division by zero\n",
      "\n",
      "\n",
      "  1%|▏         | 51/3710 [30:14<41:30:04, 40.83s/it]\u001b[A\u001b[A"
     ]
    },
    {
     "name": "stdout",
     "output_type": "stream",
     "text": [
      "pipeline: tadgan_ablation, signal: exchange-2_cpm_results, test_split: False, detrend: False\n"
     ]
    },
    {
     "name": "stderr",
     "output_type": "stream",
     "text": [
      "Invalid value encountered for precision 0.0/ recall 0.0.\n",
      "Traceback (most recent call last):\n",
      "  File \"/home/dongyu/miniconda/envs/aer-paper/lib/python3.7/site-packages/orion/evaluation/common.py\", line 70, in _f1_score\n",
      "    return 2 * (precision * recall) / (precision + recall)\n",
      "ZeroDivisionError: float division by zero\n",
      "\n",
      "\n",
      "  1%|▏         | 52/3710 [31:45<56:43:39, 55.83s/it]\u001b[A\u001b[A"
     ]
    },
    {
     "name": "stdout",
     "output_type": "stream",
     "text": [
      "pipeline: tadgan_ablation, signal: exchange-3_cpc_results, test_split: False, detrend: False\n"
     ]
    },
    {
     "name": "stderr",
     "output_type": "stream",
     "text": [
      "\n",
      "\n",
      "  1%|▏         | 53/3710 [33:17<67:34:27, 66.52s/it]\u001b[A\u001b[A"
     ]
    },
    {
     "name": "stdout",
     "output_type": "stream",
     "text": [
      "pipeline: tadgan_ablation, signal: exchange-3_cpm_results, test_split: False, detrend: False\n"
     ]
    },
    {
     "name": "stderr",
     "output_type": "stream",
     "text": [
      "\n",
      "\n",
      "  1%|▏         | 54/3710 [34:48<75:05:16, 73.94s/it]\u001b[A\u001b[A"
     ]
    },
    {
     "name": "stdout",
     "output_type": "stream",
     "text": [
      "pipeline: tadgan_ablation, signal: exchange-4_cpm_results, test_split: False, detrend: False\n"
     ]
    },
    {
     "name": "stderr",
     "output_type": "stream",
     "text": [
      "\n",
      "\n",
      "  1%|▏         | 55/3710 [36:19<80:20:18, 79.13s/it]\u001b[A\u001b[A"
     ]
    },
    {
     "name": "stdout",
     "output_type": "stream",
     "text": [
      "pipeline: arima_ablation, signal: ec2_cpu_utilization_5f5533, test_split: False, detrend: False\n"
     ]
    },
    {
     "name": "stderr",
     "output_type": "stream",
     "text": [
      "/home/dongyu/miniconda/envs/aer-paper/lib/python3.7/site-packages/statsmodels/base/model.py:568: ConvergenceWarning: Maximum Likelihood optimization failed to converge. Check mle_retvals\n",
      "  ConvergenceWarning)\n",
      "\n",
      "\n",
      "  2%|▏         | 56/3710 [36:56<67:25:00, 66.42s/it]\u001b[A\u001b[A"
     ]
    },
    {
     "name": "stdout",
     "output_type": "stream",
     "text": [
      "pipeline: arima_ablation, signal: ec2_cpu_utilization_24ae8d, test_split: False, detrend: False\n"
     ]
    },
    {
     "name": "stderr",
     "output_type": "stream",
     "text": [
      "/home/dongyu/miniconda/envs/aer-paper/lib/python3.7/site-packages/statsmodels/base/model.py:568: ConvergenceWarning: Maximum Likelihood optimization failed to converge. Check mle_retvals\n",
      "  ConvergenceWarning)\n",
      "/home/dongyu/miniconda/envs/aer-paper/lib/python3.7/site-packages/statsmodels/base/model.py:568: ConvergenceWarning: Maximum Likelihood optimization failed to converge. Check mle_retvals\n",
      "  ConvergenceWarning)\n",
      "/home/dongyu/miniconda/envs/aer-paper/lib/python3.7/site-packages/statsmodels/base/model.py:568: ConvergenceWarning: Maximum Likelihood optimization failed to converge. Check mle_retvals\n",
      "  ConvergenceWarning)\n",
      "\n",
      "\n",
      "  2%|▏         | 57/3710 [37:30<57:37:49, 56.79s/it]\u001b[A\u001b[A"
     ]
    },
    {
     "name": "stdout",
     "output_type": "stream",
     "text": [
      "pipeline: arima_ablation, signal: ec2_cpu_utilization_53ea38, test_split: False, detrend: False\n"
     ]
    },
    {
     "name": "stderr",
     "output_type": "stream",
     "text": [
      "/home/dongyu/miniconda/envs/aer-paper/lib/python3.7/site-packages/statsmodels/base/model.py:568: ConvergenceWarning: Maximum Likelihood optimization failed to converge. Check mle_retvals\n",
      "  ConvergenceWarning)\n",
      "/home/dongyu/miniconda/envs/aer-paper/lib/python3.7/site-packages/statsmodels/base/model.py:568: ConvergenceWarning: Maximum Likelihood optimization failed to converge. Check mle_retvals\n",
      "  ConvergenceWarning)\n",
      "/home/dongyu/miniconda/envs/aer-paper/lib/python3.7/site-packages/statsmodels/base/model.py:568: ConvergenceWarning: Maximum Likelihood optimization failed to converge. Check mle_retvals\n",
      "  ConvergenceWarning)\n",
      "/home/dongyu/miniconda/envs/aer-paper/lib/python3.7/site-packages/statsmodels/base/model.py:568: ConvergenceWarning: Maximum Likelihood optimization failed to converge. Check mle_retvals\n",
      "  ConvergenceWarning)\n",
      "/home/dongyu/miniconda/envs/aer-paper/lib/python3.7/site-packages/statsmodels/base/model.py:568: ConvergenceWarning: Maximum Likelihood optimization failed to converge. Check mle_retvals\n",
      "  ConvergenceWarning)\n",
      "/home/dongyu/miniconda/envs/aer-paper/lib/python3.7/site-packages/statsmodels/base/model.py:568: ConvergenceWarning: Maximum Likelihood optimization failed to converge. Check mle_retvals\n",
      "  ConvergenceWarning)\n",
      "/home/dongyu/miniconda/envs/aer-paper/lib/python3.7/site-packages/statsmodels/base/model.py:568: ConvergenceWarning: Maximum Likelihood optimization failed to converge. Check mle_retvals\n",
      "  ConvergenceWarning)\n",
      "\n",
      "\n",
      "  2%|▏         | 58/3710 [38:02<49:55:39, 49.22s/it]\u001b[A\u001b[A"
     ]
    },
    {
     "name": "stdout",
     "output_type": "stream",
     "text": [
      "pipeline: arima_ablation, signal: ec2_cpu_utilization_77c1ca, test_split: False, detrend: False\n"
     ]
    },
    {
     "name": "stderr",
     "output_type": "stream",
     "text": [
      "/home/dongyu/miniconda/envs/aer-paper/lib/python3.7/site-packages/statsmodels/base/model.py:568: ConvergenceWarning: Maximum Likelihood optimization failed to converge. Check mle_retvals\n",
      "  ConvergenceWarning)\n",
      "/home/dongyu/miniconda/envs/aer-paper/lib/python3.7/site-packages/statsmodels/base/model.py:568: ConvergenceWarning: Maximum Likelihood optimization failed to converge. Check mle_retvals\n",
      "  ConvergenceWarning)\n",
      "/home/dongyu/miniconda/envs/aer-paper/lib/python3.7/site-packages/statsmodels/base/model.py:568: ConvergenceWarning: Maximum Likelihood optimization failed to converge. Check mle_retvals\n",
      "  ConvergenceWarning)\n",
      "/home/dongyu/miniconda/envs/aer-paper/lib/python3.7/site-packages/statsmodels/base/model.py:568: ConvergenceWarning: Maximum Likelihood optimization failed to converge. Check mle_retvals\n",
      "  ConvergenceWarning)\n",
      "/home/dongyu/miniconda/envs/aer-paper/lib/python3.7/site-packages/statsmodels/base/model.py:568: ConvergenceWarning: Maximum Likelihood optimization failed to converge. Check mle_retvals\n",
      "  ConvergenceWarning)\n",
      "/home/dongyu/miniconda/envs/aer-paper/lib/python3.7/site-packages/statsmodels/base/model.py:568: ConvergenceWarning: Maximum Likelihood optimization failed to converge. Check mle_retvals\n",
      "  ConvergenceWarning)\n",
      "/home/dongyu/miniconda/envs/aer-paper/lib/python3.7/site-packages/statsmodels/base/model.py:568: ConvergenceWarning: Maximum Likelihood optimization failed to converge. Check mle_retvals\n",
      "  ConvergenceWarning)\n",
      "/home/dongyu/miniconda/envs/aer-paper/lib/python3.7/site-packages/statsmodels/base/model.py:568: ConvergenceWarning: Maximum Likelihood optimization failed to converge. Check mle_retvals\n",
      "  ConvergenceWarning)\n",
      "/home/dongyu/miniconda/envs/aer-paper/lib/python3.7/site-packages/statsmodels/base/model.py:568: ConvergenceWarning: Maximum Likelihood optimization failed to converge. Check mle_retvals\n",
      "  ConvergenceWarning)\n",
      "\n",
      "\n",
      "  2%|▏         | 59/3710 [38:33<44:23:47, 43.78s/it]\u001b[A\u001b[A"
     ]
    },
    {
     "name": "stdout",
     "output_type": "stream",
     "text": [
      "pipeline: arima_ablation, signal: ec2_cpu_utilization_825cc2, test_split: False, detrend: False\n"
     ]
    },
    {
     "name": "stderr",
     "output_type": "stream",
     "text": [
      "/home/dongyu/miniconda/envs/aer-paper/lib/python3.7/site-packages/statsmodels/base/model.py:568: ConvergenceWarning: Maximum Likelihood optimization failed to converge. Check mle_retvals\n",
      "  ConvergenceWarning)\n",
      "/home/dongyu/miniconda/envs/aer-paper/lib/python3.7/site-packages/statsmodels/base/model.py:568: ConvergenceWarning: Maximum Likelihood optimization failed to converge. Check mle_retvals\n",
      "  ConvergenceWarning)\n",
      "\n",
      "\n",
      "  2%|▏         | 60/3710 [39:12<43:02:35, 42.45s/it]\u001b[A\u001b[A"
     ]
    },
    {
     "name": "stdout",
     "output_type": "stream",
     "text": [
      "pipeline: arima_ablation, signal: ec2_cpu_utilization_ac20cd, test_split: False, detrend: False\n"
     ]
    },
    {
     "name": "stderr",
     "output_type": "stream",
     "text": [
      "/home/dongyu/miniconda/envs/aer-paper/lib/python3.7/site-packages/statsmodels/base/model.py:568: ConvergenceWarning: Maximum Likelihood optimization failed to converge. Check mle_retvals\n",
      "  ConvergenceWarning)\n",
      "/home/dongyu/miniconda/envs/aer-paper/lib/python3.7/site-packages/statsmodels/base/model.py:568: ConvergenceWarning: Maximum Likelihood optimization failed to converge. Check mle_retvals\n",
      "  ConvergenceWarning)\n",
      "/home/dongyu/miniconda/envs/aer-paper/lib/python3.7/site-packages/statsmodels/base/model.py:568: ConvergenceWarning: Maximum Likelihood optimization failed to converge. Check mle_retvals\n",
      "  ConvergenceWarning)\n",
      "/home/dongyu/miniconda/envs/aer-paper/lib/python3.7/site-packages/statsmodels/base/model.py:568: ConvergenceWarning: Maximum Likelihood optimization failed to converge. Check mle_retvals\n",
      "  ConvergenceWarning)\n",
      "/home/dongyu/miniconda/envs/aer-paper/lib/python3.7/site-packages/statsmodels/base/model.py:568: ConvergenceWarning: Maximum Likelihood optimization failed to converge. Check mle_retvals\n",
      "  ConvergenceWarning)\n",
      "/home/dongyu/miniconda/envs/aer-paper/lib/python3.7/site-packages/statsmodels/base/model.py:568: ConvergenceWarning: Maximum Likelihood optimization failed to converge. Check mle_retvals\n",
      "  ConvergenceWarning)\n",
      "/home/dongyu/miniconda/envs/aer-paper/lib/python3.7/site-packages/statsmodels/base/model.py:568: ConvergenceWarning: Maximum Likelihood optimization failed to converge. Check mle_retvals\n",
      "  ConvergenceWarning)\n",
      "/home/dongyu/miniconda/envs/aer-paper/lib/python3.7/site-packages/statsmodels/base/model.py:568: ConvergenceWarning: Maximum Likelihood optimization failed to converge. Check mle_retvals\n",
      "  ConvergenceWarning)\n",
      "/home/dongyu/miniconda/envs/aer-paper/lib/python3.7/site-packages/statsmodels/base/model.py:568: ConvergenceWarning: Maximum Likelihood optimization failed to converge. Check mle_retvals\n",
      "  ConvergenceWarning)\n",
      "\n",
      "\n",
      "  2%|▏         | 61/3710 [39:59<44:16:41, 43.68s/it]\u001b[A\u001b[A"
     ]
    },
    {
     "name": "stdout",
     "output_type": "stream",
     "text": [
      "pipeline: arima_ablation, signal: ec2_cpu_utilization_c6585a, test_split: False, detrend: False\n"
     ]
    },
    {
     "name": "stderr",
     "output_type": "stream",
     "text": [
      "/home/dongyu/miniconda/envs/aer-paper/lib/python3.7/site-packages/statsmodels/base/model.py:568: ConvergenceWarning: Maximum Likelihood optimization failed to converge. Check mle_retvals\n",
      "  ConvergenceWarning)\n",
      "/home/dongyu/miniconda/envs/aer-paper/lib/python3.7/site-packages/statsmodels/base/model.py:568: ConvergenceWarning: Maximum Likelihood optimization failed to converge. Check mle_retvals\n",
      "  ConvergenceWarning)\n",
      "/home/dongyu/miniconda/envs/aer-paper/lib/python3.7/site-packages/statsmodels/base/model.py:568: ConvergenceWarning: Maximum Likelihood optimization failed to converge. Check mle_retvals\n",
      "  ConvergenceWarning)\n",
      "/home/dongyu/miniconda/envs/aer-paper/lib/python3.7/site-packages/statsmodels/base/model.py:568: ConvergenceWarning: Maximum Likelihood optimization failed to converge. Check mle_retvals\n",
      "  ConvergenceWarning)\n",
      "/home/dongyu/miniconda/envs/aer-paper/lib/python3.7/site-packages/statsmodels/base/model.py:568: ConvergenceWarning: Maximum Likelihood optimization failed to converge. Check mle_retvals\n",
      "  ConvergenceWarning)\n",
      "/home/dongyu/miniconda/envs/aer-paper/lib/python3.7/site-packages/statsmodels/base/model.py:568: ConvergenceWarning: Maximum Likelihood optimization failed to converge. Check mle_retvals\n",
      "  ConvergenceWarning)\n",
      "/home/dongyu/miniconda/envs/aer-paper/lib/python3.7/site-packages/statsmodels/base/model.py:568: ConvergenceWarning: Maximum Likelihood optimization failed to converge. Check mle_retvals\n",
      "  ConvergenceWarning)\n",
      "Evaluation exception division by zero (tp 0/ fn 0).\n",
      "Traceback (most recent call last):\n",
      "  File \"/home/dongyu/miniconda/envs/aer-paper/lib/python3.7/site-packages/orion/evaluation/common.py\", line 56, in _recall\n",
      "    return tp / (tp + fn)\n",
      "ZeroDivisionError: division by zero\n",
      "Evaluation exception division by zero (tp 0/ fn 0).\n",
      "Traceback (most recent call last):\n",
      "  File \"/home/dongyu/miniconda/envs/aer-paper/lib/python3.7/site-packages/orion/evaluation/common.py\", line 56, in _recall\n",
      "    return tp / (tp + fn)\n",
      "ZeroDivisionError: division by zero\n",
      "\n",
      "\n",
      "  2%|▏         | 62/3710 [40:30<40:34:03, 40.03s/it]\u001b[A\u001b[A"
     ]
    },
    {
     "name": "stdout",
     "output_type": "stream",
     "text": [
      "pipeline: arima_ablation, signal: ec2_cpu_utilization_fe7f93, test_split: False, detrend: False\n"
     ]
    },
    {
     "name": "stderr",
     "output_type": "stream",
     "text": [
      "/home/dongyu/miniconda/envs/aer-paper/lib/python3.7/site-packages/statsmodels/base/model.py:568: ConvergenceWarning: Maximum Likelihood optimization failed to converge. Check mle_retvals\n",
      "  ConvergenceWarning)\n",
      "/home/dongyu/miniconda/envs/aer-paper/lib/python3.7/site-packages/statsmodels/base/model.py:568: ConvergenceWarning: Maximum Likelihood optimization failed to converge. Check mle_retvals\n",
      "  ConvergenceWarning)\n",
      "/home/dongyu/miniconda/envs/aer-paper/lib/python3.7/site-packages/statsmodels/base/model.py:568: ConvergenceWarning: Maximum Likelihood optimization failed to converge. Check mle_retvals\n",
      "  ConvergenceWarning)\n",
      "/home/dongyu/miniconda/envs/aer-paper/lib/python3.7/site-packages/statsmodels/base/model.py:568: ConvergenceWarning: Maximum Likelihood optimization failed to converge. Check mle_retvals\n",
      "  ConvergenceWarning)\n",
      "\n",
      "\n",
      "  2%|▏         | 63/3710 [41:06<39:16:40, 38.77s/it]\u001b[A\u001b[A"
     ]
    },
    {
     "name": "stdout",
     "output_type": "stream",
     "text": [
      "pipeline: arima_ablation, signal: ec2_disk_write_bytes_1ef3de, test_split: False, detrend: False\n"
     ]
    },
    {
     "name": "stderr",
     "output_type": "stream",
     "text": [
      "/home/dongyu/miniconda/envs/aer-paper/lib/python3.7/site-packages/statsmodels/base/model.py:568: ConvergenceWarning: Maximum Likelihood optimization failed to converge. Check mle_retvals\n",
      "  ConvergenceWarning)\n",
      "/home/dongyu/miniconda/envs/aer-paper/lib/python3.7/site-packages/statsmodels/base/model.py:568: ConvergenceWarning: Maximum Likelihood optimization failed to converge. Check mle_retvals\n",
      "  ConvergenceWarning)\n",
      "/home/dongyu/miniconda/envs/aer-paper/lib/python3.7/site-packages/statsmodels/base/model.py:568: ConvergenceWarning: Maximum Likelihood optimization failed to converge. Check mle_retvals\n",
      "  ConvergenceWarning)\n",
      "/home/dongyu/miniconda/envs/aer-paper/lib/python3.7/site-packages/statsmodels/base/model.py:568: ConvergenceWarning: Maximum Likelihood optimization failed to converge. Check mle_retvals\n",
      "  ConvergenceWarning)\n",
      "/home/dongyu/miniconda/envs/aer-paper/lib/python3.7/site-packages/statsmodels/base/model.py:568: ConvergenceWarning: Maximum Likelihood optimization failed to converge. Check mle_retvals\n",
      "  ConvergenceWarning)\n",
      "/home/dongyu/miniconda/envs/aer-paper/lib/python3.7/site-packages/statsmodels/base/model.py:568: ConvergenceWarning: Maximum Likelihood optimization failed to converge. Check mle_retvals\n",
      "  ConvergenceWarning)\n",
      "/home/dongyu/miniconda/envs/aer-paper/lib/python3.7/site-packages/statsmodels/base/model.py:568: ConvergenceWarning: Maximum Likelihood optimization failed to converge. Check mle_retvals\n",
      "  ConvergenceWarning)\n",
      "/home/dongyu/miniconda/envs/aer-paper/lib/python3.7/site-packages/statsmodels/base/model.py:568: ConvergenceWarning: Maximum Likelihood optimization failed to converge. Check mle_retvals\n",
      "  ConvergenceWarning)\n",
      "/home/dongyu/miniconda/envs/aer-paper/lib/python3.7/site-packages/statsmodels/base/model.py:568: ConvergenceWarning: Maximum Likelihood optimization failed to converge. Check mle_retvals\n",
      "  ConvergenceWarning)\n",
      "/home/dongyu/miniconda/envs/aer-paper/lib/python3.7/site-packages/statsmodels/base/model.py:568: ConvergenceWarning: Maximum Likelihood optimization failed to converge. Check mle_retvals\n",
      "  ConvergenceWarning)\n",
      "/home/dongyu/miniconda/envs/aer-paper/lib/python3.7/site-packages/statsmodels/base/model.py:568: ConvergenceWarning: Maximum Likelihood optimization failed to converge. Check mle_retvals\n",
      "  ConvergenceWarning)\n",
      "\n",
      "\n",
      "  2%|▏         | 64/3710 [41:46<39:29:32, 38.99s/it]\u001b[A\u001b[A"
     ]
    },
    {
     "name": "stdout",
     "output_type": "stream",
     "text": [
      "pipeline: arima_ablation, signal: ec2_disk_write_bytes_c0d644, test_split: False, detrend: False\n"
     ]
    },
    {
     "name": "stderr",
     "output_type": "stream",
     "text": [
      "/home/dongyu/miniconda/envs/aer-paper/lib/python3.7/site-packages/statsmodels/base/model.py:568: ConvergenceWarning: Maximum Likelihood optimization failed to converge. Check mle_retvals\n",
      "  ConvergenceWarning)\n",
      "/home/dongyu/miniconda/envs/aer-paper/lib/python3.7/site-packages/statsmodels/base/model.py:568: ConvergenceWarning: Maximum Likelihood optimization failed to converge. Check mle_retvals\n",
      "  ConvergenceWarning)\n",
      "/home/dongyu/miniconda/envs/aer-paper/lib/python3.7/site-packages/statsmodels/base/model.py:568: ConvergenceWarning: Maximum Likelihood optimization failed to converge. Check mle_retvals\n",
      "  ConvergenceWarning)\n",
      "\n",
      "\n",
      "  2%|▏         | 65/3710 [42:20<37:59:02, 37.52s/it]\u001b[A\u001b[A"
     ]
    },
    {
     "name": "stdout",
     "output_type": "stream",
     "text": [
      "pipeline: arima_ablation, signal: ec2_network_in_5abac7, test_split: False, detrend: False\n"
     ]
    },
    {
     "name": "stderr",
     "output_type": "stream",
     "text": [
      "/home/dongyu/miniconda/envs/aer-paper/lib/python3.7/site-packages/statsmodels/base/model.py:568: ConvergenceWarning: Maximum Likelihood optimization failed to converge. Check mle_retvals\n",
      "  ConvergenceWarning)\n",
      "/home/dongyu/miniconda/envs/aer-paper/lib/python3.7/site-packages/statsmodels/base/model.py:568: ConvergenceWarning: Maximum Likelihood optimization failed to converge. Check mle_retvals\n",
      "  ConvergenceWarning)\n",
      "/home/dongyu/miniconda/envs/aer-paper/lib/python3.7/site-packages/statsmodels/base/model.py:568: ConvergenceWarning: Maximum Likelihood optimization failed to converge. Check mle_retvals\n",
      "  ConvergenceWarning)\n",
      "\n",
      "\n",
      "  2%|▏         | 66/3710 [42:59<38:33:41, 38.10s/it]\u001b[A\u001b[A"
     ]
    },
    {
     "name": "stdout",
     "output_type": "stream",
     "text": [
      "pipeline: arima_ablation, signal: ec2_network_in_257a54, test_split: False, detrend: False\n"
     ]
    },
    {
     "name": "stderr",
     "output_type": "stream",
     "text": [
      "/home/dongyu/miniconda/envs/aer-paper/lib/python3.7/site-packages/statsmodels/base/model.py:568: ConvergenceWarning: Maximum Likelihood optimization failed to converge. Check mle_retvals\n",
      "  ConvergenceWarning)\n",
      "/home/dongyu/miniconda/envs/aer-paper/lib/python3.7/site-packages/statsmodels/base/model.py:568: ConvergenceWarning: Maximum Likelihood optimization failed to converge. Check mle_retvals\n",
      "  ConvergenceWarning)\n",
      "/home/dongyu/miniconda/envs/aer-paper/lib/python3.7/site-packages/statsmodels/base/model.py:568: ConvergenceWarning: Maximum Likelihood optimization failed to converge. Check mle_retvals\n",
      "  ConvergenceWarning)\n",
      "/home/dongyu/miniconda/envs/aer-paper/lib/python3.7/site-packages/statsmodels/base/model.py:568: ConvergenceWarning: Maximum Likelihood optimization failed to converge. Check mle_retvals\n",
      "  ConvergenceWarning)\n",
      "/home/dongyu/miniconda/envs/aer-paper/lib/python3.7/site-packages/statsmodels/base/model.py:568: ConvergenceWarning: Maximum Likelihood optimization failed to converge. Check mle_retvals\n",
      "  ConvergenceWarning)\n",
      "/home/dongyu/miniconda/envs/aer-paper/lib/python3.7/site-packages/statsmodels/base/model.py:568: ConvergenceWarning: Maximum Likelihood optimization failed to converge. Check mle_retvals\n",
      "  ConvergenceWarning)\n",
      "/home/dongyu/miniconda/envs/aer-paper/lib/python3.7/site-packages/statsmodels/base/model.py:568: ConvergenceWarning: Maximum Likelihood optimization failed to converge. Check mle_retvals\n",
      "  ConvergenceWarning)\n",
      "/home/dongyu/miniconda/envs/aer-paper/lib/python3.7/site-packages/statsmodels/base/model.py:568: ConvergenceWarning: Maximum Likelihood optimization failed to converge. Check mle_retvals\n",
      "  ConvergenceWarning)\n",
      "/home/dongyu/miniconda/envs/aer-paper/lib/python3.7/site-packages/statsmodels/base/model.py:568: ConvergenceWarning: Maximum Likelihood optimization failed to converge. Check mle_retvals\n",
      "  ConvergenceWarning)\n",
      "/home/dongyu/miniconda/envs/aer-paper/lib/python3.7/site-packages/statsmodels/base/model.py:568: ConvergenceWarning: Maximum Likelihood optimization failed to converge. Check mle_retvals\n",
      "  ConvergenceWarning)\n",
      "/home/dongyu/miniconda/envs/aer-paper/lib/python3.7/site-packages/statsmodels/base/model.py:568: ConvergenceWarning: Maximum Likelihood optimization failed to converge. Check mle_retvals\n",
      "  ConvergenceWarning)\n",
      "/home/dongyu/miniconda/envs/aer-paper/lib/python3.7/site-packages/statsmodels/base/model.py:568: ConvergenceWarning: Maximum Likelihood optimization failed to converge. Check mle_retvals\n",
      "  ConvergenceWarning)\n",
      "/home/dongyu/miniconda/envs/aer-paper/lib/python3.7/site-packages/statsmodels/base/model.py:568: ConvergenceWarning: Maximum Likelihood optimization failed to converge. Check mle_retvals\n",
      "  ConvergenceWarning)\n",
      "/home/dongyu/miniconda/envs/aer-paper/lib/python3.7/site-packages/statsmodels/base/model.py:568: ConvergenceWarning: Maximum Likelihood optimization failed to converge. Check mle_retvals\n",
      "  ConvergenceWarning)\n",
      "/home/dongyu/miniconda/envs/aer-paper/lib/python3.7/site-packages/statsmodels/base/model.py:568: ConvergenceWarning: Maximum Likelihood optimization failed to converge. Check mle_retvals\n",
      "  ConvergenceWarning)\n",
      "/home/dongyu/miniconda/envs/aer-paper/lib/python3.7/site-packages/statsmodels/base/model.py:568: ConvergenceWarning: Maximum Likelihood optimization failed to converge. Check mle_retvals\n",
      "  ConvergenceWarning)\n",
      "/home/dongyu/miniconda/envs/aer-paper/lib/python3.7/site-packages/statsmodels/base/model.py:568: ConvergenceWarning: Maximum Likelihood optimization failed to converge. Check mle_retvals\n",
      "  ConvergenceWarning)\n",
      "/home/dongyu/miniconda/envs/aer-paper/lib/python3.7/site-packages/statsmodels/base/model.py:568: ConvergenceWarning: Maximum Likelihood optimization failed to converge. Check mle_retvals\n",
      "  ConvergenceWarning)\n",
      "/home/dongyu/miniconda/envs/aer-paper/lib/python3.7/site-packages/statsmodels/base/model.py:568: ConvergenceWarning: Maximum Likelihood optimization failed to converge. Check mle_retvals\n",
      "  ConvergenceWarning)\n",
      "/home/dongyu/miniconda/envs/aer-paper/lib/python3.7/site-packages/statsmodels/base/model.py:568: ConvergenceWarning: Maximum Likelihood optimization failed to converge. Check mle_retvals\n",
      "  ConvergenceWarning)\n",
      "/home/dongyu/miniconda/envs/aer-paper/lib/python3.7/site-packages/statsmodels/base/model.py:568: ConvergenceWarning: Maximum Likelihood optimization failed to converge. Check mle_retvals\n",
      "  ConvergenceWarning)\n",
      "/home/dongyu/miniconda/envs/aer-paper/lib/python3.7/site-packages/statsmodels/base/model.py:568: ConvergenceWarning: Maximum Likelihood optimization failed to converge. Check mle_retvals\n",
      "  ConvergenceWarning)\n",
      "/home/dongyu/miniconda/envs/aer-paper/lib/python3.7/site-packages/statsmodels/base/model.py:568: ConvergenceWarning: Maximum Likelihood optimization failed to converge. Check mle_retvals\n",
      "  ConvergenceWarning)\n",
      "/home/dongyu/miniconda/envs/aer-paper/lib/python3.7/site-packages/statsmodels/base/model.py:568: ConvergenceWarning: Maximum Likelihood optimization failed to converge. Check mle_retvals\n",
      "  ConvergenceWarning)\n",
      "/home/dongyu/miniconda/envs/aer-paper/lib/python3.7/site-packages/statsmodels/base/model.py:568: ConvergenceWarning: Maximum Likelihood optimization failed to converge. Check mle_retvals\n",
      "  ConvergenceWarning)\n",
      "/home/dongyu/miniconda/envs/aer-paper/lib/python3.7/site-packages/statsmodels/base/model.py:568: ConvergenceWarning: Maximum Likelihood optimization failed to converge. Check mle_retvals\n",
      "  ConvergenceWarning)\n",
      "/home/dongyu/miniconda/envs/aer-paper/lib/python3.7/site-packages/statsmodels/base/model.py:568: ConvergenceWarning: Maximum Likelihood optimization failed to converge. Check mle_retvals\n",
      "  ConvergenceWarning)\n",
      "/home/dongyu/miniconda/envs/aer-paper/lib/python3.7/site-packages/statsmodels/base/model.py:568: ConvergenceWarning: Maximum Likelihood optimization failed to converge. Check mle_retvals\n",
      "  ConvergenceWarning)\n",
      "/home/dongyu/miniconda/envs/aer-paper/lib/python3.7/site-packages/statsmodels/base/model.py:568: ConvergenceWarning: Maximum Likelihood optimization failed to converge. Check mle_retvals\n",
      "  ConvergenceWarning)\n",
      "/home/dongyu/miniconda/envs/aer-paper/lib/python3.7/site-packages/statsmodels/base/model.py:568: ConvergenceWarning: Maximum Likelihood optimization failed to converge. Check mle_retvals\n",
      "  ConvergenceWarning)\n",
      "/home/dongyu/miniconda/envs/aer-paper/lib/python3.7/site-packages/statsmodels/base/model.py:568: ConvergenceWarning: Maximum Likelihood optimization failed to converge. Check mle_retvals\n",
      "  ConvergenceWarning)\n",
      "/home/dongyu/miniconda/envs/aer-paper/lib/python3.7/site-packages/statsmodels/base/model.py:568: ConvergenceWarning: Maximum Likelihood optimization failed to converge. Check mle_retvals\n",
      "  ConvergenceWarning)\n",
      "/home/dongyu/miniconda/envs/aer-paper/lib/python3.7/site-packages/statsmodels/base/model.py:568: ConvergenceWarning: Maximum Likelihood optimization failed to converge. Check mle_retvals\n",
      "  ConvergenceWarning)\n",
      "/home/dongyu/miniconda/envs/aer-paper/lib/python3.7/site-packages/statsmodels/base/model.py:568: ConvergenceWarning: Maximum Likelihood optimization failed to converge. Check mle_retvals\n",
      "  ConvergenceWarning)\n",
      "/home/dongyu/miniconda/envs/aer-paper/lib/python3.7/site-packages/statsmodels/base/model.py:568: ConvergenceWarning: Maximum Likelihood optimization failed to converge. Check mle_retvals\n",
      "  ConvergenceWarning)\n",
      "/home/dongyu/miniconda/envs/aer-paper/lib/python3.7/site-packages/statsmodels/base/model.py:568: ConvergenceWarning: Maximum Likelihood optimization failed to converge. Check mle_retvals\n",
      "  ConvergenceWarning)\n",
      "/home/dongyu/miniconda/envs/aer-paper/lib/python3.7/site-packages/statsmodels/base/model.py:568: ConvergenceWarning: Maximum Likelihood optimization failed to converge. Check mle_retvals\n",
      "  ConvergenceWarning)\n",
      "/home/dongyu/miniconda/envs/aer-paper/lib/python3.7/site-packages/statsmodels/base/model.py:568: ConvergenceWarning: Maximum Likelihood optimization failed to converge. Check mle_retvals\n",
      "  ConvergenceWarning)\n",
      "/home/dongyu/miniconda/envs/aer-paper/lib/python3.7/site-packages/statsmodels/base/model.py:568: ConvergenceWarning: Maximum Likelihood optimization failed to converge. Check mle_retvals\n",
      "  ConvergenceWarning)\n",
      "/home/dongyu/miniconda/envs/aer-paper/lib/python3.7/site-packages/statsmodels/base/model.py:568: ConvergenceWarning: Maximum Likelihood optimization failed to converge. Check mle_retvals\n",
      "  ConvergenceWarning)\n",
      "/home/dongyu/miniconda/envs/aer-paper/lib/python3.7/site-packages/statsmodels/base/model.py:568: ConvergenceWarning: Maximum Likelihood optimization failed to converge. Check mle_retvals\n",
      "  ConvergenceWarning)\n",
      "/home/dongyu/miniconda/envs/aer-paper/lib/python3.7/site-packages/statsmodels/base/model.py:568: ConvergenceWarning: Maximum Likelihood optimization failed to converge. Check mle_retvals\n",
      "  ConvergenceWarning)\n",
      "/home/dongyu/miniconda/envs/aer-paper/lib/python3.7/site-packages/statsmodels/base/model.py:568: ConvergenceWarning: Maximum Likelihood optimization failed to converge. Check mle_retvals\n",
      "  ConvergenceWarning)\n",
      "/home/dongyu/miniconda/envs/aer-paper/lib/python3.7/site-packages/statsmodels/base/model.py:568: ConvergenceWarning: Maximum Likelihood optimization failed to converge. Check mle_retvals\n",
      "  ConvergenceWarning)\n",
      "/home/dongyu/miniconda/envs/aer-paper/lib/python3.7/site-packages/statsmodels/base/model.py:568: ConvergenceWarning: Maximum Likelihood optimization failed to converge. Check mle_retvals\n",
      "  ConvergenceWarning)\n",
      "/home/dongyu/miniconda/envs/aer-paper/lib/python3.7/site-packages/statsmodels/base/model.py:568: ConvergenceWarning: Maximum Likelihood optimization failed to converge. Check mle_retvals\n",
      "  ConvergenceWarning)\n",
      "/home/dongyu/miniconda/envs/aer-paper/lib/python3.7/site-packages/statsmodels/base/model.py:568: ConvergenceWarning: Maximum Likelihood optimization failed to converge. Check mle_retvals\n",
      "  ConvergenceWarning)\n",
      "/home/dongyu/miniconda/envs/aer-paper/lib/python3.7/site-packages/statsmodels/base/model.py:568: ConvergenceWarning: Maximum Likelihood optimization failed to converge. Check mle_retvals\n",
      "  ConvergenceWarning)\n",
      "/home/dongyu/miniconda/envs/aer-paper/lib/python3.7/site-packages/statsmodels/base/model.py:568: ConvergenceWarning: Maximum Likelihood optimization failed to converge. Check mle_retvals\n",
      "  ConvergenceWarning)\n",
      "/home/dongyu/miniconda/envs/aer-paper/lib/python3.7/site-packages/statsmodels/base/model.py:568: ConvergenceWarning: Maximum Likelihood optimization failed to converge. Check mle_retvals\n",
      "  ConvergenceWarning)\n",
      "/home/dongyu/miniconda/envs/aer-paper/lib/python3.7/site-packages/statsmodels/base/model.py:568: ConvergenceWarning: Maximum Likelihood optimization failed to converge. Check mle_retvals\n",
      "  ConvergenceWarning)\n",
      "/home/dongyu/miniconda/envs/aer-paper/lib/python3.7/site-packages/statsmodels/base/model.py:568: ConvergenceWarning: Maximum Likelihood optimization failed to converge. Check mle_retvals\n",
      "  ConvergenceWarning)\n",
      "/home/dongyu/miniconda/envs/aer-paper/lib/python3.7/site-packages/statsmodels/base/model.py:568: ConvergenceWarning: Maximum Likelihood optimization failed to converge. Check mle_retvals\n",
      "  ConvergenceWarning)\n",
      "/home/dongyu/miniconda/envs/aer-paper/lib/python3.7/site-packages/statsmodels/base/model.py:568: ConvergenceWarning: Maximum Likelihood optimization failed to converge. Check mle_retvals\n",
      "  ConvergenceWarning)\n",
      "/home/dongyu/miniconda/envs/aer-paper/lib/python3.7/site-packages/statsmodels/base/model.py:568: ConvergenceWarning: Maximum Likelihood optimization failed to converge. Check mle_retvals\n",
      "  ConvergenceWarning)\n",
      "/home/dongyu/miniconda/envs/aer-paper/lib/python3.7/site-packages/statsmodels/base/model.py:568: ConvergenceWarning: Maximum Likelihood optimization failed to converge. Check mle_retvals\n",
      "  ConvergenceWarning)\n",
      "/home/dongyu/miniconda/envs/aer-paper/lib/python3.7/site-packages/statsmodels/base/model.py:568: ConvergenceWarning: Maximum Likelihood optimization failed to converge. Check mle_retvals\n",
      "  ConvergenceWarning)\n",
      "/home/dongyu/miniconda/envs/aer-paper/lib/python3.7/site-packages/statsmodels/base/model.py:568: ConvergenceWarning: Maximum Likelihood optimization failed to converge. Check mle_retvals\n",
      "  ConvergenceWarning)\n",
      "/home/dongyu/miniconda/envs/aer-paper/lib/python3.7/site-packages/statsmodels/base/model.py:568: ConvergenceWarning: Maximum Likelihood optimization failed to converge. Check mle_retvals\n",
      "  ConvergenceWarning)\n",
      "/home/dongyu/miniconda/envs/aer-paper/lib/python3.7/site-packages/statsmodels/base/model.py:568: ConvergenceWarning: Maximum Likelihood optimization failed to converge. Check mle_retvals\n",
      "  ConvergenceWarning)\n",
      "/home/dongyu/miniconda/envs/aer-paper/lib/python3.7/site-packages/statsmodels/base/model.py:568: ConvergenceWarning: Maximum Likelihood optimization failed to converge. Check mle_retvals\n",
      "  ConvergenceWarning)\n",
      "/home/dongyu/miniconda/envs/aer-paper/lib/python3.7/site-packages/statsmodels/base/model.py:568: ConvergenceWarning: Maximum Likelihood optimization failed to converge. Check mle_retvals\n",
      "  ConvergenceWarning)\n",
      "/home/dongyu/miniconda/envs/aer-paper/lib/python3.7/site-packages/statsmodels/base/model.py:568: ConvergenceWarning: Maximum Likelihood optimization failed to converge. Check mle_retvals\n",
      "  ConvergenceWarning)\n",
      "/home/dongyu/miniconda/envs/aer-paper/lib/python3.7/site-packages/statsmodels/base/model.py:568: ConvergenceWarning: Maximum Likelihood optimization failed to converge. Check mle_retvals\n",
      "  ConvergenceWarning)\n",
      "/home/dongyu/miniconda/envs/aer-paper/lib/python3.7/site-packages/statsmodels/base/model.py:568: ConvergenceWarning: Maximum Likelihood optimization failed to converge. Check mle_retvals\n",
      "  ConvergenceWarning)\n",
      "/home/dongyu/miniconda/envs/aer-paper/lib/python3.7/site-packages/statsmodels/base/model.py:568: ConvergenceWarning: Maximum Likelihood optimization failed to converge. Check mle_retvals\n",
      "  ConvergenceWarning)\n",
      "/home/dongyu/miniconda/envs/aer-paper/lib/python3.7/site-packages/statsmodels/base/model.py:568: ConvergenceWarning: Maximum Likelihood optimization failed to converge. Check mle_retvals\n",
      "  ConvergenceWarning)\n",
      "/home/dongyu/miniconda/envs/aer-paper/lib/python3.7/site-packages/statsmodels/base/model.py:568: ConvergenceWarning: Maximum Likelihood optimization failed to converge. Check mle_retvals\n",
      "  ConvergenceWarning)\n",
      "/home/dongyu/miniconda/envs/aer-paper/lib/python3.7/site-packages/statsmodels/base/model.py:568: ConvergenceWarning: Maximum Likelihood optimization failed to converge. Check mle_retvals\n",
      "  ConvergenceWarning)\n",
      "/home/dongyu/miniconda/envs/aer-paper/lib/python3.7/site-packages/statsmodels/base/model.py:568: ConvergenceWarning: Maximum Likelihood optimization failed to converge. Check mle_retvals\n",
      "  ConvergenceWarning)\n",
      "/home/dongyu/miniconda/envs/aer-paper/lib/python3.7/site-packages/statsmodels/base/model.py:568: ConvergenceWarning: Maximum Likelihood optimization failed to converge. Check mle_retvals\n",
      "  ConvergenceWarning)\n",
      "/home/dongyu/miniconda/envs/aer-paper/lib/python3.7/site-packages/statsmodels/base/model.py:568: ConvergenceWarning: Maximum Likelihood optimization failed to converge. Check mle_retvals\n",
      "  ConvergenceWarning)\n",
      "/home/dongyu/miniconda/envs/aer-paper/lib/python3.7/site-packages/statsmodels/base/model.py:568: ConvergenceWarning: Maximum Likelihood optimization failed to converge. Check mle_retvals\n",
      "  ConvergenceWarning)\n",
      "/home/dongyu/miniconda/envs/aer-paper/lib/python3.7/site-packages/statsmodels/base/model.py:568: ConvergenceWarning: Maximum Likelihood optimization failed to converge. Check mle_retvals\n",
      "  ConvergenceWarning)\n",
      "/home/dongyu/miniconda/envs/aer-paper/lib/python3.7/site-packages/statsmodels/base/model.py:568: ConvergenceWarning: Maximum Likelihood optimization failed to converge. Check mle_retvals\n",
      "  ConvergenceWarning)\n",
      "/home/dongyu/miniconda/envs/aer-paper/lib/python3.7/site-packages/statsmodels/base/model.py:568: ConvergenceWarning: Maximum Likelihood optimization failed to converge. Check mle_retvals\n",
      "  ConvergenceWarning)\n",
      "/home/dongyu/miniconda/envs/aer-paper/lib/python3.7/site-packages/statsmodels/base/model.py:568: ConvergenceWarning: Maximum Likelihood optimization failed to converge. Check mle_retvals\n",
      "  ConvergenceWarning)\n",
      "/home/dongyu/miniconda/envs/aer-paper/lib/python3.7/site-packages/statsmodels/base/model.py:568: ConvergenceWarning: Maximum Likelihood optimization failed to converge. Check mle_retvals\n",
      "  ConvergenceWarning)\n",
      "/home/dongyu/miniconda/envs/aer-paper/lib/python3.7/site-packages/statsmodels/base/model.py:568: ConvergenceWarning: Maximum Likelihood optimization failed to converge. Check mle_retvals\n",
      "  ConvergenceWarning)\n",
      "/home/dongyu/miniconda/envs/aer-paper/lib/python3.7/site-packages/statsmodels/base/model.py:568: ConvergenceWarning: Maximum Likelihood optimization failed to converge. Check mle_retvals\n",
      "  ConvergenceWarning)\n",
      "/home/dongyu/miniconda/envs/aer-paper/lib/python3.7/site-packages/statsmodels/base/model.py:568: ConvergenceWarning: Maximum Likelihood optimization failed to converge. Check mle_retvals\n",
      "  ConvergenceWarning)\n",
      "/home/dongyu/miniconda/envs/aer-paper/lib/python3.7/site-packages/statsmodels/base/model.py:568: ConvergenceWarning: Maximum Likelihood optimization failed to converge. Check mle_retvals\n",
      "  ConvergenceWarning)\n",
      "/home/dongyu/miniconda/envs/aer-paper/lib/python3.7/site-packages/statsmodels/base/model.py:568: ConvergenceWarning: Maximum Likelihood optimization failed to converge. Check mle_retvals\n",
      "  ConvergenceWarning)\n",
      "/home/dongyu/miniconda/envs/aer-paper/lib/python3.7/site-packages/statsmodels/base/model.py:568: ConvergenceWarning: Maximum Likelihood optimization failed to converge. Check mle_retvals\n",
      "  ConvergenceWarning)\n",
      "/home/dongyu/miniconda/envs/aer-paper/lib/python3.7/site-packages/statsmodels/base/model.py:568: ConvergenceWarning: Maximum Likelihood optimization failed to converge. Check mle_retvals\n",
      "  ConvergenceWarning)\n",
      "/home/dongyu/miniconda/envs/aer-paper/lib/python3.7/site-packages/statsmodels/base/model.py:568: ConvergenceWarning: Maximum Likelihood optimization failed to converge. Check mle_retvals\n",
      "  ConvergenceWarning)\n",
      "/home/dongyu/miniconda/envs/aer-paper/lib/python3.7/site-packages/statsmodels/base/model.py:568: ConvergenceWarning: Maximum Likelihood optimization failed to converge. Check mle_retvals\n",
      "  ConvergenceWarning)\n",
      "/home/dongyu/miniconda/envs/aer-paper/lib/python3.7/site-packages/statsmodels/base/model.py:568: ConvergenceWarning: Maximum Likelihood optimization failed to converge. Check mle_retvals\n",
      "  ConvergenceWarning)\n",
      "/home/dongyu/miniconda/envs/aer-paper/lib/python3.7/site-packages/statsmodels/base/model.py:568: ConvergenceWarning: Maximum Likelihood optimization failed to converge. Check mle_retvals\n",
      "  ConvergenceWarning)\n",
      "/home/dongyu/miniconda/envs/aer-paper/lib/python3.7/site-packages/statsmodels/base/model.py:568: ConvergenceWarning: Maximum Likelihood optimization failed to converge. Check mle_retvals\n",
      "  ConvergenceWarning)\n",
      "/home/dongyu/miniconda/envs/aer-paper/lib/python3.7/site-packages/statsmodels/base/model.py:568: ConvergenceWarning: Maximum Likelihood optimization failed to converge. Check mle_retvals\n",
      "  ConvergenceWarning)\n",
      "/home/dongyu/miniconda/envs/aer-paper/lib/python3.7/site-packages/statsmodels/base/model.py:568: ConvergenceWarning: Maximum Likelihood optimization failed to converge. Check mle_retvals\n",
      "  ConvergenceWarning)\n",
      "/home/dongyu/miniconda/envs/aer-paper/lib/python3.7/site-packages/statsmodels/base/model.py:568: ConvergenceWarning: Maximum Likelihood optimization failed to converge. Check mle_retvals\n",
      "  ConvergenceWarning)\n",
      "/home/dongyu/miniconda/envs/aer-paper/lib/python3.7/site-packages/statsmodels/base/model.py:568: ConvergenceWarning: Maximum Likelihood optimization failed to converge. Check mle_retvals\n",
      "  ConvergenceWarning)\n",
      "/home/dongyu/miniconda/envs/aer-paper/lib/python3.7/site-packages/statsmodels/base/model.py:568: ConvergenceWarning: Maximum Likelihood optimization failed to converge. Check mle_retvals\n",
      "  ConvergenceWarning)\n",
      "/home/dongyu/miniconda/envs/aer-paper/lib/python3.7/site-packages/statsmodels/base/model.py:568: ConvergenceWarning: Maximum Likelihood optimization failed to converge. Check mle_retvals\n",
      "  ConvergenceWarning)\n",
      "/home/dongyu/miniconda/envs/aer-paper/lib/python3.7/site-packages/statsmodels/base/model.py:568: ConvergenceWarning: Maximum Likelihood optimization failed to converge. Check mle_retvals\n",
      "  ConvergenceWarning)\n",
      "\n",
      "\n",
      "  2%|▏         | 67/3710 [43:56<44:13:02, 43.70s/it]\u001b[A\u001b[A"
     ]
    },
    {
     "name": "stdout",
     "output_type": "stream",
     "text": [
      "pipeline: arima_ablation, signal: elb_request_count_8c0756, test_split: False, detrend: False\n"
     ]
    },
    {
     "name": "stderr",
     "output_type": "stream",
     "text": [
      "/home/dongyu/miniconda/envs/aer-paper/lib/python3.7/site-packages/statsmodels/base/model.py:568: ConvergenceWarning: Maximum Likelihood optimization failed to converge. Check mle_retvals\n",
      "  ConvergenceWarning)\n",
      "/home/dongyu/miniconda/envs/aer-paper/lib/python3.7/site-packages/statsmodels/base/model.py:568: ConvergenceWarning: Maximum Likelihood optimization failed to converge. Check mle_retvals\n",
      "  ConvergenceWarning)\n",
      "\n",
      "\n",
      "  2%|▏         | 68/3710 [44:28<40:31:31, 40.06s/it]\u001b[A\u001b[A"
     ]
    },
    {
     "name": "stdout",
     "output_type": "stream",
     "text": [
      "pipeline: arima_ablation, signal: grok_asg_anomaly, test_split: False, detrend: False\n"
     ]
    },
    {
     "name": "stderr",
     "output_type": "stream",
     "text": [
      "/home/dongyu/miniconda/envs/aer-paper/lib/python3.7/site-packages/statsmodels/base/model.py:568: ConvergenceWarning: Maximum Likelihood optimization failed to converge. Check mle_retvals\n",
      "  ConvergenceWarning)\n",
      "\n",
      "\n",
      "  2%|▏         | 69/3710 [45:14<42:28:11, 41.99s/it]\u001b[A\u001b[A"
     ]
    },
    {
     "name": "stdout",
     "output_type": "stream",
     "text": [
      "pipeline: arima_ablation, signal: iio_us-east-1_i-a2eb1cd9_NetworkIn, test_split: False, detrend: False\n"
     ]
    },
    {
     "name": "stderr",
     "output_type": "stream",
     "text": [
      "Invalid value encountered for precision 0.0/ recall 0.0.\n",
      "Traceback (most recent call last):\n",
      "  File \"/home/dongyu/miniconda/envs/aer-paper/lib/python3.7/site-packages/orion/evaluation/common.py\", line 70, in _f1_score\n",
      "    return 2 * (precision * recall) / (precision + recall)\n",
      "ZeroDivisionError: float division by zero\n",
      "\n",
      "\n",
      "  2%|▏         | 70/3710 [45:23<32:28:56, 32.13s/it]\u001b[A\u001b[A"
     ]
    },
    {
     "name": "stdout",
     "output_type": "stream",
     "text": [
      "pipeline: arima_ablation, signal: rds_cpu_utilization_cc0c53, test_split: False, detrend: False\n"
     ]
    },
    {
     "name": "stderr",
     "output_type": "stream",
     "text": [
      "/home/dongyu/miniconda/envs/aer-paper/lib/python3.7/site-packages/statsmodels/base/model.py:568: ConvergenceWarning: Maximum Likelihood optimization failed to converge. Check mle_retvals\n",
      "  ConvergenceWarning)\n",
      "/home/dongyu/miniconda/envs/aer-paper/lib/python3.7/site-packages/statsmodels/base/model.py:568: ConvergenceWarning: Maximum Likelihood optimization failed to converge. Check mle_retvals\n",
      "  ConvergenceWarning)\n",
      "/home/dongyu/miniconda/envs/aer-paper/lib/python3.7/site-packages/statsmodels/base/model.py:568: ConvergenceWarning: Maximum Likelihood optimization failed to converge. Check mle_retvals\n",
      "  ConvergenceWarning)\n",
      "/home/dongyu/miniconda/envs/aer-paper/lib/python3.7/site-packages/statsmodels/base/model.py:568: ConvergenceWarning: Maximum Likelihood optimization failed to converge. Check mle_retvals\n",
      "  ConvergenceWarning)\n",
      "/home/dongyu/miniconda/envs/aer-paper/lib/python3.7/site-packages/statsmodels/base/model.py:568: ConvergenceWarning: Maximum Likelihood optimization failed to converge. Check mle_retvals\n",
      "  ConvergenceWarning)\n",
      "\n",
      "\n",
      "  2%|▏         | 71/3710 [46:07<36:01:50, 35.64s/it]\u001b[A\u001b[A"
     ]
    },
    {
     "name": "stdout",
     "output_type": "stream",
     "text": [
      "pipeline: arima_ablation, signal: rds_cpu_utilization_e47b3b, test_split: False, detrend: False\n"
     ]
    },
    {
     "name": "stderr",
     "output_type": "stream",
     "text": [
      "/home/dongyu/miniconda/envs/aer-paper/lib/python3.7/site-packages/statsmodels/base/model.py:568: ConvergenceWarning: Maximum Likelihood optimization failed to converge. Check mle_retvals\n",
      "  ConvergenceWarning)\n",
      "/home/dongyu/miniconda/envs/aer-paper/lib/python3.7/site-packages/statsmodels/base/model.py:568: ConvergenceWarning: Maximum Likelihood optimization failed to converge. Check mle_retvals\n",
      "  ConvergenceWarning)\n",
      "/home/dongyu/miniconda/envs/aer-paper/lib/python3.7/site-packages/statsmodels/base/model.py:568: ConvergenceWarning: Maximum Likelihood optimization failed to converge. Check mle_retvals\n",
      "  ConvergenceWarning)\n",
      "/home/dongyu/miniconda/envs/aer-paper/lib/python3.7/site-packages/statsmodels/base/model.py:568: ConvergenceWarning: Maximum Likelihood optimization failed to converge. Check mle_retvals\n",
      "  ConvergenceWarning)\n",
      "/home/dongyu/miniconda/envs/aer-paper/lib/python3.7/site-packages/statsmodels/base/model.py:568: ConvergenceWarning: Maximum Likelihood optimization failed to converge. Check mle_retvals\n",
      "  ConvergenceWarning)\n",
      "/home/dongyu/miniconda/envs/aer-paper/lib/python3.7/site-packages/statsmodels/base/model.py:568: ConvergenceWarning: Maximum Likelihood optimization failed to converge. Check mle_retvals\n",
      "  ConvergenceWarning)\n",
      "/home/dongyu/miniconda/envs/aer-paper/lib/python3.7/site-packages/statsmodels/base/model.py:568: ConvergenceWarning: Maximum Likelihood optimization failed to converge. Check mle_retvals\n",
      "  ConvergenceWarning)\n",
      "/home/dongyu/miniconda/envs/aer-paper/lib/python3.7/site-packages/statsmodels/base/model.py:568: ConvergenceWarning: Maximum Likelihood optimization failed to converge. Check mle_retvals\n",
      "  ConvergenceWarning)\n",
      "\n",
      "\n",
      "  2%|▏         | 72/3710 [46:55<39:44:07, 39.32s/it]\u001b[A\u001b[A"
     ]
    },
    {
     "name": "stdout",
     "output_type": "stream",
     "text": [
      "pipeline: lstm_dynamic_threshold_ablation, signal: ec2_cpu_utilization_5f5533, test_split: False, detrend: False\n"
     ]
    },
    {
     "name": "stderr",
     "output_type": "stream",
     "text": [
      "\n",
      "\n",
      "  2%|▏         | 73/3710 [47:17<34:26:19, 34.09s/it]\u001b[A\u001b[A"
     ]
    },
    {
     "name": "stdout",
     "output_type": "stream",
     "text": [
      "pipeline: lstm_dynamic_threshold_ablation, signal: ec2_cpu_utilization_24ae8d, test_split: False, detrend: False\n"
     ]
    },
    {
     "name": "stderr",
     "output_type": "stream",
     "text": [
      "\n",
      "\n",
      "  2%|▏         | 74/3710 [47:38<30:25:12, 30.12s/it]\u001b[A\u001b[A"
     ]
    },
    {
     "name": "stdout",
     "output_type": "stream",
     "text": [
      "pipeline: lstm_dynamic_threshold_ablation, signal: ec2_cpu_utilization_53ea38, test_split: False, detrend: False\n"
     ]
    },
    {
     "name": "stderr",
     "output_type": "stream",
     "text": [
      "\n",
      "\n",
      "  2%|▏         | 75/3710 [48:08<30:23:33, 30.10s/it]\u001b[A\u001b[A"
     ]
    },
    {
     "name": "stdout",
     "output_type": "stream",
     "text": [
      "pipeline: lstm_dynamic_threshold_ablation, signal: ec2_cpu_utilization_77c1ca, test_split: False, detrend: False\n"
     ]
    },
    {
     "name": "stderr",
     "output_type": "stream",
     "text": [
      "\n",
      "\n",
      "  2%|▏         | 76/3710 [48:46<32:55:08, 32.61s/it]\u001b[A\u001b[A"
     ]
    },
    {
     "name": "stdout",
     "output_type": "stream",
     "text": [
      "pipeline: lstm_dynamic_threshold_ablation, signal: ec2_cpu_utilization_825cc2, test_split: False, detrend: False\n"
     ]
    },
    {
     "name": "stderr",
     "output_type": "stream",
     "text": [
      "\n",
      "\n",
      "  2%|▏         | 77/3710 [49:05<28:42:46, 28.45s/it]\u001b[A\u001b[A"
     ]
    },
    {
     "name": "stdout",
     "output_type": "stream",
     "text": [
      "pipeline: lstm_dynamic_threshold_ablation, signal: ec2_cpu_utilization_ac20cd, test_split: False, detrend: False\n"
     ]
    },
    {
     "name": "stderr",
     "output_type": "stream",
     "text": [
      "\n",
      "\n",
      "  2%|▏         | 78/3710 [49:36<29:33:22, 29.30s/it]\u001b[A\u001b[A"
     ]
    },
    {
     "name": "stdout",
     "output_type": "stream",
     "text": [
      "pipeline: lstm_dynamic_threshold_ablation, signal: ec2_cpu_utilization_c6585a, test_split: False, detrend: False\n"
     ]
    },
    {
     "name": "stderr",
     "output_type": "stream",
     "text": [
      "Evaluation exception division by zero (tp 0/ fn 0).\n",
      "Traceback (most recent call last):\n",
      "  File \"/home/dongyu/miniconda/envs/aer-paper/lib/python3.7/site-packages/orion/evaluation/common.py\", line 56, in _recall\n",
      "    return tp / (tp + fn)\n",
      "ZeroDivisionError: division by zero\n",
      "Evaluation exception division by zero (tp 0/ fn 0).\n",
      "Traceback (most recent call last):\n",
      "  File \"/home/dongyu/miniconda/envs/aer-paper/lib/python3.7/site-packages/orion/evaluation/common.py\", line 56, in _recall\n",
      "    return tp / (tp + fn)\n",
      "ZeroDivisionError: division by zero\n",
      "\n",
      "\n",
      "  2%|▏         | 79/3710 [50:12<31:25:00, 31.15s/it]\u001b[A\u001b[A"
     ]
    },
    {
     "name": "stdout",
     "output_type": "stream",
     "text": [
      "pipeline: lstm_dynamic_threshold_ablation, signal: ec2_cpu_utilization_fe7f93, test_split: False, detrend: False\n"
     ]
    },
    {
     "name": "stderr",
     "output_type": "stream",
     "text": [
      "\n",
      "\n",
      "  2%|▏         | 80/3710 [50:42<31:01:48, 30.77s/it]\u001b[A\u001b[A"
     ]
    },
    {
     "name": "stdout",
     "output_type": "stream",
     "text": [
      "pipeline: lstm_dynamic_threshold_ablation, signal: ec2_disk_write_bytes_1ef3de, test_split: False, detrend: False\n"
     ]
    },
    {
     "name": "stderr",
     "output_type": "stream",
     "text": [
      "\n",
      "\n",
      "  2%|▏         | 81/3710 [51:17<32:20:51, 32.09s/it]\u001b[A\u001b[A"
     ]
    },
    {
     "name": "stdout",
     "output_type": "stream",
     "text": [
      "pipeline: lstm_dynamic_threshold_ablation, signal: ec2_disk_write_bytes_c0d644, test_split: False, detrend: False\n"
     ]
    },
    {
     "name": "stderr",
     "output_type": "stream",
     "text": [
      "\n",
      "\n",
      "  2%|▏         | 82/3710 [51:45<31:03:58, 30.83s/it]\u001b[A\u001b[A"
     ]
    },
    {
     "name": "stdout",
     "output_type": "stream",
     "text": [
      "pipeline: lstm_dynamic_threshold_ablation, signal: ec2_network_in_5abac7, test_split: False, detrend: False\n"
     ]
    },
    {
     "name": "stderr",
     "output_type": "stream",
     "text": [
      "\n",
      "\n",
      "  2%|▏         | 83/3710 [52:09<29:09:31, 28.94s/it]\u001b[A\u001b[A"
     ]
    },
    {
     "name": "stdout",
     "output_type": "stream",
     "text": [
      "pipeline: lstm_dynamic_threshold_ablation, signal: ec2_network_in_257a54, test_split: False, detrend: False\n"
     ]
    },
    {
     "name": "stderr",
     "output_type": "stream",
     "text": [
      "\n",
      "\n",
      "  2%|▏         | 84/3710 [52:33<27:39:36, 27.46s/it]\u001b[A\u001b[A"
     ]
    },
    {
     "name": "stdout",
     "output_type": "stream",
     "text": [
      "pipeline: lstm_dynamic_threshold_ablation, signal: elb_request_count_8c0756, test_split: False, detrend: False\n"
     ]
    },
    {
     "name": "stderr",
     "output_type": "stream",
     "text": [
      "\n",
      "\n",
      "  2%|▏         | 85/3710 [52:55<25:58:13, 25.79s/it]\u001b[A\u001b[A"
     ]
    },
    {
     "name": "stdout",
     "output_type": "stream",
     "text": [
      "pipeline: lstm_dynamic_threshold_ablation, signal: grok_asg_anomaly, test_split: False, detrend: False\n"
     ]
    },
    {
     "name": "stderr",
     "output_type": "stream",
     "text": [
      "\n",
      "\n",
      "  2%|▏         | 86/3710 [53:20<25:47:25, 25.62s/it]\u001b[A\u001b[A"
     ]
    },
    {
     "name": "stdout",
     "output_type": "stream",
     "text": [
      "pipeline: lstm_dynamic_threshold_ablation, signal: iio_us-east-1_i-a2eb1cd9_NetworkIn, test_split: False, detrend: False\n"
     ]
    },
    {
     "name": "stderr",
     "output_type": "stream",
     "text": [
      "Evaluation exception division by zero (tp 0/ fp 0).\n",
      "Traceback (most recent call last):\n",
      "  File \"/home/dongyu/miniconda/envs/aer-paper/lib/python3.7/site-packages/orion/evaluation/common.py\", line 43, in _precision\n",
      "    return tp / (tp + fp)\n",
      "ZeroDivisionError: division by zero\n",
      "Evaluation exception division by zero (tp 0/ fp 0).\n",
      "Traceback (most recent call last):\n",
      "  File \"/home/dongyu/miniconda/envs/aer-paper/lib/python3.7/site-packages/orion/evaluation/common.py\", line 43, in _precision\n",
      "    return tp / (tp + fp)\n",
      "ZeroDivisionError: division by zero\n",
      "\n",
      "\n",
      "  2%|▏         | 87/3710 [53:30<21:01:39, 20.89s/it]\u001b[A\u001b[A"
     ]
    },
    {
     "name": "stdout",
     "output_type": "stream",
     "text": [
      "pipeline: lstm_dynamic_threshold_ablation, signal: rds_cpu_utilization_cc0c53, test_split: False, detrend: False\n"
     ]
    },
    {
     "name": "stderr",
     "output_type": "stream",
     "text": [
      "\n",
      "\n",
      "  2%|▏         | 88/3710 [53:56<22:24:09, 22.27s/it]\u001b[A\u001b[A"
     ]
    },
    {
     "name": "stdout",
     "output_type": "stream",
     "text": [
      "pipeline: lstm_dynamic_threshold_ablation, signal: rds_cpu_utilization_e47b3b, test_split: False, detrend: False\n"
     ]
    },
    {
     "name": "stderr",
     "output_type": "stream",
     "text": [
      "\n",
      "\n",
      "  2%|▏         | 89/3710 [54:22<23:38:24, 23.50s/it]\u001b[A\u001b[A"
     ]
    },
    {
     "name": "stdout",
     "output_type": "stream",
     "text": [
      "pipeline: lstm_autoencoder_ablation, signal: ec2_cpu_utilization_5f5533, test_split: False, detrend: False\n"
     ]
    },
    {
     "name": "stderr",
     "output_type": "stream",
     "text": [
      "\n",
      "\n",
      "  2%|▏         | 90/3710 [54:35<20:36:39, 20.50s/it]\u001b[A\u001b[A"
     ]
    },
    {
     "name": "stdout",
     "output_type": "stream",
     "text": [
      "pipeline: lstm_autoencoder_ablation, signal: ec2_cpu_utilization_24ae8d, test_split: False, detrend: False\n"
     ]
    },
    {
     "name": "stderr",
     "output_type": "stream",
     "text": [
      "\n",
      "\n",
      "  2%|▏         | 91/3710 [54:52<19:25:34, 19.32s/it]\u001b[A\u001b[A"
     ]
    },
    {
     "name": "stdout",
     "output_type": "stream",
     "text": [
      "pipeline: lstm_autoencoder_ablation, signal: ec2_cpu_utilization_53ea38, test_split: False, detrend: False\n"
     ]
    },
    {
     "name": "stderr",
     "output_type": "stream",
     "text": [
      "\n",
      "\n",
      "  2%|▏         | 92/3710 [55:08<18:26:33, 18.35s/it]\u001b[A\u001b[A"
     ]
    },
    {
     "name": "stdout",
     "output_type": "stream",
     "text": [
      "pipeline: lstm_autoencoder_ablation, signal: ec2_cpu_utilization_77c1ca, test_split: False, detrend: False\n"
     ]
    },
    {
     "name": "stderr",
     "output_type": "stream",
     "text": [
      "Evaluation exception division by zero (tp 0/ fp 0).\n",
      "Traceback (most recent call last):\n",
      "  File \"/home/dongyu/miniconda/envs/aer-paper/lib/python3.7/site-packages/orion/evaluation/common.py\", line 43, in _precision\n",
      "    return tp / (tp + fp)\n",
      "ZeroDivisionError: division by zero\n",
      "Evaluation exception division by zero (tp 0/ fp 0).\n",
      "Traceback (most recent call last):\n",
      "  File \"/home/dongyu/miniconda/envs/aer-paper/lib/python3.7/site-packages/orion/evaluation/common.py\", line 43, in _precision\n",
      "    return tp / (tp + fp)\n",
      "ZeroDivisionError: division by zero\n",
      "\n",
      "\n",
      "  3%|▎         | 93/3710 [55:31<19:54:34, 19.82s/it]\u001b[A\u001b[A"
     ]
    },
    {
     "name": "stdout",
     "output_type": "stream",
     "text": [
      "pipeline: lstm_autoencoder_ablation, signal: ec2_cpu_utilization_825cc2, test_split: False, detrend: False\n"
     ]
    },
    {
     "name": "stderr",
     "output_type": "stream",
     "text": [
      "\n",
      "\n",
      "  3%|▎         | 94/3710 [55:51<19:47:21, 19.70s/it]\u001b[A\u001b[A"
     ]
    },
    {
     "name": "stdout",
     "output_type": "stream",
     "text": [
      "pipeline: lstm_autoencoder_ablation, signal: ec2_cpu_utilization_ac20cd, test_split: False, detrend: False\n"
     ]
    },
    {
     "name": "stderr",
     "output_type": "stream",
     "text": [
      "\n",
      "\n",
      "  3%|▎         | 95/3710 [56:10<19:37:22, 19.54s/it]\u001b[A\u001b[A"
     ]
    },
    {
     "name": "stdout",
     "output_type": "stream",
     "text": [
      "pipeline: lstm_autoencoder_ablation, signal: ec2_cpu_utilization_c6585a, test_split: False, detrend: False\n"
     ]
    },
    {
     "name": "stderr",
     "output_type": "stream",
     "text": [
      "Evaluation exception division by zero (tp 0/ fp 0).\n",
      "Traceback (most recent call last):\n",
      "  File \"/home/dongyu/miniconda/envs/aer-paper/lib/python3.7/site-packages/orion/evaluation/common.py\", line 43, in _precision\n",
      "    return tp / (tp + fp)\n",
      "ZeroDivisionError: division by zero\n",
      "Evaluation exception division by zero (tp 0/ fn 0).\n",
      "Traceback (most recent call last):\n",
      "  File \"/home/dongyu/miniconda/envs/aer-paper/lib/python3.7/site-packages/orion/evaluation/common.py\", line 56, in _recall\n",
      "    return tp / (tp + fn)\n",
      "ZeroDivisionError: division by zero\n",
      "Evaluation exception division by zero (tp 0/ fn 0).\n",
      "Traceback (most recent call last):\n",
      "  File \"/home/dongyu/miniconda/envs/aer-paper/lib/python3.7/site-packages/orion/evaluation/common.py\", line 56, in _recall\n",
      "    return tp / (tp + fn)\n",
      "ZeroDivisionError: division by zero\n",
      "Evaluation exception division by zero (tp 0/ fp 0).\n",
      "Traceback (most recent call last):\n",
      "  File \"/home/dongyu/miniconda/envs/aer-paper/lib/python3.7/site-packages/orion/evaluation/common.py\", line 43, in _precision\n",
      "    return tp / (tp + fp)\n",
      "ZeroDivisionError: division by zero\n",
      "\n",
      "\n",
      "  3%|▎         | 96/3710 [56:27<18:50:11, 18.76s/it]\u001b[A\u001b[A"
     ]
    },
    {
     "name": "stdout",
     "output_type": "stream",
     "text": [
      "pipeline: lstm_autoencoder_ablation, signal: ec2_cpu_utilization_fe7f93, test_split: False, detrend: False\n"
     ]
    },
    {
     "name": "stderr",
     "output_type": "stream",
     "text": [
      "\n",
      "\n",
      "  3%|▎         | 97/3710 [56:42<17:41:01, 17.62s/it]\u001b[A\u001b[A"
     ]
    },
    {
     "name": "stdout",
     "output_type": "stream",
     "text": [
      "pipeline: lstm_autoencoder_ablation, signal: ec2_disk_write_bytes_1ef3de, test_split: False, detrend: False\n"
     ]
    },
    {
     "name": "stderr",
     "output_type": "stream",
     "text": [
      "\n",
      "\n",
      "  3%|▎         | 98/3710 [57:06<19:30:32, 19.44s/it]\u001b[A\u001b[A"
     ]
    },
    {
     "name": "stdout",
     "output_type": "stream",
     "text": [
      "pipeline: lstm_autoencoder_ablation, signal: ec2_disk_write_bytes_c0d644, test_split: False, detrend: False\n"
     ]
    },
    {
     "name": "stderr",
     "output_type": "stream",
     "text": [
      "\n",
      "\n",
      "  3%|▎         | 99/3710 [57:26<19:47:34, 19.73s/it]\u001b[A\u001b[A"
     ]
    },
    {
     "name": "stdout",
     "output_type": "stream",
     "text": [
      "pipeline: lstm_autoencoder_ablation, signal: ec2_network_in_5abac7, test_split: False, detrend: False\n"
     ]
    },
    {
     "name": "stderr",
     "output_type": "stream",
     "text": [
      "\n",
      "\n",
      "  3%|▎         | 100/3710 [57:49<20:54:39, 20.85s/it]\u001b[A\u001b[A"
     ]
    },
    {
     "name": "stdout",
     "output_type": "stream",
     "text": [
      "pipeline: lstm_autoencoder_ablation, signal: ec2_network_in_257a54, test_split: False, detrend: False\n"
     ]
    },
    {
     "name": "stderr",
     "output_type": "stream",
     "text": [
      "\n",
      "\n",
      "  3%|▎         | 101/3710 [58:07<19:56:54, 19.90s/it]\u001b[A\u001b[A"
     ]
    },
    {
     "name": "stdout",
     "output_type": "stream",
     "text": [
      "pipeline: lstm_autoencoder_ablation, signal: elb_request_count_8c0756, test_split: False, detrend: False\n"
     ]
    },
    {
     "name": "stderr",
     "output_type": "stream",
     "text": [
      "\n",
      "\n",
      "  3%|▎         | 102/3710 [58:28<20:13:04, 20.17s/it]\u001b[A\u001b[A"
     ]
    },
    {
     "name": "stdout",
     "output_type": "stream",
     "text": [
      "pipeline: lstm_autoencoder_ablation, signal: grok_asg_anomaly, test_split: False, detrend: False\n"
     ]
    },
    {
     "name": "stderr",
     "output_type": "stream",
     "text": [
      "\n",
      "\n",
      "  3%|▎         | 103/3710 [58:41<17:56:23, 17.91s/it]\u001b[A\u001b[A"
     ]
    },
    {
     "name": "stdout",
     "output_type": "stream",
     "text": [
      "pipeline: lstm_autoencoder_ablation, signal: iio_us-east-1_i-a2eb1cd9_NetworkIn, test_split: False, detrend: False\n"
     ]
    },
    {
     "name": "stderr",
     "output_type": "stream",
     "text": [
      "\n",
      "\n",
      "  3%|▎         | 104/3710 [58:50<15:29:15, 15.46s/it]\u001b[A\u001b[A"
     ]
    },
    {
     "name": "stdout",
     "output_type": "stream",
     "text": [
      "pipeline: lstm_autoencoder_ablation, signal: rds_cpu_utilization_cc0c53, test_split: False, detrend: False\n"
     ]
    },
    {
     "name": "stderr",
     "output_type": "stream",
     "text": [
      "\n",
      "\n",
      "  3%|▎         | 105/3710 [59:08<16:06:10, 16.08s/it]\u001b[A\u001b[A"
     ]
    },
    {
     "name": "stdout",
     "output_type": "stream",
     "text": [
      "pipeline: lstm_autoencoder_ablation, signal: rds_cpu_utilization_e47b3b, test_split: False, detrend: False\n"
     ]
    },
    {
     "name": "stderr",
     "output_type": "stream",
     "text": [
      "\n",
      "\n",
      "  3%|▎         | 106/3710 [59:25<16:24:45, 16.39s/it]\u001b[A\u001b[A"
     ]
    },
    {
     "name": "stdout",
     "output_type": "stream",
     "text": [
      "pipeline: vae_ablation, signal: ec2_cpu_utilization_5f5533, test_split: False, detrend: False\n"
     ]
    },
    {
     "name": "stderr",
     "output_type": "stream",
     "text": [
      "\n",
      "\n",
      "  3%|▎         | 107/3710 [59:48<18:21:33, 18.34s/it]\u001b[A\u001b[A"
     ]
    },
    {
     "name": "stdout",
     "output_type": "stream",
     "text": [
      "pipeline: vae_ablation, signal: ec2_cpu_utilization_24ae8d, test_split: False, detrend: False\n"
     ]
    },
    {
     "name": "stderr",
     "output_type": "stream",
     "text": [
      "\n",
      "\n",
      "  3%|▎         | 108/3710 [1:00:11<19:48:20, 19.79s/it]\u001b[A\u001b[A"
     ]
    },
    {
     "name": "stdout",
     "output_type": "stream",
     "text": [
      "pipeline: vae_ablation, signal: ec2_cpu_utilization_53ea38, test_split: False, detrend: False\n"
     ]
    },
    {
     "name": "stderr",
     "output_type": "stream",
     "text": [
      "\n",
      "\n",
      "  3%|▎         | 109/3710 [1:00:34<20:40:01, 20.66s/it]\u001b[A\u001b[A"
     ]
    },
    {
     "name": "stdout",
     "output_type": "stream",
     "text": [
      "pipeline: vae_ablation, signal: ec2_cpu_utilization_77c1ca, test_split: False, detrend: False\n"
     ]
    },
    {
     "name": "stderr",
     "output_type": "stream",
     "text": [
      "Evaluation exception division by zero (tp 0/ fp 0).\n",
      "Traceback (most recent call last):\n",
      "  File \"/home/dongyu/miniconda/envs/aer-paper/lib/python3.7/site-packages/orion/evaluation/common.py\", line 43, in _precision\n",
      "    return tp / (tp + fp)\n",
      "ZeroDivisionError: division by zero\n",
      "Evaluation exception division by zero (tp 0/ fp 0).\n",
      "Traceback (most recent call last):\n",
      "  File \"/home/dongyu/miniconda/envs/aer-paper/lib/python3.7/site-packages/orion/evaluation/common.py\", line 43, in _precision\n",
      "    return tp / (tp + fp)\n",
      "ZeroDivisionError: division by zero\n",
      "\n",
      "\n",
      "  3%|▎         | 110/3710 [1:00:57<21:22:01, 21.37s/it]\u001b[A\u001b[A"
     ]
    },
    {
     "name": "stdout",
     "output_type": "stream",
     "text": [
      "pipeline: vae_ablation, signal: ec2_cpu_utilization_825cc2, test_split: False, detrend: False\n"
     ]
    },
    {
     "name": "stderr",
     "output_type": "stream",
     "text": [
      "\n",
      "\n",
      "  3%|▎         | 111/3710 [1:01:19<21:46:35, 21.78s/it]\u001b[A\u001b[A"
     ]
    },
    {
     "name": "stdout",
     "output_type": "stream",
     "text": [
      "pipeline: vae_ablation, signal: ec2_cpu_utilization_ac20cd, test_split: False, detrend: False\n"
     ]
    },
    {
     "name": "stderr",
     "output_type": "stream",
     "text": [
      "\n",
      "\n",
      "  3%|▎         | 112/3710 [1:01:32<18:55:23, 18.93s/it]\u001b[A\u001b[A"
     ]
    },
    {
     "name": "stdout",
     "output_type": "stream",
     "text": [
      "pipeline: vae_ablation, signal: ec2_cpu_utilization_c6585a, test_split: False, detrend: False\n"
     ]
    },
    {
     "name": "stderr",
     "output_type": "stream",
     "text": [
      "Evaluation exception division by zero (tp 0/ fp 0).\n",
      "Traceback (most recent call last):\n",
      "  File \"/home/dongyu/miniconda/envs/aer-paper/lib/python3.7/site-packages/orion/evaluation/common.py\", line 43, in _precision\n",
      "    return tp / (tp + fp)\n",
      "ZeroDivisionError: division by zero\n",
      "Evaluation exception division by zero (tp 0/ fn 0).\n",
      "Traceback (most recent call last):\n",
      "  File \"/home/dongyu/miniconda/envs/aer-paper/lib/python3.7/site-packages/orion/evaluation/common.py\", line 56, in _recall\n",
      "    return tp / (tp + fn)\n",
      "ZeroDivisionError: division by zero\n",
      "Evaluation exception division by zero (tp 0/ fn 0).\n",
      "Traceback (most recent call last):\n",
      "  File \"/home/dongyu/miniconda/envs/aer-paper/lib/python3.7/site-packages/orion/evaluation/common.py\", line 56, in _recall\n",
      "    return tp / (tp + fn)\n",
      "ZeroDivisionError: division by zero\n",
      "Evaluation exception division by zero (tp 0/ fp 0).\n",
      "Traceback (most recent call last):\n",
      "  File \"/home/dongyu/miniconda/envs/aer-paper/lib/python3.7/site-packages/orion/evaluation/common.py\", line 43, in _precision\n",
      "    return tp / (tp + fp)\n",
      "ZeroDivisionError: division by zero\n",
      "\n",
      "\n",
      "  3%|▎         | 113/3710 [1:01:54<20:03:49, 20.08s/it]\u001b[A\u001b[A"
     ]
    },
    {
     "name": "stdout",
     "output_type": "stream",
     "text": [
      "pipeline: vae_ablation, signal: ec2_cpu_utilization_fe7f93, test_split: False, detrend: False\n"
     ]
    },
    {
     "name": "stderr",
     "output_type": "stream",
     "text": [
      "\n",
      "\n",
      "  3%|▎         | 114/3710 [1:02:18<20:57:30, 20.98s/it]\u001b[A\u001b[A"
     ]
    },
    {
     "name": "stdout",
     "output_type": "stream",
     "text": [
      "pipeline: vae_ablation, signal: ec2_disk_write_bytes_1ef3de, test_split: False, detrend: False\n"
     ]
    },
    {
     "name": "stderr",
     "output_type": "stream",
     "text": [
      "\n",
      "\n",
      "  3%|▎         | 115/3710 [1:02:45<22:48:23, 22.84s/it]\u001b[A\u001b[A"
     ]
    },
    {
     "name": "stdout",
     "output_type": "stream",
     "text": [
      "pipeline: vae_ablation, signal: ec2_disk_write_bytes_c0d644, test_split: False, detrend: False\n"
     ]
    },
    {
     "name": "stderr",
     "output_type": "stream",
     "text": [
      "\n",
      "\n",
      "  3%|▎         | 116/3710 [1:03:08<22:58:28, 23.01s/it]\u001b[A\u001b[A"
     ]
    },
    {
     "name": "stdout",
     "output_type": "stream",
     "text": [
      "pipeline: vae_ablation, signal: ec2_network_in_5abac7, test_split: False, detrend: False\n"
     ]
    },
    {
     "name": "stderr",
     "output_type": "stream",
     "text": [
      "\n",
      "\n",
      "  3%|▎         | 117/3710 [1:03:35<24:09:58, 24.21s/it]\u001b[A\u001b[A"
     ]
    },
    {
     "name": "stdout",
     "output_type": "stream",
     "text": [
      "pipeline: vae_ablation, signal: ec2_network_in_257a54, test_split: False, detrend: False\n"
     ]
    },
    {
     "name": "stderr",
     "output_type": "stream",
     "text": [
      "\n",
      "\n",
      "  3%|▎         | 118/3710 [1:03:58<23:49:39, 23.88s/it]\u001b[A\u001b[A"
     ]
    },
    {
     "name": "stdout",
     "output_type": "stream",
     "text": [
      "pipeline: vae_ablation, signal: elb_request_count_8c0756, test_split: False, detrend: False\n"
     ]
    },
    {
     "name": "stderr",
     "output_type": "stream",
     "text": [
      "\n",
      "\n",
      "  3%|▎         | 119/3710 [1:04:20<23:09:34, 23.22s/it]\u001b[A\u001b[A"
     ]
    },
    {
     "name": "stdout",
     "output_type": "stream",
     "text": [
      "pipeline: vae_ablation, signal: grok_asg_anomaly, test_split: False, detrend: False\n"
     ]
    },
    {
     "name": "stderr",
     "output_type": "stream",
     "text": [
      "\n",
      "\n",
      "  3%|▎         | 120/3710 [1:04:33<20:12:58, 20.27s/it]\u001b[A\u001b[A"
     ]
    },
    {
     "name": "stdout",
     "output_type": "stream",
     "text": [
      "pipeline: vae_ablation, signal: iio_us-east-1_i-a2eb1cd9_NetworkIn, test_split: False, detrend: False\n"
     ]
    },
    {
     "name": "stderr",
     "output_type": "stream",
     "text": [
      "\n",
      "\n",
      "  3%|▎         | 121/3710 [1:04:44<17:18:15, 17.36s/it]\u001b[A\u001b[A"
     ]
    },
    {
     "name": "stdout",
     "output_type": "stream",
     "text": [
      "pipeline: vae_ablation, signal: rds_cpu_utilization_cc0c53, test_split: False, detrend: False\n"
     ]
    },
    {
     "name": "stderr",
     "output_type": "stream",
     "text": [
      "\n",
      "\n",
      "  3%|▎         | 122/3710 [1:04:56<15:40:25, 15.73s/it]\u001b[A\u001b[A"
     ]
    },
    {
     "name": "stdout",
     "output_type": "stream",
     "text": [
      "pipeline: vae_ablation, signal: rds_cpu_utilization_e47b3b, test_split: False, detrend: False\n"
     ]
    },
    {
     "name": "stderr",
     "output_type": "stream",
     "text": [
      "\n",
      "\n",
      "  3%|▎         | 123/3710 [1:05:19<17:46:09, 17.83s/it]\u001b[A\u001b[A"
     ]
    },
    {
     "name": "stdout",
     "output_type": "stream",
     "text": [
      "pipeline: tadgan_ablation, signal: ec2_cpu_utilization_5f5533, test_split: False, detrend: False\n"
     ]
    },
    {
     "name": "stderr",
     "output_type": "stream",
     "text": [
      "\n",
      "\n",
      "  3%|▎         | 124/3710 [1:07:05<44:21:46, 44.54s/it]\u001b[A\u001b[A"
     ]
    },
    {
     "name": "stdout",
     "output_type": "stream",
     "text": [
      "pipeline: tadgan_ablation, signal: ec2_cpu_utilization_24ae8d, test_split: False, detrend: False\n"
     ]
    },
    {
     "name": "stderr",
     "output_type": "stream",
     "text": [
      "\n",
      "\n",
      "  3%|▎         | 125/3710 [1:08:54<63:32:07, 63.80s/it]\u001b[A\u001b[A"
     ]
    },
    {
     "name": "stdout",
     "output_type": "stream",
     "text": [
      "pipeline: tadgan_ablation, signal: ec2_cpu_utilization_53ea38, test_split: False, detrend: False\n"
     ]
    },
    {
     "name": "stderr",
     "output_type": "stream",
     "text": [
      "\n",
      "\n",
      "  3%|▎         | 126/3710 [1:10:42<76:32:00, 76.88s/it]\u001b[A\u001b[A"
     ]
    },
    {
     "name": "stdout",
     "output_type": "stream",
     "text": [
      "pipeline: tadgan_ablation, signal: ec2_cpu_utilization_77c1ca, test_split: False, detrend: False\n"
     ]
    },
    {
     "name": "stderr",
     "output_type": "stream",
     "text": [
      "\n",
      "\n",
      "  3%|▎         | 127/3710 [1:12:31<86:09:23, 86.57s/it]\u001b[A\u001b[A"
     ]
    },
    {
     "name": "stdout",
     "output_type": "stream",
     "text": [
      "pipeline: tadgan_ablation, signal: ec2_cpu_utilization_825cc2, test_split: False, detrend: False\n"
     ]
    },
    {
     "name": "stderr",
     "output_type": "stream",
     "text": [
      "\n",
      "\n",
      "  3%|▎         | 128/3710 [1:14:19<92:42:09, 93.17s/it]\u001b[A\u001b[A"
     ]
    },
    {
     "name": "stdout",
     "output_type": "stream",
     "text": [
      "pipeline: tadgan_ablation, signal: ec2_cpu_utilization_ac20cd, test_split: False, detrend: False\n"
     ]
    },
    {
     "name": "stderr",
     "output_type": "stream",
     "text": [
      "\n",
      "\n",
      "  3%|▎         | 129/3710 [1:16:07<97:04:14, 97.59s/it]\u001b[A\u001b[A"
     ]
    },
    {
     "name": "stdout",
     "output_type": "stream",
     "text": [
      "pipeline: tadgan_ablation, signal: ec2_cpu_utilization_c6585a, test_split: False, detrend: False\n"
     ]
    },
    {
     "name": "stderr",
     "output_type": "stream",
     "text": [
      "Evaluation exception division by zero (tp 0/ fp 0).\n",
      "Traceback (most recent call last):\n",
      "  File \"/home/dongyu/miniconda/envs/aer-paper/lib/python3.7/site-packages/orion/evaluation/common.py\", line 43, in _precision\n",
      "    return tp / (tp + fp)\n",
      "ZeroDivisionError: division by zero\n",
      "Evaluation exception division by zero (tp 0/ fn 0).\n",
      "Traceback (most recent call last):\n",
      "  File \"/home/dongyu/miniconda/envs/aer-paper/lib/python3.7/site-packages/orion/evaluation/common.py\", line 56, in _recall\n",
      "    return tp / (tp + fn)\n",
      "ZeroDivisionError: division by zero\n",
      "Evaluation exception division by zero (tp 0/ fn 0).\n",
      "Traceback (most recent call last):\n",
      "  File \"/home/dongyu/miniconda/envs/aer-paper/lib/python3.7/site-packages/orion/evaluation/common.py\", line 56, in _recall\n",
      "    return tp / (tp + fn)\n",
      "ZeroDivisionError: division by zero\n",
      "Evaluation exception division by zero (tp 0/ fp 0).\n",
      "Traceback (most recent call last):\n",
      "  File \"/home/dongyu/miniconda/envs/aer-paper/lib/python3.7/site-packages/orion/evaluation/common.py\", line 43, in _precision\n",
      "    return tp / (tp + fp)\n",
      "ZeroDivisionError: division by zero\n",
      "\n",
      "\n",
      "  4%|▎         | 130/3710 [1:17:56<100:18:45, 100.87s/it]\u001b[A\u001b[A"
     ]
    },
    {
     "name": "stdout",
     "output_type": "stream",
     "text": [
      "pipeline: tadgan_ablation, signal: ec2_cpu_utilization_fe7f93, test_split: False, detrend: False\n"
     ]
    },
    {
     "name": "stderr",
     "output_type": "stream",
     "text": [
      "\n",
      "\n",
      "  4%|▎         | 131/3710 [1:19:45<102:45:04, 103.35s/it]\u001b[A\u001b[A"
     ]
    },
    {
     "name": "stdout",
     "output_type": "stream",
     "text": [
      "pipeline: tadgan_ablation, signal: ec2_disk_write_bytes_1ef3de, test_split: False, detrend: False\n"
     ]
    },
    {
     "name": "stderr",
     "output_type": "stream",
     "text": [
      "\n",
      "\n",
      "  4%|▎         | 132/3710 [1:22:08<114:35:46, 115.30s/it]\u001b[A\u001b[A"
     ]
    },
    {
     "name": "stdout",
     "output_type": "stream",
     "text": [
      "pipeline: tadgan_ablation, signal: ec2_disk_write_bytes_c0d644, test_split: False, detrend: False\n"
     ]
    },
    {
     "name": "stderr",
     "output_type": "stream",
     "text": [
      "\n",
      "\n",
      "  4%|▎         | 133/3710 [1:23:58<112:49:26, 113.55s/it]\u001b[A\u001b[A"
     ]
    },
    {
     "name": "stdout",
     "output_type": "stream",
     "text": [
      "pipeline: tadgan_ablation, signal: ec2_network_in_5abac7, test_split: False, detrend: False\n"
     ]
    },
    {
     "name": "stderr",
     "output_type": "stream",
     "text": [
      "\n",
      "\n",
      "  4%|▎         | 134/3710 [1:26:21<121:35:23, 122.41s/it]\u001b[A\u001b[A"
     ]
    },
    {
     "name": "stdout",
     "output_type": "stream",
     "text": [
      "pipeline: tadgan_ablation, signal: ec2_network_in_257a54, test_split: False, detrend: False\n"
     ]
    },
    {
     "name": "stderr",
     "output_type": "stream",
     "text": [
      "\n",
      "\n",
      "  4%|▎         | 135/3710 [1:28:09<117:16:38, 118.10s/it]\u001b[A\u001b[A"
     ]
    },
    {
     "name": "stdout",
     "output_type": "stream",
     "text": [
      "pipeline: tadgan_ablation, signal: elb_request_count_8c0756, test_split: False, detrend: False\n"
     ]
    },
    {
     "name": "stderr",
     "output_type": "stream",
     "text": [
      "\n",
      "\n",
      "  4%|▎         | 136/3710 [1:30:14<119:24:44, 120.28s/it]\u001b[A\u001b[A"
     ]
    },
    {
     "name": "stdout",
     "output_type": "stream",
     "text": [
      "pipeline: tadgan_ablation, signal: grok_asg_anomaly, test_split: False, detrend: False\n"
     ]
    },
    {
     "name": "stderr",
     "output_type": "stream",
     "text": [
      "\n",
      "\n",
      "  4%|▎         | 137/3710 [1:32:20<121:04:16, 121.99s/it]\u001b[A\u001b[A"
     ]
    },
    {
     "name": "stdout",
     "output_type": "stream",
     "text": [
      "pipeline: tadgan_ablation, signal: iio_us-east-1_i-a2eb1cd9_NetworkIn, test_split: False, detrend: False\n"
     ]
    },
    {
     "name": "stderr",
     "output_type": "stream",
     "text": [
      "\n",
      "\n",
      "  4%|▎         | 138/3710 [1:32:58<95:55:57, 96.68s/it]  \u001b[A\u001b[A"
     ]
    },
    {
     "name": "stdout",
     "output_type": "stream",
     "text": [
      "pipeline: tadgan_ablation, signal: rds_cpu_utilization_cc0c53, test_split: False, detrend: False\n"
     ]
    },
    {
     "name": "stderr",
     "output_type": "stream",
     "text": [
      "\n",
      "\n",
      "  4%|▎         | 139/3710 [1:34:46<99:26:07, 100.24s/it]\u001b[A\u001b[A"
     ]
    },
    {
     "name": "stdout",
     "output_type": "stream",
     "text": [
      "pipeline: tadgan_ablation, signal: rds_cpu_utilization_e47b3b, test_split: False, detrend: False\n"
     ]
    },
    {
     "name": "stderr",
     "output_type": "stream",
     "text": [
      "\n",
      "\n",
      "  4%|▍         | 140/3710 [1:36:35<101:58:40, 102.83s/it]\u001b[A\u001b[A"
     ]
    },
    {
     "name": "stdout",
     "output_type": "stream",
     "text": [
      "pipeline: arima_ablation, signal: occupancy_6005, test_split: False, detrend: False\n"
     ]
    },
    {
     "name": "stderr",
     "output_type": "stream",
     "text": [
      "Exception caught producing MLBlock statsmodels.tsa.arima_model.Arima#1\n",
      "Traceback (most recent call last):\n",
      "  File \"/home/dongyu/miniconda/envs/aer-paper/lib/python3.7/site-packages/mlblocks/mlpipeline.py\", line 679, in _produce_block\n",
      "    block_outputs = block.produce(**produce_args)\n",
      "  File \"/home/dongyu/miniconda/envs/aer-paper/lib/python3.7/site-packages/mlblocks/mlblock.py\", line 331, in produce\n",
      "    return getattr(self.instance, self.produce_method)(**produce_kwargs)\n",
      "  File \"/home/dongyu/miniconda/envs/aer-paper/lib/python3.7/site-packages/mlprimitives/adapters/statsmodels.py\", line 49, in predict\n",
      "    arima_fit = arima.fit(disp=0)\n",
      "  File \"/home/dongyu/miniconda/envs/aer-paper/lib/python3.7/site-packages/statsmodels/tsa/arima_model.py\", line 1017, in fit\n",
      "    start_ar_lags)\n",
      "  File \"/home/dongyu/miniconda/envs/aer-paper/lib/python3.7/site-packages/statsmodels/tsa/arima_model.py\", line 608, in _fit_start_params\n",
      "    start_params = self._fit_start_params_hr(order, start_ar_lags)\n",
      "  File \"/home/dongyu/miniconda/envs/aer-paper/lib/python3.7/site-packages/statsmodels/tsa/arima_model.py\", line 580, in _fit_start_params_hr\n",
      "    arcoefs = yule_walker(endog, order=p)[0]\n",
      "  File \"/home/dongyu/miniconda/envs/aer-paper/lib/python3.7/site-packages/statsmodels/regression/linear_model.py\", line 1429, in yule_walker\n",
      "    rho = np.linalg.solve(R, r[1:])\n",
      "  File \"<__array_function__ internals>\", line 6, in solve\n",
      "  File \"/home/dongyu/miniconda/envs/aer-paper/lib/python3.7/site-packages/numpy/linalg/linalg.py\", line 399, in solve\n",
      "    r = gufunc(a, b, signature=signature, extobj=extobj)\n",
      "  File \"/home/dongyu/miniconda/envs/aer-paper/lib/python3.7/site-packages/numpy/linalg/linalg.py\", line 97, in _raise_linalgerror_singular\n",
      "    raise LinAlgError(\"Singular matrix\")\n",
      "numpy.linalg.LinAlgError: Singular matrix\n",
      "Exception scoring pipeline <mlblocks.mlpipeline.MLPipeline object at 0x7f3335e4e490> on signal occupancy_6005 (test split: False), error Singular matrix.\n",
      "Traceback (most recent call last):\n",
      "  File \"/home/dongyu/apps/aer-paper/aer/benchmark.py\", line 162, in _evaluate_signal\n",
      "    anomalies = analyze(pipeline, train, test, save_output=save_output)\n",
      "  File \"/home/dongyu/miniconda/envs/aer-paper/lib/python3.7/site-packages/orion/analysis.py\", line 73, in analyze\n",
      "    events = _run_pipeline(pipeline, train, test, labels, save_output)\n",
      "  File \"/home/dongyu/miniconda/envs/aer-paper/lib/python3.7/site-packages/orion/analysis.py\", line 45, in _run_pipeline\n",
      "    output_=['default', 'model_info'])\n",
      "  File \"/home/dongyu/miniconda/envs/aer-paper/lib/python3.7/site-packages/mlblocks/mlpipeline.py\", line 913, in predict\n",
      "    self._produce_block(block, block_name, context, output_variables, outputs, debug_info)\n",
      "  File \"/home/dongyu/miniconda/envs/aer-paper/lib/python3.7/site-packages/mlblocks/mlpipeline.py\", line 679, in _produce_block\n",
      "    block_outputs = block.produce(**produce_args)\n",
      "  File \"/home/dongyu/miniconda/envs/aer-paper/lib/python3.7/site-packages/mlblocks/mlblock.py\", line 331, in produce\n",
      "    return getattr(self.instance, self.produce_method)(**produce_kwargs)\n",
      "  File \"/home/dongyu/miniconda/envs/aer-paper/lib/python3.7/site-packages/mlprimitives/adapters/statsmodels.py\", line 49, in predict\n",
      "    arima_fit = arima.fit(disp=0)\n",
      "  File \"/home/dongyu/miniconda/envs/aer-paper/lib/python3.7/site-packages/statsmodels/tsa/arima_model.py\", line 1017, in fit\n",
      "    start_ar_lags)\n",
      "  File \"/home/dongyu/miniconda/envs/aer-paper/lib/python3.7/site-packages/statsmodels/tsa/arima_model.py\", line 608, in _fit_start_params\n",
      "    start_params = self._fit_start_params_hr(order, start_ar_lags)\n",
      "  File \"/home/dongyu/miniconda/envs/aer-paper/lib/python3.7/site-packages/statsmodels/tsa/arima_model.py\", line 580, in _fit_start_params_hr\n",
      "    arcoefs = yule_walker(endog, order=p)[0]\n",
      "  File \"/home/dongyu/miniconda/envs/aer-paper/lib/python3.7/site-packages/statsmodels/regression/linear_model.py\", line 1429, in yule_walker\n",
      "    rho = np.linalg.solve(R, r[1:])\n",
      "  File \"<__array_function__ internals>\", line 6, in solve\n",
      "  File \"/home/dongyu/miniconda/envs/aer-paper/lib/python3.7/site-packages/numpy/linalg/linalg.py\", line 399, in solve\n",
      "    r = gufunc(a, b, signature=signature, extobj=extobj)\n",
      "  File \"/home/dongyu/miniconda/envs/aer-paper/lib/python3.7/site-packages/numpy/linalg/linalg.py\", line 97, in _raise_linalgerror_singular\n",
      "    raise LinAlgError(\"Singular matrix\")\n",
      "numpy.linalg.LinAlgError: Singular matrix\n",
      "\n",
      "\n",
      "  4%|▍         | 141/3710 [1:36:46<74:38:57, 75.30s/it]  \u001b[A\u001b[A"
     ]
    },
    {
     "name": "stdout",
     "output_type": "stream",
     "text": [
      "pipeline: arima_ablation, signal: occupancy_t4013, test_split: False, detrend: False\n"
     ]
    },
    {
     "name": "stderr",
     "output_type": "stream",
     "text": [
      "/home/dongyu/miniconda/envs/aer-paper/lib/python3.7/site-packages/statsmodels/base/model.py:568: ConvergenceWarning: Maximum Likelihood optimization failed to converge. Check mle_retvals\n",
      "  ConvergenceWarning)\n",
      "/home/dongyu/miniconda/envs/aer-paper/lib/python3.7/site-packages/statsmodels/base/model.py:568: ConvergenceWarning: Maximum Likelihood optimization failed to converge. Check mle_retvals\n",
      "  ConvergenceWarning)\n",
      "Exception caught producing MLBlock statsmodels.tsa.arima_model.Arima#1\n",
      "Traceback (most recent call last):\n",
      "  File \"/home/dongyu/miniconda/envs/aer-paper/lib/python3.7/site-packages/mlblocks/mlpipeline.py\", line 679, in _produce_block\n",
      "    block_outputs = block.produce(**produce_args)\n",
      "  File \"/home/dongyu/miniconda/envs/aer-paper/lib/python3.7/site-packages/mlblocks/mlblock.py\", line 331, in produce\n",
      "    return getattr(self.instance, self.produce_method)(**produce_kwargs)\n",
      "  File \"/home/dongyu/miniconda/envs/aer-paper/lib/python3.7/site-packages/mlprimitives/adapters/statsmodels.py\", line 49, in predict\n",
      "    arima_fit = arima.fit(disp=0)\n",
      "  File \"/home/dongyu/miniconda/envs/aer-paper/lib/python3.7/site-packages/statsmodels/tsa/arima_model.py\", line 1017, in fit\n",
      "    start_ar_lags)\n",
      "  File \"/home/dongyu/miniconda/envs/aer-paper/lib/python3.7/site-packages/statsmodels/tsa/arima_model.py\", line 608, in _fit_start_params\n",
      "    start_params = self._fit_start_params_hr(order, start_ar_lags)\n",
      "  File \"/home/dongyu/miniconda/envs/aer-paper/lib/python3.7/site-packages/statsmodels/tsa/arima_model.py\", line 580, in _fit_start_params_hr\n",
      "    arcoefs = yule_walker(endog, order=p)[0]\n",
      "  File \"/home/dongyu/miniconda/envs/aer-paper/lib/python3.7/site-packages/statsmodels/regression/linear_model.py\", line 1429, in yule_walker\n",
      "    rho = np.linalg.solve(R, r[1:])\n",
      "  File \"<__array_function__ internals>\", line 6, in solve\n",
      "  File \"/home/dongyu/miniconda/envs/aer-paper/lib/python3.7/site-packages/numpy/linalg/linalg.py\", line 399, in solve\n",
      "    r = gufunc(a, b, signature=signature, extobj=extobj)\n",
      "  File \"/home/dongyu/miniconda/envs/aer-paper/lib/python3.7/site-packages/numpy/linalg/linalg.py\", line 97, in _raise_linalgerror_singular\n",
      "    raise LinAlgError(\"Singular matrix\")\n",
      "numpy.linalg.LinAlgError: Singular matrix\n",
      "Exception scoring pipeline <mlblocks.mlpipeline.MLPipeline object at 0x7f330a1c5f50> on signal occupancy_t4013 (test split: False), error Singular matrix.\n",
      "Traceback (most recent call last):\n",
      "  File \"/home/dongyu/apps/aer-paper/aer/benchmark.py\", line 162, in _evaluate_signal\n",
      "    anomalies = analyze(pipeline, train, test, save_output=save_output)\n",
      "  File \"/home/dongyu/miniconda/envs/aer-paper/lib/python3.7/site-packages/orion/analysis.py\", line 73, in analyze\n",
      "    events = _run_pipeline(pipeline, train, test, labels, save_output)\n",
      "  File \"/home/dongyu/miniconda/envs/aer-paper/lib/python3.7/site-packages/orion/analysis.py\", line 45, in _run_pipeline\n",
      "    output_=['default', 'model_info'])\n",
      "  File \"/home/dongyu/miniconda/envs/aer-paper/lib/python3.7/site-packages/mlblocks/mlpipeline.py\", line 913, in predict\n",
      "    self._produce_block(block, block_name, context, output_variables, outputs, debug_info)\n",
      "  File \"/home/dongyu/miniconda/envs/aer-paper/lib/python3.7/site-packages/mlblocks/mlpipeline.py\", line 679, in _produce_block\n",
      "    block_outputs = block.produce(**produce_args)\n",
      "  File \"/home/dongyu/miniconda/envs/aer-paper/lib/python3.7/site-packages/mlblocks/mlblock.py\", line 331, in produce\n",
      "    return getattr(self.instance, self.produce_method)(**produce_kwargs)\n",
      "  File \"/home/dongyu/miniconda/envs/aer-paper/lib/python3.7/site-packages/mlprimitives/adapters/statsmodels.py\", line 49, in predict\n",
      "    arima_fit = arima.fit(disp=0)\n",
      "  File \"/home/dongyu/miniconda/envs/aer-paper/lib/python3.7/site-packages/statsmodels/tsa/arima_model.py\", line 1017, in fit\n",
      "    start_ar_lags)\n",
      "  File \"/home/dongyu/miniconda/envs/aer-paper/lib/python3.7/site-packages/statsmodels/tsa/arima_model.py\", line 608, in _fit_start_params\n",
      "    start_params = self._fit_start_params_hr(order, start_ar_lags)\n",
      "  File \"/home/dongyu/miniconda/envs/aer-paper/lib/python3.7/site-packages/statsmodels/tsa/arima_model.py\", line 580, in _fit_start_params_hr\n",
      "    arcoefs = yule_walker(endog, order=p)[0]\n",
      "  File \"/home/dongyu/miniconda/envs/aer-paper/lib/python3.7/site-packages/statsmodels/regression/linear_model.py\", line 1429, in yule_walker\n",
      "    rho = np.linalg.solve(R, r[1:])\n",
      "  File \"<__array_function__ internals>\", line 6, in solve\n",
      "  File \"/home/dongyu/miniconda/envs/aer-paper/lib/python3.7/site-packages/numpy/linalg/linalg.py\", line 399, in solve\n",
      "    r = gufunc(a, b, signature=signature, extobj=extobj)\n",
      "  File \"/home/dongyu/miniconda/envs/aer-paper/lib/python3.7/site-packages/numpy/linalg/linalg.py\", line 97, in _raise_linalgerror_singular\n",
      "    raise LinAlgError(\"Singular matrix\")\n",
      "numpy.linalg.LinAlgError: Singular matrix\n",
      "\n",
      "\n",
      "  4%|▍         | 142/3710 [1:36:58<55:37:41, 56.13s/it]\u001b[A\u001b[A"
     ]
    },
    {
     "name": "stdout",
     "output_type": "stream",
     "text": [
      "pipeline: arima_ablation, signal: speed_6005, test_split: False, detrend: False\n"
     ]
    },
    {
     "name": "stderr",
     "output_type": "stream",
     "text": [
      "Exception caught producing MLBlock statsmodels.tsa.arima_model.Arima#1\n",
      "Traceback (most recent call last):\n",
      "  File \"/home/dongyu/miniconda/envs/aer-paper/lib/python3.7/site-packages/mlblocks/mlpipeline.py\", line 679, in _produce_block\n",
      "    block_outputs = block.produce(**produce_args)\n",
      "  File \"/home/dongyu/miniconda/envs/aer-paper/lib/python3.7/site-packages/mlblocks/mlblock.py\", line 331, in produce\n",
      "    return getattr(self.instance, self.produce_method)(**produce_kwargs)\n",
      "  File \"/home/dongyu/miniconda/envs/aer-paper/lib/python3.7/site-packages/mlprimitives/adapters/statsmodels.py\", line 49, in predict\n",
      "    arima_fit = arima.fit(disp=0)\n",
      "  File \"/home/dongyu/miniconda/envs/aer-paper/lib/python3.7/site-packages/statsmodels/tsa/arima_model.py\", line 1017, in fit\n",
      "    start_ar_lags)\n",
      "  File \"/home/dongyu/miniconda/envs/aer-paper/lib/python3.7/site-packages/statsmodels/tsa/arima_model.py\", line 608, in _fit_start_params\n",
      "    start_params = self._fit_start_params_hr(order, start_ar_lags)\n",
      "  File \"/home/dongyu/miniconda/envs/aer-paper/lib/python3.7/site-packages/statsmodels/tsa/arima_model.py\", line 580, in _fit_start_params_hr\n",
      "    arcoefs = yule_walker(endog, order=p)[0]\n",
      "  File \"/home/dongyu/miniconda/envs/aer-paper/lib/python3.7/site-packages/statsmodels/regression/linear_model.py\", line 1429, in yule_walker\n",
      "    rho = np.linalg.solve(R, r[1:])\n",
      "  File \"<__array_function__ internals>\", line 6, in solve\n",
      "  File \"/home/dongyu/miniconda/envs/aer-paper/lib/python3.7/site-packages/numpy/linalg/linalg.py\", line 399, in solve\n",
      "    r = gufunc(a, b, signature=signature, extobj=extobj)\n",
      "  File \"/home/dongyu/miniconda/envs/aer-paper/lib/python3.7/site-packages/numpy/linalg/linalg.py\", line 97, in _raise_linalgerror_singular\n",
      "    raise LinAlgError(\"Singular matrix\")\n",
      "numpy.linalg.LinAlgError: Singular matrix\n",
      "Exception scoring pipeline <mlblocks.mlpipeline.MLPipeline object at 0x7f327c2d2910> on signal speed_6005 (test split: False), error Singular matrix.\n",
      "Traceback (most recent call last):\n",
      "  File \"/home/dongyu/apps/aer-paper/aer/benchmark.py\", line 162, in _evaluate_signal\n",
      "    anomalies = analyze(pipeline, train, test, save_output=save_output)\n",
      "  File \"/home/dongyu/miniconda/envs/aer-paper/lib/python3.7/site-packages/orion/analysis.py\", line 73, in analyze\n",
      "    events = _run_pipeline(pipeline, train, test, labels, save_output)\n",
      "  File \"/home/dongyu/miniconda/envs/aer-paper/lib/python3.7/site-packages/orion/analysis.py\", line 45, in _run_pipeline\n",
      "    output_=['default', 'model_info'])\n",
      "  File \"/home/dongyu/miniconda/envs/aer-paper/lib/python3.7/site-packages/mlblocks/mlpipeline.py\", line 913, in predict\n",
      "    self._produce_block(block, block_name, context, output_variables, outputs, debug_info)\n",
      "  File \"/home/dongyu/miniconda/envs/aer-paper/lib/python3.7/site-packages/mlblocks/mlpipeline.py\", line 679, in _produce_block\n",
      "    block_outputs = block.produce(**produce_args)\n",
      "  File \"/home/dongyu/miniconda/envs/aer-paper/lib/python3.7/site-packages/mlblocks/mlblock.py\", line 331, in produce\n",
      "    return getattr(self.instance, self.produce_method)(**produce_kwargs)\n",
      "  File \"/home/dongyu/miniconda/envs/aer-paper/lib/python3.7/site-packages/mlprimitives/adapters/statsmodels.py\", line 49, in predict\n",
      "    arima_fit = arima.fit(disp=0)\n",
      "  File \"/home/dongyu/miniconda/envs/aer-paper/lib/python3.7/site-packages/statsmodels/tsa/arima_model.py\", line 1017, in fit\n",
      "    start_ar_lags)\n",
      "  File \"/home/dongyu/miniconda/envs/aer-paper/lib/python3.7/site-packages/statsmodels/tsa/arima_model.py\", line 608, in _fit_start_params\n",
      "    start_params = self._fit_start_params_hr(order, start_ar_lags)\n",
      "  File \"/home/dongyu/miniconda/envs/aer-paper/lib/python3.7/site-packages/statsmodels/tsa/arima_model.py\", line 580, in _fit_start_params_hr\n",
      "    arcoefs = yule_walker(endog, order=p)[0]\n",
      "  File \"/home/dongyu/miniconda/envs/aer-paper/lib/python3.7/site-packages/statsmodels/regression/linear_model.py\", line 1429, in yule_walker\n",
      "    rho = np.linalg.solve(R, r[1:])\n",
      "  File \"<__array_function__ internals>\", line 6, in solve\n",
      "  File \"/home/dongyu/miniconda/envs/aer-paper/lib/python3.7/site-packages/numpy/linalg/linalg.py\", line 399, in solve\n",
      "    r = gufunc(a, b, signature=signature, extobj=extobj)\n",
      "  File \"/home/dongyu/miniconda/envs/aer-paper/lib/python3.7/site-packages/numpy/linalg/linalg.py\", line 97, in _raise_linalgerror_singular\n",
      "    raise LinAlgError(\"Singular matrix\")\n",
      "numpy.linalg.LinAlgError: Singular matrix\n",
      "\n",
      "\n",
      "  4%|▍         | 143/3710 [1:37:11<42:47:32, 43.19s/it]\u001b[A\u001b[A"
     ]
    },
    {
     "name": "stdout",
     "output_type": "stream",
     "text": [
      "pipeline: arima_ablation, signal: speed_7578, test_split: False, detrend: False\n"
     ]
    },
    {
     "name": "stderr",
     "output_type": "stream",
     "text": [
      "/home/dongyu/miniconda/envs/aer-paper/lib/python3.7/site-packages/statsmodels/base/model.py:568: ConvergenceWarning: Maximum Likelihood optimization failed to converge. Check mle_retvals\n",
      "  ConvergenceWarning)\n",
      "/home/dongyu/miniconda/envs/aer-paper/lib/python3.7/site-packages/statsmodels/base/model.py:568: ConvergenceWarning: Maximum Likelihood optimization failed to converge. Check mle_retvals\n",
      "  ConvergenceWarning)\n",
      "\n",
      "\n",
      "  4%|▍         | 144/3710 [1:37:32<36:21:12, 36.70s/it]\u001b[A\u001b[A"
     ]
    },
    {
     "name": "stdout",
     "output_type": "stream",
     "text": [
      "pipeline: arima_ablation, signal: speed_t4013, test_split: False, detrend: False\n"
     ]
    },
    {
     "name": "stderr",
     "output_type": "stream",
     "text": [
      "/home/dongyu/miniconda/envs/aer-paper/lib/python3.7/site-packages/statsmodels/base/model.py:568: ConvergenceWarning: Maximum Likelihood optimization failed to converge. Check mle_retvals\n",
      "  ConvergenceWarning)\n",
      "Exception caught producing MLBlock statsmodels.tsa.arima_model.Arima#1\n",
      "Traceback (most recent call last):\n",
      "  File \"/home/dongyu/miniconda/envs/aer-paper/lib/python3.7/site-packages/mlblocks/mlpipeline.py\", line 679, in _produce_block\n",
      "    block_outputs = block.produce(**produce_args)\n",
      "  File \"/home/dongyu/miniconda/envs/aer-paper/lib/python3.7/site-packages/mlblocks/mlblock.py\", line 331, in produce\n",
      "    return getattr(self.instance, self.produce_method)(**produce_kwargs)\n",
      "  File \"/home/dongyu/miniconda/envs/aer-paper/lib/python3.7/site-packages/mlprimitives/adapters/statsmodels.py\", line 49, in predict\n",
      "    arima_fit = arima.fit(disp=0)\n",
      "  File \"/home/dongyu/miniconda/envs/aer-paper/lib/python3.7/site-packages/statsmodels/tsa/arima_model.py\", line 1017, in fit\n",
      "    start_ar_lags)\n",
      "  File \"/home/dongyu/miniconda/envs/aer-paper/lib/python3.7/site-packages/statsmodels/tsa/arima_model.py\", line 608, in _fit_start_params\n",
      "    start_params = self._fit_start_params_hr(order, start_ar_lags)\n",
      "  File \"/home/dongyu/miniconda/envs/aer-paper/lib/python3.7/site-packages/statsmodels/tsa/arima_model.py\", line 580, in _fit_start_params_hr\n",
      "    arcoefs = yule_walker(endog, order=p)[0]\n",
      "  File \"/home/dongyu/miniconda/envs/aer-paper/lib/python3.7/site-packages/statsmodels/regression/linear_model.py\", line 1429, in yule_walker\n",
      "    rho = np.linalg.solve(R, r[1:])\n",
      "  File \"<__array_function__ internals>\", line 6, in solve\n",
      "  File \"/home/dongyu/miniconda/envs/aer-paper/lib/python3.7/site-packages/numpy/linalg/linalg.py\", line 399, in solve\n",
      "    r = gufunc(a, b, signature=signature, extobj=extobj)\n",
      "  File \"/home/dongyu/miniconda/envs/aer-paper/lib/python3.7/site-packages/numpy/linalg/linalg.py\", line 97, in _raise_linalgerror_singular\n",
      "    raise LinAlgError(\"Singular matrix\")\n",
      "numpy.linalg.LinAlgError: Singular matrix\n",
      "Exception scoring pipeline <mlblocks.mlpipeline.MLPipeline object at 0x7f3335bf39d0> on signal speed_t4013 (test split: False), error Singular matrix.\n",
      "Traceback (most recent call last):\n",
      "  File \"/home/dongyu/apps/aer-paper/aer/benchmark.py\", line 162, in _evaluate_signal\n",
      "    anomalies = analyze(pipeline, train, test, save_output=save_output)\n",
      "  File \"/home/dongyu/miniconda/envs/aer-paper/lib/python3.7/site-packages/orion/analysis.py\", line 73, in analyze\n",
      "    events = _run_pipeline(pipeline, train, test, labels, save_output)\n",
      "  File \"/home/dongyu/miniconda/envs/aer-paper/lib/python3.7/site-packages/orion/analysis.py\", line 45, in _run_pipeline\n",
      "    output_=['default', 'model_info'])\n",
      "  File \"/home/dongyu/miniconda/envs/aer-paper/lib/python3.7/site-packages/mlblocks/mlpipeline.py\", line 913, in predict\n",
      "    self._produce_block(block, block_name, context, output_variables, outputs, debug_info)\n",
      "  File \"/home/dongyu/miniconda/envs/aer-paper/lib/python3.7/site-packages/mlblocks/mlpipeline.py\", line 679, in _produce_block\n",
      "    block_outputs = block.produce(**produce_args)\n",
      "  File \"/home/dongyu/miniconda/envs/aer-paper/lib/python3.7/site-packages/mlblocks/mlblock.py\", line 331, in produce\n",
      "    return getattr(self.instance, self.produce_method)(**produce_kwargs)\n",
      "  File \"/home/dongyu/miniconda/envs/aer-paper/lib/python3.7/site-packages/mlprimitives/adapters/statsmodels.py\", line 49, in predict\n",
      "    arima_fit = arima.fit(disp=0)\n",
      "  File \"/home/dongyu/miniconda/envs/aer-paper/lib/python3.7/site-packages/statsmodels/tsa/arima_model.py\", line 1017, in fit\n",
      "    start_ar_lags)\n",
      "  File \"/home/dongyu/miniconda/envs/aer-paper/lib/python3.7/site-packages/statsmodels/tsa/arima_model.py\", line 608, in _fit_start_params\n",
      "    start_params = self._fit_start_params_hr(order, start_ar_lags)\n",
      "  File \"/home/dongyu/miniconda/envs/aer-paper/lib/python3.7/site-packages/statsmodels/tsa/arima_model.py\", line 580, in _fit_start_params_hr\n",
      "    arcoefs = yule_walker(endog, order=p)[0]\n",
      "  File \"/home/dongyu/miniconda/envs/aer-paper/lib/python3.7/site-packages/statsmodels/regression/linear_model.py\", line 1429, in yule_walker\n",
      "    rho = np.linalg.solve(R, r[1:])\n",
      "  File \"<__array_function__ internals>\", line 6, in solve\n",
      "  File \"/home/dongyu/miniconda/envs/aer-paper/lib/python3.7/site-packages/numpy/linalg/linalg.py\", line 399, in solve\n",
      "    r = gufunc(a, b, signature=signature, extobj=extobj)\n",
      "  File \"/home/dongyu/miniconda/envs/aer-paper/lib/python3.7/site-packages/numpy/linalg/linalg.py\", line 97, in _raise_linalgerror_singular\n",
      "    raise LinAlgError(\"Singular matrix\")\n",
      "numpy.linalg.LinAlgError: Singular matrix\n",
      "\n",
      "\n",
      "  4%|▍         | 145/3710 [1:37:44<29:07:21, 29.41s/it]\u001b[A\u001b[A"
     ]
    },
    {
     "name": "stdout",
     "output_type": "stream",
     "text": [
      "pipeline: arima_ablation, signal: TravelTime_387, test_split: False, detrend: False\n"
     ]
    },
    {
     "name": "stderr",
     "output_type": "stream",
     "text": [
      "/home/dongyu/miniconda/envs/aer-paper/lib/python3.7/site-packages/statsmodels/base/model.py:568: ConvergenceWarning: Maximum Likelihood optimization failed to converge. Check mle_retvals\n",
      "  ConvergenceWarning)\n",
      "/home/dongyu/miniconda/envs/aer-paper/lib/python3.7/site-packages/statsmodels/base/model.py:568: ConvergenceWarning: Maximum Likelihood optimization failed to converge. Check mle_retvals\n",
      "  ConvergenceWarning)\n",
      "/home/dongyu/miniconda/envs/aer-paper/lib/python3.7/site-packages/statsmodels/base/model.py:568: ConvergenceWarning: Maximum Likelihood optimization failed to converge. Check mle_retvals\n",
      "  ConvergenceWarning)\n",
      "/home/dongyu/miniconda/envs/aer-paper/lib/python3.7/site-packages/statsmodels/base/model.py:568: ConvergenceWarning: Maximum Likelihood optimization failed to converge. Check mle_retvals\n",
      "  ConvergenceWarning)\n",
      "/home/dongyu/miniconda/envs/aer-paper/lib/python3.7/site-packages/statsmodels/base/model.py:568: ConvergenceWarning: Maximum Likelihood optimization failed to converge. Check mle_retvals\n",
      "  ConvergenceWarning)\n",
      "/home/dongyu/miniconda/envs/aer-paper/lib/python3.7/site-packages/statsmodels/base/model.py:568: ConvergenceWarning: Maximum Likelihood optimization failed to converge. Check mle_retvals\n",
      "  ConvergenceWarning)\n",
      "/home/dongyu/miniconda/envs/aer-paper/lib/python3.7/site-packages/statsmodels/base/model.py:568: ConvergenceWarning: Maximum Likelihood optimization failed to converge. Check mle_retvals\n",
      "  ConvergenceWarning)\n",
      "/home/dongyu/miniconda/envs/aer-paper/lib/python3.7/site-packages/statsmodels/base/model.py:568: ConvergenceWarning: Maximum Likelihood optimization failed to converge. Check mle_retvals\n",
      "  ConvergenceWarning)\n",
      "/home/dongyu/miniconda/envs/aer-paper/lib/python3.7/site-packages/statsmodels/base/model.py:568: ConvergenceWarning: Maximum Likelihood optimization failed to converge. Check mle_retvals\n",
      "  ConvergenceWarning)\n",
      "\n",
      "\n",
      "  4%|▍         | 146/3710 [1:41:37<89:29:05, 90.39s/it]\u001b[A\u001b[A"
     ]
    },
    {
     "name": "stdout",
     "output_type": "stream",
     "text": [
      "pipeline: arima_ablation, signal: TravelTime_451, test_split: False, detrend: False\n"
     ]
    },
    {
     "name": "stderr",
     "output_type": "stream",
     "text": [
      "/home/dongyu/miniconda/envs/aer-paper/lib/python3.7/site-packages/statsmodels/base/model.py:568: ConvergenceWarning: Maximum Likelihood optimization failed to converge. Check mle_retvals\n",
      "  ConvergenceWarning)\n",
      "/home/dongyu/miniconda/envs/aer-paper/lib/python3.7/site-packages/statsmodels/base/model.py:568: ConvergenceWarning: Maximum Likelihood optimization failed to converge. Check mle_retvals\n",
      "  ConvergenceWarning)\n",
      "/home/dongyu/miniconda/envs/aer-paper/lib/python3.7/site-packages/statsmodels/base/model.py:568: ConvergenceWarning: Maximum Likelihood optimization failed to converge. Check mle_retvals\n",
      "  ConvergenceWarning)\n",
      "/home/dongyu/miniconda/envs/aer-paper/lib/python3.7/site-packages/statsmodels/base/model.py:568: ConvergenceWarning: Maximum Likelihood optimization failed to converge. Check mle_retvals\n",
      "  ConvergenceWarning)\n",
      "/home/dongyu/miniconda/envs/aer-paper/lib/python3.7/site-packages/statsmodels/base/model.py:568: ConvergenceWarning: Maximum Likelihood optimization failed to converge. Check mle_retvals\n",
      "  ConvergenceWarning)\n",
      "/home/dongyu/miniconda/envs/aer-paper/lib/python3.7/site-packages/statsmodels/base/model.py:568: ConvergenceWarning: Maximum Likelihood optimization failed to converge. Check mle_retvals\n",
      "  ConvergenceWarning)\n",
      "/home/dongyu/miniconda/envs/aer-paper/lib/python3.7/site-packages/statsmodels/base/model.py:568: ConvergenceWarning: Maximum Likelihood optimization failed to converge. Check mle_retvals\n",
      "  ConvergenceWarning)\n",
      "/home/dongyu/miniconda/envs/aer-paper/lib/python3.7/site-packages/statsmodels/base/model.py:568: ConvergenceWarning: Maximum Likelihood optimization failed to converge. Check mle_retvals\n",
      "  ConvergenceWarning)\n",
      "/home/dongyu/miniconda/envs/aer-paper/lib/python3.7/site-packages/statsmodels/base/model.py:568: ConvergenceWarning: Maximum Likelihood optimization failed to converge. Check mle_retvals\n",
      "  ConvergenceWarning)\n",
      "\n",
      "\n",
      "  4%|▍         | 147/3710 [1:44:18<110:31:43, 111.68s/it]\u001b[A\u001b[A"
     ]
    },
    {
     "name": "stdout",
     "output_type": "stream",
     "text": [
      "pipeline: lstm_dynamic_threshold_ablation, signal: occupancy_6005, test_split: False, detrend: False\n"
     ]
    },
    {
     "name": "stderr",
     "output_type": "stream",
     "text": [
      "\n",
      "\n",
      "  4%|▍         | 148/3710 [1:45:14<93:41:21, 94.69s/it]  \u001b[A\u001b[A"
     ]
    },
    {
     "name": "stdout",
     "output_type": "stream",
     "text": [
      "pipeline: lstm_dynamic_threshold_ablation, signal: occupancy_t4013, test_split: False, detrend: False\n"
     ]
    },
    {
     "name": "stderr",
     "output_type": "stream",
     "text": [
      "\n",
      "\n",
      "  4%|▍         | 149/3710 [1:46:09<82:01:07, 82.92s/it]\u001b[A\u001b[A"
     ]
    },
    {
     "name": "stdout",
     "output_type": "stream",
     "text": [
      "pipeline: lstm_dynamic_threshold_ablation, signal: speed_6005, test_split: False, detrend: False\n"
     ]
    },
    {
     "name": "stderr",
     "output_type": "stream",
     "text": [
      "\n",
      "\n",
      "  4%|▍         | 150/3710 [1:47:07<74:44:05, 75.57s/it]\u001b[A\u001b[A"
     ]
    },
    {
     "name": "stdout",
     "output_type": "stream",
     "text": [
      "pipeline: lstm_dynamic_threshold_ablation, signal: speed_7578, test_split: False, detrend: False\n"
     ]
    },
    {
     "name": "stderr",
     "output_type": "stream",
     "text": [
      "\n",
      "\n",
      "  4%|▍         | 151/3710 [1:47:39<61:34:34, 62.29s/it]\u001b[A\u001b[A"
     ]
    },
    {
     "name": "stdout",
     "output_type": "stream",
     "text": [
      "pipeline: lstm_dynamic_threshold_ablation, signal: speed_t4013, test_split: False, detrend: False\n"
     ]
    },
    {
     "name": "stderr",
     "output_type": "stream",
     "text": [
      "\n",
      "\n",
      "  4%|▍         | 152/3710 [1:48:35<59:52:38, 60.58s/it]\u001b[A\u001b[A"
     ]
    },
    {
     "name": "stdout",
     "output_type": "stream",
     "text": [
      "pipeline: lstm_dynamic_threshold_ablation, signal: TravelTime_387, test_split: False, detrend: False\n"
     ]
    },
    {
     "name": "stderr",
     "output_type": "stream",
     "text": [
      "\n",
      "\n",
      "  4%|▍         | 153/3710 [1:51:26<92:21:25, 93.47s/it]\u001b[A\u001b[A"
     ]
    },
    {
     "name": "stdout",
     "output_type": "stream",
     "text": [
      "pipeline: lstm_dynamic_threshold_ablation, signal: TravelTime_451, test_split: False, detrend: False\n"
     ]
    },
    {
     "name": "stderr",
     "output_type": "stream",
     "text": [
      "\n",
      "\n",
      "  4%|▍         | 154/3710 [1:52:50<89:39:01, 90.76s/it]\u001b[A\u001b[A"
     ]
    },
    {
     "name": "stdout",
     "output_type": "stream",
     "text": [
      "pipeline: lstm_autoencoder_ablation, signal: occupancy_6005, test_split: False, detrend: False\n"
     ]
    },
    {
     "name": "stderr",
     "output_type": "stream",
     "text": [
      "\n",
      "\n",
      "  4%|▍         | 155/3710 [1:53:14<69:47:13, 70.67s/it]\u001b[A\u001b[A"
     ]
    },
    {
     "name": "stdout",
     "output_type": "stream",
     "text": [
      "pipeline: lstm_autoencoder_ablation, signal: occupancy_t4013, test_split: False, detrend: False\n"
     ]
    },
    {
     "name": "stderr",
     "output_type": "stream",
     "text": [
      "\n",
      "\n",
      "  4%|▍         | 156/3710 [1:53:40<56:38:38, 57.38s/it]\u001b[A\u001b[A"
     ]
    },
    {
     "name": "stdout",
     "output_type": "stream",
     "text": [
      "pipeline: lstm_autoencoder_ablation, signal: speed_6005, test_split: False, detrend: False\n"
     ]
    },
    {
     "name": "stderr",
     "output_type": "stream",
     "text": [
      "Invalid value encountered for precision 0.0/ recall 0.0.\n",
      "Traceback (most recent call last):\n",
      "  File \"/home/dongyu/miniconda/envs/aer-paper/lib/python3.7/site-packages/orion/evaluation/common.py\", line 70, in _f1_score\n",
      "    return 2 * (precision * recall) / (precision + recall)\n",
      "ZeroDivisionError: float division by zero\n",
      "\n",
      "\n",
      "  4%|▍         | 157/3710 [1:54:02<46:10:17, 46.78s/it]\u001b[A\u001b[A"
     ]
    },
    {
     "name": "stdout",
     "output_type": "stream",
     "text": [
      "pipeline: lstm_autoencoder_ablation, signal: speed_7578, test_split: False, detrend: False\n"
     ]
    },
    {
     "name": "stderr",
     "output_type": "stream",
     "text": [
      "\n",
      "\n",
      "  4%|▍         | 158/3710 [1:54:19<37:17:41, 37.80s/it]\u001b[A\u001b[A"
     ]
    },
    {
     "name": "stdout",
     "output_type": "stream",
     "text": [
      "pipeline: lstm_autoencoder_ablation, signal: speed_t4013, test_split: False, detrend: False\n"
     ]
    },
    {
     "name": "stderr",
     "output_type": "stream",
     "text": [
      "\n",
      "\n",
      "  4%|▍         | 159/3710 [1:54:43<33:16:22, 33.73s/it]\u001b[A\u001b[A"
     ]
    },
    {
     "name": "stdout",
     "output_type": "stream",
     "text": [
      "pipeline: lstm_autoencoder_ablation, signal: TravelTime_387, test_split: False, detrend: False\n"
     ]
    },
    {
     "name": "stderr",
     "output_type": "stream",
     "text": [
      "\n",
      "\n",
      "  4%|▍         | 160/3710 [1:56:01<46:15:54, 46.92s/it]\u001b[A\u001b[A"
     ]
    },
    {
     "name": "stdout",
     "output_type": "stream",
     "text": [
      "pipeline: lstm_autoencoder_ablation, signal: TravelTime_451, test_split: False, detrend: False\n"
     ]
    },
    {
     "name": "stderr",
     "output_type": "stream",
     "text": [
      "\n",
      "\n",
      "  4%|▍         | 161/3710 [1:56:38<43:12:35, 43.83s/it]\u001b[A\u001b[A"
     ]
    },
    {
     "name": "stdout",
     "output_type": "stream",
     "text": [
      "pipeline: vae_ablation, signal: occupancy_6005, test_split: False, detrend: False\n"
     ]
    },
    {
     "name": "stderr",
     "output_type": "stream",
     "text": [
      "Invalid value encountered for precision 0.0/ recall 0.0.\n",
      "Traceback (most recent call last):\n",
      "  File \"/home/dongyu/miniconda/envs/aer-paper/lib/python3.7/site-packages/orion/evaluation/common.py\", line 70, in _f1_score\n",
      "    return 2 * (precision * recall) / (precision + recall)\n",
      "ZeroDivisionError: float division by zero\n",
      "\n",
      "\n",
      "  4%|▍         | 162/3710 [1:57:04<37:55:38, 38.48s/it]\u001b[A\u001b[A"
     ]
    },
    {
     "name": "stdout",
     "output_type": "stream",
     "text": [
      "pipeline: vae_ablation, signal: occupancy_t4013, test_split: False, detrend: False\n"
     ]
    },
    {
     "name": "stderr",
     "output_type": "stream",
     "text": [
      "\n",
      "\n",
      "  4%|▍         | 163/3710 [1:57:30<34:15:28, 34.77s/it]\u001b[A\u001b[A"
     ]
    },
    {
     "name": "stdout",
     "output_type": "stream",
     "text": [
      "pipeline: vae_ablation, signal: speed_6005, test_split: False, detrend: False\n"
     ]
    },
    {
     "name": "stderr",
     "output_type": "stream",
     "text": [
      "Invalid value encountered for precision 0.0/ recall 0.0.\n",
      "Traceback (most recent call last):\n",
      "  File \"/home/dongyu/miniconda/envs/aer-paper/lib/python3.7/site-packages/orion/evaluation/common.py\", line 70, in _f1_score\n",
      "    return 2 * (precision * recall) / (precision + recall)\n",
      "ZeroDivisionError: float division by zero\n",
      "\n",
      "\n",
      "  4%|▍         | 164/3710 [1:57:52<30:36:35, 31.08s/it]\u001b[A\u001b[A"
     ]
    },
    {
     "name": "stdout",
     "output_type": "stream",
     "text": [
      "pipeline: vae_ablation, signal: speed_7578, test_split: False, detrend: False\n"
     ]
    },
    {
     "name": "stderr",
     "output_type": "stream",
     "text": [
      "\n",
      "\n",
      "  4%|▍         | 165/3710 [1:58:03<24:32:27, 24.92s/it]\u001b[A\u001b[A"
     ]
    },
    {
     "name": "stdout",
     "output_type": "stream",
     "text": [
      "pipeline: vae_ablation, signal: speed_t4013, test_split: False, detrend: False\n"
     ]
    },
    {
     "name": "stderr",
     "output_type": "stream",
     "text": [
      "\n",
      "\n",
      "  4%|▍         | 166/3710 [1:58:29<24:49:43, 25.22s/it]\u001b[A\u001b[A"
     ]
    },
    {
     "name": "stdout",
     "output_type": "stream",
     "text": [
      "pipeline: vae_ablation, signal: TravelTime_387, test_split: False, detrend: False\n"
     ]
    },
    {
     "name": "stderr",
     "output_type": "stream",
     "text": [
      "\n",
      "\n",
      "  5%|▍         | 167/3710 [1:59:59<43:56:33, 44.65s/it]\u001b[A\u001b[A"
     ]
    },
    {
     "name": "stdout",
     "output_type": "stream",
     "text": [
      "pipeline: vae_ablation, signal: TravelTime_451, test_split: False, detrend: False\n"
     ]
    },
    {
     "name": "stderr",
     "output_type": "stream",
     "text": [
      "\n",
      "\n",
      "  5%|▍         | 168/3710 [2:01:08<51:11:38, 52.03s/it]\u001b[A\u001b[A"
     ]
    },
    {
     "name": "stdout",
     "output_type": "stream",
     "text": [
      "pipeline: tadgan_ablation, signal: occupancy_6005, test_split: False, detrend: False\n"
     ]
    },
    {
     "name": "stderr",
     "output_type": "stream",
     "text": [
      "\n",
      "\n",
      "  5%|▍         | 169/3710 [2:03:12<72:27:10, 73.66s/it]\u001b[A\u001b[A"
     ]
    },
    {
     "name": "stdout",
     "output_type": "stream",
     "text": [
      "pipeline: tadgan_ablation, signal: occupancy_t4013, test_split: False, detrend: False\n"
     ]
    },
    {
     "name": "stderr",
     "output_type": "stream",
     "text": [
      "\n",
      "\n",
      "  5%|▍         | 170/3710 [2:05:17<87:34:59, 89.07s/it]\u001b[A\u001b[A"
     ]
    },
    {
     "name": "stdout",
     "output_type": "stream",
     "text": [
      "pipeline: tadgan_ablation, signal: speed_6005, test_split: False, detrend: False\n"
     ]
    },
    {
     "name": "stderr",
     "output_type": "stream",
     "text": [
      "\n",
      "\n",
      "  5%|▍         | 171/3710 [2:07:39<103:16:57, 105.06s/it]\u001b[A\u001b[A"
     ]
    },
    {
     "name": "stdout",
     "output_type": "stream",
     "text": [
      "pipeline: tadgan_ablation, signal: speed_7578, test_split: False, detrend: False\n"
     ]
    },
    {
     "name": "stderr",
     "output_type": "stream",
     "text": [
      "\n",
      "\n",
      "  5%|▍         | 172/3710 [2:08:53<93:50:41, 95.49s/it]  \u001b[A\u001b[A"
     ]
    },
    {
     "name": "stdout",
     "output_type": "stream",
     "text": [
      "pipeline: tadgan_ablation, signal: speed_t4013, test_split: False, detrend: False\n"
     ]
    },
    {
     "name": "stderr",
     "output_type": "stream",
     "text": [
      "\n",
      "\n",
      "  5%|▍         | 173/3710 [2:10:59<102:51:03, 104.68s/it]\u001b[A\u001b[A"
     ]
    },
    {
     "name": "stdout",
     "output_type": "stream",
     "text": [
      "pipeline: tadgan_ablation, signal: TravelTime_387, test_split: False, detrend: False\n"
     ]
    },
    {
     "name": "stderr",
     "output_type": "stream",
     "text": [
      "\n",
      "\n",
      "  5%|▍         | 174/3710 [2:20:13<235:17:34, 239.55s/it]\u001b[A\u001b[A"
     ]
    },
    {
     "name": "stdout",
     "output_type": "stream",
     "text": [
      "pipeline: tadgan_ablation, signal: TravelTime_451, test_split: False, detrend: False\n"
     ]
    },
    {
     "name": "stderr",
     "output_type": "stream",
     "text": [
      "\n",
      "\n",
      "  5%|▍         | 175/3710 [2:27:04<285:45:39, 291.02s/it]\u001b[A\u001b[A"
     ]
    },
    {
     "name": "stdout",
     "output_type": "stream",
     "text": [
      "pipeline: arima_ablation, signal: Twitter_volume_AAPL, test_split: False, detrend: False\n"
     ]
    },
    {
     "name": "stderr",
     "output_type": "stream",
     "text": [
      "/home/dongyu/miniconda/envs/aer-paper/lib/python3.7/site-packages/statsmodels/base/model.py:568: ConvergenceWarning: Maximum Likelihood optimization failed to converge. Check mle_retvals\n",
      "  ConvergenceWarning)\n",
      "/home/dongyu/miniconda/envs/aer-paper/lib/python3.7/site-packages/statsmodels/base/model.py:568: ConvergenceWarning: Maximum Likelihood optimization failed to converge. Check mle_retvals\n",
      "  ConvergenceWarning)\n",
      "/home/dongyu/miniconda/envs/aer-paper/lib/python3.7/site-packages/statsmodels/base/model.py:568: ConvergenceWarning: Maximum Likelihood optimization failed to converge. Check mle_retvals\n",
      "  ConvergenceWarning)\n",
      "/home/dongyu/miniconda/envs/aer-paper/lib/python3.7/site-packages/statsmodels/base/model.py:568: ConvergenceWarning: Maximum Likelihood optimization failed to converge. Check mle_retvals\n",
      "  ConvergenceWarning)\n",
      "/home/dongyu/miniconda/envs/aer-paper/lib/python3.7/site-packages/statsmodels/base/model.py:568: ConvergenceWarning: Maximum Likelihood optimization failed to converge. Check mle_retvals\n",
      "  ConvergenceWarning)\n",
      "/home/dongyu/miniconda/envs/aer-paper/lib/python3.7/site-packages/statsmodels/base/model.py:568: ConvergenceWarning: Maximum Likelihood optimization failed to converge. Check mle_retvals\n",
      "  ConvergenceWarning)\n",
      "/home/dongyu/miniconda/envs/aer-paper/lib/python3.7/site-packages/statsmodels/base/model.py:568: ConvergenceWarning: Maximum Likelihood optimization failed to converge. Check mle_retvals\n",
      "  ConvergenceWarning)\n",
      "/home/dongyu/miniconda/envs/aer-paper/lib/python3.7/site-packages/statsmodels/base/model.py:568: ConvergenceWarning: Maximum Likelihood optimization failed to converge. Check mle_retvals\n",
      "  ConvergenceWarning)\n",
      "/home/dongyu/miniconda/envs/aer-paper/lib/python3.7/site-packages/statsmodels/base/model.py:568: ConvergenceWarning: Maximum Likelihood optimization failed to converge. Check mle_retvals\n",
      "  ConvergenceWarning)\n",
      "/home/dongyu/miniconda/envs/aer-paper/lib/python3.7/site-packages/statsmodels/base/model.py:568: ConvergenceWarning: Maximum Likelihood optimization failed to converge. Check mle_retvals\n",
      "  ConvergenceWarning)\n",
      "/home/dongyu/miniconda/envs/aer-paper/lib/python3.7/site-packages/statsmodels/base/model.py:568: ConvergenceWarning: Maximum Likelihood optimization failed to converge. Check mle_retvals\n",
      "  ConvergenceWarning)\n",
      "/home/dongyu/miniconda/envs/aer-paper/lib/python3.7/site-packages/statsmodels/base/model.py:568: ConvergenceWarning: Maximum Likelihood optimization failed to converge. Check mle_retvals\n",
      "  ConvergenceWarning)\n",
      "/home/dongyu/miniconda/envs/aer-paper/lib/python3.7/site-packages/statsmodels/base/model.py:568: ConvergenceWarning: Maximum Likelihood optimization failed to converge. Check mle_retvals\n",
      "  ConvergenceWarning)\n",
      "/home/dongyu/miniconda/envs/aer-paper/lib/python3.7/site-packages/statsmodels/base/model.py:568: ConvergenceWarning: Maximum Likelihood optimization failed to converge. Check mle_retvals\n",
      "  ConvergenceWarning)\n",
      "/home/dongyu/miniconda/envs/aer-paper/lib/python3.7/site-packages/statsmodels/base/model.py:568: ConvergenceWarning: Maximum Likelihood optimization failed to converge. Check mle_retvals\n",
      "  ConvergenceWarning)\n",
      "/home/dongyu/miniconda/envs/aer-paper/lib/python3.7/site-packages/statsmodels/base/model.py:568: ConvergenceWarning: Maximum Likelihood optimization failed to converge. Check mle_retvals\n",
      "  ConvergenceWarning)\n",
      "/home/dongyu/miniconda/envs/aer-paper/lib/python3.7/site-packages/statsmodels/base/model.py:568: ConvergenceWarning: Maximum Likelihood optimization failed to converge. Check mle_retvals\n",
      "  ConvergenceWarning)\n",
      "/home/dongyu/miniconda/envs/aer-paper/lib/python3.7/site-packages/statsmodels/base/model.py:568: ConvergenceWarning: Maximum Likelihood optimization failed to converge. Check mle_retvals\n",
      "  ConvergenceWarning)\n",
      "/home/dongyu/miniconda/envs/aer-paper/lib/python3.7/site-packages/statsmodels/base/model.py:568: ConvergenceWarning: Maximum Likelihood optimization failed to converge. Check mle_retvals\n",
      "  ConvergenceWarning)\n",
      "/home/dongyu/miniconda/envs/aer-paper/lib/python3.7/site-packages/statsmodels/base/model.py:568: ConvergenceWarning: Maximum Likelihood optimization failed to converge. Check mle_retvals\n",
      "  ConvergenceWarning)\n",
      "/home/dongyu/miniconda/envs/aer-paper/lib/python3.7/site-packages/statsmodels/base/model.py:568: ConvergenceWarning: Maximum Likelihood optimization failed to converge. Check mle_retvals\n",
      "  ConvergenceWarning)\n",
      "/home/dongyu/miniconda/envs/aer-paper/lib/python3.7/site-packages/statsmodels/base/model.py:568: ConvergenceWarning: Maximum Likelihood optimization failed to converge. Check mle_retvals\n",
      "  ConvergenceWarning)\n",
      "/home/dongyu/miniconda/envs/aer-paper/lib/python3.7/site-packages/statsmodels/base/model.py:568: ConvergenceWarning: Maximum Likelihood optimization failed to converge. Check mle_retvals\n",
      "  ConvergenceWarning)\n",
      "/home/dongyu/miniconda/envs/aer-paper/lib/python3.7/site-packages/statsmodels/base/model.py:568: ConvergenceWarning: Maximum Likelihood optimization failed to converge. Check mle_retvals\n",
      "  ConvergenceWarning)\n",
      "/home/dongyu/miniconda/envs/aer-paper/lib/python3.7/site-packages/statsmodels/base/model.py:568: ConvergenceWarning: Maximum Likelihood optimization failed to converge. Check mle_retvals\n",
      "  ConvergenceWarning)\n",
      "/home/dongyu/miniconda/envs/aer-paper/lib/python3.7/site-packages/statsmodels/base/model.py:568: ConvergenceWarning: Maximum Likelihood optimization failed to converge. Check mle_retvals\n",
      "  ConvergenceWarning)\n",
      "/home/dongyu/miniconda/envs/aer-paper/lib/python3.7/site-packages/statsmodels/base/model.py:568: ConvergenceWarning: Maximum Likelihood optimization failed to converge. Check mle_retvals\n",
      "  ConvergenceWarning)\n",
      "/home/dongyu/miniconda/envs/aer-paper/lib/python3.7/site-packages/statsmodels/base/model.py:568: ConvergenceWarning: Maximum Likelihood optimization failed to converge. Check mle_retvals\n",
      "  ConvergenceWarning)\n",
      "/home/dongyu/miniconda/envs/aer-paper/lib/python3.7/site-packages/statsmodels/base/model.py:568: ConvergenceWarning: Maximum Likelihood optimization failed to converge. Check mle_retvals\n",
      "  ConvergenceWarning)\n",
      "/home/dongyu/miniconda/envs/aer-paper/lib/python3.7/site-packages/statsmodels/base/model.py:568: ConvergenceWarning: Maximum Likelihood optimization failed to converge. Check mle_retvals\n",
      "  ConvergenceWarning)\n",
      "/home/dongyu/miniconda/envs/aer-paper/lib/python3.7/site-packages/statsmodels/base/model.py:568: ConvergenceWarning: Maximum Likelihood optimization failed to converge. Check mle_retvals\n",
      "  ConvergenceWarning)\n",
      "/home/dongyu/miniconda/envs/aer-paper/lib/python3.7/site-packages/statsmodels/base/model.py:568: ConvergenceWarning: Maximum Likelihood optimization failed to converge. Check mle_retvals\n",
      "  ConvergenceWarning)\n",
      "\n",
      "\n",
      "  5%|▍         | 176/3710 [2:30:46<265:29:29, 270.45s/it]\u001b[A\u001b[A"
     ]
    },
    {
     "name": "stdout",
     "output_type": "stream",
     "text": [
      "pipeline: arima_ablation, signal: Twitter_volume_AMZN, test_split: False, detrend: False\n"
     ]
    },
    {
     "name": "stderr",
     "output_type": "stream",
     "text": [
      "/home/dongyu/miniconda/envs/aer-paper/lib/python3.7/site-packages/statsmodels/base/model.py:568: ConvergenceWarning: Maximum Likelihood optimization failed to converge. Check mle_retvals\n",
      "  ConvergenceWarning)\n",
      "/home/dongyu/miniconda/envs/aer-paper/lib/python3.7/site-packages/statsmodels/base/model.py:568: ConvergenceWarning: Maximum Likelihood optimization failed to converge. Check mle_retvals\n",
      "  ConvergenceWarning)\n",
      "/home/dongyu/miniconda/envs/aer-paper/lib/python3.7/site-packages/statsmodels/base/model.py:568: ConvergenceWarning: Maximum Likelihood optimization failed to converge. Check mle_retvals\n",
      "  ConvergenceWarning)\n",
      "/home/dongyu/miniconda/envs/aer-paper/lib/python3.7/site-packages/statsmodels/base/model.py:568: ConvergenceWarning: Maximum Likelihood optimization failed to converge. Check mle_retvals\n",
      "  ConvergenceWarning)\n",
      "/home/dongyu/miniconda/envs/aer-paper/lib/python3.7/site-packages/statsmodels/base/model.py:568: ConvergenceWarning: Maximum Likelihood optimization failed to converge. Check mle_retvals\n",
      "  ConvergenceWarning)\n",
      "/home/dongyu/miniconda/envs/aer-paper/lib/python3.7/site-packages/statsmodels/base/model.py:568: ConvergenceWarning: Maximum Likelihood optimization failed to converge. Check mle_retvals\n",
      "  ConvergenceWarning)\n",
      "/home/dongyu/miniconda/envs/aer-paper/lib/python3.7/site-packages/statsmodels/base/model.py:568: ConvergenceWarning: Maximum Likelihood optimization failed to converge. Check mle_retvals\n",
      "  ConvergenceWarning)\n",
      "/home/dongyu/miniconda/envs/aer-paper/lib/python3.7/site-packages/statsmodels/base/model.py:568: ConvergenceWarning: Maximum Likelihood optimization failed to converge. Check mle_retvals\n",
      "  ConvergenceWarning)\n",
      "/home/dongyu/miniconda/envs/aer-paper/lib/python3.7/site-packages/statsmodels/base/model.py:568: ConvergenceWarning: Maximum Likelihood optimization failed to converge. Check mle_retvals\n",
      "  ConvergenceWarning)\n",
      "/home/dongyu/miniconda/envs/aer-paper/lib/python3.7/site-packages/statsmodels/base/model.py:568: ConvergenceWarning: Maximum Likelihood optimization failed to converge. Check mle_retvals\n",
      "  ConvergenceWarning)\n",
      "/home/dongyu/miniconda/envs/aer-paper/lib/python3.7/site-packages/statsmodels/base/model.py:568: ConvergenceWarning: Maximum Likelihood optimization failed to converge. Check mle_retvals\n",
      "  ConvergenceWarning)\n",
      "/home/dongyu/miniconda/envs/aer-paper/lib/python3.7/site-packages/statsmodels/base/model.py:568: ConvergenceWarning: Maximum Likelihood optimization failed to converge. Check mle_retvals\n",
      "  ConvergenceWarning)\n",
      "/home/dongyu/miniconda/envs/aer-paper/lib/python3.7/site-packages/statsmodels/base/model.py:568: ConvergenceWarning: Maximum Likelihood optimization failed to converge. Check mle_retvals\n",
      "  ConvergenceWarning)\n",
      "/home/dongyu/miniconda/envs/aer-paper/lib/python3.7/site-packages/statsmodels/base/model.py:568: ConvergenceWarning: Maximum Likelihood optimization failed to converge. Check mle_retvals\n",
      "  ConvergenceWarning)\n",
      "/home/dongyu/miniconda/envs/aer-paper/lib/python3.7/site-packages/statsmodels/base/model.py:568: ConvergenceWarning: Maximum Likelihood optimization failed to converge. Check mle_retvals\n",
      "  ConvergenceWarning)\n",
      "\n",
      "\n",
      "  5%|▍         | 177/3710 [2:33:33<234:51:15, 239.31s/it]\u001b[A\u001b[A"
     ]
    },
    {
     "name": "stdout",
     "output_type": "stream",
     "text": [
      "pipeline: arima_ablation, signal: Twitter_volume_CRM, test_split: False, detrend: False\n"
     ]
    },
    {
     "name": "stderr",
     "output_type": "stream",
     "text": [
      "/home/dongyu/miniconda/envs/aer-paper/lib/python3.7/site-packages/statsmodels/base/model.py:568: ConvergenceWarning: Maximum Likelihood optimization failed to converge. Check mle_retvals\n",
      "  ConvergenceWarning)\n",
      "/home/dongyu/miniconda/envs/aer-paper/lib/python3.7/site-packages/statsmodels/base/model.py:568: ConvergenceWarning: Maximum Likelihood optimization failed to converge. Check mle_retvals\n",
      "  ConvergenceWarning)\n",
      "/home/dongyu/miniconda/envs/aer-paper/lib/python3.7/site-packages/statsmodels/base/model.py:568: ConvergenceWarning: Maximum Likelihood optimization failed to converge. Check mle_retvals\n",
      "  ConvergenceWarning)\n",
      "/home/dongyu/miniconda/envs/aer-paper/lib/python3.7/site-packages/statsmodels/base/model.py:568: ConvergenceWarning: Maximum Likelihood optimization failed to converge. Check mle_retvals\n",
      "  ConvergenceWarning)\n",
      "/home/dongyu/miniconda/envs/aer-paper/lib/python3.7/site-packages/statsmodels/base/model.py:568: ConvergenceWarning: Maximum Likelihood optimization failed to converge. Check mle_retvals\n",
      "  ConvergenceWarning)\n",
      "/home/dongyu/miniconda/envs/aer-paper/lib/python3.7/site-packages/statsmodels/base/model.py:568: ConvergenceWarning: Maximum Likelihood optimization failed to converge. Check mle_retvals\n",
      "  ConvergenceWarning)\n",
      "/home/dongyu/miniconda/envs/aer-paper/lib/python3.7/site-packages/statsmodels/base/model.py:568: ConvergenceWarning: Maximum Likelihood optimization failed to converge. Check mle_retvals\n",
      "  ConvergenceWarning)\n",
      "/home/dongyu/miniconda/envs/aer-paper/lib/python3.7/site-packages/statsmodels/base/model.py:568: ConvergenceWarning: Maximum Likelihood optimization failed to converge. Check mle_retvals\n",
      "  ConvergenceWarning)\n",
      "/home/dongyu/miniconda/envs/aer-paper/lib/python3.7/site-packages/statsmodels/base/model.py:568: ConvergenceWarning: Maximum Likelihood optimization failed to converge. Check mle_retvals\n",
      "  ConvergenceWarning)\n",
      "/home/dongyu/miniconda/envs/aer-paper/lib/python3.7/site-packages/statsmodels/base/model.py:568: ConvergenceWarning: Maximum Likelihood optimization failed to converge. Check mle_retvals\n",
      "  ConvergenceWarning)\n",
      "/home/dongyu/miniconda/envs/aer-paper/lib/python3.7/site-packages/statsmodels/base/model.py:568: ConvergenceWarning: Maximum Likelihood optimization failed to converge. Check mle_retvals\n",
      "  ConvergenceWarning)\n",
      "/home/dongyu/miniconda/envs/aer-paper/lib/python3.7/site-packages/statsmodels/base/model.py:568: ConvergenceWarning: Maximum Likelihood optimization failed to converge. Check mle_retvals\n",
      "  ConvergenceWarning)\n",
      "\n",
      "\n",
      "  5%|▍         | 178/3710 [2:36:50<222:16:26, 226.55s/it]\u001b[A\u001b[A"
     ]
    },
    {
     "name": "stdout",
     "output_type": "stream",
     "text": [
      "pipeline: arima_ablation, signal: Twitter_volume_CVS, test_split: False, detrend: False\n"
     ]
    },
    {
     "name": "stderr",
     "output_type": "stream",
     "text": [
      "/home/dongyu/miniconda/envs/aer-paper/lib/python3.7/site-packages/statsmodels/base/model.py:568: ConvergenceWarning: Maximum Likelihood optimization failed to converge. Check mle_retvals\n",
      "  ConvergenceWarning)\n",
      "/home/dongyu/miniconda/envs/aer-paper/lib/python3.7/site-packages/statsmodels/base/model.py:568: ConvergenceWarning: Maximum Likelihood optimization failed to converge. Check mle_retvals\n",
      "  ConvergenceWarning)\n",
      "/home/dongyu/miniconda/envs/aer-paper/lib/python3.7/site-packages/statsmodels/base/model.py:568: ConvergenceWarning: Maximum Likelihood optimization failed to converge. Check mle_retvals\n",
      "  ConvergenceWarning)\n",
      "/home/dongyu/miniconda/envs/aer-paper/lib/python3.7/site-packages/statsmodels/base/model.py:568: ConvergenceWarning: Maximum Likelihood optimization failed to converge. Check mle_retvals\n",
      "  ConvergenceWarning)\n",
      "/home/dongyu/miniconda/envs/aer-paper/lib/python3.7/site-packages/statsmodels/base/model.py:568: ConvergenceWarning: Maximum Likelihood optimization failed to converge. Check mle_retvals\n",
      "  ConvergenceWarning)\n",
      "/home/dongyu/miniconda/envs/aer-paper/lib/python3.7/site-packages/statsmodels/base/model.py:568: ConvergenceWarning: Maximum Likelihood optimization failed to converge. Check mle_retvals\n",
      "  ConvergenceWarning)\n",
      "/home/dongyu/miniconda/envs/aer-paper/lib/python3.7/site-packages/statsmodels/base/model.py:568: ConvergenceWarning: Maximum Likelihood optimization failed to converge. Check mle_retvals\n",
      "  ConvergenceWarning)\n",
      "/home/dongyu/miniconda/envs/aer-paper/lib/python3.7/site-packages/statsmodels/base/model.py:568: ConvergenceWarning: Maximum Likelihood optimization failed to converge. Check mle_retvals\n",
      "  ConvergenceWarning)\n",
      "/home/dongyu/miniconda/envs/aer-paper/lib/python3.7/site-packages/statsmodels/base/model.py:568: ConvergenceWarning: Maximum Likelihood optimization failed to converge. Check mle_retvals\n",
      "  ConvergenceWarning)\n",
      "/home/dongyu/miniconda/envs/aer-paper/lib/python3.7/site-packages/statsmodels/base/model.py:568: ConvergenceWarning: Maximum Likelihood optimization failed to converge. Check mle_retvals\n",
      "  ConvergenceWarning)\n",
      "/home/dongyu/miniconda/envs/aer-paper/lib/python3.7/site-packages/statsmodels/base/model.py:568: ConvergenceWarning: Maximum Likelihood optimization failed to converge. Check mle_retvals\n",
      "  ConvergenceWarning)\n",
      "/home/dongyu/miniconda/envs/aer-paper/lib/python3.7/site-packages/statsmodels/base/model.py:568: ConvergenceWarning: Maximum Likelihood optimization failed to converge. Check mle_retvals\n",
      "  ConvergenceWarning)\n",
      "/home/dongyu/miniconda/envs/aer-paper/lib/python3.7/site-packages/statsmodels/base/model.py:568: ConvergenceWarning: Maximum Likelihood optimization failed to converge. Check mle_retvals\n",
      "  ConvergenceWarning)\n",
      "/home/dongyu/miniconda/envs/aer-paper/lib/python3.7/site-packages/statsmodels/base/model.py:568: ConvergenceWarning: Maximum Likelihood optimization failed to converge. Check mle_retvals\n",
      "  ConvergenceWarning)\n",
      "/home/dongyu/miniconda/envs/aer-paper/lib/python3.7/site-packages/statsmodels/base/model.py:568: ConvergenceWarning: Maximum Likelihood optimization failed to converge. Check mle_retvals\n",
      "  ConvergenceWarning)\n",
      "/home/dongyu/miniconda/envs/aer-paper/lib/python3.7/site-packages/statsmodels/base/model.py:568: ConvergenceWarning: Maximum Likelihood optimization failed to converge. Check mle_retvals\n",
      "  ConvergenceWarning)\n",
      "\n",
      "\n",
      "  5%|▍         | 179/3710 [2:40:03<212:23:45, 216.55s/it]\u001b[A\u001b[A"
     ]
    },
    {
     "name": "stdout",
     "output_type": "stream",
     "text": [
      "pipeline: arima_ablation, signal: Twitter_volume_FB, test_split: False, detrend: False\n"
     ]
    },
    {
     "name": "stderr",
     "output_type": "stream",
     "text": [
      "/home/dongyu/miniconda/envs/aer-paper/lib/python3.7/site-packages/statsmodels/base/model.py:568: ConvergenceWarning: Maximum Likelihood optimization failed to converge. Check mle_retvals\n",
      "  ConvergenceWarning)\n",
      "/home/dongyu/miniconda/envs/aer-paper/lib/python3.7/site-packages/statsmodels/base/model.py:568: ConvergenceWarning: Maximum Likelihood optimization failed to converge. Check mle_retvals\n",
      "  ConvergenceWarning)\n",
      "/home/dongyu/miniconda/envs/aer-paper/lib/python3.7/site-packages/statsmodels/base/model.py:568: ConvergenceWarning: Maximum Likelihood optimization failed to converge. Check mle_retvals\n",
      "  ConvergenceWarning)\n",
      "/home/dongyu/miniconda/envs/aer-paper/lib/python3.7/site-packages/statsmodels/base/model.py:568: ConvergenceWarning: Maximum Likelihood optimization failed to converge. Check mle_retvals\n",
      "  ConvergenceWarning)\n",
      "/home/dongyu/miniconda/envs/aer-paper/lib/python3.7/site-packages/statsmodels/base/model.py:568: ConvergenceWarning: Maximum Likelihood optimization failed to converge. Check mle_retvals\n",
      "  ConvergenceWarning)\n",
      "/home/dongyu/miniconda/envs/aer-paper/lib/python3.7/site-packages/statsmodels/base/model.py:568: ConvergenceWarning: Maximum Likelihood optimization failed to converge. Check mle_retvals\n",
      "  ConvergenceWarning)\n",
      "/home/dongyu/miniconda/envs/aer-paper/lib/python3.7/site-packages/statsmodels/base/model.py:568: ConvergenceWarning: Maximum Likelihood optimization failed to converge. Check mle_retvals\n",
      "  ConvergenceWarning)\n",
      "/home/dongyu/miniconda/envs/aer-paper/lib/python3.7/site-packages/statsmodels/base/model.py:568: ConvergenceWarning: Maximum Likelihood optimization failed to converge. Check mle_retvals\n",
      "  ConvergenceWarning)\n",
      "/home/dongyu/miniconda/envs/aer-paper/lib/python3.7/site-packages/statsmodels/base/model.py:568: ConvergenceWarning: Maximum Likelihood optimization failed to converge. Check mle_retvals\n",
      "  ConvergenceWarning)\n",
      "/home/dongyu/miniconda/envs/aer-paper/lib/python3.7/site-packages/statsmodels/base/model.py:568: ConvergenceWarning: Maximum Likelihood optimization failed to converge. Check mle_retvals\n",
      "  ConvergenceWarning)\n",
      "/home/dongyu/miniconda/envs/aer-paper/lib/python3.7/site-packages/statsmodels/base/model.py:568: ConvergenceWarning: Maximum Likelihood optimization failed to converge. Check mle_retvals\n",
      "  ConvergenceWarning)\n",
      "/home/dongyu/miniconda/envs/aer-paper/lib/python3.7/site-packages/statsmodels/base/model.py:568: ConvergenceWarning: Maximum Likelihood optimization failed to converge. Check mle_retvals\n",
      "  ConvergenceWarning)\n",
      "/home/dongyu/miniconda/envs/aer-paper/lib/python3.7/site-packages/statsmodels/base/model.py:568: ConvergenceWarning: Maximum Likelihood optimization failed to converge. Check mle_retvals\n",
      "  ConvergenceWarning)\n",
      "/home/dongyu/miniconda/envs/aer-paper/lib/python3.7/site-packages/statsmodels/base/model.py:568: ConvergenceWarning: Maximum Likelihood optimization failed to converge. Check mle_retvals\n",
      "  ConvergenceWarning)\n",
      "/home/dongyu/miniconda/envs/aer-paper/lib/python3.7/site-packages/statsmodels/base/model.py:568: ConvergenceWarning: Maximum Likelihood optimization failed to converge. Check mle_retvals\n",
      "  ConvergenceWarning)\n",
      "\n",
      "\n",
      "  5%|▍         | 180/3710 [2:43:25<207:56:28, 212.06s/it]\u001b[A\u001b[A"
     ]
    },
    {
     "name": "stdout",
     "output_type": "stream",
     "text": [
      "pipeline: arima_ablation, signal: Twitter_volume_GOOG, test_split: False, detrend: False\n"
     ]
    },
    {
     "name": "stderr",
     "output_type": "stream",
     "text": [
      "/home/dongyu/miniconda/envs/aer-paper/lib/python3.7/site-packages/statsmodels/base/model.py:568: ConvergenceWarning: Maximum Likelihood optimization failed to converge. Check mle_retvals\n",
      "  ConvergenceWarning)\n",
      "/home/dongyu/miniconda/envs/aer-paper/lib/python3.7/site-packages/statsmodels/base/model.py:568: ConvergenceWarning: Maximum Likelihood optimization failed to converge. Check mle_retvals\n",
      "  ConvergenceWarning)\n",
      "/home/dongyu/miniconda/envs/aer-paper/lib/python3.7/site-packages/statsmodels/base/model.py:568: ConvergenceWarning: Maximum Likelihood optimization failed to converge. Check mle_retvals\n",
      "  ConvergenceWarning)\n",
      "/home/dongyu/miniconda/envs/aer-paper/lib/python3.7/site-packages/statsmodels/base/model.py:568: ConvergenceWarning: Maximum Likelihood optimization failed to converge. Check mle_retvals\n",
      "  ConvergenceWarning)\n",
      "/home/dongyu/miniconda/envs/aer-paper/lib/python3.7/site-packages/statsmodels/base/model.py:568: ConvergenceWarning: Maximum Likelihood optimization failed to converge. Check mle_retvals\n",
      "  ConvergenceWarning)\n",
      "/home/dongyu/miniconda/envs/aer-paper/lib/python3.7/site-packages/statsmodels/base/model.py:568: ConvergenceWarning: Maximum Likelihood optimization failed to converge. Check mle_retvals\n",
      "  ConvergenceWarning)\n",
      "/home/dongyu/miniconda/envs/aer-paper/lib/python3.7/site-packages/statsmodels/base/model.py:568: ConvergenceWarning: Maximum Likelihood optimization failed to converge. Check mle_retvals\n",
      "  ConvergenceWarning)\n",
      "/home/dongyu/miniconda/envs/aer-paper/lib/python3.7/site-packages/statsmodels/base/model.py:568: ConvergenceWarning: Maximum Likelihood optimization failed to converge. Check mle_retvals\n",
      "  ConvergenceWarning)\n",
      "/home/dongyu/miniconda/envs/aer-paper/lib/python3.7/site-packages/statsmodels/base/model.py:568: ConvergenceWarning: Maximum Likelihood optimization failed to converge. Check mle_retvals\n",
      "  ConvergenceWarning)\n",
      "\n",
      "\n",
      "  5%|▍         | 181/3710 [2:46:10<194:09:42, 198.07s/it]\u001b[A\u001b[A"
     ]
    },
    {
     "name": "stdout",
     "output_type": "stream",
     "text": [
      "pipeline: arima_ablation, signal: Twitter_volume_IBM, test_split: False, detrend: False\n"
     ]
    },
    {
     "name": "stderr",
     "output_type": "stream",
     "text": [
      "/home/dongyu/miniconda/envs/aer-paper/lib/python3.7/site-packages/statsmodels/base/model.py:568: ConvergenceWarning: Maximum Likelihood optimization failed to converge. Check mle_retvals\n",
      "  ConvergenceWarning)\n",
      "/home/dongyu/miniconda/envs/aer-paper/lib/python3.7/site-packages/statsmodels/base/model.py:568: ConvergenceWarning: Maximum Likelihood optimization failed to converge. Check mle_retvals\n",
      "  ConvergenceWarning)\n",
      "/home/dongyu/miniconda/envs/aer-paper/lib/python3.7/site-packages/statsmodels/base/model.py:568: ConvergenceWarning: Maximum Likelihood optimization failed to converge. Check mle_retvals\n",
      "  ConvergenceWarning)\n",
      "/home/dongyu/miniconda/envs/aer-paper/lib/python3.7/site-packages/statsmodels/base/model.py:568: ConvergenceWarning: Maximum Likelihood optimization failed to converge. Check mle_retvals\n",
      "  ConvergenceWarning)\n",
      "/home/dongyu/miniconda/envs/aer-paper/lib/python3.7/site-packages/statsmodels/base/model.py:568: ConvergenceWarning: Maximum Likelihood optimization failed to converge. Check mle_retvals\n",
      "  ConvergenceWarning)\n",
      "/home/dongyu/miniconda/envs/aer-paper/lib/python3.7/site-packages/statsmodels/base/model.py:568: ConvergenceWarning: Maximum Likelihood optimization failed to converge. Check mle_retvals\n",
      "  ConvergenceWarning)\n",
      "/home/dongyu/miniconda/envs/aer-paper/lib/python3.7/site-packages/statsmodels/base/model.py:568: ConvergenceWarning: Maximum Likelihood optimization failed to converge. Check mle_retvals\n",
      "  ConvergenceWarning)\n",
      "\n",
      "\n",
      "  5%|▍         | 182/3710 [2:48:54<184:09:26, 187.92s/it]\u001b[A\u001b[A"
     ]
    },
    {
     "name": "stdout",
     "output_type": "stream",
     "text": [
      "pipeline: arima_ablation, signal: Twitter_volume_KO, test_split: False, detrend: False\n"
     ]
    },
    {
     "name": "stderr",
     "output_type": "stream",
     "text": [
      "/home/dongyu/miniconda/envs/aer-paper/lib/python3.7/site-packages/statsmodels/base/model.py:568: ConvergenceWarning: Maximum Likelihood optimization failed to converge. Check mle_retvals\n",
      "  ConvergenceWarning)\n",
      "/home/dongyu/miniconda/envs/aer-paper/lib/python3.7/site-packages/statsmodels/base/model.py:568: ConvergenceWarning: Maximum Likelihood optimization failed to converge. Check mle_retvals\n",
      "  ConvergenceWarning)\n",
      "/home/dongyu/miniconda/envs/aer-paper/lib/python3.7/site-packages/statsmodels/base/model.py:568: ConvergenceWarning: Maximum Likelihood optimization failed to converge. Check mle_retvals\n",
      "  ConvergenceWarning)\n",
      "/home/dongyu/miniconda/envs/aer-paper/lib/python3.7/site-packages/statsmodels/base/model.py:568: ConvergenceWarning: Maximum Likelihood optimization failed to converge. Check mle_retvals\n",
      "  ConvergenceWarning)\n",
      "/home/dongyu/miniconda/envs/aer-paper/lib/python3.7/site-packages/statsmodels/base/model.py:568: ConvergenceWarning: Maximum Likelihood optimization failed to converge. Check mle_retvals\n",
      "  ConvergenceWarning)\n",
      "/home/dongyu/miniconda/envs/aer-paper/lib/python3.7/site-packages/statsmodels/base/model.py:568: ConvergenceWarning: Maximum Likelihood optimization failed to converge. Check mle_retvals\n",
      "  ConvergenceWarning)\n",
      "/home/dongyu/miniconda/envs/aer-paper/lib/python3.7/site-packages/statsmodels/base/model.py:568: ConvergenceWarning: Maximum Likelihood optimization failed to converge. Check mle_retvals\n",
      "  ConvergenceWarning)\n",
      "/home/dongyu/miniconda/envs/aer-paper/lib/python3.7/site-packages/statsmodels/base/model.py:568: ConvergenceWarning: Maximum Likelihood optimization failed to converge. Check mle_retvals\n",
      "  ConvergenceWarning)\n",
      "/home/dongyu/miniconda/envs/aer-paper/lib/python3.7/site-packages/statsmodels/base/model.py:568: ConvergenceWarning: Maximum Likelihood optimization failed to converge. Check mle_retvals\n",
      "  ConvergenceWarning)\n",
      "/home/dongyu/miniconda/envs/aer-paper/lib/python3.7/site-packages/statsmodels/base/model.py:568: ConvergenceWarning: Maximum Likelihood optimization failed to converge. Check mle_retvals\n",
      "  ConvergenceWarning)\n",
      "/home/dongyu/miniconda/envs/aer-paper/lib/python3.7/site-packages/statsmodels/base/model.py:568: ConvergenceWarning: Maximum Likelihood optimization failed to converge. Check mle_retvals\n",
      "  ConvergenceWarning)\n",
      "/home/dongyu/miniconda/envs/aer-paper/lib/python3.7/site-packages/statsmodels/base/model.py:568: ConvergenceWarning: Maximum Likelihood optimization failed to converge. Check mle_retvals\n",
      "  ConvergenceWarning)\n",
      "/home/dongyu/miniconda/envs/aer-paper/lib/python3.7/site-packages/statsmodels/base/model.py:568: ConvergenceWarning: Maximum Likelihood optimization failed to converge. Check mle_retvals\n",
      "  ConvergenceWarning)\n",
      "/home/dongyu/miniconda/envs/aer-paper/lib/python3.7/site-packages/statsmodels/base/model.py:568: ConvergenceWarning: Maximum Likelihood optimization failed to converge. Check mle_retvals\n",
      "  ConvergenceWarning)\n",
      "/home/dongyu/miniconda/envs/aer-paper/lib/python3.7/site-packages/statsmodels/base/model.py:568: ConvergenceWarning: Maximum Likelihood optimization failed to converge. Check mle_retvals\n",
      "  ConvergenceWarning)\n",
      "/home/dongyu/miniconda/envs/aer-paper/lib/python3.7/site-packages/statsmodels/base/model.py:568: ConvergenceWarning: Maximum Likelihood optimization failed to converge. Check mle_retvals\n",
      "  ConvergenceWarning)\n",
      "/home/dongyu/miniconda/envs/aer-paper/lib/python3.7/site-packages/statsmodels/base/model.py:568: ConvergenceWarning: Maximum Likelihood optimization failed to converge. Check mle_retvals\n",
      "  ConvergenceWarning)\n",
      "/home/dongyu/miniconda/envs/aer-paper/lib/python3.7/site-packages/statsmodels/base/model.py:568: ConvergenceWarning: Maximum Likelihood optimization failed to converge. Check mle_retvals\n",
      "  ConvergenceWarning)\n",
      "/home/dongyu/miniconda/envs/aer-paper/lib/python3.7/site-packages/statsmodels/base/model.py:568: ConvergenceWarning: Maximum Likelihood optimization failed to converge. Check mle_retvals\n",
      "  ConvergenceWarning)\n",
      "/home/dongyu/miniconda/envs/aer-paper/lib/python3.7/site-packages/statsmodels/base/model.py:568: ConvergenceWarning: Maximum Likelihood optimization failed to converge. Check mle_retvals\n",
      "  ConvergenceWarning)\n",
      "/home/dongyu/miniconda/envs/aer-paper/lib/python3.7/site-packages/statsmodels/base/model.py:568: ConvergenceWarning: Maximum Likelihood optimization failed to converge. Check mle_retvals\n",
      "  ConvergenceWarning)\n",
      "\n",
      "\n",
      "  5%|▍         | 183/3710 [2:52:22<189:53:10, 193.82s/it]\u001b[A\u001b[A"
     ]
    },
    {
     "name": "stdout",
     "output_type": "stream",
     "text": [
      "pipeline: arima_ablation, signal: Twitter_volume_PFE, test_split: False, detrend: False\n"
     ]
    },
    {
     "name": "stderr",
     "output_type": "stream",
     "text": [
      "/home/dongyu/miniconda/envs/aer-paper/lib/python3.7/site-packages/statsmodels/base/model.py:568: ConvergenceWarning: Maximum Likelihood optimization failed to converge. Check mle_retvals\n",
      "  ConvergenceWarning)\n",
      "/home/dongyu/miniconda/envs/aer-paper/lib/python3.7/site-packages/statsmodels/base/model.py:568: ConvergenceWarning: Maximum Likelihood optimization failed to converge. Check mle_retvals\n",
      "  ConvergenceWarning)\n",
      "/home/dongyu/miniconda/envs/aer-paper/lib/python3.7/site-packages/statsmodels/base/model.py:568: ConvergenceWarning: Maximum Likelihood optimization failed to converge. Check mle_retvals\n",
      "  ConvergenceWarning)\n",
      "/home/dongyu/miniconda/envs/aer-paper/lib/python3.7/site-packages/statsmodels/base/model.py:568: ConvergenceWarning: Maximum Likelihood optimization failed to converge. Check mle_retvals\n",
      "  ConvergenceWarning)\n",
      "/home/dongyu/miniconda/envs/aer-paper/lib/python3.7/site-packages/statsmodels/base/model.py:568: ConvergenceWarning: Maximum Likelihood optimization failed to converge. Check mle_retvals\n",
      "  ConvergenceWarning)\n",
      "/home/dongyu/miniconda/envs/aer-paper/lib/python3.7/site-packages/statsmodels/base/model.py:568: ConvergenceWarning: Maximum Likelihood optimization failed to converge. Check mle_retvals\n",
      "  ConvergenceWarning)\n",
      "/home/dongyu/miniconda/envs/aer-paper/lib/python3.7/site-packages/statsmodels/base/model.py:568: ConvergenceWarning: Maximum Likelihood optimization failed to converge. Check mle_retvals\n",
      "  ConvergenceWarning)\n",
      "/home/dongyu/miniconda/envs/aer-paper/lib/python3.7/site-packages/statsmodels/base/model.py:568: ConvergenceWarning: Maximum Likelihood optimization failed to converge. Check mle_retvals\n",
      "  ConvergenceWarning)\n",
      "/home/dongyu/miniconda/envs/aer-paper/lib/python3.7/site-packages/statsmodels/base/model.py:568: ConvergenceWarning: Maximum Likelihood optimization failed to converge. Check mle_retvals\n",
      "  ConvergenceWarning)\n",
      "/home/dongyu/miniconda/envs/aer-paper/lib/python3.7/site-packages/statsmodels/base/model.py:568: ConvergenceWarning: Maximum Likelihood optimization failed to converge. Check mle_retvals\n",
      "  ConvergenceWarning)\n",
      "/home/dongyu/miniconda/envs/aer-paper/lib/python3.7/site-packages/statsmodels/base/model.py:568: ConvergenceWarning: Maximum Likelihood optimization failed to converge. Check mle_retvals\n",
      "  ConvergenceWarning)\n",
      "/home/dongyu/miniconda/envs/aer-paper/lib/python3.7/site-packages/statsmodels/base/model.py:568: ConvergenceWarning: Maximum Likelihood optimization failed to converge. Check mle_retvals\n",
      "  ConvergenceWarning)\n",
      "/home/dongyu/miniconda/envs/aer-paper/lib/python3.7/site-packages/statsmodels/base/model.py:568: ConvergenceWarning: Maximum Likelihood optimization failed to converge. Check mle_retvals\n",
      "  ConvergenceWarning)\n",
      "\n",
      "\n",
      "  5%|▍         | 184/3710 [2:54:50<176:31:49, 180.24s/it]\u001b[A\u001b[A"
     ]
    },
    {
     "name": "stdout",
     "output_type": "stream",
     "text": [
      "pipeline: arima_ablation, signal: Twitter_volume_UPS, test_split: False, detrend: False\n"
     ]
    },
    {
     "name": "stderr",
     "output_type": "stream",
     "text": [
      "/home/dongyu/miniconda/envs/aer-paper/lib/python3.7/site-packages/statsmodels/base/model.py:568: ConvergenceWarning: Maximum Likelihood optimization failed to converge. Check mle_retvals\n",
      "  ConvergenceWarning)\n",
      "/home/dongyu/miniconda/envs/aer-paper/lib/python3.7/site-packages/statsmodels/base/model.py:568: ConvergenceWarning: Maximum Likelihood optimization failed to converge. Check mle_retvals\n",
      "  ConvergenceWarning)\n",
      "/home/dongyu/miniconda/envs/aer-paper/lib/python3.7/site-packages/statsmodels/base/model.py:568: ConvergenceWarning: Maximum Likelihood optimization failed to converge. Check mle_retvals\n",
      "  ConvergenceWarning)\n",
      "/home/dongyu/miniconda/envs/aer-paper/lib/python3.7/site-packages/statsmodels/base/model.py:568: ConvergenceWarning: Maximum Likelihood optimization failed to converge. Check mle_retvals\n",
      "  ConvergenceWarning)\n",
      "/home/dongyu/miniconda/envs/aer-paper/lib/python3.7/site-packages/statsmodels/base/model.py:568: ConvergenceWarning: Maximum Likelihood optimization failed to converge. Check mle_retvals\n",
      "  ConvergenceWarning)\n",
      "/home/dongyu/miniconda/envs/aer-paper/lib/python3.7/site-packages/statsmodels/base/model.py:568: ConvergenceWarning: Maximum Likelihood optimization failed to converge. Check mle_retvals\n",
      "  ConvergenceWarning)\n",
      "/home/dongyu/miniconda/envs/aer-paper/lib/python3.7/site-packages/statsmodels/base/model.py:568: ConvergenceWarning: Maximum Likelihood optimization failed to converge. Check mle_retvals\n",
      "  ConvergenceWarning)\n",
      "/home/dongyu/miniconda/envs/aer-paper/lib/python3.7/site-packages/statsmodels/base/model.py:568: ConvergenceWarning: Maximum Likelihood optimization failed to converge. Check mle_retvals\n",
      "  ConvergenceWarning)\n",
      "/home/dongyu/miniconda/envs/aer-paper/lib/python3.7/site-packages/statsmodels/base/model.py:568: ConvergenceWarning: Maximum Likelihood optimization failed to converge. Check mle_retvals\n",
      "  ConvergenceWarning)\n",
      "/home/dongyu/miniconda/envs/aer-paper/lib/python3.7/site-packages/statsmodels/base/model.py:568: ConvergenceWarning: Maximum Likelihood optimization failed to converge. Check mle_retvals\n",
      "  ConvergenceWarning)\n",
      "/home/dongyu/miniconda/envs/aer-paper/lib/python3.7/site-packages/statsmodels/base/model.py:568: ConvergenceWarning: Maximum Likelihood optimization failed to converge. Check mle_retvals\n",
      "  ConvergenceWarning)\n",
      "/home/dongyu/miniconda/envs/aer-paper/lib/python3.7/site-packages/statsmodels/base/model.py:568: ConvergenceWarning: Maximum Likelihood optimization failed to converge. Check mle_retvals\n",
      "  ConvergenceWarning)\n",
      "/home/dongyu/miniconda/envs/aer-paper/lib/python3.7/site-packages/statsmodels/base/model.py:568: ConvergenceWarning: Maximum Likelihood optimization failed to converge. Check mle_retvals\n",
      "  ConvergenceWarning)\n",
      "\n",
      "\n",
      "  5%|▍         | 185/3710 [2:57:37<172:26:05, 176.10s/it]\u001b[A\u001b[A"
     ]
    },
    {
     "name": "stdout",
     "output_type": "stream",
     "text": [
      "pipeline: lstm_dynamic_threshold_ablation, signal: Twitter_volume_AAPL, test_split: False, detrend: False\n"
     ]
    },
    {
     "name": "stderr",
     "output_type": "stream",
     "text": [
      "\n",
      "\n",
      "  5%|▌         | 186/3710 [2:58:46<140:57:18, 143.99s/it]\u001b[A\u001b[A"
     ]
    },
    {
     "name": "stdout",
     "output_type": "stream",
     "text": [
      "pipeline: lstm_dynamic_threshold_ablation, signal: Twitter_volume_AMZN, test_split: False, detrend: False\n"
     ]
    },
    {
     "name": "stderr",
     "output_type": "stream",
     "text": [
      "\n",
      "\n",
      "  5%|▌         | 187/3710 [2:59:53<118:15:23, 120.84s/it]\u001b[A\u001b[A"
     ]
    },
    {
     "name": "stdout",
     "output_type": "stream",
     "text": [
      "pipeline: lstm_dynamic_threshold_ablation, signal: Twitter_volume_CRM, test_split: False, detrend: False\n"
     ]
    },
    {
     "name": "stderr",
     "output_type": "stream",
     "text": [
      "\n",
      "\n",
      "  5%|▌         | 188/3710 [3:01:02<102:56:09, 105.22s/it]\u001b[A\u001b[A"
     ]
    },
    {
     "name": "stdout",
     "output_type": "stream",
     "text": [
      "pipeline: lstm_dynamic_threshold_ablation, signal: Twitter_volume_CVS, test_split: False, detrend: False\n"
     ]
    },
    {
     "name": "stderr",
     "output_type": "stream",
     "text": [
      "\n",
      "\n",
      "  5%|▌         | 189/3710 [3:02:10<92:10:14, 94.24s/it]  \u001b[A\u001b[A"
     ]
    },
    {
     "name": "stdout",
     "output_type": "stream",
     "text": [
      "pipeline: lstm_dynamic_threshold_ablation, signal: Twitter_volume_FB, test_split: False, detrend: False\n"
     ]
    },
    {
     "name": "stderr",
     "output_type": "stream",
     "text": [
      "\n",
      "\n",
      "  5%|▌         | 190/3710 [3:03:19<84:43:33, 86.65s/it]\u001b[A\u001b[A"
     ]
    },
    {
     "name": "stdout",
     "output_type": "stream",
     "text": [
      "pipeline: lstm_dynamic_threshold_ablation, signal: Twitter_volume_GOOG, test_split: False, detrend: False\n"
     ]
    },
    {
     "name": "stderr",
     "output_type": "stream",
     "text": [
      "\n",
      "\n",
      "  5%|▌         | 191/3710 [3:04:27<79:10:52, 81.00s/it]\u001b[A\u001b[A"
     ]
    },
    {
     "name": "stdout",
     "output_type": "stream",
     "text": [
      "pipeline: lstm_dynamic_threshold_ablation, signal: Twitter_volume_IBM, test_split: False, detrend: False\n"
     ]
    },
    {
     "name": "stderr",
     "output_type": "stream",
     "text": [
      "\n",
      "\n",
      "  5%|▌         | 192/3710 [3:07:10<103:17:58, 105.71s/it]\u001b[A\u001b[A"
     ]
    },
    {
     "name": "stdout",
     "output_type": "stream",
     "text": [
      "pipeline: lstm_dynamic_threshold_ablation, signal: Twitter_volume_KO, test_split: False, detrend: False\n"
     ]
    },
    {
     "name": "stderr",
     "output_type": "stream",
     "text": [
      "\n",
      "\n",
      "  5%|▌         | 193/3710 [3:08:20<92:35:24, 94.78s/it]  \u001b[A\u001b[A"
     ]
    },
    {
     "name": "stdout",
     "output_type": "stream",
     "text": [
      "pipeline: lstm_dynamic_threshold_ablation, signal: Twitter_volume_PFE, test_split: False, detrend: False\n"
     ]
    },
    {
     "name": "stderr",
     "output_type": "stream",
     "text": [
      "\n",
      "\n",
      "  5%|▌         | 194/3710 [3:10:20<100:01:26, 102.41s/it]\u001b[A\u001b[A"
     ]
    },
    {
     "name": "stdout",
     "output_type": "stream",
     "text": [
      "pipeline: lstm_dynamic_threshold_ablation, signal: Twitter_volume_UPS, test_split: False, detrend: False\n"
     ]
    },
    {
     "name": "stderr",
     "output_type": "stream",
     "text": [
      "Invalid value encountered for precision 0.0/ recall 0.0.\n",
      "Traceback (most recent call last):\n",
      "  File \"/home/dongyu/miniconda/envs/aer-paper/lib/python3.7/site-packages/orion/evaluation/common.py\", line 70, in _f1_score\n",
      "    return 2 * (precision * recall) / (precision + recall)\n",
      "ZeroDivisionError: float division by zero\n",
      "\n",
      "\n",
      "  5%|▌         | 195/3710 [3:12:57<115:59:59, 118.80s/it]\u001b[A\u001b[A"
     ]
    },
    {
     "name": "stdout",
     "output_type": "stream",
     "text": [
      "pipeline: lstm_autoencoder_ablation, signal: Twitter_volume_AAPL, test_split: False, detrend: False\n"
     ]
    },
    {
     "name": "stderr",
     "output_type": "stream",
     "text": [
      "\n",
      "\n",
      "  5%|▌         | 196/3710 [3:13:43<94:33:15, 96.87s/it]  \u001b[A\u001b[A"
     ]
    },
    {
     "name": "stdout",
     "output_type": "stream",
     "text": [
      "pipeline: lstm_autoencoder_ablation, signal: Twitter_volume_AMZN, test_split: False, detrend: False\n"
     ]
    },
    {
     "name": "stderr",
     "output_type": "stream",
     "text": [
      "\n",
      "\n",
      "  5%|▌         | 197/3710 [3:14:24<78:21:29, 80.30s/it]\u001b[A\u001b[A"
     ]
    },
    {
     "name": "stdout",
     "output_type": "stream",
     "text": [
      "pipeline: lstm_autoencoder_ablation, signal: Twitter_volume_CRM, test_split: False, detrend: False\n"
     ]
    },
    {
     "name": "stderr",
     "output_type": "stream",
     "text": [
      "\n",
      "\n",
      "  5%|▌         | 198/3710 [3:15:08<67:31:32, 69.22s/it]\u001b[A\u001b[A"
     ]
    },
    {
     "name": "stdout",
     "output_type": "stream",
     "text": [
      "pipeline: lstm_autoencoder_ablation, signal: Twitter_volume_CVS, test_split: False, detrend: False\n"
     ]
    },
    {
     "name": "stderr",
     "output_type": "stream",
     "text": [
      "\n",
      "\n",
      "  5%|▌         | 199/3710 [3:15:46<58:38:21, 60.13s/it]\u001b[A\u001b[A"
     ]
    },
    {
     "name": "stdout",
     "output_type": "stream",
     "text": [
      "pipeline: lstm_autoencoder_ablation, signal: Twitter_volume_FB, test_split: False, detrend: False\n"
     ]
    },
    {
     "name": "stderr",
     "output_type": "stream",
     "text": [
      "Invalid value encountered for precision 0.0/ recall 0.0.\n",
      "Traceback (most recent call last):\n",
      "  File \"/home/dongyu/miniconda/envs/aer-paper/lib/python3.7/site-packages/orion/evaluation/common.py\", line 70, in _f1_score\n",
      "    return 2 * (precision * recall) / (precision + recall)\n",
      "ZeroDivisionError: float division by zero\n",
      "\n",
      "\n",
      "  5%|▌         | 200/3710 [3:16:26<52:38:48, 54.00s/it]\u001b[A\u001b[A"
     ]
    },
    {
     "name": "stdout",
     "output_type": "stream",
     "text": [
      "pipeline: lstm_autoencoder_ablation, signal: Twitter_volume_GOOG, test_split: False, detrend: False\n"
     ]
    },
    {
     "name": "stderr",
     "output_type": "stream",
     "text": [
      "\n",
      "\n",
      "  5%|▌         | 201/3710 [3:17:09<49:26:07, 50.72s/it]\u001b[A\u001b[A"
     ]
    },
    {
     "name": "stdout",
     "output_type": "stream",
     "text": [
      "pipeline: lstm_autoencoder_ablation, signal: Twitter_volume_IBM, test_split: False, detrend: False\n"
     ]
    },
    {
     "name": "stderr",
     "output_type": "stream",
     "text": [
      "\n",
      "\n",
      "  5%|▌         | 202/3710 [3:18:20<55:15:54, 56.71s/it]\u001b[A\u001b[A"
     ]
    },
    {
     "name": "stdout",
     "output_type": "stream",
     "text": [
      "pipeline: lstm_autoencoder_ablation, signal: Twitter_volume_KO, test_split: False, detrend: False\n"
     ]
    },
    {
     "name": "stderr",
     "output_type": "stream",
     "text": [
      "\n",
      "\n",
      "  5%|▌         | 203/3710 [3:19:17<55:15:50, 56.73s/it]\u001b[A\u001b[A"
     ]
    },
    {
     "name": "stdout",
     "output_type": "stream",
     "text": [
      "pipeline: lstm_autoencoder_ablation, signal: Twitter_volume_PFE, test_split: False, detrend: False\n"
     ]
    },
    {
     "name": "stderr",
     "output_type": "stream",
     "text": [
      "Evaluation exception division by zero (tp 0/ fp 0).\n",
      "Traceback (most recent call last):\n",
      "  File \"/home/dongyu/miniconda/envs/aer-paper/lib/python3.7/site-packages/orion/evaluation/common.py\", line 43, in _precision\n",
      "    return tp / (tp + fp)\n",
      "ZeroDivisionError: division by zero\n",
      "Evaluation exception division by zero (tp 0/ fp 0).\n",
      "Traceback (most recent call last):\n",
      "  File \"/home/dongyu/miniconda/envs/aer-paper/lib/python3.7/site-packages/orion/evaluation/common.py\", line 43, in _precision\n",
      "    return tp / (tp + fp)\n",
      "ZeroDivisionError: division by zero\n",
      "\n",
      "\n",
      "  5%|▌         | 204/3710 [3:20:16<56:00:00, 57.50s/it]\u001b[A\u001b[A"
     ]
    },
    {
     "name": "stdout",
     "output_type": "stream",
     "text": [
      "pipeline: lstm_autoencoder_ablation, signal: Twitter_volume_UPS, test_split: False, detrend: False\n"
     ]
    },
    {
     "name": "stderr",
     "output_type": "stream",
     "text": [
      "Invalid value encountered for precision 0.0/ recall 0.0.\n",
      "Traceback (most recent call last):\n",
      "  File \"/home/dongyu/miniconda/envs/aer-paper/lib/python3.7/site-packages/orion/evaluation/common.py\", line 70, in _f1_score\n",
      "    return 2 * (precision * recall) / (precision + recall)\n",
      "ZeroDivisionError: float division by zero\n",
      "\n",
      "\n",
      "  6%|▌         | 205/3710 [3:21:03<53:02:10, 54.47s/it]\u001b[A\u001b[A"
     ]
    },
    {
     "name": "stdout",
     "output_type": "stream",
     "text": [
      "pipeline: vae_ablation, signal: Twitter_volume_AAPL, test_split: False, detrend: False\n"
     ]
    },
    {
     "name": "stderr",
     "output_type": "stream",
     "text": [
      "\n",
      "\n",
      "  6%|▌         | 206/3710 [3:22:20<59:29:51, 61.13s/it]\u001b[A\u001b[A"
     ]
    },
    {
     "name": "stdout",
     "output_type": "stream",
     "text": [
      "pipeline: vae_ablation, signal: Twitter_volume_AMZN, test_split: False, detrend: False\n"
     ]
    },
    {
     "name": "stderr",
     "output_type": "stream",
     "text": [
      "Evaluation exception division by zero (tp 0/ fp 0).\n",
      "Traceback (most recent call last):\n",
      "  File \"/home/dongyu/miniconda/envs/aer-paper/lib/python3.7/site-packages/orion/evaluation/common.py\", line 43, in _precision\n",
      "    return tp / (tp + fp)\n",
      "ZeroDivisionError: division by zero\n",
      "Evaluation exception division by zero (tp 0/ fp 0).\n",
      "Traceback (most recent call last):\n",
      "  File \"/home/dongyu/miniconda/envs/aer-paper/lib/python3.7/site-packages/orion/evaluation/common.py\", line 43, in _precision\n",
      "    return tp / (tp + fp)\n",
      "ZeroDivisionError: division by zero\n",
      "\n",
      "\n",
      "  6%|▌         | 207/3710 [3:23:23<59:52:23, 61.53s/it]\u001b[A\u001b[A"
     ]
    },
    {
     "name": "stdout",
     "output_type": "stream",
     "text": [
      "pipeline: vae_ablation, signal: Twitter_volume_CRM, test_split: False, detrend: False\n"
     ]
    },
    {
     "name": "stderr",
     "output_type": "stream",
     "text": [
      "\n",
      "\n",
      "  6%|▌         | 208/3710 [3:24:38<63:49:02, 65.60s/it]\u001b[A\u001b[A"
     ]
    },
    {
     "name": "stdout",
     "output_type": "stream",
     "text": [
      "pipeline: vae_ablation, signal: Twitter_volume_CVS, test_split: False, detrend: False\n"
     ]
    },
    {
     "name": "stderr",
     "output_type": "stream",
     "text": [
      "\n",
      "\n",
      "  6%|▌         | 209/3710 [3:25:57<67:46:48, 69.70s/it]\u001b[A\u001b[A"
     ]
    },
    {
     "name": "stdout",
     "output_type": "stream",
     "text": [
      "pipeline: vae_ablation, signal: Twitter_volume_FB, test_split: False, detrend: False\n"
     ]
    },
    {
     "name": "stderr",
     "output_type": "stream",
     "text": [
      "\n",
      "\n",
      "  6%|▌         | 210/3710 [3:27:10<68:37:46, 70.59s/it]\u001b[A\u001b[A"
     ]
    },
    {
     "name": "stdout",
     "output_type": "stream",
     "text": [
      "pipeline: vae_ablation, signal: Twitter_volume_GOOG, test_split: False, detrend: False\n"
     ]
    },
    {
     "name": "stderr",
     "output_type": "stream",
     "text": [
      "\n",
      "\n",
      "  6%|▌         | 211/3710 [3:28:14<66:56:00, 68.87s/it]\u001b[A\u001b[A"
     ]
    },
    {
     "name": "stdout",
     "output_type": "stream",
     "text": [
      "pipeline: vae_ablation, signal: Twitter_volume_IBM, test_split: False, detrend: False\n"
     ]
    },
    {
     "name": "stderr",
     "output_type": "stream",
     "text": [
      "\n",
      "\n",
      "  6%|▌         | 212/3710 [3:29:30<68:48:49, 70.82s/it]\u001b[A\u001b[A"
     ]
    },
    {
     "name": "stdout",
     "output_type": "stream",
     "text": [
      "pipeline: vae_ablation, signal: Twitter_volume_KO, test_split: False, detrend: False\n"
     ]
    },
    {
     "name": "stderr",
     "output_type": "stream",
     "text": [
      "\n",
      "\n",
      "  6%|▌         | 213/3710 [3:30:34<66:59:40, 68.97s/it]\u001b[A\u001b[A"
     ]
    },
    {
     "name": "stdout",
     "output_type": "stream",
     "text": [
      "pipeline: vae_ablation, signal: Twitter_volume_PFE, test_split: False, detrend: False\n"
     ]
    },
    {
     "name": "stderr",
     "output_type": "stream",
     "text": [
      "\n",
      "\n",
      "  6%|▌         | 214/3710 [3:31:52<69:34:49, 71.65s/it]\u001b[A\u001b[A"
     ]
    },
    {
     "name": "stdout",
     "output_type": "stream",
     "text": [
      "pipeline: vae_ablation, signal: Twitter_volume_UPS, test_split: False, detrend: False\n"
     ]
    },
    {
     "name": "stderr",
     "output_type": "stream",
     "text": [
      "Invalid value encountered for precision 0.0/ recall 0.0.\n",
      "Traceback (most recent call last):\n",
      "  File \"/home/dongyu/miniconda/envs/aer-paper/lib/python3.7/site-packages/orion/evaluation/common.py\", line 70, in _f1_score\n",
      "    return 2 * (precision * recall) / (precision + recall)\n",
      "ZeroDivisionError: float division by zero\n",
      "\n",
      "\n",
      "  6%|▌         | 215/3710 [3:33:06<70:11:29, 72.30s/it]\u001b[A\u001b[A"
     ]
    },
    {
     "name": "stdout",
     "output_type": "stream",
     "text": [
      "pipeline: tadgan_ablation, signal: Twitter_volume_AAPL, test_split: False, detrend: False\n"
     ]
    },
    {
     "name": "stderr",
     "output_type": "stream",
     "text": [
      "\n",
      "\n",
      "  6%|▌         | 216/3710 [3:40:33<179:08:05, 184.57s/it]\u001b[A\u001b[A"
     ]
    },
    {
     "name": "stdout",
     "output_type": "stream",
     "text": [
      "pipeline: tadgan_ablation, signal: Twitter_volume_AMZN, test_split: False, detrend: False\n"
     ]
    },
    {
     "name": "stderr",
     "output_type": "stream",
     "text": [
      "\n",
      "\n",
      "  6%|▌         | 217/3710 [3:48:00<255:34:45, 263.41s/it]\u001b[A\u001b[A"
     ]
    },
    {
     "name": "stdout",
     "output_type": "stream",
     "text": [
      "pipeline: tadgan_ablation, signal: Twitter_volume_CRM, test_split: False, detrend: False\n"
     ]
    },
    {
     "name": "stderr",
     "output_type": "stream",
     "text": [
      "\n",
      "\n",
      "  6%|▌         | 218/3710 [3:55:29<309:26:26, 319.01s/it]\u001b[A\u001b[A"
     ]
    },
    {
     "name": "stdout",
     "output_type": "stream",
     "text": [
      "pipeline: tadgan_ablation, signal: Twitter_volume_CVS, test_split: False, detrend: False\n"
     ]
    },
    {
     "name": "stderr",
     "output_type": "stream",
     "text": [
      "\n",
      "\n",
      "  6%|▌         | 219/3710 [4:02:58<347:06:41, 357.95s/it]\u001b[A\u001b[A"
     ]
    },
    {
     "name": "stdout",
     "output_type": "stream",
     "text": [
      "pipeline: tadgan_ablation, signal: Twitter_volume_FB, test_split: False, detrend: False\n"
     ]
    },
    {
     "name": "stderr",
     "output_type": "stream",
     "text": [
      "\n",
      "\n",
      "  6%|▌         | 220/3710 [4:10:27<373:43:51, 385.51s/it]\u001b[A\u001b[A"
     ]
    },
    {
     "name": "stdout",
     "output_type": "stream",
     "text": [
      "pipeline: tadgan_ablation, signal: Twitter_volume_GOOG, test_split: False, detrend: False\n"
     ]
    },
    {
     "name": "stderr",
     "output_type": "stream",
     "text": [
      "\n",
      "\n",
      "  6%|▌         | 221/3710 [4:17:56<391:56:21, 404.41s/it]\u001b[A\u001b[A"
     ]
    },
    {
     "name": "stdout",
     "output_type": "stream",
     "text": [
      "pipeline: tadgan_ablation, signal: Twitter_volume_IBM, test_split: False, detrend: False\n"
     ]
    },
    {
     "name": "stderr",
     "output_type": "stream",
     "text": [
      "\n",
      "\n",
      "  6%|▌         | 222/3710 [4:25:24<404:30:01, 417.49s/it]\u001b[A\u001b[A"
     ]
    },
    {
     "name": "stdout",
     "output_type": "stream",
     "text": [
      "pipeline: tadgan_ablation, signal: Twitter_volume_KO, test_split: False, detrend: False\n"
     ]
    },
    {
     "name": "stderr",
     "output_type": "stream",
     "text": [
      "\n",
      "\n",
      "  6%|▌         | 223/3710 [4:32:54<413:52:16, 427.28s/it]\u001b[A\u001b[A"
     ]
    },
    {
     "name": "stdout",
     "output_type": "stream",
     "text": [
      "pipeline: tadgan_ablation, signal: Twitter_volume_PFE, test_split: False, detrend: False\n"
     ]
    },
    {
     "name": "stderr",
     "output_type": "stream",
     "text": [
      "\n",
      "\n",
      "  6%|▌         | 224/3710 [4:40:24<420:16:21, 434.02s/it]\u001b[A\u001b[A"
     ]
    },
    {
     "name": "stdout",
     "output_type": "stream",
     "text": [
      "pipeline: tadgan_ablation, signal: Twitter_volume_UPS, test_split: False, detrend: False\n"
     ]
    },
    {
     "name": "stderr",
     "output_type": "stream",
     "text": [
      "\n",
      "\n",
      "  6%|▌         | 225/3710 [4:47:52<424:19:10, 438.32s/it]\u001b[A\u001b[A"
     ]
    },
    {
     "name": "stdout",
     "output_type": "stream",
     "text": [
      "pipeline: arima_ablation, signal: M-6, test_split: True, detrend: False\n"
     ]
    },
    {
     "name": "stderr",
     "output_type": "stream",
     "text": [
      "Exception caught producing MLBlock statsmodels.tsa.arima_model.Arima#1\n",
      "Traceback (most recent call last):\n",
      "  File \"/home/dongyu/miniconda/envs/aer-paper/lib/python3.7/site-packages/mlblocks/mlpipeline.py\", line 679, in _produce_block\n",
      "    block_outputs = block.produce(**produce_args)\n",
      "  File \"/home/dongyu/miniconda/envs/aer-paper/lib/python3.7/site-packages/mlblocks/mlblock.py\", line 331, in produce\n",
      "    return getattr(self.instance, self.produce_method)(**produce_kwargs)\n",
      "  File \"/home/dongyu/miniconda/envs/aer-paper/lib/python3.7/site-packages/mlprimitives/adapters/statsmodels.py\", line 49, in predict\n",
      "    arima_fit = arima.fit(disp=0)\n",
      "  File \"/home/dongyu/miniconda/envs/aer-paper/lib/python3.7/site-packages/statsmodels/tsa/arima_model.py\", line 1017, in fit\n",
      "    start_ar_lags)\n",
      "  File \"/home/dongyu/miniconda/envs/aer-paper/lib/python3.7/site-packages/statsmodels/tsa/arima_model.py\", line 608, in _fit_start_params\n",
      "    start_params = self._fit_start_params_hr(order, start_ar_lags)\n",
      "  File \"/home/dongyu/miniconda/envs/aer-paper/lib/python3.7/site-packages/statsmodels/tsa/arima_model.py\", line 580, in _fit_start_params_hr\n",
      "    arcoefs = yule_walker(endog, order=p)[0]\n",
      "  File \"/home/dongyu/miniconda/envs/aer-paper/lib/python3.7/site-packages/statsmodels/regression/linear_model.py\", line 1429, in yule_walker\n",
      "    rho = np.linalg.solve(R, r[1:])\n",
      "  File \"<__array_function__ internals>\", line 6, in solve\n",
      "  File \"/home/dongyu/miniconda/envs/aer-paper/lib/python3.7/site-packages/numpy/linalg/linalg.py\", line 399, in solve\n",
      "    r = gufunc(a, b, signature=signature, extobj=extobj)\n",
      "  File \"/home/dongyu/miniconda/envs/aer-paper/lib/python3.7/site-packages/numpy/linalg/linalg.py\", line 97, in _raise_linalgerror_singular\n",
      "    raise LinAlgError(\"Singular matrix\")\n",
      "numpy.linalg.LinAlgError: Singular matrix\n",
      "Exception scoring pipeline <mlblocks.mlpipeline.MLPipeline object at 0x7f3306bad250> on signal M-6 (test split: True), error Singular matrix.\n",
      "Traceback (most recent call last):\n",
      "  File \"/home/dongyu/apps/aer-paper/aer/benchmark.py\", line 162, in _evaluate_signal\n",
      "    anomalies = analyze(pipeline, train, test, save_output=save_output)\n",
      "  File \"/home/dongyu/miniconda/envs/aer-paper/lib/python3.7/site-packages/orion/analysis.py\", line 73, in analyze\n",
      "    events = _run_pipeline(pipeline, train, test, labels, save_output)\n",
      "  File \"/home/dongyu/miniconda/envs/aer-paper/lib/python3.7/site-packages/orion/analysis.py\", line 45, in _run_pipeline\n",
      "    output_=['default', 'model_info'])\n",
      "  File \"/home/dongyu/miniconda/envs/aer-paper/lib/python3.7/site-packages/mlblocks/mlpipeline.py\", line 913, in predict\n",
      "    self._produce_block(block, block_name, context, output_variables, outputs, debug_info)\n",
      "  File \"/home/dongyu/miniconda/envs/aer-paper/lib/python3.7/site-packages/mlblocks/mlpipeline.py\", line 679, in _produce_block\n",
      "    block_outputs = block.produce(**produce_args)\n",
      "  File \"/home/dongyu/miniconda/envs/aer-paper/lib/python3.7/site-packages/mlblocks/mlblock.py\", line 331, in produce\n",
      "    return getattr(self.instance, self.produce_method)(**produce_kwargs)\n",
      "  File \"/home/dongyu/miniconda/envs/aer-paper/lib/python3.7/site-packages/mlprimitives/adapters/statsmodels.py\", line 49, in predict\n",
      "    arima_fit = arima.fit(disp=0)\n",
      "  File \"/home/dongyu/miniconda/envs/aer-paper/lib/python3.7/site-packages/statsmodels/tsa/arima_model.py\", line 1017, in fit\n",
      "    start_ar_lags)\n",
      "  File \"/home/dongyu/miniconda/envs/aer-paper/lib/python3.7/site-packages/statsmodels/tsa/arima_model.py\", line 608, in _fit_start_params\n",
      "    start_params = self._fit_start_params_hr(order, start_ar_lags)\n",
      "  File \"/home/dongyu/miniconda/envs/aer-paper/lib/python3.7/site-packages/statsmodels/tsa/arima_model.py\", line 580, in _fit_start_params_hr\n",
      "    arcoefs = yule_walker(endog, order=p)[0]\n",
      "  File \"/home/dongyu/miniconda/envs/aer-paper/lib/python3.7/site-packages/statsmodels/regression/linear_model.py\", line 1429, in yule_walker\n",
      "    rho = np.linalg.solve(R, r[1:])\n",
      "  File \"<__array_function__ internals>\", line 6, in solve\n",
      "  File \"/home/dongyu/miniconda/envs/aer-paper/lib/python3.7/site-packages/numpy/linalg/linalg.py\", line 399, in solve\n",
      "    r = gufunc(a, b, signature=signature, extobj=extobj)\n",
      "  File \"/home/dongyu/miniconda/envs/aer-paper/lib/python3.7/site-packages/numpy/linalg/linalg.py\", line 97, in _raise_linalgerror_singular\n",
      "    raise LinAlgError(\"Singular matrix\")\n",
      "numpy.linalg.LinAlgError: Singular matrix\n",
      "\n",
      "\n",
      "  6%|▌         | 226/3710 [4:47:54<297:25:57, 307.34s/it]\u001b[A\u001b[A"
     ]
    },
    {
     "name": "stdout",
     "output_type": "stream",
     "text": [
      "pipeline: arima_ablation, signal: M-1, test_split: True, detrend: False\n"
     ]
    },
    {
     "name": "stderr",
     "output_type": "stream",
     "text": [
      "/home/dongyu/miniconda/envs/aer-paper/lib/python3.7/site-packages/statsmodels/base/model.py:568: ConvergenceWarning: Maximum Likelihood optimization failed to converge. Check mle_retvals\n",
      "  ConvergenceWarning)\n",
      "/home/dongyu/miniconda/envs/aer-paper/lib/python3.7/site-packages/statsmodels/base/model.py:568: ConvergenceWarning: Maximum Likelihood optimization failed to converge. Check mle_retvals\n",
      "  ConvergenceWarning)\n",
      "/home/dongyu/miniconda/envs/aer-paper/lib/python3.7/site-packages/statsmodels/base/model.py:568: ConvergenceWarning: Maximum Likelihood optimization failed to converge. Check mle_retvals\n",
      "  ConvergenceWarning)\n",
      "/home/dongyu/miniconda/envs/aer-paper/lib/python3.7/site-packages/statsmodels/base/model.py:568: ConvergenceWarning: Maximum Likelihood optimization failed to converge. Check mle_retvals\n",
      "  ConvergenceWarning)\n",
      "\n",
      "\n",
      "  6%|▌         | 227/3710 [4:48:33<219:34:05, 226.94s/it]\u001b[A\u001b[A"
     ]
    },
    {
     "name": "stdout",
     "output_type": "stream",
     "text": [
      "pipeline: arima_ablation, signal: M-2, test_split: True, detrend: False\n"
     ]
    },
    {
     "name": "stderr",
     "output_type": "stream",
     "text": [
      "/home/dongyu/miniconda/envs/aer-paper/lib/python3.7/site-packages/statsmodels/base/model.py:568: ConvergenceWarning: Maximum Likelihood optimization failed to converge. Check mle_retvals\n",
      "  ConvergenceWarning)\n",
      "/home/dongyu/miniconda/envs/aer-paper/lib/python3.7/site-packages/statsmodels/base/model.py:568: ConvergenceWarning: Maximum Likelihood optimization failed to converge. Check mle_retvals\n",
      "  ConvergenceWarning)\n",
      "/home/dongyu/miniconda/envs/aer-paper/lib/python3.7/site-packages/statsmodels/base/model.py:568: ConvergenceWarning: Maximum Likelihood optimization failed to converge. Check mle_retvals\n",
      "  ConvergenceWarning)\n",
      "/home/dongyu/miniconda/envs/aer-paper/lib/python3.7/site-packages/statsmodels/base/model.py:568: ConvergenceWarning: Maximum Likelihood optimization failed to converge. Check mle_retvals\n",
      "  ConvergenceWarning)\n",
      "\n",
      "\n",
      "  6%|▌         | 228/3710 [4:49:09<163:58:35, 169.53s/it]\u001b[A\u001b[A"
     ]
    },
    {
     "name": "stdout",
     "output_type": "stream",
     "text": [
      "pipeline: arima_ablation, signal: S-2, test_split: True, detrend: False\n"
     ]
    },
    {
     "name": "stderr",
     "output_type": "stream",
     "text": [
      "Exception caught producing MLBlock statsmodels.tsa.arima_model.Arima#1\n",
      "Traceback (most recent call last):\n",
      "  File \"/home/dongyu/miniconda/envs/aer-paper/lib/python3.7/site-packages/mlblocks/mlpipeline.py\", line 679, in _produce_block\n",
      "    block_outputs = block.produce(**produce_args)\n",
      "  File \"/home/dongyu/miniconda/envs/aer-paper/lib/python3.7/site-packages/mlblocks/mlblock.py\", line 331, in produce\n",
      "    return getattr(self.instance, self.produce_method)(**produce_kwargs)\n",
      "  File \"/home/dongyu/miniconda/envs/aer-paper/lib/python3.7/site-packages/mlprimitives/adapters/statsmodels.py\", line 49, in predict\n",
      "    arima_fit = arima.fit(disp=0)\n",
      "  File \"/home/dongyu/miniconda/envs/aer-paper/lib/python3.7/site-packages/statsmodels/tsa/arima_model.py\", line 1017, in fit\n",
      "    start_ar_lags)\n",
      "  File \"/home/dongyu/miniconda/envs/aer-paper/lib/python3.7/site-packages/statsmodels/tsa/arima_model.py\", line 608, in _fit_start_params\n",
      "    start_params = self._fit_start_params_hr(order, start_ar_lags)\n",
      "  File \"/home/dongyu/miniconda/envs/aer-paper/lib/python3.7/site-packages/statsmodels/tsa/arima_model.py\", line 580, in _fit_start_params_hr\n",
      "    arcoefs = yule_walker(endog, order=p)[0]\n",
      "  File \"/home/dongyu/miniconda/envs/aer-paper/lib/python3.7/site-packages/statsmodels/regression/linear_model.py\", line 1429, in yule_walker\n",
      "    rho = np.linalg.solve(R, r[1:])\n",
      "  File \"<__array_function__ internals>\", line 6, in solve\n",
      "  File \"/home/dongyu/miniconda/envs/aer-paper/lib/python3.7/site-packages/numpy/linalg/linalg.py\", line 399, in solve\n",
      "    r = gufunc(a, b, signature=signature, extobj=extobj)\n",
      "  File \"/home/dongyu/miniconda/envs/aer-paper/lib/python3.7/site-packages/numpy/linalg/linalg.py\", line 97, in _raise_linalgerror_singular\n",
      "    raise LinAlgError(\"Singular matrix\")\n",
      "numpy.linalg.LinAlgError: Singular matrix\n",
      "Exception scoring pipeline <mlblocks.mlpipeline.MLPipeline object at 0x7f3334a6cd50> on signal S-2 (test split: True), error Singular matrix.\n",
      "Traceback (most recent call last):\n",
      "  File \"/home/dongyu/apps/aer-paper/aer/benchmark.py\", line 162, in _evaluate_signal\n",
      "    anomalies = analyze(pipeline, train, test, save_output=save_output)\n",
      "  File \"/home/dongyu/miniconda/envs/aer-paper/lib/python3.7/site-packages/orion/analysis.py\", line 73, in analyze\n",
      "    events = _run_pipeline(pipeline, train, test, labels, save_output)\n",
      "  File \"/home/dongyu/miniconda/envs/aer-paper/lib/python3.7/site-packages/orion/analysis.py\", line 45, in _run_pipeline\n",
      "    output_=['default', 'model_info'])\n",
      "  File \"/home/dongyu/miniconda/envs/aer-paper/lib/python3.7/site-packages/mlblocks/mlpipeline.py\", line 913, in predict\n",
      "    self._produce_block(block, block_name, context, output_variables, outputs, debug_info)\n",
      "  File \"/home/dongyu/miniconda/envs/aer-paper/lib/python3.7/site-packages/mlblocks/mlpipeline.py\", line 679, in _produce_block\n",
      "    block_outputs = block.produce(**produce_args)\n",
      "  File \"/home/dongyu/miniconda/envs/aer-paper/lib/python3.7/site-packages/mlblocks/mlblock.py\", line 331, in produce\n",
      "    return getattr(self.instance, self.produce_method)(**produce_kwargs)\n",
      "  File \"/home/dongyu/miniconda/envs/aer-paper/lib/python3.7/site-packages/mlprimitives/adapters/statsmodels.py\", line 49, in predict\n",
      "    arima_fit = arima.fit(disp=0)\n",
      "  File \"/home/dongyu/miniconda/envs/aer-paper/lib/python3.7/site-packages/statsmodels/tsa/arima_model.py\", line 1017, in fit\n",
      "    start_ar_lags)\n",
      "  File \"/home/dongyu/miniconda/envs/aer-paper/lib/python3.7/site-packages/statsmodels/tsa/arima_model.py\", line 608, in _fit_start_params\n",
      "    start_params = self._fit_start_params_hr(order, start_ar_lags)\n",
      "  File \"/home/dongyu/miniconda/envs/aer-paper/lib/python3.7/site-packages/statsmodels/tsa/arima_model.py\", line 580, in _fit_start_params_hr\n",
      "    arcoefs = yule_walker(endog, order=p)[0]\n",
      "  File \"/home/dongyu/miniconda/envs/aer-paper/lib/python3.7/site-packages/statsmodels/regression/linear_model.py\", line 1429, in yule_walker\n",
      "    rho = np.linalg.solve(R, r[1:])\n",
      "  File \"<__array_function__ internals>\", line 6, in solve\n",
      "  File \"/home/dongyu/miniconda/envs/aer-paper/lib/python3.7/site-packages/numpy/linalg/linalg.py\", line 399, in solve\n",
      "    r = gufunc(a, b, signature=signature, extobj=extobj)\n",
      "  File \"/home/dongyu/miniconda/envs/aer-paper/lib/python3.7/site-packages/numpy/linalg/linalg.py\", line 97, in _raise_linalgerror_singular\n",
      "    raise LinAlgError(\"Singular matrix\")\n",
      "numpy.linalg.LinAlgError: Singular matrix\n",
      "\n",
      "\n",
      "  6%|▌         | 229/3710 [4:49:10<115:09:39, 119.10s/it]\u001b[A\u001b[A"
     ]
    },
    {
     "name": "stdout",
     "output_type": "stream",
     "text": [
      "pipeline: arima_ablation, signal: P-10, test_split: True, detrend: False\n"
     ]
    },
    {
     "name": "stderr",
     "output_type": "stream",
     "text": [
      "/home/dongyu/miniconda/envs/aer-paper/lib/python3.7/site-packages/statsmodels/base/model.py:568: ConvergenceWarning: Maximum Likelihood optimization failed to converge. Check mle_retvals\n",
      "  ConvergenceWarning)\n",
      "/home/dongyu/miniconda/envs/aer-paper/lib/python3.7/site-packages/statsmodels/base/model.py:568: ConvergenceWarning: Maximum Likelihood optimization failed to converge. Check mle_retvals\n",
      "  ConvergenceWarning)\n",
      "/home/dongyu/miniconda/envs/aer-paper/lib/python3.7/site-packages/statsmodels/base/model.py:568: ConvergenceWarning: Maximum Likelihood optimization failed to converge. Check mle_retvals\n",
      "  ConvergenceWarning)\n",
      "/home/dongyu/miniconda/envs/aer-paper/lib/python3.7/site-packages/statsmodels/base/model.py:568: ConvergenceWarning: Maximum Likelihood optimization failed to converge. Check mle_retvals\n",
      "  ConvergenceWarning)\n",
      "/home/dongyu/miniconda/envs/aer-paper/lib/python3.7/site-packages/statsmodels/base/model.py:568: ConvergenceWarning: Maximum Likelihood optimization failed to converge. Check mle_retvals\n",
      "  ConvergenceWarning)\n",
      "/home/dongyu/miniconda/envs/aer-paper/lib/python3.7/site-packages/statsmodels/base/model.py:568: ConvergenceWarning: Maximum Likelihood optimization failed to converge. Check mle_retvals\n",
      "  ConvergenceWarning)\n",
      "/home/dongyu/miniconda/envs/aer-paper/lib/python3.7/site-packages/statsmodels/base/model.py:568: ConvergenceWarning: Maximum Likelihood optimization failed to converge. Check mle_retvals\n",
      "  ConvergenceWarning)\n",
      "/home/dongyu/miniconda/envs/aer-paper/lib/python3.7/site-packages/statsmodels/base/model.py:568: ConvergenceWarning: Maximum Likelihood optimization failed to converge. Check mle_retvals\n",
      "  ConvergenceWarning)\n",
      "/home/dongyu/miniconda/envs/aer-paper/lib/python3.7/site-packages/statsmodels/base/model.py:568: ConvergenceWarning: Maximum Likelihood optimization failed to converge. Check mle_retvals\n",
      "  ConvergenceWarning)\n",
      "\n",
      "\n",
      "  6%|▌         | 230/3710 [4:51:27<120:23:02, 124.54s/it]\u001b[A\u001b[A"
     ]
    },
    {
     "name": "stdout",
     "output_type": "stream",
     "text": [
      "pipeline: arima_ablation, signal: T-4, test_split: True, detrend: False\n"
     ]
    },
    {
     "name": "stderr",
     "output_type": "stream",
     "text": [
      "/home/dongyu/miniconda/envs/aer-paper/lib/python3.7/site-packages/statsmodels/base/model.py:568: ConvergenceWarning: Maximum Likelihood optimization failed to converge. Check mle_retvals\n",
      "  ConvergenceWarning)\n",
      "/home/dongyu/miniconda/envs/aer-paper/lib/python3.7/site-packages/statsmodels/base/model.py:568: ConvergenceWarning: Maximum Likelihood optimization failed to converge. Check mle_retvals\n",
      "  ConvergenceWarning)\n",
      "/home/dongyu/miniconda/envs/aer-paper/lib/python3.7/site-packages/statsmodels/base/model.py:568: ConvergenceWarning: Maximum Likelihood optimization failed to converge. Check mle_retvals\n",
      "  ConvergenceWarning)\n",
      "/home/dongyu/miniconda/envs/aer-paper/lib/python3.7/site-packages/statsmodels/base/model.py:568: ConvergenceWarning: Maximum Likelihood optimization failed to converge. Check mle_retvals\n",
      "  ConvergenceWarning)\n",
      "\n",
      "\n",
      "  6%|▌         | 231/3710 [4:51:57<92:47:39, 96.02s/it]  \u001b[A\u001b[A"
     ]
    },
    {
     "name": "stdout",
     "output_type": "stream",
     "text": [
      "pipeline: arima_ablation, signal: T-5, test_split: True, detrend: False\n"
     ]
    },
    {
     "name": "stderr",
     "output_type": "stream",
     "text": [
      "Exception caught producing MLBlock statsmodels.tsa.arima_model.Arima#1\n",
      "Traceback (most recent call last):\n",
      "  File \"/home/dongyu/miniconda/envs/aer-paper/lib/python3.7/site-packages/mlblocks/mlpipeline.py\", line 679, in _produce_block\n",
      "    block_outputs = block.produce(**produce_args)\n",
      "  File \"/home/dongyu/miniconda/envs/aer-paper/lib/python3.7/site-packages/mlblocks/mlblock.py\", line 331, in produce\n",
      "    return getattr(self.instance, self.produce_method)(**produce_kwargs)\n",
      "  File \"/home/dongyu/miniconda/envs/aer-paper/lib/python3.7/site-packages/mlprimitives/adapters/statsmodels.py\", line 49, in predict\n",
      "    arima_fit = arima.fit(disp=0)\n",
      "  File \"/home/dongyu/miniconda/envs/aer-paper/lib/python3.7/site-packages/statsmodels/tsa/arima_model.py\", line 1017, in fit\n",
      "    start_ar_lags)\n",
      "  File \"/home/dongyu/miniconda/envs/aer-paper/lib/python3.7/site-packages/statsmodels/tsa/arima_model.py\", line 608, in _fit_start_params\n",
      "    start_params = self._fit_start_params_hr(order, start_ar_lags)\n",
      "  File \"/home/dongyu/miniconda/envs/aer-paper/lib/python3.7/site-packages/statsmodels/tsa/arima_model.py\", line 580, in _fit_start_params_hr\n",
      "    arcoefs = yule_walker(endog, order=p)[0]\n",
      "  File \"/home/dongyu/miniconda/envs/aer-paper/lib/python3.7/site-packages/statsmodels/regression/linear_model.py\", line 1429, in yule_walker\n",
      "    rho = np.linalg.solve(R, r[1:])\n",
      "  File \"<__array_function__ internals>\", line 6, in solve\n",
      "  File \"/home/dongyu/miniconda/envs/aer-paper/lib/python3.7/site-packages/numpy/linalg/linalg.py\", line 399, in solve\n",
      "    r = gufunc(a, b, signature=signature, extobj=extobj)\n",
      "  File \"/home/dongyu/miniconda/envs/aer-paper/lib/python3.7/site-packages/numpy/linalg/linalg.py\", line 97, in _raise_linalgerror_singular\n",
      "    raise LinAlgError(\"Singular matrix\")\n",
      "numpy.linalg.LinAlgError: Singular matrix\n",
      "Exception scoring pipeline <mlblocks.mlpipeline.MLPipeline object at 0x7f330a6bbad0> on signal T-5 (test split: True), error Singular matrix.\n",
      "Traceback (most recent call last):\n",
      "  File \"/home/dongyu/apps/aer-paper/aer/benchmark.py\", line 162, in _evaluate_signal\n",
      "    anomalies = analyze(pipeline, train, test, save_output=save_output)\n",
      "  File \"/home/dongyu/miniconda/envs/aer-paper/lib/python3.7/site-packages/orion/analysis.py\", line 73, in analyze\n",
      "    events = _run_pipeline(pipeline, train, test, labels, save_output)\n",
      "  File \"/home/dongyu/miniconda/envs/aer-paper/lib/python3.7/site-packages/orion/analysis.py\", line 45, in _run_pipeline\n",
      "    output_=['default', 'model_info'])\n",
      "  File \"/home/dongyu/miniconda/envs/aer-paper/lib/python3.7/site-packages/mlblocks/mlpipeline.py\", line 913, in predict\n",
      "    self._produce_block(block, block_name, context, output_variables, outputs, debug_info)\n",
      "  File \"/home/dongyu/miniconda/envs/aer-paper/lib/python3.7/site-packages/mlblocks/mlpipeline.py\", line 679, in _produce_block\n",
      "    block_outputs = block.produce(**produce_args)\n",
      "  File \"/home/dongyu/miniconda/envs/aer-paper/lib/python3.7/site-packages/mlblocks/mlblock.py\", line 331, in produce\n",
      "    return getattr(self.instance, self.produce_method)(**produce_kwargs)\n",
      "  File \"/home/dongyu/miniconda/envs/aer-paper/lib/python3.7/site-packages/mlprimitives/adapters/statsmodels.py\", line 49, in predict\n",
      "    arima_fit = arima.fit(disp=0)\n",
      "  File \"/home/dongyu/miniconda/envs/aer-paper/lib/python3.7/site-packages/statsmodels/tsa/arima_model.py\", line 1017, in fit\n",
      "    start_ar_lags)\n",
      "  File \"/home/dongyu/miniconda/envs/aer-paper/lib/python3.7/site-packages/statsmodels/tsa/arima_model.py\", line 608, in _fit_start_params\n",
      "    start_params = self._fit_start_params_hr(order, start_ar_lags)\n",
      "  File \"/home/dongyu/miniconda/envs/aer-paper/lib/python3.7/site-packages/statsmodels/tsa/arima_model.py\", line 580, in _fit_start_params_hr\n",
      "    arcoefs = yule_walker(endog, order=p)[0]\n",
      "  File \"/home/dongyu/miniconda/envs/aer-paper/lib/python3.7/site-packages/statsmodels/regression/linear_model.py\", line 1429, in yule_walker\n",
      "    rho = np.linalg.solve(R, r[1:])\n",
      "  File \"<__array_function__ internals>\", line 6, in solve\n",
      "  File \"/home/dongyu/miniconda/envs/aer-paper/lib/python3.7/site-packages/numpy/linalg/linalg.py\", line 399, in solve\n",
      "    r = gufunc(a, b, signature=signature, extobj=extobj)\n",
      "  File \"/home/dongyu/miniconda/envs/aer-paper/lib/python3.7/site-packages/numpy/linalg/linalg.py\", line 97, in _raise_linalgerror_singular\n",
      "    raise LinAlgError(\"Singular matrix\")\n",
      "numpy.linalg.LinAlgError: Singular matrix\n",
      "\n",
      "\n",
      "  6%|▋         | 232/3710 [4:51:59<65:31:30, 67.82s/it]\u001b[A\u001b[A"
     ]
    },
    {
     "name": "stdout",
     "output_type": "stream",
     "text": [
      "pipeline: arima_ablation, signal: F-7, test_split: True, detrend: False\n"
     ]
    },
    {
     "name": "stderr",
     "output_type": "stream",
     "text": [
      "/home/dongyu/miniconda/envs/aer-paper/lib/python3.7/site-packages/statsmodels/base/model.py:568: ConvergenceWarning: Maximum Likelihood optimization failed to converge. Check mle_retvals\n",
      "  ConvergenceWarning)\n",
      "/home/dongyu/miniconda/envs/aer-paper/lib/python3.7/site-packages/statsmodels/base/model.py:568: ConvergenceWarning: Maximum Likelihood optimization failed to converge. Check mle_retvals\n",
      "  ConvergenceWarning)\n",
      "/home/dongyu/miniconda/envs/aer-paper/lib/python3.7/site-packages/statsmodels/base/model.py:568: ConvergenceWarning: Maximum Likelihood optimization failed to converge. Check mle_retvals\n",
      "  ConvergenceWarning)\n",
      "/home/dongyu/miniconda/envs/aer-paper/lib/python3.7/site-packages/statsmodels/base/model.py:568: ConvergenceWarning: Maximum Likelihood optimization failed to converge. Check mle_retvals\n",
      "  ConvergenceWarning)\n",
      "/home/dongyu/miniconda/envs/aer-paper/lib/python3.7/site-packages/statsmodels/base/model.py:568: ConvergenceWarning: Maximum Likelihood optimization failed to converge. Check mle_retvals\n",
      "  ConvergenceWarning)\n",
      "/home/dongyu/miniconda/envs/aer-paper/lib/python3.7/site-packages/statsmodels/base/model.py:568: ConvergenceWarning: Maximum Likelihood optimization failed to converge. Check mle_retvals\n",
      "  ConvergenceWarning)\n",
      "/home/dongyu/miniconda/envs/aer-paper/lib/python3.7/site-packages/statsmodels/base/model.py:568: ConvergenceWarning: Maximum Likelihood optimization failed to converge. Check mle_retvals\n",
      "  ConvergenceWarning)\n",
      "/home/dongyu/miniconda/envs/aer-paper/lib/python3.7/site-packages/statsmodels/base/model.py:568: ConvergenceWarning: Maximum Likelihood optimization failed to converge. Check mle_retvals\n",
      "  ConvergenceWarning)\n",
      "/home/dongyu/miniconda/envs/aer-paper/lib/python3.7/site-packages/statsmodels/base/model.py:568: ConvergenceWarning: Maximum Likelihood optimization failed to converge. Check mle_retvals\n",
      "  ConvergenceWarning)\n",
      "/home/dongyu/miniconda/envs/aer-paper/lib/python3.7/site-packages/statsmodels/base/model.py:568: ConvergenceWarning: Maximum Likelihood optimization failed to converge. Check mle_retvals\n",
      "  ConvergenceWarning)\n",
      "/home/dongyu/miniconda/envs/aer-paper/lib/python3.7/site-packages/statsmodels/base/model.py:568: ConvergenceWarning: Maximum Likelihood optimization failed to converge. Check mle_retvals\n",
      "  ConvergenceWarning)\n",
      "/home/dongyu/miniconda/envs/aer-paper/lib/python3.7/site-packages/statsmodels/base/model.py:568: ConvergenceWarning: Maximum Likelihood optimization failed to converge. Check mle_retvals\n",
      "  ConvergenceWarning)\n",
      "/home/dongyu/miniconda/envs/aer-paper/lib/python3.7/site-packages/statsmodels/base/model.py:568: ConvergenceWarning: Maximum Likelihood optimization failed to converge. Check mle_retvals\n",
      "  ConvergenceWarning)\n",
      "/home/dongyu/miniconda/envs/aer-paper/lib/python3.7/site-packages/statsmodels/base/model.py:568: ConvergenceWarning: Maximum Likelihood optimization failed to converge. Check mle_retvals\n",
      "  ConvergenceWarning)\n",
      "/home/dongyu/miniconda/envs/aer-paper/lib/python3.7/site-packages/statsmodels/base/model.py:568: ConvergenceWarning: Maximum Likelihood optimization failed to converge. Check mle_retvals\n",
      "  ConvergenceWarning)\n",
      "Invalid value encountered for precision 0.0/ recall 0.0.\n",
      "Traceback (most recent call last):\n",
      "  File \"/home/dongyu/miniconda/envs/aer-paper/lib/python3.7/site-packages/orion/evaluation/common.py\", line 70, in _f1_score\n",
      "    return 2 * (precision * recall) / (precision + recall)\n",
      "ZeroDivisionError: float division by zero\n",
      "\n",
      "\n",
      "  6%|▋         | 233/3710 [4:53:16<68:16:59, 70.70s/it]\u001b[A\u001b[A"
     ]
    },
    {
     "name": "stdout",
     "output_type": "stream",
     "text": [
      "pipeline: arima_ablation, signal: M-3, test_split: True, detrend: False\n"
     ]
    },
    {
     "name": "stderr",
     "output_type": "stream",
     "text": [
      "/home/dongyu/miniconda/envs/aer-paper/lib/python3.7/site-packages/statsmodels/base/model.py:568: ConvergenceWarning: Maximum Likelihood optimization failed to converge. Check mle_retvals\n",
      "  ConvergenceWarning)\n",
      "/home/dongyu/miniconda/envs/aer-paper/lib/python3.7/site-packages/statsmodels/base/model.py:568: ConvergenceWarning: Maximum Likelihood optimization failed to converge. Check mle_retvals\n",
      "  ConvergenceWarning)\n",
      "/home/dongyu/miniconda/envs/aer-paper/lib/python3.7/site-packages/statsmodels/base/model.py:568: ConvergenceWarning: Maximum Likelihood optimization failed to converge. Check mle_retvals\n",
      "  ConvergenceWarning)\n",
      "/home/dongyu/miniconda/envs/aer-paper/lib/python3.7/site-packages/statsmodels/base/model.py:568: ConvergenceWarning: Maximum Likelihood optimization failed to converge. Check mle_retvals\n",
      "  ConvergenceWarning)\n",
      "Invalid value encountered for precision 0.0/ recall 0.0.\n",
      "Traceback (most recent call last):\n",
      "  File \"/home/dongyu/miniconda/envs/aer-paper/lib/python3.7/site-packages/orion/evaluation/common.py\", line 70, in _f1_score\n",
      "    return 2 * (precision * recall) / (precision + recall)\n",
      "ZeroDivisionError: float division by zero\n",
      "\n",
      "\n",
      "  6%|▋         | 234/3710 [4:53:55<58:50:56, 60.95s/it]\u001b[A\u001b[A"
     ]
    },
    {
     "name": "stdout",
     "output_type": "stream",
     "text": [
      "pipeline: arima_ablation, signal: M-4, test_split: True, detrend: False\n"
     ]
    },
    {
     "name": "stderr",
     "output_type": "stream",
     "text": [
      "/home/dongyu/miniconda/envs/aer-paper/lib/python3.7/site-packages/statsmodels/base/model.py:568: ConvergenceWarning: Maximum Likelihood optimization failed to converge. Check mle_retvals\n",
      "  ConvergenceWarning)\n",
      "/home/dongyu/miniconda/envs/aer-paper/lib/python3.7/site-packages/statsmodels/base/model.py:568: ConvergenceWarning: Maximum Likelihood optimization failed to converge. Check mle_retvals\n",
      "  ConvergenceWarning)\n",
      "/home/dongyu/miniconda/envs/aer-paper/lib/python3.7/site-packages/statsmodels/base/model.py:568: ConvergenceWarning: Maximum Likelihood optimization failed to converge. Check mle_retvals\n",
      "  ConvergenceWarning)\n",
      "/home/dongyu/miniconda/envs/aer-paper/lib/python3.7/site-packages/statsmodels/base/model.py:568: ConvergenceWarning: Maximum Likelihood optimization failed to converge. Check mle_retvals\n",
      "  ConvergenceWarning)\n",
      "/home/dongyu/miniconda/envs/aer-paper/lib/python3.7/site-packages/statsmodels/base/model.py:568: ConvergenceWarning: Maximum Likelihood optimization failed to converge. Check mle_retvals\n",
      "  ConvergenceWarning)\n",
      "Invalid value encountered for precision 0.0/ recall 0.0.\n",
      "Traceback (most recent call last):\n",
      "  File \"/home/dongyu/miniconda/envs/aer-paper/lib/python3.7/site-packages/orion/evaluation/common.py\", line 70, in _f1_score\n",
      "    return 2 * (precision * recall) / (precision + recall)\n",
      "ZeroDivisionError: float division by zero\n",
      "\n",
      "\n",
      "  6%|▋         | 235/3710 [4:54:28<50:56:45, 52.78s/it]\u001b[A\u001b[A"
     ]
    },
    {
     "name": "stdout",
     "output_type": "stream",
     "text": [
      "pipeline: arima_ablation, signal: M-5, test_split: True, detrend: False\n"
     ]
    },
    {
     "name": "stderr",
     "output_type": "stream",
     "text": [
      "/home/dongyu/miniconda/envs/aer-paper/lib/python3.7/site-packages/statsmodels/base/model.py:568: ConvergenceWarning: Maximum Likelihood optimization failed to converge. Check mle_retvals\n",
      "  ConvergenceWarning)\n",
      "/home/dongyu/miniconda/envs/aer-paper/lib/python3.7/site-packages/statsmodels/base/model.py:568: ConvergenceWarning: Maximum Likelihood optimization failed to converge. Check mle_retvals\n",
      "  ConvergenceWarning)\n",
      "/home/dongyu/miniconda/envs/aer-paper/lib/python3.7/site-packages/statsmodels/base/model.py:568: ConvergenceWarning: Maximum Likelihood optimization failed to converge. Check mle_retvals\n",
      "  ConvergenceWarning)\n",
      "/home/dongyu/miniconda/envs/aer-paper/lib/python3.7/site-packages/statsmodels/base/model.py:568: ConvergenceWarning: Maximum Likelihood optimization failed to converge. Check mle_retvals\n",
      "  ConvergenceWarning)\n",
      "/home/dongyu/miniconda/envs/aer-paper/lib/python3.7/site-packages/statsmodels/base/model.py:568: ConvergenceWarning: Maximum Likelihood optimization failed to converge. Check mle_retvals\n",
      "  ConvergenceWarning)\n",
      "/home/dongyu/miniconda/envs/aer-paper/lib/python3.7/site-packages/statsmodels/base/model.py:568: ConvergenceWarning: Maximum Likelihood optimization failed to converge. Check mle_retvals\n",
      "  ConvergenceWarning)\n",
      "\n",
      "\n",
      "  6%|▋         | 236/3710 [4:55:05<46:18:47, 47.99s/it]\u001b[A\u001b[A"
     ]
    },
    {
     "name": "stdout",
     "output_type": "stream",
     "text": [
      "pipeline: arima_ablation, signal: P-15, test_split: True, detrend: False\n"
     ]
    },
    {
     "name": "stderr",
     "output_type": "stream",
     "text": [
      "/home/dongyu/miniconda/envs/aer-paper/lib/python3.7/site-packages/statsmodels/base/model.py:568: ConvergenceWarning: Maximum Likelihood optimization failed to converge. Check mle_retvals\n",
      "  ConvergenceWarning)\n",
      "/home/dongyu/miniconda/envs/aer-paper/lib/python3.7/site-packages/statsmodels/base/model.py:568: ConvergenceWarning: Maximum Likelihood optimization failed to converge. Check mle_retvals\n",
      "  ConvergenceWarning)\n",
      "/home/dongyu/miniconda/envs/aer-paper/lib/python3.7/site-packages/statsmodels/base/model.py:568: ConvergenceWarning: Maximum Likelihood optimization failed to converge. Check mle_retvals\n",
      "  ConvergenceWarning)\n",
      "/home/dongyu/miniconda/envs/aer-paper/lib/python3.7/site-packages/statsmodels/base/model.py:568: ConvergenceWarning: Maximum Likelihood optimization failed to converge. Check mle_retvals\n",
      "  ConvergenceWarning)\n",
      "/home/dongyu/miniconda/envs/aer-paper/lib/python3.7/site-packages/statsmodels/base/model.py:568: ConvergenceWarning: Maximum Likelihood optimization failed to converge. Check mle_retvals\n",
      "  ConvergenceWarning)\n",
      "/home/dongyu/miniconda/envs/aer-paper/lib/python3.7/site-packages/statsmodels/base/model.py:568: ConvergenceWarning: Maximum Likelihood optimization failed to converge. Check mle_retvals\n",
      "  ConvergenceWarning)\n",
      "/home/dongyu/miniconda/envs/aer-paper/lib/python3.7/site-packages/statsmodels/base/model.py:568: ConvergenceWarning: Maximum Likelihood optimization failed to converge. Check mle_retvals\n",
      "  ConvergenceWarning)\n",
      "/home/dongyu/miniconda/envs/aer-paper/lib/python3.7/site-packages/statsmodels/base/model.py:568: ConvergenceWarning: Maximum Likelihood optimization failed to converge. Check mle_retvals\n",
      "  ConvergenceWarning)\n",
      "\n",
      "\n",
      "  6%|▋         | 237/3710 [4:56:08<50:36:45, 52.46s/it]\u001b[A\u001b[A"
     ]
    },
    {
     "name": "stdout",
     "output_type": "stream",
     "text": [
      "pipeline: arima_ablation, signal: C-1, test_split: True, detrend: False\n"
     ]
    },
    {
     "name": "stderr",
     "output_type": "stream",
     "text": [
      "/home/dongyu/miniconda/envs/aer-paper/lib/python3.7/site-packages/statsmodels/base/model.py:548: HessianInversionWarning: Inverting hessian failed, no bse or cov_params available\n",
      "  'available', HessianInversionWarning)\n",
      "/home/dongyu/miniconda/envs/aer-paper/lib/python3.7/site-packages/statsmodels/base/model.py:548: HessianInversionWarning: Inverting hessian failed, no bse or cov_params available\n",
      "  'available', HessianInversionWarning)\n",
      "/home/dongyu/miniconda/envs/aer-paper/lib/python3.7/site-packages/statsmodels/base/model.py:568: ConvergenceWarning: Maximum Likelihood optimization failed to converge. Check mle_retvals\n",
      "  ConvergenceWarning)\n",
      "/home/dongyu/miniconda/envs/aer-paper/lib/python3.7/site-packages/statsmodels/base/model.py:568: ConvergenceWarning: Maximum Likelihood optimization failed to converge. Check mle_retvals\n",
      "  ConvergenceWarning)\n",
      "/home/dongyu/miniconda/envs/aer-paper/lib/python3.7/site-packages/statsmodels/base/model.py:568: ConvergenceWarning: Maximum Likelihood optimization failed to converge. Check mle_retvals\n",
      "  ConvergenceWarning)\n",
      "/home/dongyu/miniconda/envs/aer-paper/lib/python3.7/site-packages/statsmodels/base/model.py:568: ConvergenceWarning: Maximum Likelihood optimization failed to converge. Check mle_retvals\n",
      "  ConvergenceWarning)\n",
      "/home/dongyu/miniconda/envs/aer-paper/lib/python3.7/site-packages/statsmodels/base/model.py:568: ConvergenceWarning: Maximum Likelihood optimization failed to converge. Check mle_retvals\n",
      "  ConvergenceWarning)\n",
      "/home/dongyu/miniconda/envs/aer-paper/lib/python3.7/site-packages/statsmodels/base/model.py:568: ConvergenceWarning: Maximum Likelihood optimization failed to converge. Check mle_retvals\n",
      "  ConvergenceWarning)\n",
      "\n",
      "\n",
      "  6%|▋         | 238/3710 [4:56:57<49:28:03, 51.29s/it]\u001b[A\u001b[A"
     ]
    },
    {
     "name": "stdout",
     "output_type": "stream",
     "text": [
      "pipeline: arima_ablation, signal: C-2, test_split: True, detrend: False\n"
     ]
    },
    {
     "name": "stderr",
     "output_type": "stream",
     "text": [
      "/home/dongyu/miniconda/envs/aer-paper/lib/python3.7/site-packages/statsmodels/base/model.py:548: HessianInversionWarning: Inverting hessian failed, no bse or cov_params available\n",
      "  'available', HessianInversionWarning)\n",
      "/home/dongyu/miniconda/envs/aer-paper/lib/python3.7/site-packages/statsmodels/base/model.py:548: HessianInversionWarning: Inverting hessian failed, no bse or cov_params available\n",
      "  'available', HessianInversionWarning)\n",
      "/home/dongyu/miniconda/envs/aer-paper/lib/python3.7/site-packages/statsmodels/base/model.py:548: HessianInversionWarning: Inverting hessian failed, no bse or cov_params available\n",
      "  'available', HessianInversionWarning)\n",
      "/home/dongyu/miniconda/envs/aer-paper/lib/python3.7/site-packages/statsmodels/base/model.py:548: HessianInversionWarning: Inverting hessian failed, no bse or cov_params available\n",
      "  'available', HessianInversionWarning)\n",
      "/home/dongyu/miniconda/envs/aer-paper/lib/python3.7/site-packages/statsmodels/base/model.py:548: HessianInversionWarning: Inverting hessian failed, no bse or cov_params available\n",
      "  'available', HessianInversionWarning)\n",
      "/home/dongyu/miniconda/envs/aer-paper/lib/python3.7/site-packages/statsmodels/base/model.py:568: ConvergenceWarning: Maximum Likelihood optimization failed to converge. Check mle_retvals\n",
      "  ConvergenceWarning)\n",
      "/home/dongyu/miniconda/envs/aer-paper/lib/python3.7/site-packages/statsmodels/base/model.py:548: HessianInversionWarning: Inverting hessian failed, no bse or cov_params available\n",
      "  'available', HessianInversionWarning)\n",
      "/home/dongyu/miniconda/envs/aer-paper/lib/python3.7/site-packages/statsmodels/base/model.py:568: ConvergenceWarning: Maximum Likelihood optimization failed to converge. Check mle_retvals\n",
      "  ConvergenceWarning)\n",
      "/home/dongyu/miniconda/envs/aer-paper/lib/python3.7/site-packages/statsmodels/base/model.py:568: ConvergenceWarning: Maximum Likelihood optimization failed to converge. Check mle_retvals\n",
      "  ConvergenceWarning)\n",
      "/home/dongyu/miniconda/envs/aer-paper/lib/python3.7/site-packages/statsmodels/base/model.py:568: ConvergenceWarning: Maximum Likelihood optimization failed to converge. Check mle_retvals\n",
      "  ConvergenceWarning)\n",
      "/home/dongyu/miniconda/envs/aer-paper/lib/python3.7/site-packages/statsmodels/base/model.py:568: ConvergenceWarning: Maximum Likelihood optimization failed to converge. Check mle_retvals\n",
      "  ConvergenceWarning)\n",
      "/home/dongyu/miniconda/envs/aer-paper/lib/python3.7/site-packages/statsmodels/base/model.py:568: ConvergenceWarning: Maximum Likelihood optimization failed to converge. Check mle_retvals\n",
      "  ConvergenceWarning)\n",
      "/home/dongyu/miniconda/envs/aer-paper/lib/python3.7/site-packages/statsmodels/base/model.py:568: ConvergenceWarning: Maximum Likelihood optimization failed to converge. Check mle_retvals\n",
      "  ConvergenceWarning)\n",
      "\n",
      "\n",
      "  6%|▋         | 239/3710 [4:57:32<44:51:53, 46.53s/it]\u001b[A\u001b[A"
     ]
    },
    {
     "name": "stdout",
     "output_type": "stream",
     "text": [
      "pipeline: arima_ablation, signal: T-12, test_split: True, detrend: False\n"
     ]
    },
    {
     "name": "stderr",
     "output_type": "stream",
     "text": [
      "/home/dongyu/miniconda/envs/aer-paper/lib/python3.7/site-packages/statsmodels/base/model.py:548: HessianInversionWarning: Inverting hessian failed, no bse or cov_params available\n",
      "  'available', HessianInversionWarning)\n",
      "/home/dongyu/miniconda/envs/aer-paper/lib/python3.7/site-packages/statsmodels/base/model.py:548: HessianInversionWarning: Inverting hessian failed, no bse or cov_params available\n",
      "  'available', HessianInversionWarning)\n",
      "/home/dongyu/miniconda/envs/aer-paper/lib/python3.7/site-packages/statsmodels/base/model.py:548: HessianInversionWarning: Inverting hessian failed, no bse or cov_params available\n",
      "  'available', HessianInversionWarning)\n",
      "/home/dongyu/miniconda/envs/aer-paper/lib/python3.7/site-packages/statsmodels/base/model.py:548: HessianInversionWarning: Inverting hessian failed, no bse or cov_params available\n",
      "  'available', HessianInversionWarning)\n",
      "/home/dongyu/miniconda/envs/aer-paper/lib/python3.7/site-packages/statsmodels/base/model.py:548: HessianInversionWarning: Inverting hessian failed, no bse or cov_params available\n",
      "  'available', HessianInversionWarning)\n",
      "/home/dongyu/miniconda/envs/aer-paper/lib/python3.7/site-packages/statsmodels/base/model.py:548: HessianInversionWarning: Inverting hessian failed, no bse or cov_params available\n",
      "  'available', HessianInversionWarning)\n",
      "/home/dongyu/miniconda/envs/aer-paper/lib/python3.7/site-packages/statsmodels/base/model.py:548: HessianInversionWarning: Inverting hessian failed, no bse or cov_params available\n",
      "  'available', HessianInversionWarning)\n",
      "/home/dongyu/miniconda/envs/aer-paper/lib/python3.7/site-packages/statsmodels/base/model.py:548: HessianInversionWarning: Inverting hessian failed, no bse or cov_params available\n",
      "  'available', HessianInversionWarning)\n",
      "/home/dongyu/miniconda/envs/aer-paper/lib/python3.7/site-packages/statsmodels/base/model.py:548: HessianInversionWarning: Inverting hessian failed, no bse or cov_params available\n",
      "  'available', HessianInversionWarning)\n",
      "/home/dongyu/miniconda/envs/aer-paper/lib/python3.7/site-packages/statsmodels/base/model.py:548: HessianInversionWarning: Inverting hessian failed, no bse or cov_params available\n",
      "  'available', HessianInversionWarning)\n",
      "/home/dongyu/miniconda/envs/aer-paper/lib/python3.7/site-packages/statsmodels/base/model.py:548: HessianInversionWarning: Inverting hessian failed, no bse or cov_params available\n",
      "  'available', HessianInversionWarning)\n",
      "/home/dongyu/miniconda/envs/aer-paper/lib/python3.7/site-packages/statsmodels/base/model.py:548: HessianInversionWarning: Inverting hessian failed, no bse or cov_params available\n",
      "  'available', HessianInversionWarning)\n",
      "/home/dongyu/miniconda/envs/aer-paper/lib/python3.7/site-packages/statsmodels/base/model.py:548: HessianInversionWarning: Inverting hessian failed, no bse or cov_params available\n",
      "  'available', HessianInversionWarning)\n",
      "/home/dongyu/miniconda/envs/aer-paper/lib/python3.7/site-packages/statsmodels/base/model.py:548: HessianInversionWarning: Inverting hessian failed, no bse or cov_params available\n",
      "  'available', HessianInversionWarning)\n",
      "/home/dongyu/miniconda/envs/aer-paper/lib/python3.7/site-packages/statsmodels/base/model.py:548: HessianInversionWarning: Inverting hessian failed, no bse or cov_params available\n",
      "  'available', HessianInversionWarning)\n",
      "/home/dongyu/miniconda/envs/aer-paper/lib/python3.7/site-packages/statsmodels/base/model.py:548: HessianInversionWarning: Inverting hessian failed, no bse or cov_params available\n",
      "  'available', HessianInversionWarning)\n",
      "/home/dongyu/miniconda/envs/aer-paper/lib/python3.7/site-packages/statsmodels/base/model.py:548: HessianInversionWarning: Inverting hessian failed, no bse or cov_params available\n",
      "  'available', HessianInversionWarning)\n",
      "/home/dongyu/miniconda/envs/aer-paper/lib/python3.7/site-packages/statsmodels/base/model.py:548: HessianInversionWarning: Inverting hessian failed, no bse or cov_params available\n",
      "  'available', HessianInversionWarning)\n",
      "/home/dongyu/miniconda/envs/aer-paper/lib/python3.7/site-packages/statsmodels/base/model.py:548: HessianInversionWarning: Inverting hessian failed, no bse or cov_params available\n",
      "  'available', HessianInversionWarning)\n",
      "/home/dongyu/miniconda/envs/aer-paper/lib/python3.7/site-packages/statsmodels/base/model.py:548: HessianInversionWarning: Inverting hessian failed, no bse or cov_params available\n",
      "  'available', HessianInversionWarning)\n",
      "/home/dongyu/miniconda/envs/aer-paper/lib/python3.7/site-packages/statsmodels/base/model.py:548: HessianInversionWarning: Inverting hessian failed, no bse or cov_params available\n",
      "  'available', HessianInversionWarning)\n",
      "/home/dongyu/miniconda/envs/aer-paper/lib/python3.7/site-packages/statsmodels/base/model.py:548: HessianInversionWarning: Inverting hessian failed, no bse or cov_params available\n",
      "  'available', HessianInversionWarning)\n",
      "/home/dongyu/miniconda/envs/aer-paper/lib/python3.7/site-packages/statsmodels/base/model.py:548: HessianInversionWarning: Inverting hessian failed, no bse or cov_params available\n",
      "  'available', HessianInversionWarning)\n",
      "/home/dongyu/miniconda/envs/aer-paper/lib/python3.7/site-packages/statsmodels/base/model.py:548: HessianInversionWarning: Inverting hessian failed, no bse or cov_params available\n",
      "  'available', HessianInversionWarning)\n",
      "/home/dongyu/miniconda/envs/aer-paper/lib/python3.7/site-packages/statsmodels/base/model.py:548: HessianInversionWarning: Inverting hessian failed, no bse or cov_params available\n",
      "  'available', HessianInversionWarning)\n",
      "/home/dongyu/miniconda/envs/aer-paper/lib/python3.7/site-packages/statsmodels/base/model.py:548: HessianInversionWarning: Inverting hessian failed, no bse or cov_params available\n",
      "  'available', HessianInversionWarning)\n",
      "/home/dongyu/miniconda/envs/aer-paper/lib/python3.7/site-packages/statsmodels/base/model.py:548: HessianInversionWarning: Inverting hessian failed, no bse or cov_params available\n",
      "  'available', HessianInversionWarning)\n",
      "/home/dongyu/miniconda/envs/aer-paper/lib/python3.7/site-packages/statsmodels/base/model.py:548: HessianInversionWarning: Inverting hessian failed, no bse or cov_params available\n",
      "  'available', HessianInversionWarning)\n",
      "/home/dongyu/miniconda/envs/aer-paper/lib/python3.7/site-packages/statsmodels/base/model.py:548: HessianInversionWarning: Inverting hessian failed, no bse or cov_params available\n",
      "  'available', HessianInversionWarning)\n",
      "/home/dongyu/miniconda/envs/aer-paper/lib/python3.7/site-packages/statsmodels/base/model.py:548: HessianInversionWarning: Inverting hessian failed, no bse or cov_params available\n",
      "  'available', HessianInversionWarning)\n",
      "/home/dongyu/miniconda/envs/aer-paper/lib/python3.7/site-packages/statsmodels/base/model.py:548: HessianInversionWarning: Inverting hessian failed, no bse or cov_params available\n",
      "  'available', HessianInversionWarning)\n",
      "/home/dongyu/miniconda/envs/aer-paper/lib/python3.7/site-packages/statsmodels/base/model.py:548: HessianInversionWarning: Inverting hessian failed, no bse or cov_params available\n",
      "  'available', HessianInversionWarning)\n",
      "/home/dongyu/miniconda/envs/aer-paper/lib/python3.7/site-packages/statsmodels/base/model.py:548: HessianInversionWarning: Inverting hessian failed, no bse or cov_params available\n",
      "  'available', HessianInversionWarning)\n",
      "/home/dongyu/miniconda/envs/aer-paper/lib/python3.7/site-packages/statsmodels/base/model.py:548: HessianInversionWarning: Inverting hessian failed, no bse or cov_params available\n",
      "  'available', HessianInversionWarning)\n",
      "/home/dongyu/miniconda/envs/aer-paper/lib/python3.7/site-packages/statsmodels/base/model.py:548: HessianInversionWarning: Inverting hessian failed, no bse or cov_params available\n",
      "  'available', HessianInversionWarning)\n",
      "/home/dongyu/miniconda/envs/aer-paper/lib/python3.7/site-packages/statsmodels/base/model.py:548: HessianInversionWarning: Inverting hessian failed, no bse or cov_params available\n",
      "  'available', HessianInversionWarning)\n",
      "/home/dongyu/miniconda/envs/aer-paper/lib/python3.7/site-packages/statsmodels/base/model.py:548: HessianInversionWarning: Inverting hessian failed, no bse or cov_params available\n",
      "  'available', HessianInversionWarning)\n",
      "/home/dongyu/miniconda/envs/aer-paper/lib/python3.7/site-packages/statsmodels/base/model.py:548: HessianInversionWarning: Inverting hessian failed, no bse or cov_params available\n",
      "  'available', HessianInversionWarning)\n",
      "/home/dongyu/miniconda/envs/aer-paper/lib/python3.7/site-packages/statsmodels/base/model.py:548: HessianInversionWarning: Inverting hessian failed, no bse or cov_params available\n",
      "  'available', HessianInversionWarning)\n",
      "/home/dongyu/miniconda/envs/aer-paper/lib/python3.7/site-packages/statsmodels/base/model.py:548: HessianInversionWarning: Inverting hessian failed, no bse or cov_params available\n",
      "  'available', HessianInversionWarning)\n",
      "/home/dongyu/miniconda/envs/aer-paper/lib/python3.7/site-packages/statsmodels/base/model.py:548: HessianInversionWarning: Inverting hessian failed, no bse or cov_params available\n",
      "  'available', HessianInversionWarning)\n",
      "/home/dongyu/miniconda/envs/aer-paper/lib/python3.7/site-packages/statsmodels/base/model.py:548: HessianInversionWarning: Inverting hessian failed, no bse or cov_params available\n",
      "  'available', HessianInversionWarning)\n",
      "/home/dongyu/miniconda/envs/aer-paper/lib/python3.7/site-packages/statsmodels/base/model.py:548: HessianInversionWarning: Inverting hessian failed, no bse or cov_params available\n",
      "  'available', HessianInversionWarning)\n",
      "/home/dongyu/miniconda/envs/aer-paper/lib/python3.7/site-packages/statsmodels/base/model.py:548: HessianInversionWarning: Inverting hessian failed, no bse or cov_params available\n",
      "  'available', HessianInversionWarning)\n",
      "/home/dongyu/miniconda/envs/aer-paper/lib/python3.7/site-packages/statsmodels/base/model.py:548: HessianInversionWarning: Inverting hessian failed, no bse or cov_params available\n",
      "  'available', HessianInversionWarning)\n",
      "/home/dongyu/miniconda/envs/aer-paper/lib/python3.7/site-packages/statsmodels/base/model.py:548: HessianInversionWarning: Inverting hessian failed, no bse or cov_params available\n",
      "  'available', HessianInversionWarning)\n",
      "/home/dongyu/miniconda/envs/aer-paper/lib/python3.7/site-packages/statsmodels/base/model.py:548: HessianInversionWarning: Inverting hessian failed, no bse or cov_params available\n",
      "  'available', HessianInversionWarning)\n",
      "/home/dongyu/miniconda/envs/aer-paper/lib/python3.7/site-packages/statsmodels/base/model.py:548: HessianInversionWarning: Inverting hessian failed, no bse or cov_params available\n",
      "  'available', HessianInversionWarning)\n",
      "/home/dongyu/miniconda/envs/aer-paper/lib/python3.7/site-packages/statsmodels/base/model.py:548: HessianInversionWarning: Inverting hessian failed, no bse or cov_params available\n",
      "  'available', HessianInversionWarning)\n",
      "/home/dongyu/miniconda/envs/aer-paper/lib/python3.7/site-packages/statsmodels/base/model.py:548: HessianInversionWarning: Inverting hessian failed, no bse or cov_params available\n",
      "  'available', HessianInversionWarning)\n",
      "/home/dongyu/miniconda/envs/aer-paper/lib/python3.7/site-packages/statsmodels/base/model.py:548: HessianInversionWarning: Inverting hessian failed, no bse or cov_params available\n",
      "  'available', HessianInversionWarning)\n",
      "/home/dongyu/miniconda/envs/aer-paper/lib/python3.7/site-packages/statsmodels/base/model.py:548: HessianInversionWarning: Inverting hessian failed, no bse or cov_params available\n",
      "  'available', HessianInversionWarning)\n",
      "/home/dongyu/miniconda/envs/aer-paper/lib/python3.7/site-packages/statsmodels/base/model.py:548: HessianInversionWarning: Inverting hessian failed, no bse or cov_params available\n",
      "  'available', HessianInversionWarning)\n",
      "/home/dongyu/miniconda/envs/aer-paper/lib/python3.7/site-packages/statsmodels/base/model.py:548: HessianInversionWarning: Inverting hessian failed, no bse or cov_params available\n",
      "  'available', HessianInversionWarning)\n",
      "/home/dongyu/miniconda/envs/aer-paper/lib/python3.7/site-packages/statsmodels/base/model.py:548: HessianInversionWarning: Inverting hessian failed, no bse or cov_params available\n",
      "  'available', HessianInversionWarning)\n",
      "/home/dongyu/miniconda/envs/aer-paper/lib/python3.7/site-packages/statsmodels/base/model.py:548: HessianInversionWarning: Inverting hessian failed, no bse or cov_params available\n",
      "  'available', HessianInversionWarning)\n",
      "/home/dongyu/miniconda/envs/aer-paper/lib/python3.7/site-packages/statsmodels/base/model.py:548: HessianInversionWarning: Inverting hessian failed, no bse or cov_params available\n",
      "  'available', HessianInversionWarning)\n",
      "/home/dongyu/miniconda/envs/aer-paper/lib/python3.7/site-packages/statsmodels/base/model.py:548: HessianInversionWarning: Inverting hessian failed, no bse or cov_params available\n",
      "  'available', HessianInversionWarning)\n",
      "/home/dongyu/miniconda/envs/aer-paper/lib/python3.7/site-packages/statsmodels/base/model.py:548: HessianInversionWarning: Inverting hessian failed, no bse or cov_params available\n",
      "  'available', HessianInversionWarning)\n",
      "/home/dongyu/miniconda/envs/aer-paper/lib/python3.7/site-packages/statsmodels/base/model.py:548: HessianInversionWarning: Inverting hessian failed, no bse or cov_params available\n",
      "  'available', HessianInversionWarning)\n",
      "/home/dongyu/miniconda/envs/aer-paper/lib/python3.7/site-packages/statsmodels/base/model.py:548: HessianInversionWarning: Inverting hessian failed, no bse or cov_params available\n",
      "  'available', HessianInversionWarning)\n",
      "/home/dongyu/miniconda/envs/aer-paper/lib/python3.7/site-packages/statsmodels/base/model.py:548: HessianInversionWarning: Inverting hessian failed, no bse or cov_params available\n",
      "  'available', HessianInversionWarning)\n",
      "/home/dongyu/miniconda/envs/aer-paper/lib/python3.7/site-packages/statsmodels/base/model.py:548: HessianInversionWarning: Inverting hessian failed, no bse or cov_params available\n",
      "  'available', HessianInversionWarning)\n",
      "/home/dongyu/miniconda/envs/aer-paper/lib/python3.7/site-packages/statsmodels/base/model.py:548: HessianInversionWarning: Inverting hessian failed, no bse or cov_params available\n",
      "  'available', HessianInversionWarning)\n",
      "/home/dongyu/miniconda/envs/aer-paper/lib/python3.7/site-packages/statsmodels/base/model.py:548: HessianInversionWarning: Inverting hessian failed, no bse or cov_params available\n",
      "  'available', HessianInversionWarning)\n",
      "/home/dongyu/miniconda/envs/aer-paper/lib/python3.7/site-packages/statsmodels/base/model.py:548: HessianInversionWarning: Inverting hessian failed, no bse or cov_params available\n",
      "  'available', HessianInversionWarning)\n",
      "/home/dongyu/miniconda/envs/aer-paper/lib/python3.7/site-packages/statsmodels/base/model.py:548: HessianInversionWarning: Inverting hessian failed, no bse or cov_params available\n",
      "  'available', HessianInversionWarning)\n",
      "/home/dongyu/miniconda/envs/aer-paper/lib/python3.7/site-packages/statsmodels/base/model.py:548: HessianInversionWarning: Inverting hessian failed, no bse or cov_params available\n",
      "  'available', HessianInversionWarning)\n",
      "/home/dongyu/miniconda/envs/aer-paper/lib/python3.7/site-packages/statsmodels/base/model.py:548: HessianInversionWarning: Inverting hessian failed, no bse or cov_params available\n",
      "  'available', HessianInversionWarning)\n",
      "/home/dongyu/miniconda/envs/aer-paper/lib/python3.7/site-packages/statsmodels/base/model.py:548: HessianInversionWarning: Inverting hessian failed, no bse or cov_params available\n",
      "  'available', HessianInversionWarning)\n",
      "/home/dongyu/miniconda/envs/aer-paper/lib/python3.7/site-packages/statsmodels/base/model.py:548: HessianInversionWarning: Inverting hessian failed, no bse or cov_params available\n",
      "  'available', HessianInversionWarning)\n",
      "/home/dongyu/miniconda/envs/aer-paper/lib/python3.7/site-packages/statsmodels/base/model.py:548: HessianInversionWarning: Inverting hessian failed, no bse or cov_params available\n",
      "  'available', HessianInversionWarning)\n",
      "/home/dongyu/miniconda/envs/aer-paper/lib/python3.7/site-packages/statsmodels/base/model.py:548: HessianInversionWarning: Inverting hessian failed, no bse or cov_params available\n",
      "  'available', HessianInversionWarning)\n",
      "/home/dongyu/miniconda/envs/aer-paper/lib/python3.7/site-packages/statsmodels/base/model.py:548: HessianInversionWarning: Inverting hessian failed, no bse or cov_params available\n",
      "  'available', HessianInversionWarning)\n",
      "/home/dongyu/miniconda/envs/aer-paper/lib/python3.7/site-packages/statsmodels/base/model.py:548: HessianInversionWarning: Inverting hessian failed, no bse or cov_params available\n",
      "  'available', HessianInversionWarning)\n",
      "/home/dongyu/miniconda/envs/aer-paper/lib/python3.7/site-packages/statsmodels/base/model.py:548: HessianInversionWarning: Inverting hessian failed, no bse or cov_params available\n",
      "  'available', HessianInversionWarning)\n",
      "/home/dongyu/miniconda/envs/aer-paper/lib/python3.7/site-packages/statsmodels/base/model.py:548: HessianInversionWarning: Inverting hessian failed, no bse or cov_params available\n",
      "  'available', HessianInversionWarning)\n",
      "/home/dongyu/miniconda/envs/aer-paper/lib/python3.7/site-packages/statsmodels/base/model.py:548: HessianInversionWarning: Inverting hessian failed, no bse or cov_params available\n",
      "  'available', HessianInversionWarning)\n",
      "/home/dongyu/miniconda/envs/aer-paper/lib/python3.7/site-packages/statsmodels/base/model.py:548: HessianInversionWarning: Inverting hessian failed, no bse or cov_params available\n",
      "  'available', HessianInversionWarning)\n",
      "/home/dongyu/miniconda/envs/aer-paper/lib/python3.7/site-packages/statsmodels/base/model.py:548: HessianInversionWarning: Inverting hessian failed, no bse or cov_params available\n",
      "  'available', HessianInversionWarning)\n",
      "/home/dongyu/miniconda/envs/aer-paper/lib/python3.7/site-packages/statsmodels/base/model.py:548: HessianInversionWarning: Inverting hessian failed, no bse or cov_params available\n",
      "  'available', HessianInversionWarning)\n",
      "/home/dongyu/miniconda/envs/aer-paper/lib/python3.7/site-packages/statsmodels/base/model.py:548: HessianInversionWarning: Inverting hessian failed, no bse or cov_params available\n",
      "  'available', HessianInversionWarning)\n",
      "/home/dongyu/miniconda/envs/aer-paper/lib/python3.7/site-packages/statsmodels/base/model.py:548: HessianInversionWarning: Inverting hessian failed, no bse or cov_params available\n",
      "  'available', HessianInversionWarning)\n",
      "/home/dongyu/miniconda/envs/aer-paper/lib/python3.7/site-packages/statsmodels/base/model.py:548: HessianInversionWarning: Inverting hessian failed, no bse or cov_params available\n",
      "  'available', HessianInversionWarning)\n",
      "/home/dongyu/miniconda/envs/aer-paper/lib/python3.7/site-packages/statsmodels/base/model.py:548: HessianInversionWarning: Inverting hessian failed, no bse or cov_params available\n",
      "  'available', HessianInversionWarning)\n",
      "/home/dongyu/miniconda/envs/aer-paper/lib/python3.7/site-packages/statsmodels/base/model.py:548: HessianInversionWarning: Inverting hessian failed, no bse or cov_params available\n",
      "  'available', HessianInversionWarning)\n",
      "/home/dongyu/miniconda/envs/aer-paper/lib/python3.7/site-packages/statsmodels/base/model.py:548: HessianInversionWarning: Inverting hessian failed, no bse or cov_params available\n",
      "  'available', HessianInversionWarning)\n",
      "/home/dongyu/miniconda/envs/aer-paper/lib/python3.7/site-packages/statsmodels/base/model.py:548: HessianInversionWarning: Inverting hessian failed, no bse or cov_params available\n",
      "  'available', HessianInversionWarning)\n",
      "/home/dongyu/miniconda/envs/aer-paper/lib/python3.7/site-packages/statsmodels/base/model.py:568: ConvergenceWarning: Maximum Likelihood optimization failed to converge. Check mle_retvals\n",
      "  ConvergenceWarning)\n",
      "/home/dongyu/miniconda/envs/aer-paper/lib/python3.7/site-packages/statsmodels/base/model.py:568: ConvergenceWarning: Maximum Likelihood optimization failed to converge. Check mle_retvals\n",
      "  ConvergenceWarning)\n",
      "/home/dongyu/miniconda/envs/aer-paper/lib/python3.7/site-packages/statsmodels/base/model.py:568: ConvergenceWarning: Maximum Likelihood optimization failed to converge. Check mle_retvals\n",
      "  ConvergenceWarning)\n",
      "/home/dongyu/miniconda/envs/aer-paper/lib/python3.7/site-packages/statsmodels/base/model.py:568: ConvergenceWarning: Maximum Likelihood optimization failed to converge. Check mle_retvals\n",
      "  ConvergenceWarning)\n",
      "/home/dongyu/miniconda/envs/aer-paper/lib/python3.7/site-packages/statsmodels/base/model.py:568: ConvergenceWarning: Maximum Likelihood optimization failed to converge. Check mle_retvals\n",
      "  ConvergenceWarning)\n",
      "/home/dongyu/miniconda/envs/aer-paper/lib/python3.7/site-packages/statsmodels/base/model.py:568: ConvergenceWarning: Maximum Likelihood optimization failed to converge. Check mle_retvals\n",
      "  ConvergenceWarning)\n",
      "/home/dongyu/miniconda/envs/aer-paper/lib/python3.7/site-packages/statsmodels/base/model.py:548: HessianInversionWarning: Inverting hessian failed, no bse or cov_params available\n",
      "  'available', HessianInversionWarning)\n",
      "/home/dongyu/miniconda/envs/aer-paper/lib/python3.7/site-packages/statsmodels/base/model.py:548: HessianInversionWarning: Inverting hessian failed, no bse or cov_params available\n",
      "  'available', HessianInversionWarning)\n",
      "/home/dongyu/miniconda/envs/aer-paper/lib/python3.7/site-packages/statsmodels/base/model.py:548: HessianInversionWarning: Inverting hessian failed, no bse or cov_params available\n",
      "  'available', HessianInversionWarning)\n",
      "/home/dongyu/miniconda/envs/aer-paper/lib/python3.7/site-packages/statsmodels/base/model.py:548: HessianInversionWarning: Inverting hessian failed, no bse or cov_params available\n",
      "  'available', HessianInversionWarning)\n",
      "/home/dongyu/miniconda/envs/aer-paper/lib/python3.7/site-packages/statsmodels/base/model.py:548: HessianInversionWarning: Inverting hessian failed, no bse or cov_params available\n",
      "  'available', HessianInversionWarning)\n",
      "/home/dongyu/miniconda/envs/aer-paper/lib/python3.7/site-packages/statsmodels/base/model.py:548: HessianInversionWarning: Inverting hessian failed, no bse or cov_params available\n",
      "  'available', HessianInversionWarning)\n",
      "/home/dongyu/miniconda/envs/aer-paper/lib/python3.7/site-packages/statsmodels/base/model.py:548: HessianInversionWarning: Inverting hessian failed, no bse or cov_params available\n",
      "  'available', HessianInversionWarning)\n",
      "/home/dongyu/miniconda/envs/aer-paper/lib/python3.7/site-packages/statsmodels/base/model.py:548: HessianInversionWarning: Inverting hessian failed, no bse or cov_params available\n",
      "  'available', HessianInversionWarning)\n",
      "/home/dongyu/miniconda/envs/aer-paper/lib/python3.7/site-packages/statsmodels/base/model.py:548: HessianInversionWarning: Inverting hessian failed, no bse or cov_params available\n",
      "  'available', HessianInversionWarning)\n",
      "/home/dongyu/miniconda/envs/aer-paper/lib/python3.7/site-packages/statsmodels/base/model.py:548: HessianInversionWarning: Inverting hessian failed, no bse or cov_params available\n",
      "  'available', HessianInversionWarning)\n",
      "/home/dongyu/miniconda/envs/aer-paper/lib/python3.7/site-packages/statsmodels/base/model.py:548: HessianInversionWarning: Inverting hessian failed, no bse or cov_params available\n",
      "  'available', HessianInversionWarning)\n",
      "/home/dongyu/miniconda/envs/aer-paper/lib/python3.7/site-packages/statsmodels/base/model.py:548: HessianInversionWarning: Inverting hessian failed, no bse or cov_params available\n",
      "  'available', HessianInversionWarning)\n",
      "/home/dongyu/miniconda/envs/aer-paper/lib/python3.7/site-packages/statsmodels/base/model.py:548: HessianInversionWarning: Inverting hessian failed, no bse or cov_params available\n",
      "  'available', HessianInversionWarning)\n",
      "/home/dongyu/miniconda/envs/aer-paper/lib/python3.7/site-packages/statsmodels/base/model.py:548: HessianInversionWarning: Inverting hessian failed, no bse or cov_params available\n",
      "  'available', HessianInversionWarning)\n",
      "/home/dongyu/miniconda/envs/aer-paper/lib/python3.7/site-packages/statsmodels/base/model.py:548: HessianInversionWarning: Inverting hessian failed, no bse or cov_params available\n",
      "  'available', HessianInversionWarning)\n",
      "/home/dongyu/miniconda/envs/aer-paper/lib/python3.7/site-packages/statsmodels/base/model.py:548: HessianInversionWarning: Inverting hessian failed, no bse or cov_params available\n",
      "  'available', HessianInversionWarning)\n",
      "/home/dongyu/miniconda/envs/aer-paper/lib/python3.7/site-packages/statsmodels/base/model.py:548: HessianInversionWarning: Inverting hessian failed, no bse or cov_params available\n",
      "  'available', HessianInversionWarning)\n",
      "/home/dongyu/miniconda/envs/aer-paper/lib/python3.7/site-packages/statsmodels/base/model.py:548: HessianInversionWarning: Inverting hessian failed, no bse or cov_params available\n",
      "  'available', HessianInversionWarning)\n",
      "/home/dongyu/miniconda/envs/aer-paper/lib/python3.7/site-packages/statsmodels/base/model.py:548: HessianInversionWarning: Inverting hessian failed, no bse or cov_params available\n",
      "  'available', HessianInversionWarning)\n",
      "/home/dongyu/miniconda/envs/aer-paper/lib/python3.7/site-packages/statsmodels/base/model.py:548: HessianInversionWarning: Inverting hessian failed, no bse or cov_params available\n",
      "  'available', HessianInversionWarning)\n",
      "/home/dongyu/miniconda/envs/aer-paper/lib/python3.7/site-packages/statsmodels/base/model.py:548: HessianInversionWarning: Inverting hessian failed, no bse or cov_params available\n",
      "  'available', HessianInversionWarning)\n",
      "/home/dongyu/miniconda/envs/aer-paper/lib/python3.7/site-packages/statsmodels/base/model.py:548: HessianInversionWarning: Inverting hessian failed, no bse or cov_params available\n",
      "  'available', HessianInversionWarning)\n",
      "/home/dongyu/miniconda/envs/aer-paper/lib/python3.7/site-packages/statsmodels/base/model.py:548: HessianInversionWarning: Inverting hessian failed, no bse or cov_params available\n",
      "  'available', HessianInversionWarning)\n",
      "/home/dongyu/miniconda/envs/aer-paper/lib/python3.7/site-packages/statsmodels/base/model.py:548: HessianInversionWarning: Inverting hessian failed, no bse or cov_params available\n",
      "  'available', HessianInversionWarning)\n",
      "/home/dongyu/miniconda/envs/aer-paper/lib/python3.7/site-packages/statsmodels/base/model.py:548: HessianInversionWarning: Inverting hessian failed, no bse or cov_params available\n",
      "  'available', HessianInversionWarning)\n",
      "/home/dongyu/miniconda/envs/aer-paper/lib/python3.7/site-packages/statsmodels/base/model.py:548: HessianInversionWarning: Inverting hessian failed, no bse or cov_params available\n",
      "  'available', HessianInversionWarning)\n",
      "/home/dongyu/miniconda/envs/aer-paper/lib/python3.7/site-packages/statsmodels/base/model.py:548: HessianInversionWarning: Inverting hessian failed, no bse or cov_params available\n",
      "  'available', HessianInversionWarning)\n",
      "/home/dongyu/miniconda/envs/aer-paper/lib/python3.7/site-packages/statsmodels/base/model.py:548: HessianInversionWarning: Inverting hessian failed, no bse or cov_params available\n",
      "  'available', HessianInversionWarning)\n",
      "/home/dongyu/miniconda/envs/aer-paper/lib/python3.7/site-packages/statsmodels/base/model.py:548: HessianInversionWarning: Inverting hessian failed, no bse or cov_params available\n",
      "  'available', HessianInversionWarning)\n",
      "/home/dongyu/miniconda/envs/aer-paper/lib/python3.7/site-packages/statsmodels/base/model.py:548: HessianInversionWarning: Inverting hessian failed, no bse or cov_params available\n",
      "  'available', HessianInversionWarning)\n",
      "/home/dongyu/miniconda/envs/aer-paper/lib/python3.7/site-packages/statsmodels/base/model.py:548: HessianInversionWarning: Inverting hessian failed, no bse or cov_params available\n",
      "  'available', HessianInversionWarning)\n",
      "/home/dongyu/miniconda/envs/aer-paper/lib/python3.7/site-packages/statsmodels/base/model.py:548: HessianInversionWarning: Inverting hessian failed, no bse or cov_params available\n",
      "  'available', HessianInversionWarning)\n",
      "/home/dongyu/miniconda/envs/aer-paper/lib/python3.7/site-packages/statsmodels/base/model.py:548: HessianInversionWarning: Inverting hessian failed, no bse or cov_params available\n",
      "  'available', HessianInversionWarning)\n",
      "/home/dongyu/miniconda/envs/aer-paper/lib/python3.7/site-packages/statsmodels/base/model.py:548: HessianInversionWarning: Inverting hessian failed, no bse or cov_params available\n",
      "  'available', HessianInversionWarning)\n",
      "/home/dongyu/miniconda/envs/aer-paper/lib/python3.7/site-packages/statsmodels/base/model.py:548: HessianInversionWarning: Inverting hessian failed, no bse or cov_params available\n",
      "  'available', HessianInversionWarning)\n",
      "/home/dongyu/miniconda/envs/aer-paper/lib/python3.7/site-packages/statsmodels/base/model.py:548: HessianInversionWarning: Inverting hessian failed, no bse or cov_params available\n",
      "  'available', HessianInversionWarning)\n",
      "/home/dongyu/miniconda/envs/aer-paper/lib/python3.7/site-packages/statsmodels/base/model.py:548: HessianInversionWarning: Inverting hessian failed, no bse or cov_params available\n",
      "  'available', HessianInversionWarning)\n",
      "/home/dongyu/miniconda/envs/aer-paper/lib/python3.7/site-packages/statsmodels/base/model.py:548: HessianInversionWarning: Inverting hessian failed, no bse or cov_params available\n",
      "  'available', HessianInversionWarning)\n",
      "/home/dongyu/miniconda/envs/aer-paper/lib/python3.7/site-packages/statsmodels/base/model.py:548: HessianInversionWarning: Inverting hessian failed, no bse or cov_params available\n",
      "  'available', HessianInversionWarning)\n",
      "/home/dongyu/miniconda/envs/aer-paper/lib/python3.7/site-packages/statsmodels/base/model.py:548: HessianInversionWarning: Inverting hessian failed, no bse or cov_params available\n",
      "  'available', HessianInversionWarning)\n",
      "/home/dongyu/miniconda/envs/aer-paper/lib/python3.7/site-packages/statsmodels/base/model.py:568: ConvergenceWarning: Maximum Likelihood optimization failed to converge. Check mle_retvals\n",
      "  ConvergenceWarning)\n",
      "/home/dongyu/miniconda/envs/aer-paper/lib/python3.7/site-packages/statsmodels/base/model.py:548: HessianInversionWarning: Inverting hessian failed, no bse or cov_params available\n",
      "  'available', HessianInversionWarning)\n",
      "/home/dongyu/miniconda/envs/aer-paper/lib/python3.7/site-packages/statsmodels/base/model.py:548: HessianInversionWarning: Inverting hessian failed, no bse or cov_params available\n",
      "  'available', HessianInversionWarning)\n",
      "/home/dongyu/miniconda/envs/aer-paper/lib/python3.7/site-packages/statsmodels/base/model.py:548: HessianInversionWarning: Inverting hessian failed, no bse or cov_params available\n",
      "  'available', HessianInversionWarning)\n",
      "/home/dongyu/miniconda/envs/aer-paper/lib/python3.7/site-packages/statsmodels/base/model.py:568: ConvergenceWarning: Maximum Likelihood optimization failed to converge. Check mle_retvals\n",
      "  ConvergenceWarning)\n",
      "/home/dongyu/miniconda/envs/aer-paper/lib/python3.7/site-packages/statsmodels/base/model.py:568: ConvergenceWarning: Maximum Likelihood optimization failed to converge. Check mle_retvals\n",
      "  ConvergenceWarning)\n",
      "/home/dongyu/miniconda/envs/aer-paper/lib/python3.7/site-packages/statsmodels/base/model.py:548: HessianInversionWarning: Inverting hessian failed, no bse or cov_params available\n",
      "  'available', HessianInversionWarning)\n",
      "/home/dongyu/miniconda/envs/aer-paper/lib/python3.7/site-packages/statsmodels/base/model.py:548: HessianInversionWarning: Inverting hessian failed, no bse or cov_params available\n",
      "  'available', HessianInversionWarning)\n",
      "/home/dongyu/miniconda/envs/aer-paper/lib/python3.7/site-packages/statsmodels/base/model.py:548: HessianInversionWarning: Inverting hessian failed, no bse or cov_params available\n",
      "  'available', HessianInversionWarning)\n",
      "/home/dongyu/miniconda/envs/aer-paper/lib/python3.7/site-packages/statsmodels/base/model.py:548: HessianInversionWarning: Inverting hessian failed, no bse or cov_params available\n",
      "  'available', HessianInversionWarning)\n",
      "/home/dongyu/miniconda/envs/aer-paper/lib/python3.7/site-packages/statsmodels/base/model.py:548: HessianInversionWarning: Inverting hessian failed, no bse or cov_params available\n",
      "  'available', HessianInversionWarning)\n",
      "/home/dongyu/miniconda/envs/aer-paper/lib/python3.7/site-packages/statsmodels/base/model.py:548: HessianInversionWarning: Inverting hessian failed, no bse or cov_params available\n",
      "  'available', HessianInversionWarning)\n",
      "/home/dongyu/miniconda/envs/aer-paper/lib/python3.7/site-packages/statsmodels/base/model.py:548: HessianInversionWarning: Inverting hessian failed, no bse or cov_params available\n",
      "  'available', HessianInversionWarning)\n",
      "/home/dongyu/miniconda/envs/aer-paper/lib/python3.7/site-packages/statsmodels/base/model.py:548: HessianInversionWarning: Inverting hessian failed, no bse or cov_params available\n",
      "  'available', HessianInversionWarning)\n",
      "/home/dongyu/miniconda/envs/aer-paper/lib/python3.7/site-packages/statsmodels/base/model.py:548: HessianInversionWarning: Inverting hessian failed, no bse or cov_params available\n",
      "  'available', HessianInversionWarning)\n",
      "/home/dongyu/miniconda/envs/aer-paper/lib/python3.7/site-packages/statsmodels/base/model.py:548: HessianInversionWarning: Inverting hessian failed, no bse or cov_params available\n",
      "  'available', HessianInversionWarning)\n",
      "/home/dongyu/miniconda/envs/aer-paper/lib/python3.7/site-packages/statsmodels/base/model.py:548: HessianInversionWarning: Inverting hessian failed, no bse or cov_params available\n",
      "  'available', HessianInversionWarning)\n",
      "/home/dongyu/miniconda/envs/aer-paper/lib/python3.7/site-packages/statsmodels/base/model.py:548: HessianInversionWarning: Inverting hessian failed, no bse or cov_params available\n",
      "  'available', HessianInversionWarning)\n",
      "/home/dongyu/miniconda/envs/aer-paper/lib/python3.7/site-packages/statsmodels/base/model.py:548: HessianInversionWarning: Inverting hessian failed, no bse or cov_params available\n",
      "  'available', HessianInversionWarning)\n",
      "/home/dongyu/miniconda/envs/aer-paper/lib/python3.7/site-packages/statsmodels/base/model.py:548: HessianInversionWarning: Inverting hessian failed, no bse or cov_params available\n",
      "  'available', HessianInversionWarning)\n",
      "/home/dongyu/miniconda/envs/aer-paper/lib/python3.7/site-packages/statsmodels/base/model.py:548: HessianInversionWarning: Inverting hessian failed, no bse or cov_params available\n",
      "  'available', HessianInversionWarning)\n",
      "/home/dongyu/miniconda/envs/aer-paper/lib/python3.7/site-packages/statsmodels/base/model.py:548: HessianInversionWarning: Inverting hessian failed, no bse or cov_params available\n",
      "  'available', HessianInversionWarning)\n",
      "/home/dongyu/miniconda/envs/aer-paper/lib/python3.7/site-packages/statsmodels/base/model.py:548: HessianInversionWarning: Inverting hessian failed, no bse or cov_params available\n",
      "  'available', HessianInversionWarning)\n",
      "/home/dongyu/miniconda/envs/aer-paper/lib/python3.7/site-packages/statsmodels/base/model.py:548: HessianInversionWarning: Inverting hessian failed, no bse or cov_params available\n",
      "  'available', HessianInversionWarning)\n",
      "/home/dongyu/miniconda/envs/aer-paper/lib/python3.7/site-packages/statsmodels/base/model.py:548: HessianInversionWarning: Inverting hessian failed, no bse or cov_params available\n",
      "  'available', HessianInversionWarning)\n",
      "/home/dongyu/miniconda/envs/aer-paper/lib/python3.7/site-packages/statsmodels/base/model.py:548: HessianInversionWarning: Inverting hessian failed, no bse or cov_params available\n",
      "  'available', HessianInversionWarning)\n",
      "/home/dongyu/miniconda/envs/aer-paper/lib/python3.7/site-packages/statsmodels/base/model.py:548: HessianInversionWarning: Inverting hessian failed, no bse or cov_params available\n",
      "  'available', HessianInversionWarning)\n",
      "/home/dongyu/miniconda/envs/aer-paper/lib/python3.7/site-packages/statsmodels/base/model.py:548: HessianInversionWarning: Inverting hessian failed, no bse or cov_params available\n",
      "  'available', HessianInversionWarning)\n",
      "/home/dongyu/miniconda/envs/aer-paper/lib/python3.7/site-packages/statsmodels/base/model.py:548: HessianInversionWarning: Inverting hessian failed, no bse or cov_params available\n",
      "  'available', HessianInversionWarning)\n",
      "/home/dongyu/miniconda/envs/aer-paper/lib/python3.7/site-packages/statsmodels/base/model.py:548: HessianInversionWarning: Inverting hessian failed, no bse or cov_params available\n",
      "  'available', HessianInversionWarning)\n",
      "/home/dongyu/miniconda/envs/aer-paper/lib/python3.7/site-packages/statsmodels/base/model.py:548: HessianInversionWarning: Inverting hessian failed, no bse or cov_params available\n",
      "  'available', HessianInversionWarning)\n",
      "/home/dongyu/miniconda/envs/aer-paper/lib/python3.7/site-packages/statsmodels/base/model.py:548: HessianInversionWarning: Inverting hessian failed, no bse or cov_params available\n",
      "  'available', HessianInversionWarning)\n",
      "/home/dongyu/miniconda/envs/aer-paper/lib/python3.7/site-packages/statsmodels/base/model.py:548: HessianInversionWarning: Inverting hessian failed, no bse or cov_params available\n",
      "  'available', HessianInversionWarning)\n",
      "/home/dongyu/miniconda/envs/aer-paper/lib/python3.7/site-packages/statsmodels/base/model.py:548: HessianInversionWarning: Inverting hessian failed, no bse or cov_params available\n",
      "  'available', HessianInversionWarning)\n",
      "/home/dongyu/miniconda/envs/aer-paper/lib/python3.7/site-packages/statsmodels/base/model.py:548: HessianInversionWarning: Inverting hessian failed, no bse or cov_params available\n",
      "  'available', HessianInversionWarning)\n",
      "/home/dongyu/miniconda/envs/aer-paper/lib/python3.7/site-packages/statsmodels/base/model.py:548: HessianInversionWarning: Inverting hessian failed, no bse or cov_params available\n",
      "  'available', HessianInversionWarning)\n",
      "/home/dongyu/miniconda/envs/aer-paper/lib/python3.7/site-packages/statsmodels/base/model.py:548: HessianInversionWarning: Inverting hessian failed, no bse or cov_params available\n",
      "  'available', HessianInversionWarning)\n",
      "/home/dongyu/miniconda/envs/aer-paper/lib/python3.7/site-packages/statsmodels/base/model.py:548: HessianInversionWarning: Inverting hessian failed, no bse or cov_params available\n",
      "  'available', HessianInversionWarning)\n",
      "/home/dongyu/miniconda/envs/aer-paper/lib/python3.7/site-packages/statsmodels/base/model.py:548: HessianInversionWarning: Inverting hessian failed, no bse or cov_params available\n",
      "  'available', HessianInversionWarning)\n",
      "/home/dongyu/miniconda/envs/aer-paper/lib/python3.7/site-packages/statsmodels/base/model.py:548: HessianInversionWarning: Inverting hessian failed, no bse or cov_params available\n",
      "  'available', HessianInversionWarning)\n",
      "/home/dongyu/miniconda/envs/aer-paper/lib/python3.7/site-packages/statsmodels/base/model.py:548: HessianInversionWarning: Inverting hessian failed, no bse or cov_params available\n",
      "  'available', HessianInversionWarning)\n",
      "/home/dongyu/miniconda/envs/aer-paper/lib/python3.7/site-packages/statsmodels/base/model.py:548: HessianInversionWarning: Inverting hessian failed, no bse or cov_params available\n",
      "  'available', HessianInversionWarning)\n",
      "/home/dongyu/miniconda/envs/aer-paper/lib/python3.7/site-packages/statsmodels/base/model.py:548: HessianInversionWarning: Inverting hessian failed, no bse or cov_params available\n",
      "  'available', HessianInversionWarning)\n",
      "/home/dongyu/miniconda/envs/aer-paper/lib/python3.7/site-packages/statsmodels/base/model.py:548: HessianInversionWarning: Inverting hessian failed, no bse or cov_params available\n",
      "  'available', HessianInversionWarning)\n",
      "/home/dongyu/miniconda/envs/aer-paper/lib/python3.7/site-packages/statsmodels/base/model.py:548: HessianInversionWarning: Inverting hessian failed, no bse or cov_params available\n",
      "  'available', HessianInversionWarning)\n",
      "/home/dongyu/miniconda/envs/aer-paper/lib/python3.7/site-packages/statsmodels/base/model.py:548: HessianInversionWarning: Inverting hessian failed, no bse or cov_params available\n",
      "  'available', HessianInversionWarning)\n",
      "/home/dongyu/miniconda/envs/aer-paper/lib/python3.7/site-packages/statsmodels/base/model.py:548: HessianInversionWarning: Inverting hessian failed, no bse or cov_params available\n",
      "  'available', HessianInversionWarning)\n",
      "/home/dongyu/miniconda/envs/aer-paper/lib/python3.7/site-packages/statsmodels/base/model.py:548: HessianInversionWarning: Inverting hessian failed, no bse or cov_params available\n",
      "  'available', HessianInversionWarning)\n",
      "/home/dongyu/miniconda/envs/aer-paper/lib/python3.7/site-packages/statsmodels/base/model.py:548: HessianInversionWarning: Inverting hessian failed, no bse or cov_params available\n",
      "  'available', HessianInversionWarning)\n",
      "/home/dongyu/miniconda/envs/aer-paper/lib/python3.7/site-packages/statsmodels/base/model.py:548: HessianInversionWarning: Inverting hessian failed, no bse or cov_params available\n",
      "  'available', HessianInversionWarning)\n",
      "/home/dongyu/miniconda/envs/aer-paper/lib/python3.7/site-packages/statsmodels/base/model.py:548: HessianInversionWarning: Inverting hessian failed, no bse or cov_params available\n",
      "  'available', HessianInversionWarning)\n",
      "/home/dongyu/miniconda/envs/aer-paper/lib/python3.7/site-packages/statsmodels/base/model.py:568: ConvergenceWarning: Maximum Likelihood optimization failed to converge. Check mle_retvals\n",
      "  ConvergenceWarning)\n",
      "/home/dongyu/miniconda/envs/aer-paper/lib/python3.7/site-packages/statsmodels/base/model.py:548: HessianInversionWarning: Inverting hessian failed, no bse or cov_params available\n",
      "  'available', HessianInversionWarning)\n",
      "/home/dongyu/miniconda/envs/aer-paper/lib/python3.7/site-packages/statsmodels/base/model.py:548: HessianInversionWarning: Inverting hessian failed, no bse or cov_params available\n",
      "  'available', HessianInversionWarning)\n",
      "/home/dongyu/miniconda/envs/aer-paper/lib/python3.7/site-packages/statsmodels/base/model.py:548: HessianInversionWarning: Inverting hessian failed, no bse or cov_params available\n",
      "  'available', HessianInversionWarning)\n",
      "/home/dongyu/miniconda/envs/aer-paper/lib/python3.7/site-packages/statsmodels/base/model.py:548: HessianInversionWarning: Inverting hessian failed, no bse or cov_params available\n",
      "  'available', HessianInversionWarning)\n",
      "/home/dongyu/miniconda/envs/aer-paper/lib/python3.7/site-packages/statsmodels/base/model.py:548: HessianInversionWarning: Inverting hessian failed, no bse or cov_params available\n",
      "  'available', HessianInversionWarning)\n",
      "/home/dongyu/miniconda/envs/aer-paper/lib/python3.7/site-packages/statsmodels/base/model.py:548: HessianInversionWarning: Inverting hessian failed, no bse or cov_params available\n",
      "  'available', HessianInversionWarning)\n",
      "\n",
      "\n",
      "  6%|▋         | 240/3710 [4:59:17<61:44:12, 64.05s/it]\u001b[A\u001b[A"
     ]
    },
    {
     "name": "stdout",
     "output_type": "stream",
     "text": [
      "pipeline: arima_ablation, signal: T-13, test_split: True, detrend: False\n"
     ]
    },
    {
     "name": "stderr",
     "output_type": "stream",
     "text": [
      "/home/dongyu/miniconda/envs/aer-paper/lib/python3.7/site-packages/statsmodels/base/model.py:548: HessianInversionWarning: Inverting hessian failed, no bse or cov_params available\n",
      "  'available', HessianInversionWarning)\n",
      "/home/dongyu/miniconda/envs/aer-paper/lib/python3.7/site-packages/statsmodels/base/model.py:548: HessianInversionWarning: Inverting hessian failed, no bse or cov_params available\n",
      "  'available', HessianInversionWarning)\n",
      "/home/dongyu/miniconda/envs/aer-paper/lib/python3.7/site-packages/statsmodels/base/model.py:548: HessianInversionWarning: Inverting hessian failed, no bse or cov_params available\n",
      "  'available', HessianInversionWarning)\n",
      "/home/dongyu/miniconda/envs/aer-paper/lib/python3.7/site-packages/statsmodels/base/model.py:548: HessianInversionWarning: Inverting hessian failed, no bse or cov_params available\n",
      "  'available', HessianInversionWarning)\n",
      "/home/dongyu/miniconda/envs/aer-paper/lib/python3.7/site-packages/statsmodels/base/model.py:548: HessianInversionWarning: Inverting hessian failed, no bse or cov_params available\n",
      "  'available', HessianInversionWarning)\n",
      "/home/dongyu/miniconda/envs/aer-paper/lib/python3.7/site-packages/statsmodels/base/model.py:548: HessianInversionWarning: Inverting hessian failed, no bse or cov_params available\n",
      "  'available', HessianInversionWarning)\n",
      "/home/dongyu/miniconda/envs/aer-paper/lib/python3.7/site-packages/statsmodels/base/model.py:548: HessianInversionWarning: Inverting hessian failed, no bse or cov_params available\n",
      "  'available', HessianInversionWarning)\n",
      "/home/dongyu/miniconda/envs/aer-paper/lib/python3.7/site-packages/statsmodels/base/model.py:548: HessianInversionWarning: Inverting hessian failed, no bse or cov_params available\n",
      "  'available', HessianInversionWarning)\n",
      "/home/dongyu/miniconda/envs/aer-paper/lib/python3.7/site-packages/statsmodels/base/model.py:548: HessianInversionWarning: Inverting hessian failed, no bse or cov_params available\n",
      "  'available', HessianInversionWarning)\n",
      "/home/dongyu/miniconda/envs/aer-paper/lib/python3.7/site-packages/statsmodels/base/model.py:548: HessianInversionWarning: Inverting hessian failed, no bse or cov_params available\n",
      "  'available', HessianInversionWarning)\n",
      "/home/dongyu/miniconda/envs/aer-paper/lib/python3.7/site-packages/statsmodels/base/model.py:548: HessianInversionWarning: Inverting hessian failed, no bse or cov_params available\n",
      "  'available', HessianInversionWarning)\n",
      "/home/dongyu/miniconda/envs/aer-paper/lib/python3.7/site-packages/statsmodels/base/model.py:548: HessianInversionWarning: Inverting hessian failed, no bse or cov_params available\n",
      "  'available', HessianInversionWarning)\n",
      "/home/dongyu/miniconda/envs/aer-paper/lib/python3.7/site-packages/statsmodels/base/model.py:548: HessianInversionWarning: Inverting hessian failed, no bse or cov_params available\n",
      "  'available', HessianInversionWarning)\n",
      "/home/dongyu/miniconda/envs/aer-paper/lib/python3.7/site-packages/statsmodels/base/model.py:548: HessianInversionWarning: Inverting hessian failed, no bse or cov_params available\n",
      "  'available', HessianInversionWarning)\n",
      "/home/dongyu/miniconda/envs/aer-paper/lib/python3.7/site-packages/statsmodels/base/model.py:548: HessianInversionWarning: Inverting hessian failed, no bse or cov_params available\n",
      "  'available', HessianInversionWarning)\n",
      "/home/dongyu/miniconda/envs/aer-paper/lib/python3.7/site-packages/statsmodels/base/model.py:548: HessianInversionWarning: Inverting hessian failed, no bse or cov_params available\n",
      "  'available', HessianInversionWarning)\n",
      "/home/dongyu/miniconda/envs/aer-paper/lib/python3.7/site-packages/statsmodels/base/model.py:548: HessianInversionWarning: Inverting hessian failed, no bse or cov_params available\n",
      "  'available', HessianInversionWarning)\n",
      "/home/dongyu/miniconda/envs/aer-paper/lib/python3.7/site-packages/statsmodels/base/model.py:548: HessianInversionWarning: Inverting hessian failed, no bse or cov_params available\n",
      "  'available', HessianInversionWarning)\n",
      "/home/dongyu/miniconda/envs/aer-paper/lib/python3.7/site-packages/statsmodels/base/model.py:548: HessianInversionWarning: Inverting hessian failed, no bse or cov_params available\n",
      "  'available', HessianInversionWarning)\n",
      "/home/dongyu/miniconda/envs/aer-paper/lib/python3.7/site-packages/statsmodels/base/model.py:548: HessianInversionWarning: Inverting hessian failed, no bse or cov_params available\n",
      "  'available', HessianInversionWarning)\n",
      "/home/dongyu/miniconda/envs/aer-paper/lib/python3.7/site-packages/statsmodels/base/model.py:548: HessianInversionWarning: Inverting hessian failed, no bse or cov_params available\n",
      "  'available', HessianInversionWarning)\n",
      "/home/dongyu/miniconda/envs/aer-paper/lib/python3.7/site-packages/statsmodels/base/model.py:548: HessianInversionWarning: Inverting hessian failed, no bse or cov_params available\n",
      "  'available', HessianInversionWarning)\n",
      "/home/dongyu/miniconda/envs/aer-paper/lib/python3.7/site-packages/statsmodels/base/model.py:548: HessianInversionWarning: Inverting hessian failed, no bse or cov_params available\n",
      "  'available', HessianInversionWarning)\n",
      "/home/dongyu/miniconda/envs/aer-paper/lib/python3.7/site-packages/statsmodels/base/model.py:548: HessianInversionWarning: Inverting hessian failed, no bse or cov_params available\n",
      "  'available', HessianInversionWarning)\n",
      "/home/dongyu/miniconda/envs/aer-paper/lib/python3.7/site-packages/statsmodels/base/model.py:548: HessianInversionWarning: Inverting hessian failed, no bse or cov_params available\n",
      "  'available', HessianInversionWarning)\n",
      "/home/dongyu/miniconda/envs/aer-paper/lib/python3.7/site-packages/statsmodels/base/model.py:548: HessianInversionWarning: Inverting hessian failed, no bse or cov_params available\n",
      "  'available', HessianInversionWarning)\n",
      "/home/dongyu/miniconda/envs/aer-paper/lib/python3.7/site-packages/statsmodels/base/model.py:548: HessianInversionWarning: Inverting hessian failed, no bse or cov_params available\n",
      "  'available', HessianInversionWarning)\n",
      "/home/dongyu/miniconda/envs/aer-paper/lib/python3.7/site-packages/statsmodels/base/model.py:548: HessianInversionWarning: Inverting hessian failed, no bse or cov_params available\n",
      "  'available', HessianInversionWarning)\n",
      "/home/dongyu/miniconda/envs/aer-paper/lib/python3.7/site-packages/statsmodels/base/model.py:548: HessianInversionWarning: Inverting hessian failed, no bse or cov_params available\n",
      "  'available', HessianInversionWarning)\n",
      "/home/dongyu/miniconda/envs/aer-paper/lib/python3.7/site-packages/statsmodels/base/model.py:548: HessianInversionWarning: Inverting hessian failed, no bse or cov_params available\n",
      "  'available', HessianInversionWarning)\n",
      "/home/dongyu/miniconda/envs/aer-paper/lib/python3.7/site-packages/statsmodels/base/model.py:548: HessianInversionWarning: Inverting hessian failed, no bse or cov_params available\n",
      "  'available', HessianInversionWarning)\n",
      "/home/dongyu/miniconda/envs/aer-paper/lib/python3.7/site-packages/statsmodels/base/model.py:548: HessianInversionWarning: Inverting hessian failed, no bse or cov_params available\n",
      "  'available', HessianInversionWarning)\n",
      "/home/dongyu/miniconda/envs/aer-paper/lib/python3.7/site-packages/statsmodels/base/model.py:548: HessianInversionWarning: Inverting hessian failed, no bse or cov_params available\n",
      "  'available', HessianInversionWarning)\n",
      "/home/dongyu/miniconda/envs/aer-paper/lib/python3.7/site-packages/statsmodels/base/model.py:548: HessianInversionWarning: Inverting hessian failed, no bse or cov_params available\n",
      "  'available', HessianInversionWarning)\n",
      "/home/dongyu/miniconda/envs/aer-paper/lib/python3.7/site-packages/statsmodels/base/model.py:548: HessianInversionWarning: Inverting hessian failed, no bse or cov_params available\n",
      "  'available', HessianInversionWarning)\n",
      "/home/dongyu/miniconda/envs/aer-paper/lib/python3.7/site-packages/statsmodels/base/model.py:548: HessianInversionWarning: Inverting hessian failed, no bse or cov_params available\n",
      "  'available', HessianInversionWarning)\n",
      "/home/dongyu/miniconda/envs/aer-paper/lib/python3.7/site-packages/statsmodels/base/model.py:548: HessianInversionWarning: Inverting hessian failed, no bse or cov_params available\n",
      "  'available', HessianInversionWarning)\n",
      "/home/dongyu/miniconda/envs/aer-paper/lib/python3.7/site-packages/statsmodels/base/model.py:548: HessianInversionWarning: Inverting hessian failed, no bse or cov_params available\n",
      "  'available', HessianInversionWarning)\n",
      "/home/dongyu/miniconda/envs/aer-paper/lib/python3.7/site-packages/statsmodels/base/model.py:548: HessianInversionWarning: Inverting hessian failed, no bse or cov_params available\n",
      "  'available', HessianInversionWarning)\n",
      "/home/dongyu/miniconda/envs/aer-paper/lib/python3.7/site-packages/statsmodels/base/model.py:548: HessianInversionWarning: Inverting hessian failed, no bse or cov_params available\n",
      "  'available', HessianInversionWarning)\n",
      "/home/dongyu/miniconda/envs/aer-paper/lib/python3.7/site-packages/statsmodels/base/model.py:548: HessianInversionWarning: Inverting hessian failed, no bse or cov_params available\n",
      "  'available', HessianInversionWarning)\n",
      "/home/dongyu/miniconda/envs/aer-paper/lib/python3.7/site-packages/statsmodels/base/model.py:548: HessianInversionWarning: Inverting hessian failed, no bse or cov_params available\n",
      "  'available', HessianInversionWarning)\n",
      "/home/dongyu/miniconda/envs/aer-paper/lib/python3.7/site-packages/statsmodels/base/model.py:548: HessianInversionWarning: Inverting hessian failed, no bse or cov_params available\n",
      "  'available', HessianInversionWarning)\n",
      "/home/dongyu/miniconda/envs/aer-paper/lib/python3.7/site-packages/statsmodels/base/model.py:548: HessianInversionWarning: Inverting hessian failed, no bse or cov_params available\n",
      "  'available', HessianInversionWarning)\n",
      "/home/dongyu/miniconda/envs/aer-paper/lib/python3.7/site-packages/statsmodels/base/model.py:548: HessianInversionWarning: Inverting hessian failed, no bse or cov_params available\n",
      "  'available', HessianInversionWarning)\n",
      "/home/dongyu/miniconda/envs/aer-paper/lib/python3.7/site-packages/statsmodels/base/model.py:548: HessianInversionWarning: Inverting hessian failed, no bse or cov_params available\n",
      "  'available', HessianInversionWarning)\n",
      "/home/dongyu/miniconda/envs/aer-paper/lib/python3.7/site-packages/statsmodels/base/model.py:548: HessianInversionWarning: Inverting hessian failed, no bse or cov_params available\n",
      "  'available', HessianInversionWarning)\n",
      "/home/dongyu/miniconda/envs/aer-paper/lib/python3.7/site-packages/statsmodels/base/model.py:548: HessianInversionWarning: Inverting hessian failed, no bse or cov_params available\n",
      "  'available', HessianInversionWarning)\n",
      "/home/dongyu/miniconda/envs/aer-paper/lib/python3.7/site-packages/statsmodels/base/model.py:548: HessianInversionWarning: Inverting hessian failed, no bse or cov_params available\n",
      "  'available', HessianInversionWarning)\n",
      "/home/dongyu/miniconda/envs/aer-paper/lib/python3.7/site-packages/statsmodels/base/model.py:548: HessianInversionWarning: Inverting hessian failed, no bse or cov_params available\n",
      "  'available', HessianInversionWarning)\n",
      "/home/dongyu/miniconda/envs/aer-paper/lib/python3.7/site-packages/statsmodels/base/model.py:548: HessianInversionWarning: Inverting hessian failed, no bse or cov_params available\n",
      "  'available', HessianInversionWarning)\n",
      "/home/dongyu/miniconda/envs/aer-paper/lib/python3.7/site-packages/statsmodels/base/model.py:548: HessianInversionWarning: Inverting hessian failed, no bse or cov_params available\n",
      "  'available', HessianInversionWarning)\n",
      "/home/dongyu/miniconda/envs/aer-paper/lib/python3.7/site-packages/statsmodels/base/model.py:548: HessianInversionWarning: Inverting hessian failed, no bse or cov_params available\n",
      "  'available', HessianInversionWarning)\n",
      "/home/dongyu/miniconda/envs/aer-paper/lib/python3.7/site-packages/statsmodels/base/model.py:548: HessianInversionWarning: Inverting hessian failed, no bse or cov_params available\n",
      "  'available', HessianInversionWarning)\n",
      "/home/dongyu/miniconda/envs/aer-paper/lib/python3.7/site-packages/statsmodels/base/model.py:548: HessianInversionWarning: Inverting hessian failed, no bse or cov_params available\n",
      "  'available', HessianInversionWarning)\n",
      "/home/dongyu/miniconda/envs/aer-paper/lib/python3.7/site-packages/statsmodels/base/model.py:548: HessianInversionWarning: Inverting hessian failed, no bse or cov_params available\n",
      "  'available', HessianInversionWarning)\n",
      "/home/dongyu/miniconda/envs/aer-paper/lib/python3.7/site-packages/statsmodels/base/model.py:548: HessianInversionWarning: Inverting hessian failed, no bse or cov_params available\n",
      "  'available', HessianInversionWarning)\n",
      "/home/dongyu/miniconda/envs/aer-paper/lib/python3.7/site-packages/statsmodels/base/model.py:548: HessianInversionWarning: Inverting hessian failed, no bse or cov_params available\n",
      "  'available', HessianInversionWarning)\n",
      "/home/dongyu/miniconda/envs/aer-paper/lib/python3.7/site-packages/statsmodels/base/model.py:548: HessianInversionWarning: Inverting hessian failed, no bse or cov_params available\n",
      "  'available', HessianInversionWarning)\n",
      "/home/dongyu/miniconda/envs/aer-paper/lib/python3.7/site-packages/statsmodels/base/model.py:548: HessianInversionWarning: Inverting hessian failed, no bse or cov_params available\n",
      "  'available', HessianInversionWarning)\n",
      "/home/dongyu/miniconda/envs/aer-paper/lib/python3.7/site-packages/statsmodels/base/model.py:548: HessianInversionWarning: Inverting hessian failed, no bse or cov_params available\n",
      "  'available', HessianInversionWarning)\n",
      "/home/dongyu/miniconda/envs/aer-paper/lib/python3.7/site-packages/statsmodels/base/model.py:548: HessianInversionWarning: Inverting hessian failed, no bse or cov_params available\n",
      "  'available', HessianInversionWarning)\n",
      "/home/dongyu/miniconda/envs/aer-paper/lib/python3.7/site-packages/statsmodels/base/model.py:548: HessianInversionWarning: Inverting hessian failed, no bse or cov_params available\n",
      "  'available', HessianInversionWarning)\n",
      "/home/dongyu/miniconda/envs/aer-paper/lib/python3.7/site-packages/statsmodels/base/model.py:548: HessianInversionWarning: Inverting hessian failed, no bse or cov_params available\n",
      "  'available', HessianInversionWarning)\n",
      "/home/dongyu/miniconda/envs/aer-paper/lib/python3.7/site-packages/statsmodels/base/model.py:548: HessianInversionWarning: Inverting hessian failed, no bse or cov_params available\n",
      "  'available', HessianInversionWarning)\n",
      "/home/dongyu/miniconda/envs/aer-paper/lib/python3.7/site-packages/statsmodels/base/model.py:548: HessianInversionWarning: Inverting hessian failed, no bse or cov_params available\n",
      "  'available', HessianInversionWarning)\n",
      "/home/dongyu/miniconda/envs/aer-paper/lib/python3.7/site-packages/statsmodels/base/model.py:548: HessianInversionWarning: Inverting hessian failed, no bse or cov_params available\n",
      "  'available', HessianInversionWarning)\n",
      "/home/dongyu/miniconda/envs/aer-paper/lib/python3.7/site-packages/statsmodels/base/model.py:548: HessianInversionWarning: Inverting hessian failed, no bse or cov_params available\n",
      "  'available', HessianInversionWarning)\n",
      "/home/dongyu/miniconda/envs/aer-paper/lib/python3.7/site-packages/statsmodels/base/model.py:548: HessianInversionWarning: Inverting hessian failed, no bse or cov_params available\n",
      "  'available', HessianInversionWarning)\n",
      "/home/dongyu/miniconda/envs/aer-paper/lib/python3.7/site-packages/statsmodels/base/model.py:548: HessianInversionWarning: Inverting hessian failed, no bse or cov_params available\n",
      "  'available', HessianInversionWarning)\n",
      "/home/dongyu/miniconda/envs/aer-paper/lib/python3.7/site-packages/statsmodels/base/model.py:548: HessianInversionWarning: Inverting hessian failed, no bse or cov_params available\n",
      "  'available', HessianInversionWarning)\n",
      "/home/dongyu/miniconda/envs/aer-paper/lib/python3.7/site-packages/statsmodels/base/model.py:548: HessianInversionWarning: Inverting hessian failed, no bse or cov_params available\n",
      "  'available', HessianInversionWarning)\n",
      "/home/dongyu/miniconda/envs/aer-paper/lib/python3.7/site-packages/statsmodels/base/model.py:548: HessianInversionWarning: Inverting hessian failed, no bse or cov_params available\n",
      "  'available', HessianInversionWarning)\n",
      "/home/dongyu/miniconda/envs/aer-paper/lib/python3.7/site-packages/statsmodels/base/model.py:548: HessianInversionWarning: Inverting hessian failed, no bse or cov_params available\n",
      "  'available', HessianInversionWarning)\n",
      "/home/dongyu/miniconda/envs/aer-paper/lib/python3.7/site-packages/statsmodels/base/model.py:548: HessianInversionWarning: Inverting hessian failed, no bse or cov_params available\n",
      "  'available', HessianInversionWarning)\n",
      "/home/dongyu/miniconda/envs/aer-paper/lib/python3.7/site-packages/statsmodels/base/model.py:548: HessianInversionWarning: Inverting hessian failed, no bse or cov_params available\n",
      "  'available', HessianInversionWarning)\n",
      "/home/dongyu/miniconda/envs/aer-paper/lib/python3.7/site-packages/statsmodels/base/model.py:548: HessianInversionWarning: Inverting hessian failed, no bse or cov_params available\n",
      "  'available', HessianInversionWarning)\n",
      "/home/dongyu/miniconda/envs/aer-paper/lib/python3.7/site-packages/statsmodels/base/model.py:548: HessianInversionWarning: Inverting hessian failed, no bse or cov_params available\n",
      "  'available', HessianInversionWarning)\n",
      "/home/dongyu/miniconda/envs/aer-paper/lib/python3.7/site-packages/statsmodels/base/model.py:548: HessianInversionWarning: Inverting hessian failed, no bse or cov_params available\n",
      "  'available', HessianInversionWarning)\n",
      "/home/dongyu/miniconda/envs/aer-paper/lib/python3.7/site-packages/statsmodels/base/model.py:548: HessianInversionWarning: Inverting hessian failed, no bse or cov_params available\n",
      "  'available', HessianInversionWarning)\n",
      "/home/dongyu/miniconda/envs/aer-paper/lib/python3.7/site-packages/statsmodels/base/model.py:548: HessianInversionWarning: Inverting hessian failed, no bse or cov_params available\n",
      "  'available', HessianInversionWarning)\n",
      "/home/dongyu/miniconda/envs/aer-paper/lib/python3.7/site-packages/statsmodels/base/model.py:548: HessianInversionWarning: Inverting hessian failed, no bse or cov_params available\n",
      "  'available', HessianInversionWarning)\n",
      "/home/dongyu/miniconda/envs/aer-paper/lib/python3.7/site-packages/statsmodels/base/model.py:548: HessianInversionWarning: Inverting hessian failed, no bse or cov_params available\n",
      "  'available', HessianInversionWarning)\n",
      "/home/dongyu/miniconda/envs/aer-paper/lib/python3.7/site-packages/statsmodels/base/model.py:548: HessianInversionWarning: Inverting hessian failed, no bse or cov_params available\n",
      "  'available', HessianInversionWarning)\n",
      "/home/dongyu/miniconda/envs/aer-paper/lib/python3.7/site-packages/statsmodels/base/model.py:548: HessianInversionWarning: Inverting hessian failed, no bse or cov_params available\n",
      "  'available', HessianInversionWarning)\n",
      "/home/dongyu/miniconda/envs/aer-paper/lib/python3.7/site-packages/statsmodels/base/model.py:568: ConvergenceWarning: Maximum Likelihood optimization failed to converge. Check mle_retvals\n",
      "  ConvergenceWarning)\n",
      "/home/dongyu/miniconda/envs/aer-paper/lib/python3.7/site-packages/statsmodels/base/model.py:548: HessianInversionWarning: Inverting hessian failed, no bse or cov_params available\n",
      "  'available', HessianInversionWarning)\n",
      "/home/dongyu/miniconda/envs/aer-paper/lib/python3.7/site-packages/statsmodels/base/model.py:568: ConvergenceWarning: Maximum Likelihood optimization failed to converge. Check mle_retvals\n",
      "  ConvergenceWarning)\n",
      "/home/dongyu/miniconda/envs/aer-paper/lib/python3.7/site-packages/statsmodels/base/model.py:548: HessianInversionWarning: Inverting hessian failed, no bse or cov_params available\n",
      "  'available', HessianInversionWarning)\n",
      "/home/dongyu/miniconda/envs/aer-paper/lib/python3.7/site-packages/statsmodels/base/model.py:568: ConvergenceWarning: Maximum Likelihood optimization failed to converge. Check mle_retvals\n",
      "  ConvergenceWarning)\n",
      "/home/dongyu/miniconda/envs/aer-paper/lib/python3.7/site-packages/statsmodels/base/model.py:548: HessianInversionWarning: Inverting hessian failed, no bse or cov_params available\n",
      "  'available', HessianInversionWarning)\n",
      "/home/dongyu/miniconda/envs/aer-paper/lib/python3.7/site-packages/statsmodels/base/model.py:548: HessianInversionWarning: Inverting hessian failed, no bse or cov_params available\n",
      "  'available', HessianInversionWarning)\n",
      "/home/dongyu/miniconda/envs/aer-paper/lib/python3.7/site-packages/statsmodels/base/model.py:568: ConvergenceWarning: Maximum Likelihood optimization failed to converge. Check mle_retvals\n",
      "  ConvergenceWarning)\n",
      "/home/dongyu/miniconda/envs/aer-paper/lib/python3.7/site-packages/statsmodels/base/model.py:548: HessianInversionWarning: Inverting hessian failed, no bse or cov_params available\n",
      "  'available', HessianInversionWarning)\n",
      "/home/dongyu/miniconda/envs/aer-paper/lib/python3.7/site-packages/statsmodels/base/model.py:548: HessianInversionWarning: Inverting hessian failed, no bse or cov_params available\n",
      "  'available', HessianInversionWarning)\n",
      "/home/dongyu/miniconda/envs/aer-paper/lib/python3.7/site-packages/statsmodels/base/model.py:568: ConvergenceWarning: Maximum Likelihood optimization failed to converge. Check mle_retvals\n",
      "  ConvergenceWarning)\n",
      "/home/dongyu/miniconda/envs/aer-paper/lib/python3.7/site-packages/statsmodels/base/model.py:548: HessianInversionWarning: Inverting hessian failed, no bse or cov_params available\n",
      "  'available', HessianInversionWarning)\n",
      "/home/dongyu/miniconda/envs/aer-paper/lib/python3.7/site-packages/statsmodels/base/model.py:548: HessianInversionWarning: Inverting hessian failed, no bse or cov_params available\n",
      "  'available', HessianInversionWarning)\n",
      "/home/dongyu/miniconda/envs/aer-paper/lib/python3.7/site-packages/statsmodels/base/model.py:548: HessianInversionWarning: Inverting hessian failed, no bse or cov_params available\n",
      "  'available', HessianInversionWarning)\n",
      "/home/dongyu/miniconda/envs/aer-paper/lib/python3.7/site-packages/statsmodels/base/model.py:548: HessianInversionWarning: Inverting hessian failed, no bse or cov_params available\n",
      "  'available', HessianInversionWarning)\n",
      "/home/dongyu/miniconda/envs/aer-paper/lib/python3.7/site-packages/statsmodels/base/model.py:548: HessianInversionWarning: Inverting hessian failed, no bse or cov_params available\n",
      "  'available', HessianInversionWarning)\n",
      "/home/dongyu/miniconda/envs/aer-paper/lib/python3.7/site-packages/statsmodels/base/model.py:548: HessianInversionWarning: Inverting hessian failed, no bse or cov_params available\n",
      "  'available', HessianInversionWarning)\n",
      "/home/dongyu/miniconda/envs/aer-paper/lib/python3.7/site-packages/statsmodels/base/model.py:548: HessianInversionWarning: Inverting hessian failed, no bse or cov_params available\n",
      "  'available', HessianInversionWarning)\n",
      "/home/dongyu/miniconda/envs/aer-paper/lib/python3.7/site-packages/statsmodels/base/model.py:548: HessianInversionWarning: Inverting hessian failed, no bse or cov_params available\n",
      "  'available', HessianInversionWarning)\n",
      "/home/dongyu/miniconda/envs/aer-paper/lib/python3.7/site-packages/statsmodels/base/model.py:548: HessianInversionWarning: Inverting hessian failed, no bse or cov_params available\n",
      "  'available', HessianInversionWarning)\n",
      "/home/dongyu/miniconda/envs/aer-paper/lib/python3.7/site-packages/statsmodels/base/model.py:548: HessianInversionWarning: Inverting hessian failed, no bse or cov_params available\n",
      "  'available', HessianInversionWarning)\n",
      "/home/dongyu/miniconda/envs/aer-paper/lib/python3.7/site-packages/statsmodels/base/model.py:548: HessianInversionWarning: Inverting hessian failed, no bse or cov_params available\n",
      "  'available', HessianInversionWarning)\n",
      "/home/dongyu/miniconda/envs/aer-paper/lib/python3.7/site-packages/statsmodels/base/model.py:548: HessianInversionWarning: Inverting hessian failed, no bse or cov_params available\n",
      "  'available', HessianInversionWarning)\n",
      "/home/dongyu/miniconda/envs/aer-paper/lib/python3.7/site-packages/statsmodels/base/model.py:548: HessianInversionWarning: Inverting hessian failed, no bse or cov_params available\n",
      "  'available', HessianInversionWarning)\n",
      "/home/dongyu/miniconda/envs/aer-paper/lib/python3.7/site-packages/statsmodels/base/model.py:548: HessianInversionWarning: Inverting hessian failed, no bse or cov_params available\n",
      "  'available', HessianInversionWarning)\n",
      "/home/dongyu/miniconda/envs/aer-paper/lib/python3.7/site-packages/statsmodels/base/model.py:548: HessianInversionWarning: Inverting hessian failed, no bse or cov_params available\n",
      "  'available', HessianInversionWarning)\n",
      "/home/dongyu/miniconda/envs/aer-paper/lib/python3.7/site-packages/statsmodels/base/model.py:548: HessianInversionWarning: Inverting hessian failed, no bse or cov_params available\n",
      "  'available', HessianInversionWarning)\n",
      "/home/dongyu/miniconda/envs/aer-paper/lib/python3.7/site-packages/statsmodels/base/model.py:548: HessianInversionWarning: Inverting hessian failed, no bse or cov_params available\n",
      "  'available', HessianInversionWarning)\n",
      "/home/dongyu/miniconda/envs/aer-paper/lib/python3.7/site-packages/statsmodels/base/model.py:548: HessianInversionWarning: Inverting hessian failed, no bse or cov_params available\n",
      "  'available', HessianInversionWarning)\n",
      "/home/dongyu/miniconda/envs/aer-paper/lib/python3.7/site-packages/statsmodels/base/model.py:548: HessianInversionWarning: Inverting hessian failed, no bse or cov_params available\n",
      "  'available', HessianInversionWarning)\n",
      "/home/dongyu/miniconda/envs/aer-paper/lib/python3.7/site-packages/statsmodels/base/model.py:548: HessianInversionWarning: Inverting hessian failed, no bse or cov_params available\n",
      "  'available', HessianInversionWarning)\n",
      "/home/dongyu/miniconda/envs/aer-paper/lib/python3.7/site-packages/statsmodels/base/model.py:548: HessianInversionWarning: Inverting hessian failed, no bse or cov_params available\n",
      "  'available', HessianInversionWarning)\n",
      "/home/dongyu/miniconda/envs/aer-paper/lib/python3.7/site-packages/statsmodels/base/model.py:548: HessianInversionWarning: Inverting hessian failed, no bse or cov_params available\n",
      "  'available', HessianInversionWarning)\n",
      "/home/dongyu/miniconda/envs/aer-paper/lib/python3.7/site-packages/statsmodels/base/model.py:548: HessianInversionWarning: Inverting hessian failed, no bse or cov_params available\n",
      "  'available', HessianInversionWarning)\n",
      "/home/dongyu/miniconda/envs/aer-paper/lib/python3.7/site-packages/statsmodels/base/model.py:548: HessianInversionWarning: Inverting hessian failed, no bse or cov_params available\n",
      "  'available', HessianInversionWarning)\n",
      "/home/dongyu/miniconda/envs/aer-paper/lib/python3.7/site-packages/statsmodels/base/model.py:548: HessianInversionWarning: Inverting hessian failed, no bse or cov_params available\n",
      "  'available', HessianInversionWarning)\n",
      "/home/dongyu/miniconda/envs/aer-paper/lib/python3.7/site-packages/statsmodels/base/model.py:548: HessianInversionWarning: Inverting hessian failed, no bse or cov_params available\n",
      "  'available', HessianInversionWarning)\n",
      "/home/dongyu/miniconda/envs/aer-paper/lib/python3.7/site-packages/statsmodels/base/model.py:548: HessianInversionWarning: Inverting hessian failed, no bse or cov_params available\n",
      "  'available', HessianInversionWarning)\n",
      "/home/dongyu/miniconda/envs/aer-paper/lib/python3.7/site-packages/statsmodels/base/model.py:548: HessianInversionWarning: Inverting hessian failed, no bse or cov_params available\n",
      "  'available', HessianInversionWarning)\n",
      "/home/dongyu/miniconda/envs/aer-paper/lib/python3.7/site-packages/statsmodels/base/model.py:548: HessianInversionWarning: Inverting hessian failed, no bse or cov_params available\n",
      "  'available', HessianInversionWarning)\n",
      "/home/dongyu/miniconda/envs/aer-paper/lib/python3.7/site-packages/statsmodels/base/model.py:548: HessianInversionWarning: Inverting hessian failed, no bse or cov_params available\n",
      "  'available', HessianInversionWarning)\n",
      "/home/dongyu/miniconda/envs/aer-paper/lib/python3.7/site-packages/statsmodels/base/model.py:548: HessianInversionWarning: Inverting hessian failed, no bse or cov_params available\n",
      "  'available', HessianInversionWarning)\n",
      "/home/dongyu/miniconda/envs/aer-paper/lib/python3.7/site-packages/statsmodels/base/model.py:548: HessianInversionWarning: Inverting hessian failed, no bse or cov_params available\n",
      "  'available', HessianInversionWarning)\n",
      "/home/dongyu/miniconda/envs/aer-paper/lib/python3.7/site-packages/statsmodels/base/model.py:548: HessianInversionWarning: Inverting hessian failed, no bse or cov_params available\n",
      "  'available', HessianInversionWarning)\n",
      "/home/dongyu/miniconda/envs/aer-paper/lib/python3.7/site-packages/statsmodels/base/model.py:548: HessianInversionWarning: Inverting hessian failed, no bse or cov_params available\n",
      "  'available', HessianInversionWarning)\n",
      "/home/dongyu/miniconda/envs/aer-paper/lib/python3.7/site-packages/statsmodels/base/model.py:548: HessianInversionWarning: Inverting hessian failed, no bse or cov_params available\n",
      "  'available', HessianInversionWarning)\n",
      "/home/dongyu/miniconda/envs/aer-paper/lib/python3.7/site-packages/statsmodels/base/model.py:548: HessianInversionWarning: Inverting hessian failed, no bse or cov_params available\n",
      "  'available', HessianInversionWarning)\n",
      "/home/dongyu/miniconda/envs/aer-paper/lib/python3.7/site-packages/statsmodels/base/model.py:548: HessianInversionWarning: Inverting hessian failed, no bse or cov_params available\n",
      "  'available', HessianInversionWarning)\n",
      "/home/dongyu/miniconda/envs/aer-paper/lib/python3.7/site-packages/statsmodels/base/model.py:548: HessianInversionWarning: Inverting hessian failed, no bse or cov_params available\n",
      "  'available', HessianInversionWarning)\n",
      "/home/dongyu/miniconda/envs/aer-paper/lib/python3.7/site-packages/statsmodels/base/model.py:548: HessianInversionWarning: Inverting hessian failed, no bse or cov_params available\n",
      "  'available', HessianInversionWarning)\n",
      "/home/dongyu/miniconda/envs/aer-paper/lib/python3.7/site-packages/statsmodels/base/model.py:548: HessianInversionWarning: Inverting hessian failed, no bse or cov_params available\n",
      "  'available', HessianInversionWarning)\n",
      "/home/dongyu/miniconda/envs/aer-paper/lib/python3.7/site-packages/statsmodels/base/model.py:548: HessianInversionWarning: Inverting hessian failed, no bse or cov_params available\n",
      "  'available', HessianInversionWarning)\n",
      "/home/dongyu/miniconda/envs/aer-paper/lib/python3.7/site-packages/statsmodels/base/model.py:548: HessianInversionWarning: Inverting hessian failed, no bse or cov_params available\n",
      "  'available', HessianInversionWarning)\n",
      "/home/dongyu/miniconda/envs/aer-paper/lib/python3.7/site-packages/statsmodels/base/model.py:568: ConvergenceWarning: Maximum Likelihood optimization failed to converge. Check mle_retvals\n",
      "  ConvergenceWarning)\n",
      "/home/dongyu/miniconda/envs/aer-paper/lib/python3.7/site-packages/statsmodels/base/model.py:568: ConvergenceWarning: Maximum Likelihood optimization failed to converge. Check mle_retvals\n",
      "  ConvergenceWarning)\n",
      "/home/dongyu/miniconda/envs/aer-paper/lib/python3.7/site-packages/statsmodels/base/model.py:548: HessianInversionWarning: Inverting hessian failed, no bse or cov_params available\n",
      "  'available', HessianInversionWarning)\n",
      "/home/dongyu/miniconda/envs/aer-paper/lib/python3.7/site-packages/statsmodels/base/model.py:548: HessianInversionWarning: Inverting hessian failed, no bse or cov_params available\n",
      "  'available', HessianInversionWarning)\n",
      "/home/dongyu/miniconda/envs/aer-paper/lib/python3.7/site-packages/statsmodels/base/model.py:548: HessianInversionWarning: Inverting hessian failed, no bse or cov_params available\n",
      "  'available', HessianInversionWarning)\n",
      "/home/dongyu/miniconda/envs/aer-paper/lib/python3.7/site-packages/statsmodels/base/model.py:548: HessianInversionWarning: Inverting hessian failed, no bse or cov_params available\n",
      "  'available', HessianInversionWarning)\n",
      "/home/dongyu/miniconda/envs/aer-paper/lib/python3.7/site-packages/statsmodels/base/model.py:548: HessianInversionWarning: Inverting hessian failed, no bse or cov_params available\n",
      "  'available', HessianInversionWarning)\n",
      "/home/dongyu/miniconda/envs/aer-paper/lib/python3.7/site-packages/statsmodels/base/model.py:548: HessianInversionWarning: Inverting hessian failed, no bse or cov_params available\n",
      "  'available', HessianInversionWarning)\n",
      "/home/dongyu/miniconda/envs/aer-paper/lib/python3.7/site-packages/statsmodels/base/model.py:548: HessianInversionWarning: Inverting hessian failed, no bse or cov_params available\n",
      "  'available', HessianInversionWarning)\n",
      "/home/dongyu/miniconda/envs/aer-paper/lib/python3.7/site-packages/statsmodels/base/model.py:548: HessianInversionWarning: Inverting hessian failed, no bse or cov_params available\n",
      "  'available', HessianInversionWarning)\n",
      "/home/dongyu/miniconda/envs/aer-paper/lib/python3.7/site-packages/statsmodels/base/model.py:548: HessianInversionWarning: Inverting hessian failed, no bse or cov_params available\n",
      "  'available', HessianInversionWarning)\n",
      "/home/dongyu/miniconda/envs/aer-paper/lib/python3.7/site-packages/statsmodels/base/model.py:548: HessianInversionWarning: Inverting hessian failed, no bse or cov_params available\n",
      "  'available', HessianInversionWarning)\n",
      "/home/dongyu/miniconda/envs/aer-paper/lib/python3.7/site-packages/statsmodels/base/model.py:548: HessianInversionWarning: Inverting hessian failed, no bse or cov_params available\n",
      "  'available', HessianInversionWarning)\n",
      "/home/dongyu/miniconda/envs/aer-paper/lib/python3.7/site-packages/statsmodels/base/model.py:548: HessianInversionWarning: Inverting hessian failed, no bse or cov_params available\n",
      "  'available', HessianInversionWarning)\n",
      "/home/dongyu/miniconda/envs/aer-paper/lib/python3.7/site-packages/statsmodels/base/model.py:548: HessianInversionWarning: Inverting hessian failed, no bse or cov_params available\n",
      "  'available', HessianInversionWarning)\n",
      "/home/dongyu/miniconda/envs/aer-paper/lib/python3.7/site-packages/statsmodels/base/model.py:548: HessianInversionWarning: Inverting hessian failed, no bse or cov_params available\n",
      "  'available', HessianInversionWarning)\n",
      "/home/dongyu/miniconda/envs/aer-paper/lib/python3.7/site-packages/statsmodels/base/model.py:548: HessianInversionWarning: Inverting hessian failed, no bse or cov_params available\n",
      "  'available', HessianInversionWarning)\n",
      "/home/dongyu/miniconda/envs/aer-paper/lib/python3.7/site-packages/statsmodels/base/model.py:548: HessianInversionWarning: Inverting hessian failed, no bse or cov_params available\n",
      "  'available', HessianInversionWarning)\n",
      "/home/dongyu/miniconda/envs/aer-paper/lib/python3.7/site-packages/statsmodels/base/model.py:548: HessianInversionWarning: Inverting hessian failed, no bse or cov_params available\n",
      "  'available', HessianInversionWarning)\n",
      "/home/dongyu/miniconda/envs/aer-paper/lib/python3.7/site-packages/statsmodels/base/model.py:548: HessianInversionWarning: Inverting hessian failed, no bse or cov_params available\n",
      "  'available', HessianInversionWarning)\n",
      "/home/dongyu/miniconda/envs/aer-paper/lib/python3.7/site-packages/statsmodels/base/model.py:548: HessianInversionWarning: Inverting hessian failed, no bse or cov_params available\n",
      "  'available', HessianInversionWarning)\n",
      "/home/dongyu/miniconda/envs/aer-paper/lib/python3.7/site-packages/statsmodels/base/model.py:548: HessianInversionWarning: Inverting hessian failed, no bse or cov_params available\n",
      "  'available', HessianInversionWarning)\n",
      "/home/dongyu/miniconda/envs/aer-paper/lib/python3.7/site-packages/statsmodels/base/model.py:548: HessianInversionWarning: Inverting hessian failed, no bse or cov_params available\n",
      "  'available', HessianInversionWarning)\n",
      "/home/dongyu/miniconda/envs/aer-paper/lib/python3.7/site-packages/statsmodels/base/model.py:548: HessianInversionWarning: Inverting hessian failed, no bse or cov_params available\n",
      "  'available', HessianInversionWarning)\n",
      "/home/dongyu/miniconda/envs/aer-paper/lib/python3.7/site-packages/statsmodels/base/model.py:548: HessianInversionWarning: Inverting hessian failed, no bse or cov_params available\n",
      "  'available', HessianInversionWarning)\n",
      "/home/dongyu/miniconda/envs/aer-paper/lib/python3.7/site-packages/statsmodels/base/model.py:548: HessianInversionWarning: Inverting hessian failed, no bse or cov_params available\n",
      "  'available', HessianInversionWarning)\n",
      "/home/dongyu/miniconda/envs/aer-paper/lib/python3.7/site-packages/statsmodels/base/model.py:548: HessianInversionWarning: Inverting hessian failed, no bse or cov_params available\n",
      "  'available', HessianInversionWarning)\n",
      "/home/dongyu/miniconda/envs/aer-paper/lib/python3.7/site-packages/statsmodels/base/model.py:548: HessianInversionWarning: Inverting hessian failed, no bse or cov_params available\n",
      "  'available', HessianInversionWarning)\n",
      "/home/dongyu/miniconda/envs/aer-paper/lib/python3.7/site-packages/statsmodels/base/model.py:548: HessianInversionWarning: Inverting hessian failed, no bse or cov_params available\n",
      "  'available', HessianInversionWarning)\n",
      "/home/dongyu/miniconda/envs/aer-paper/lib/python3.7/site-packages/statsmodels/base/model.py:548: HessianInversionWarning: Inverting hessian failed, no bse or cov_params available\n",
      "  'available', HessianInversionWarning)\n",
      "/home/dongyu/miniconda/envs/aer-paper/lib/python3.7/site-packages/statsmodels/base/model.py:548: HessianInversionWarning: Inverting hessian failed, no bse or cov_params available\n",
      "  'available', HessianInversionWarning)\n",
      "/home/dongyu/miniconda/envs/aer-paper/lib/python3.7/site-packages/statsmodels/base/model.py:548: HessianInversionWarning: Inverting hessian failed, no bse or cov_params available\n",
      "  'available', HessianInversionWarning)\n",
      "/home/dongyu/miniconda/envs/aer-paper/lib/python3.7/site-packages/statsmodels/base/model.py:548: HessianInversionWarning: Inverting hessian failed, no bse or cov_params available\n",
      "  'available', HessianInversionWarning)\n",
      "/home/dongyu/miniconda/envs/aer-paper/lib/python3.7/site-packages/statsmodels/base/model.py:548: HessianInversionWarning: Inverting hessian failed, no bse or cov_params available\n",
      "  'available', HessianInversionWarning)\n",
      "/home/dongyu/miniconda/envs/aer-paper/lib/python3.7/site-packages/statsmodels/base/model.py:548: HessianInversionWarning: Inverting hessian failed, no bse or cov_params available\n",
      "  'available', HessianInversionWarning)\n",
      "/home/dongyu/miniconda/envs/aer-paper/lib/python3.7/site-packages/statsmodels/base/model.py:548: HessianInversionWarning: Inverting hessian failed, no bse or cov_params available\n",
      "  'available', HessianInversionWarning)\n",
      "/home/dongyu/miniconda/envs/aer-paper/lib/python3.7/site-packages/statsmodels/base/model.py:548: HessianInversionWarning: Inverting hessian failed, no bse or cov_params available\n",
      "  'available', HessianInversionWarning)\n",
      "/home/dongyu/miniconda/envs/aer-paper/lib/python3.7/site-packages/statsmodels/base/model.py:548: HessianInversionWarning: Inverting hessian failed, no bse or cov_params available\n",
      "  'available', HessianInversionWarning)\n",
      "/home/dongyu/miniconda/envs/aer-paper/lib/python3.7/site-packages/statsmodels/base/model.py:548: HessianInversionWarning: Inverting hessian failed, no bse or cov_params available\n",
      "  'available', HessianInversionWarning)\n",
      "/home/dongyu/miniconda/envs/aer-paper/lib/python3.7/site-packages/statsmodels/base/model.py:548: HessianInversionWarning: Inverting hessian failed, no bse or cov_params available\n",
      "  'available', HessianInversionWarning)\n",
      "/home/dongyu/miniconda/envs/aer-paper/lib/python3.7/site-packages/statsmodels/base/model.py:548: HessianInversionWarning: Inverting hessian failed, no bse or cov_params available\n",
      "  'available', HessianInversionWarning)\n",
      "/home/dongyu/miniconda/envs/aer-paper/lib/python3.7/site-packages/statsmodels/base/model.py:548: HessianInversionWarning: Inverting hessian failed, no bse or cov_params available\n",
      "  'available', HessianInversionWarning)\n",
      "/home/dongyu/miniconda/envs/aer-paper/lib/python3.7/site-packages/statsmodels/base/model.py:548: HessianInversionWarning: Inverting hessian failed, no bse or cov_params available\n",
      "  'available', HessianInversionWarning)\n",
      "/home/dongyu/miniconda/envs/aer-paper/lib/python3.7/site-packages/statsmodels/base/model.py:548: HessianInversionWarning: Inverting hessian failed, no bse or cov_params available\n",
      "  'available', HessianInversionWarning)\n",
      "/home/dongyu/miniconda/envs/aer-paper/lib/python3.7/site-packages/statsmodels/base/model.py:548: HessianInversionWarning: Inverting hessian failed, no bse or cov_params available\n",
      "  'available', HessianInversionWarning)\n",
      "/home/dongyu/miniconda/envs/aer-paper/lib/python3.7/site-packages/statsmodels/base/model.py:548: HessianInversionWarning: Inverting hessian failed, no bse or cov_params available\n",
      "  'available', HessianInversionWarning)\n",
      "/home/dongyu/miniconda/envs/aer-paper/lib/python3.7/site-packages/statsmodels/base/model.py:548: HessianInversionWarning: Inverting hessian failed, no bse or cov_params available\n",
      "  'available', HessianInversionWarning)\n",
      "/home/dongyu/miniconda/envs/aer-paper/lib/python3.7/site-packages/statsmodels/base/model.py:548: HessianInversionWarning: Inverting hessian failed, no bse or cov_params available\n",
      "  'available', HessianInversionWarning)\n",
      "/home/dongyu/miniconda/envs/aer-paper/lib/python3.7/site-packages/statsmodels/base/model.py:548: HessianInversionWarning: Inverting hessian failed, no bse or cov_params available\n",
      "  'available', HessianInversionWarning)\n",
      "/home/dongyu/miniconda/envs/aer-paper/lib/python3.7/site-packages/statsmodels/base/model.py:548: HessianInversionWarning: Inverting hessian failed, no bse or cov_params available\n",
      "  'available', HessianInversionWarning)\n",
      "/home/dongyu/miniconda/envs/aer-paper/lib/python3.7/site-packages/statsmodels/base/model.py:548: HessianInversionWarning: Inverting hessian failed, no bse or cov_params available\n",
      "  'available', HessianInversionWarning)\n",
      "/home/dongyu/miniconda/envs/aer-paper/lib/python3.7/site-packages/statsmodels/base/model.py:548: HessianInversionWarning: Inverting hessian failed, no bse or cov_params available\n",
      "  'available', HessianInversionWarning)\n",
      "/home/dongyu/miniconda/envs/aer-paper/lib/python3.7/site-packages/statsmodels/base/model.py:548: HessianInversionWarning: Inverting hessian failed, no bse or cov_params available\n",
      "  'available', HessianInversionWarning)\n",
      "/home/dongyu/miniconda/envs/aer-paper/lib/python3.7/site-packages/statsmodels/base/model.py:548: HessianInversionWarning: Inverting hessian failed, no bse or cov_params available\n",
      "  'available', HessianInversionWarning)\n",
      "/home/dongyu/miniconda/envs/aer-paper/lib/python3.7/site-packages/statsmodels/base/model.py:548: HessianInversionWarning: Inverting hessian failed, no bse or cov_params available\n",
      "  'available', HessianInversionWarning)\n",
      "/home/dongyu/miniconda/envs/aer-paper/lib/python3.7/site-packages/statsmodels/base/model.py:548: HessianInversionWarning: Inverting hessian failed, no bse or cov_params available\n",
      "  'available', HessianInversionWarning)\n",
      "/home/dongyu/miniconda/envs/aer-paper/lib/python3.7/site-packages/statsmodels/base/model.py:548: HessianInversionWarning: Inverting hessian failed, no bse or cov_params available\n",
      "  'available', HessianInversionWarning)\n",
      "/home/dongyu/miniconda/envs/aer-paper/lib/python3.7/site-packages/statsmodels/base/model.py:548: HessianInversionWarning: Inverting hessian failed, no bse or cov_params available\n",
      "  'available', HessianInversionWarning)\n",
      "/home/dongyu/miniconda/envs/aer-paper/lib/python3.7/site-packages/statsmodels/base/model.py:548: HessianInversionWarning: Inverting hessian failed, no bse or cov_params available\n",
      "  'available', HessianInversionWarning)\n",
      "/home/dongyu/miniconda/envs/aer-paper/lib/python3.7/site-packages/statsmodels/base/model.py:548: HessianInversionWarning: Inverting hessian failed, no bse or cov_params available\n",
      "  'available', HessianInversionWarning)\n",
      "/home/dongyu/miniconda/envs/aer-paper/lib/python3.7/site-packages/statsmodels/base/model.py:548: HessianInversionWarning: Inverting hessian failed, no bse or cov_params available\n",
      "  'available', HessianInversionWarning)\n",
      "/home/dongyu/miniconda/envs/aer-paper/lib/python3.7/site-packages/statsmodels/base/model.py:548: HessianInversionWarning: Inverting hessian failed, no bse or cov_params available\n",
      "  'available', HessianInversionWarning)\n",
      "\n",
      "\n",
      "  6%|▋         | 241/3710 [5:01:53<88:24:13, 91.74s/it]\u001b[A\u001b[A"
     ]
    },
    {
     "name": "stdout",
     "output_type": "stream",
     "text": [
      "pipeline: arima_ablation, signal: F-4, test_split: True, detrend: False\n"
     ]
    },
    {
     "name": "stderr",
     "output_type": "stream",
     "text": [
      "/home/dongyu/miniconda/envs/aer-paper/lib/python3.7/site-packages/statsmodels/base/model.py:568: ConvergenceWarning: Maximum Likelihood optimization failed to converge. Check mle_retvals\n",
      "  ConvergenceWarning)\n",
      "/home/dongyu/miniconda/envs/aer-paper/lib/python3.7/site-packages/statsmodels/base/model.py:568: ConvergenceWarning: Maximum Likelihood optimization failed to converge. Check mle_retvals\n",
      "  ConvergenceWarning)\n",
      "/home/dongyu/miniconda/envs/aer-paper/lib/python3.7/site-packages/statsmodels/base/model.py:548: HessianInversionWarning: Inverting hessian failed, no bse or cov_params available\n",
      "  'available', HessianInversionWarning)\n",
      "/home/dongyu/miniconda/envs/aer-paper/lib/python3.7/site-packages/statsmodels/base/model.py:568: ConvergenceWarning: Maximum Likelihood optimization failed to converge. Check mle_retvals\n",
      "  ConvergenceWarning)\n",
      "/home/dongyu/miniconda/envs/aer-paper/lib/python3.7/site-packages/statsmodels/base/model.py:568: ConvergenceWarning: Maximum Likelihood optimization failed to converge. Check mle_retvals\n",
      "  ConvergenceWarning)\n",
      "/home/dongyu/miniconda/envs/aer-paper/lib/python3.7/site-packages/statsmodels/base/model.py:568: ConvergenceWarning: Maximum Likelihood optimization failed to converge. Check mle_retvals\n",
      "  ConvergenceWarning)\n",
      "/home/dongyu/miniconda/envs/aer-paper/lib/python3.7/site-packages/statsmodels/base/model.py:568: ConvergenceWarning: Maximum Likelihood optimization failed to converge. Check mle_retvals\n",
      "  ConvergenceWarning)\n",
      "/home/dongyu/miniconda/envs/aer-paper/lib/python3.7/site-packages/statsmodels/base/model.py:568: ConvergenceWarning: Maximum Likelihood optimization failed to converge. Check mle_retvals\n",
      "  ConvergenceWarning)\n",
      "/home/dongyu/miniconda/envs/aer-paper/lib/python3.7/site-packages/statsmodels/base/model.py:568: ConvergenceWarning: Maximum Likelihood optimization failed to converge. Check mle_retvals\n",
      "  ConvergenceWarning)\n",
      "/home/dongyu/miniconda/envs/aer-paper/lib/python3.7/site-packages/statsmodels/base/model.py:568: ConvergenceWarning: Maximum Likelihood optimization failed to converge. Check mle_retvals\n",
      "  ConvergenceWarning)\n",
      "/home/dongyu/miniconda/envs/aer-paper/lib/python3.7/site-packages/statsmodels/base/model.py:568: ConvergenceWarning: Maximum Likelihood optimization failed to converge. Check mle_retvals\n",
      "  ConvergenceWarning)\n",
      "/home/dongyu/miniconda/envs/aer-paper/lib/python3.7/site-packages/statsmodels/base/model.py:568: ConvergenceWarning: Maximum Likelihood optimization failed to converge. Check mle_retvals\n",
      "  ConvergenceWarning)\n",
      "/home/dongyu/miniconda/envs/aer-paper/lib/python3.7/site-packages/statsmodels/base/model.py:568: ConvergenceWarning: Maximum Likelihood optimization failed to converge. Check mle_retvals\n",
      "  ConvergenceWarning)\n",
      "/home/dongyu/miniconda/envs/aer-paper/lib/python3.7/site-packages/statsmodels/base/model.py:568: ConvergenceWarning: Maximum Likelihood optimization failed to converge. Check mle_retvals\n",
      "  ConvergenceWarning)\n",
      "/home/dongyu/miniconda/envs/aer-paper/lib/python3.7/site-packages/statsmodels/base/model.py:568: ConvergenceWarning: Maximum Likelihood optimization failed to converge. Check mle_retvals\n",
      "  ConvergenceWarning)\n",
      "/home/dongyu/miniconda/envs/aer-paper/lib/python3.7/site-packages/statsmodels/base/model.py:568: ConvergenceWarning: Maximum Likelihood optimization failed to converge. Check mle_retvals\n",
      "  ConvergenceWarning)\n",
      "\n",
      "\n",
      "  7%|▋         | 242/3710 [5:02:55<79:42:11, 82.74s/it]\u001b[A\u001b[A"
     ]
    },
    {
     "name": "stdout",
     "output_type": "stream",
     "text": [
      "pipeline: arima_ablation, signal: F-5, test_split: True, detrend: False\n"
     ]
    },
    {
     "name": "stderr",
     "output_type": "stream",
     "text": [
      "/home/dongyu/miniconda/envs/aer-paper/lib/python3.7/site-packages/statsmodels/base/model.py:548: HessianInversionWarning: Inverting hessian failed, no bse or cov_params available\n",
      "  'available', HessianInversionWarning)\n",
      "/home/dongyu/miniconda/envs/aer-paper/lib/python3.7/site-packages/statsmodels/base/model.py:548: HessianInversionWarning: Inverting hessian failed, no bse or cov_params available\n",
      "  'available', HessianInversionWarning)\n",
      "/home/dongyu/miniconda/envs/aer-paper/lib/python3.7/site-packages/statsmodels/base/model.py:568: ConvergenceWarning: Maximum Likelihood optimization failed to converge. Check mle_retvals\n",
      "  ConvergenceWarning)\n",
      "/home/dongyu/miniconda/envs/aer-paper/lib/python3.7/site-packages/statsmodels/base/model.py:548: HessianInversionWarning: Inverting hessian failed, no bse or cov_params available\n",
      "  'available', HessianInversionWarning)\n",
      "/home/dongyu/miniconda/envs/aer-paper/lib/python3.7/site-packages/statsmodels/base/model.py:548: HessianInversionWarning: Inverting hessian failed, no bse or cov_params available\n",
      "  'available', HessianInversionWarning)\n",
      "/home/dongyu/miniconda/envs/aer-paper/lib/python3.7/site-packages/statsmodels/base/model.py:548: HessianInversionWarning: Inverting hessian failed, no bse or cov_params available\n",
      "  'available', HessianInversionWarning)\n",
      "/home/dongyu/miniconda/envs/aer-paper/lib/python3.7/site-packages/statsmodels/base/model.py:548: HessianInversionWarning: Inverting hessian failed, no bse or cov_params available\n",
      "  'available', HessianInversionWarning)\n",
      "/home/dongyu/miniconda/envs/aer-paper/lib/python3.7/site-packages/statsmodels/base/model.py:548: HessianInversionWarning: Inverting hessian failed, no bse or cov_params available\n",
      "  'available', HessianInversionWarning)\n",
      "/home/dongyu/miniconda/envs/aer-paper/lib/python3.7/site-packages/statsmodels/base/model.py:548: HessianInversionWarning: Inverting hessian failed, no bse or cov_params available\n",
      "  'available', HessianInversionWarning)\n",
      "/home/dongyu/miniconda/envs/aer-paper/lib/python3.7/site-packages/statsmodels/base/model.py:548: HessianInversionWarning: Inverting hessian failed, no bse or cov_params available\n",
      "  'available', HessianInversionWarning)\n",
      "/home/dongyu/miniconda/envs/aer-paper/lib/python3.7/site-packages/statsmodels/base/model.py:548: HessianInversionWarning: Inverting hessian failed, no bse or cov_params available\n",
      "  'available', HessianInversionWarning)\n",
      "/home/dongyu/miniconda/envs/aer-paper/lib/python3.7/site-packages/statsmodels/base/model.py:568: ConvergenceWarning: Maximum Likelihood optimization failed to converge. Check mle_retvals\n",
      "  ConvergenceWarning)\n",
      "/home/dongyu/miniconda/envs/aer-paper/lib/python3.7/site-packages/statsmodels/base/model.py:548: HessianInversionWarning: Inverting hessian failed, no bse or cov_params available\n",
      "  'available', HessianInversionWarning)\n",
      "/home/dongyu/miniconda/envs/aer-paper/lib/python3.7/site-packages/statsmodels/base/model.py:548: HessianInversionWarning: Inverting hessian failed, no bse or cov_params available\n",
      "  'available', HessianInversionWarning)\n",
      "/home/dongyu/miniconda/envs/aer-paper/lib/python3.7/site-packages/statsmodels/base/model.py:568: ConvergenceWarning: Maximum Likelihood optimization failed to converge. Check mle_retvals\n",
      "  ConvergenceWarning)\n",
      "/home/dongyu/miniconda/envs/aer-paper/lib/python3.7/site-packages/statsmodels/base/model.py:568: ConvergenceWarning: Maximum Likelihood optimization failed to converge. Check mle_retvals\n",
      "  ConvergenceWarning)\n",
      "/home/dongyu/miniconda/envs/aer-paper/lib/python3.7/site-packages/statsmodels/base/model.py:568: ConvergenceWarning: Maximum Likelihood optimization failed to converge. Check mle_retvals\n",
      "  ConvergenceWarning)\n",
      "/home/dongyu/miniconda/envs/aer-paper/lib/python3.7/site-packages/statsmodels/base/model.py:568: ConvergenceWarning: Maximum Likelihood optimization failed to converge. Check mle_retvals\n",
      "  ConvergenceWarning)\n",
      "/home/dongyu/miniconda/envs/aer-paper/lib/python3.7/site-packages/statsmodels/base/model.py:568: ConvergenceWarning: Maximum Likelihood optimization failed to converge. Check mle_retvals\n",
      "  ConvergenceWarning)\n",
      "/home/dongyu/miniconda/envs/aer-paper/lib/python3.7/site-packages/statsmodels/base/model.py:568: ConvergenceWarning: Maximum Likelihood optimization failed to converge. Check mle_retvals\n",
      "  ConvergenceWarning)\n",
      "/home/dongyu/miniconda/envs/aer-paper/lib/python3.7/site-packages/statsmodels/base/model.py:568: ConvergenceWarning: Maximum Likelihood optimization failed to converge. Check mle_retvals\n",
      "  ConvergenceWarning)\n",
      "/home/dongyu/miniconda/envs/aer-paper/lib/python3.7/site-packages/statsmodels/base/model.py:568: ConvergenceWarning: Maximum Likelihood optimization failed to converge. Check mle_retvals\n",
      "  ConvergenceWarning)\n",
      "/home/dongyu/miniconda/envs/aer-paper/lib/python3.7/site-packages/statsmodels/base/model.py:548: HessianInversionWarning: Inverting hessian failed, no bse or cov_params available\n",
      "  'available', HessianInversionWarning)\n",
      "/home/dongyu/miniconda/envs/aer-paper/lib/python3.7/site-packages/statsmodels/base/model.py:548: HessianInversionWarning: Inverting hessian failed, no bse or cov_params available\n",
      "  'available', HessianInversionWarning)\n",
      "/home/dongyu/miniconda/envs/aer-paper/lib/python3.7/site-packages/statsmodels/base/model.py:568: ConvergenceWarning: Maximum Likelihood optimization failed to converge. Check mle_retvals\n",
      "  ConvergenceWarning)\n",
      "/home/dongyu/miniconda/envs/aer-paper/lib/python3.7/site-packages/statsmodels/base/model.py:568: ConvergenceWarning: Maximum Likelihood optimization failed to converge. Check mle_retvals\n",
      "  ConvergenceWarning)\n",
      "/home/dongyu/miniconda/envs/aer-paper/lib/python3.7/site-packages/statsmodels/base/model.py:568: ConvergenceWarning: Maximum Likelihood optimization failed to converge. Check mle_retvals\n",
      "  ConvergenceWarning)\n",
      "/home/dongyu/miniconda/envs/aer-paper/lib/python3.7/site-packages/statsmodels/base/model.py:568: ConvergenceWarning: Maximum Likelihood optimization failed to converge. Check mle_retvals\n",
      "  ConvergenceWarning)\n",
      "/home/dongyu/miniconda/envs/aer-paper/lib/python3.7/site-packages/statsmodels/base/model.py:568: ConvergenceWarning: Maximum Likelihood optimization failed to converge. Check mle_retvals\n",
      "  ConvergenceWarning)\n",
      "/home/dongyu/miniconda/envs/aer-paper/lib/python3.7/site-packages/statsmodels/base/model.py:568: ConvergenceWarning: Maximum Likelihood optimization failed to converge. Check mle_retvals\n",
      "  ConvergenceWarning)\n",
      "/home/dongyu/miniconda/envs/aer-paper/lib/python3.7/site-packages/statsmodels/base/model.py:548: HessianInversionWarning: Inverting hessian failed, no bse or cov_params available\n",
      "  'available', HessianInversionWarning)\n",
      "/home/dongyu/miniconda/envs/aer-paper/lib/python3.7/site-packages/statsmodels/base/model.py:548: HessianInversionWarning: Inverting hessian failed, no bse or cov_params available\n",
      "  'available', HessianInversionWarning)\n",
      "/home/dongyu/miniconda/envs/aer-paper/lib/python3.7/site-packages/statsmodels/base/model.py:548: HessianInversionWarning: Inverting hessian failed, no bse or cov_params available\n",
      "  'available', HessianInversionWarning)\n",
      "/home/dongyu/miniconda/envs/aer-paper/lib/python3.7/site-packages/statsmodels/base/model.py:548: HessianInversionWarning: Inverting hessian failed, no bse or cov_params available\n",
      "  'available', HessianInversionWarning)\n",
      "/home/dongyu/miniconda/envs/aer-paper/lib/python3.7/site-packages/statsmodels/base/model.py:548: HessianInversionWarning: Inverting hessian failed, no bse or cov_params available\n",
      "  'available', HessianInversionWarning)\n",
      "/home/dongyu/miniconda/envs/aer-paper/lib/python3.7/site-packages/statsmodels/base/model.py:548: HessianInversionWarning: Inverting hessian failed, no bse or cov_params available\n",
      "  'available', HessianInversionWarning)\n",
      "/home/dongyu/miniconda/envs/aer-paper/lib/python3.7/site-packages/statsmodels/base/model.py:548: HessianInversionWarning: Inverting hessian failed, no bse or cov_params available\n",
      "  'available', HessianInversionWarning)\n",
      "/home/dongyu/miniconda/envs/aer-paper/lib/python3.7/site-packages/statsmodels/base/model.py:548: HessianInversionWarning: Inverting hessian failed, no bse or cov_params available\n",
      "  'available', HessianInversionWarning)\n",
      "/home/dongyu/miniconda/envs/aer-paper/lib/python3.7/site-packages/statsmodels/base/model.py:548: HessianInversionWarning: Inverting hessian failed, no bse or cov_params available\n",
      "  'available', HessianInversionWarning)\n",
      "/home/dongyu/miniconda/envs/aer-paper/lib/python3.7/site-packages/statsmodels/base/model.py:548: HessianInversionWarning: Inverting hessian failed, no bse or cov_params available\n",
      "  'available', HessianInversionWarning)\n",
      "/home/dongyu/miniconda/envs/aer-paper/lib/python3.7/site-packages/statsmodels/base/model.py:548: HessianInversionWarning: Inverting hessian failed, no bse or cov_params available\n",
      "  'available', HessianInversionWarning)\n",
      "/home/dongyu/miniconda/envs/aer-paper/lib/python3.7/site-packages/statsmodels/base/model.py:548: HessianInversionWarning: Inverting hessian failed, no bse or cov_params available\n",
      "  'available', HessianInversionWarning)\n",
      "/home/dongyu/miniconda/envs/aer-paper/lib/python3.7/site-packages/statsmodels/base/model.py:568: ConvergenceWarning: Maximum Likelihood optimization failed to converge. Check mle_retvals\n",
      "  ConvergenceWarning)\n",
      "/home/dongyu/miniconda/envs/aer-paper/lib/python3.7/site-packages/statsmodels/base/model.py:548: HessianInversionWarning: Inverting hessian failed, no bse or cov_params available\n",
      "  'available', HessianInversionWarning)\n",
      "/home/dongyu/miniconda/envs/aer-paper/lib/python3.7/site-packages/statsmodels/base/model.py:548: HessianInversionWarning: Inverting hessian failed, no bse or cov_params available\n",
      "  'available', HessianInversionWarning)\n",
      "/home/dongyu/miniconda/envs/aer-paper/lib/python3.7/site-packages/statsmodels/base/model.py:548: HessianInversionWarning: Inverting hessian failed, no bse or cov_params available\n",
      "  'available', HessianInversionWarning)\n",
      "/home/dongyu/miniconda/envs/aer-paper/lib/python3.7/site-packages/statsmodels/base/model.py:568: ConvergenceWarning: Maximum Likelihood optimization failed to converge. Check mle_retvals\n",
      "  ConvergenceWarning)\n",
      "/home/dongyu/miniconda/envs/aer-paper/lib/python3.7/site-packages/statsmodels/base/model.py:568: ConvergenceWarning: Maximum Likelihood optimization failed to converge. Check mle_retvals\n",
      "  ConvergenceWarning)\n",
      "\n",
      "\n",
      "  7%|▋         | 243/3710 [5:04:44<87:12:42, 90.56s/it]\u001b[A\u001b[A"
     ]
    },
    {
     "name": "stdout",
     "output_type": "stream",
     "text": [
      "pipeline: arima_ablation, signal: D-14, test_split: True, detrend: False\n"
     ]
    },
    {
     "name": "stderr",
     "output_type": "stream",
     "text": [
      "Exception caught producing MLBlock statsmodels.tsa.arima_model.Arima#1\n",
      "Traceback (most recent call last):\n",
      "  File \"/home/dongyu/miniconda/envs/aer-paper/lib/python3.7/site-packages/mlblocks/mlpipeline.py\", line 679, in _produce_block\n",
      "    block_outputs = block.produce(**produce_args)\n",
      "  File \"/home/dongyu/miniconda/envs/aer-paper/lib/python3.7/site-packages/mlblocks/mlblock.py\", line 331, in produce\n",
      "    return getattr(self.instance, self.produce_method)(**produce_kwargs)\n",
      "  File \"/home/dongyu/miniconda/envs/aer-paper/lib/python3.7/site-packages/mlprimitives/adapters/statsmodels.py\", line 49, in predict\n",
      "    arima_fit = arima.fit(disp=0)\n",
      "  File \"/home/dongyu/miniconda/envs/aer-paper/lib/python3.7/site-packages/statsmodels/tsa/arima_model.py\", line 1017, in fit\n",
      "    start_ar_lags)\n",
      "  File \"/home/dongyu/miniconda/envs/aer-paper/lib/python3.7/site-packages/statsmodels/tsa/arima_model.py\", line 608, in _fit_start_params\n",
      "    start_params = self._fit_start_params_hr(order, start_ar_lags)\n",
      "  File \"/home/dongyu/miniconda/envs/aer-paper/lib/python3.7/site-packages/statsmodels/tsa/arima_model.py\", line 580, in _fit_start_params_hr\n",
      "    arcoefs = yule_walker(endog, order=p)[0]\n",
      "  File \"/home/dongyu/miniconda/envs/aer-paper/lib/python3.7/site-packages/statsmodels/regression/linear_model.py\", line 1429, in yule_walker\n",
      "    rho = np.linalg.solve(R, r[1:])\n",
      "  File \"<__array_function__ internals>\", line 6, in solve\n",
      "  File \"/home/dongyu/miniconda/envs/aer-paper/lib/python3.7/site-packages/numpy/linalg/linalg.py\", line 399, in solve\n",
      "    r = gufunc(a, b, signature=signature, extobj=extobj)\n",
      "  File \"/home/dongyu/miniconda/envs/aer-paper/lib/python3.7/site-packages/numpy/linalg/linalg.py\", line 97, in _raise_linalgerror_singular\n",
      "    raise LinAlgError(\"Singular matrix\")\n",
      "numpy.linalg.LinAlgError: Singular matrix\n",
      "Exception scoring pipeline <mlblocks.mlpipeline.MLPipeline object at 0x7f330a6ed6d0> on signal D-14 (test split: True), error Singular matrix.\n",
      "Traceback (most recent call last):\n",
      "  File \"/home/dongyu/apps/aer-paper/aer/benchmark.py\", line 162, in _evaluate_signal\n",
      "    anomalies = analyze(pipeline, train, test, save_output=save_output)\n",
      "  File \"/home/dongyu/miniconda/envs/aer-paper/lib/python3.7/site-packages/orion/analysis.py\", line 73, in analyze\n",
      "    events = _run_pipeline(pipeline, train, test, labels, save_output)\n",
      "  File \"/home/dongyu/miniconda/envs/aer-paper/lib/python3.7/site-packages/orion/analysis.py\", line 45, in _run_pipeline\n",
      "    output_=['default', 'model_info'])\n",
      "  File \"/home/dongyu/miniconda/envs/aer-paper/lib/python3.7/site-packages/mlblocks/mlpipeline.py\", line 913, in predict\n",
      "    self._produce_block(block, block_name, context, output_variables, outputs, debug_info)\n",
      "  File \"/home/dongyu/miniconda/envs/aer-paper/lib/python3.7/site-packages/mlblocks/mlpipeline.py\", line 679, in _produce_block\n",
      "    block_outputs = block.produce(**produce_args)\n",
      "  File \"/home/dongyu/miniconda/envs/aer-paper/lib/python3.7/site-packages/mlblocks/mlblock.py\", line 331, in produce\n",
      "    return getattr(self.instance, self.produce_method)(**produce_kwargs)\n",
      "  File \"/home/dongyu/miniconda/envs/aer-paper/lib/python3.7/site-packages/mlprimitives/adapters/statsmodels.py\", line 49, in predict\n",
      "    arima_fit = arima.fit(disp=0)\n",
      "  File \"/home/dongyu/miniconda/envs/aer-paper/lib/python3.7/site-packages/statsmodels/tsa/arima_model.py\", line 1017, in fit\n",
      "    start_ar_lags)\n",
      "  File \"/home/dongyu/miniconda/envs/aer-paper/lib/python3.7/site-packages/statsmodels/tsa/arima_model.py\", line 608, in _fit_start_params\n",
      "    start_params = self._fit_start_params_hr(order, start_ar_lags)\n",
      "  File \"/home/dongyu/miniconda/envs/aer-paper/lib/python3.7/site-packages/statsmodels/tsa/arima_model.py\", line 580, in _fit_start_params_hr\n",
      "    arcoefs = yule_walker(endog, order=p)[0]\n",
      "  File \"/home/dongyu/miniconda/envs/aer-paper/lib/python3.7/site-packages/statsmodels/regression/linear_model.py\", line 1429, in yule_walker\n",
      "    rho = np.linalg.solve(R, r[1:])\n",
      "  File \"<__array_function__ internals>\", line 6, in solve\n",
      "  File \"/home/dongyu/miniconda/envs/aer-paper/lib/python3.7/site-packages/numpy/linalg/linalg.py\", line 399, in solve\n",
      "    r = gufunc(a, b, signature=signature, extobj=extobj)\n",
      "  File \"/home/dongyu/miniconda/envs/aer-paper/lib/python3.7/site-packages/numpy/linalg/linalg.py\", line 97, in _raise_linalgerror_singular\n",
      "    raise LinAlgError(\"Singular matrix\")\n",
      "numpy.linalg.LinAlgError: Singular matrix\n",
      "\n",
      "\n",
      "  7%|▋         | 244/3710 [5:04:47<61:49:13, 64.21s/it]\u001b[A\u001b[A"
     ]
    },
    {
     "name": "stdout",
     "output_type": "stream",
     "text": [
      "pipeline: arima_ablation, signal: T-9, test_split: True, detrend: False\n"
     ]
    },
    {
     "name": "stderr",
     "output_type": "stream",
     "text": [
      "/home/dongyu/miniconda/envs/aer-paper/lib/python3.7/site-packages/statsmodels/base/model.py:568: ConvergenceWarning: Maximum Likelihood optimization failed to converge. Check mle_retvals\n",
      "  ConvergenceWarning)\n",
      "/home/dongyu/miniconda/envs/aer-paper/lib/python3.7/site-packages/statsmodels/base/model.py:568: ConvergenceWarning: Maximum Likelihood optimization failed to converge. Check mle_retvals\n",
      "  ConvergenceWarning)\n",
      "/home/dongyu/miniconda/envs/aer-paper/lib/python3.7/site-packages/statsmodels/base/model.py:568: ConvergenceWarning: Maximum Likelihood optimization failed to converge. Check mle_retvals\n",
      "  ConvergenceWarning)\n",
      "/home/dongyu/miniconda/envs/aer-paper/lib/python3.7/site-packages/statsmodels/base/model.py:568: ConvergenceWarning: Maximum Likelihood optimization failed to converge. Check mle_retvals\n",
      "  ConvergenceWarning)\n",
      "/home/dongyu/miniconda/envs/aer-paper/lib/python3.7/site-packages/statsmodels/base/model.py:568: ConvergenceWarning: Maximum Likelihood optimization failed to converge. Check mle_retvals\n",
      "  ConvergenceWarning)\n",
      "/home/dongyu/miniconda/envs/aer-paper/lib/python3.7/site-packages/statsmodels/base/model.py:568: ConvergenceWarning: Maximum Likelihood optimization failed to converge. Check mle_retvals\n",
      "  ConvergenceWarning)\n",
      "/home/dongyu/miniconda/envs/aer-paper/lib/python3.7/site-packages/statsmodels/base/model.py:568: ConvergenceWarning: Maximum Likelihood optimization failed to converge. Check mle_retvals\n",
      "  ConvergenceWarning)\n",
      "/home/dongyu/miniconda/envs/aer-paper/lib/python3.7/site-packages/statsmodels/base/model.py:568: ConvergenceWarning: Maximum Likelihood optimization failed to converge. Check mle_retvals\n",
      "  ConvergenceWarning)\n",
      "/home/dongyu/miniconda/envs/aer-paper/lib/python3.7/site-packages/statsmodels/base/model.py:568: ConvergenceWarning: Maximum Likelihood optimization failed to converge. Check mle_retvals\n",
      "  ConvergenceWarning)\n",
      "/home/dongyu/miniconda/envs/aer-paper/lib/python3.7/site-packages/statsmodels/base/model.py:568: ConvergenceWarning: Maximum Likelihood optimization failed to converge. Check mle_retvals\n",
      "  ConvergenceWarning)\n",
      "/home/dongyu/miniconda/envs/aer-paper/lib/python3.7/site-packages/statsmodels/base/model.py:568: ConvergenceWarning: Maximum Likelihood optimization failed to converge. Check mle_retvals\n",
      "  ConvergenceWarning)\n",
      "/home/dongyu/miniconda/envs/aer-paper/lib/python3.7/site-packages/statsmodels/base/model.py:568: ConvergenceWarning: Maximum Likelihood optimization failed to converge. Check mle_retvals\n",
      "  ConvergenceWarning)\n",
      "/home/dongyu/miniconda/envs/aer-paper/lib/python3.7/site-packages/statsmodels/base/model.py:568: ConvergenceWarning: Maximum Likelihood optimization failed to converge. Check mle_retvals\n",
      "  ConvergenceWarning)\n",
      "/home/dongyu/miniconda/envs/aer-paper/lib/python3.7/site-packages/statsmodels/base/model.py:568: ConvergenceWarning: Maximum Likelihood optimization failed to converge. Check mle_retvals\n",
      "  ConvergenceWarning)\n",
      "/home/dongyu/miniconda/envs/aer-paper/lib/python3.7/site-packages/statsmodels/base/model.py:568: ConvergenceWarning: Maximum Likelihood optimization failed to converge. Check mle_retvals\n",
      "  ConvergenceWarning)\n",
      "/home/dongyu/miniconda/envs/aer-paper/lib/python3.7/site-packages/statsmodels/base/model.py:568: ConvergenceWarning: Maximum Likelihood optimization failed to converge. Check mle_retvals\n",
      "  ConvergenceWarning)\n",
      "/home/dongyu/miniconda/envs/aer-paper/lib/python3.7/site-packages/statsmodels/base/model.py:568: ConvergenceWarning: Maximum Likelihood optimization failed to converge. Check mle_retvals\n",
      "  ConvergenceWarning)\n",
      "/home/dongyu/miniconda/envs/aer-paper/lib/python3.7/site-packages/statsmodels/base/model.py:568: ConvergenceWarning: Maximum Likelihood optimization failed to converge. Check mle_retvals\n",
      "  ConvergenceWarning)\n",
      "/home/dongyu/miniconda/envs/aer-paper/lib/python3.7/site-packages/statsmodels/base/model.py:568: ConvergenceWarning: Maximum Likelihood optimization failed to converge. Check mle_retvals\n",
      "  ConvergenceWarning)\n",
      "/home/dongyu/miniconda/envs/aer-paper/lib/python3.7/site-packages/statsmodels/base/model.py:568: ConvergenceWarning: Maximum Likelihood optimization failed to converge. Check mle_retvals\n",
      "  ConvergenceWarning)\n",
      "/home/dongyu/miniconda/envs/aer-paper/lib/python3.7/site-packages/statsmodels/base/model.py:568: ConvergenceWarning: Maximum Likelihood optimization failed to converge. Check mle_retvals\n",
      "  ConvergenceWarning)\n",
      "/home/dongyu/miniconda/envs/aer-paper/lib/python3.7/site-packages/statsmodels/base/model.py:568: ConvergenceWarning: Maximum Likelihood optimization failed to converge. Check mle_retvals\n",
      "  ConvergenceWarning)\n",
      "/home/dongyu/miniconda/envs/aer-paper/lib/python3.7/site-packages/statsmodels/base/model.py:568: ConvergenceWarning: Maximum Likelihood optimization failed to converge. Check mle_retvals\n",
      "  ConvergenceWarning)\n",
      "/home/dongyu/miniconda/envs/aer-paper/lib/python3.7/site-packages/statsmodels/base/model.py:568: ConvergenceWarning: Maximum Likelihood optimization failed to converge. Check mle_retvals\n",
      "  ConvergenceWarning)\n",
      "/home/dongyu/miniconda/envs/aer-paper/lib/python3.7/site-packages/statsmodels/base/model.py:568: ConvergenceWarning: Maximum Likelihood optimization failed to converge. Check mle_retvals\n",
      "  ConvergenceWarning)\n",
      "/home/dongyu/miniconda/envs/aer-paper/lib/python3.7/site-packages/statsmodels/base/model.py:568: ConvergenceWarning: Maximum Likelihood optimization failed to converge. Check mle_retvals\n",
      "  ConvergenceWarning)\n",
      "/home/dongyu/miniconda/envs/aer-paper/lib/python3.7/site-packages/statsmodels/base/model.py:568: ConvergenceWarning: Maximum Likelihood optimization failed to converge. Check mle_retvals\n",
      "  ConvergenceWarning)\n",
      "/home/dongyu/miniconda/envs/aer-paper/lib/python3.7/site-packages/statsmodels/base/model.py:568: ConvergenceWarning: Maximum Likelihood optimization failed to converge. Check mle_retvals\n",
      "  ConvergenceWarning)\n",
      "/home/dongyu/miniconda/envs/aer-paper/lib/python3.7/site-packages/statsmodels/base/model.py:568: ConvergenceWarning: Maximum Likelihood optimization failed to converge. Check mle_retvals\n",
      "  ConvergenceWarning)\n",
      "/home/dongyu/miniconda/envs/aer-paper/lib/python3.7/site-packages/statsmodels/base/model.py:568: ConvergenceWarning: Maximum Likelihood optimization failed to converge. Check mle_retvals\n",
      "  ConvergenceWarning)\n",
      "/home/dongyu/miniconda/envs/aer-paper/lib/python3.7/site-packages/statsmodels/base/model.py:568: ConvergenceWarning: Maximum Likelihood optimization failed to converge. Check mle_retvals\n",
      "  ConvergenceWarning)\n",
      "/home/dongyu/miniconda/envs/aer-paper/lib/python3.7/site-packages/statsmodels/base/model.py:568: ConvergenceWarning: Maximum Likelihood optimization failed to converge. Check mle_retvals\n",
      "  ConvergenceWarning)\n",
      "/home/dongyu/miniconda/envs/aer-paper/lib/python3.7/site-packages/statsmodels/base/model.py:548: HessianInversionWarning: Inverting hessian failed, no bse or cov_params available\n",
      "  'available', HessianInversionWarning)\n",
      "/home/dongyu/miniconda/envs/aer-paper/lib/python3.7/site-packages/statsmodels/base/model.py:568: ConvergenceWarning: Maximum Likelihood optimization failed to converge. Check mle_retvals\n",
      "  ConvergenceWarning)\n",
      "/home/dongyu/miniconda/envs/aer-paper/lib/python3.7/site-packages/statsmodels/base/model.py:548: HessianInversionWarning: Inverting hessian failed, no bse or cov_params available\n",
      "  'available', HessianInversionWarning)\n",
      "/home/dongyu/miniconda/envs/aer-paper/lib/python3.7/site-packages/statsmodels/base/model.py:548: HessianInversionWarning: Inverting hessian failed, no bse or cov_params available\n",
      "  'available', HessianInversionWarning)\n",
      "/home/dongyu/miniconda/envs/aer-paper/lib/python3.7/site-packages/statsmodels/base/model.py:548: HessianInversionWarning: Inverting hessian failed, no bse or cov_params available\n",
      "  'available', HessianInversionWarning)\n",
      "/home/dongyu/miniconda/envs/aer-paper/lib/python3.7/site-packages/statsmodels/base/model.py:548: HessianInversionWarning: Inverting hessian failed, no bse or cov_params available\n",
      "  'available', HessianInversionWarning)\n",
      "/home/dongyu/miniconda/envs/aer-paper/lib/python3.7/site-packages/statsmodels/base/model.py:548: HessianInversionWarning: Inverting hessian failed, no bse or cov_params available\n",
      "  'available', HessianInversionWarning)\n",
      "/home/dongyu/miniconda/envs/aer-paper/lib/python3.7/site-packages/statsmodels/base/model.py:548: HessianInversionWarning: Inverting hessian failed, no bse or cov_params available\n",
      "  'available', HessianInversionWarning)\n",
      "/home/dongyu/miniconda/envs/aer-paper/lib/python3.7/site-packages/statsmodels/base/model.py:548: HessianInversionWarning: Inverting hessian failed, no bse or cov_params available\n",
      "  'available', HessianInversionWarning)\n",
      "/home/dongyu/miniconda/envs/aer-paper/lib/python3.7/site-packages/statsmodels/base/model.py:548: HessianInversionWarning: Inverting hessian failed, no bse or cov_params available\n",
      "  'available', HessianInversionWarning)\n",
      "/home/dongyu/miniconda/envs/aer-paper/lib/python3.7/site-packages/statsmodels/base/model.py:548: HessianInversionWarning: Inverting hessian failed, no bse or cov_params available\n",
      "  'available', HessianInversionWarning)\n",
      "\n",
      "\n",
      "  7%|▋         | 245/3710 [5:05:16<51:53:23, 53.91s/it]\u001b[A\u001b[A"
     ]
    },
    {
     "name": "stdout",
     "output_type": "stream",
     "text": [
      "pipeline: arima_ablation, signal: P-14, test_split: True, detrend: False\n"
     ]
    },
    {
     "name": "stderr",
     "output_type": "stream",
     "text": [
      "/home/dongyu/miniconda/envs/aer-paper/lib/python3.7/site-packages/statsmodels/base/model.py:568: ConvergenceWarning: Maximum Likelihood optimization failed to converge. Check mle_retvals\n",
      "  ConvergenceWarning)\n",
      "/home/dongyu/miniconda/envs/aer-paper/lib/python3.7/site-packages/statsmodels/base/model.py:568: ConvergenceWarning: Maximum Likelihood optimization failed to converge. Check mle_retvals\n",
      "  ConvergenceWarning)\n",
      "/home/dongyu/miniconda/envs/aer-paper/lib/python3.7/site-packages/statsmodels/base/model.py:568: ConvergenceWarning: Maximum Likelihood optimization failed to converge. Check mle_retvals\n",
      "  ConvergenceWarning)\n",
      "/home/dongyu/miniconda/envs/aer-paper/lib/python3.7/site-packages/statsmodels/base/model.py:568: ConvergenceWarning: Maximum Likelihood optimization failed to converge. Check mle_retvals\n",
      "  ConvergenceWarning)\n",
      "/home/dongyu/miniconda/envs/aer-paper/lib/python3.7/site-packages/statsmodels/base/model.py:568: ConvergenceWarning: Maximum Likelihood optimization failed to converge. Check mle_retvals\n",
      "  ConvergenceWarning)\n",
      "/home/dongyu/miniconda/envs/aer-paper/lib/python3.7/site-packages/statsmodels/base/model.py:548: HessianInversionWarning: Inverting hessian failed, no bse or cov_params available\n",
      "  'available', HessianInversionWarning)\n",
      "/home/dongyu/miniconda/envs/aer-paper/lib/python3.7/site-packages/statsmodels/base/model.py:548: HessianInversionWarning: Inverting hessian failed, no bse or cov_params available\n",
      "  'available', HessianInversionWarning)\n",
      "/home/dongyu/miniconda/envs/aer-paper/lib/python3.7/site-packages/statsmodels/base/model.py:568: ConvergenceWarning: Maximum Likelihood optimization failed to converge. Check mle_retvals\n",
      "  ConvergenceWarning)\n",
      "/home/dongyu/miniconda/envs/aer-paper/lib/python3.7/site-packages/statsmodels/base/model.py:548: HessianInversionWarning: Inverting hessian failed, no bse or cov_params available\n",
      "  'available', HessianInversionWarning)\n",
      "/home/dongyu/miniconda/envs/aer-paper/lib/python3.7/site-packages/statsmodels/base/model.py:568: ConvergenceWarning: Maximum Likelihood optimization failed to converge. Check mle_retvals\n",
      "  ConvergenceWarning)\n",
      "/home/dongyu/miniconda/envs/aer-paper/lib/python3.7/site-packages/statsmodels/base/model.py:568: ConvergenceWarning: Maximum Likelihood optimization failed to converge. Check mle_retvals\n",
      "  ConvergenceWarning)\n",
      "\n",
      "\n",
      "  7%|▋         | 246/3710 [5:07:14<70:12:52, 72.97s/it]\u001b[A\u001b[A"
     ]
    },
    {
     "name": "stdout",
     "output_type": "stream",
     "text": [
      "pipeline: arima_ablation, signal: T-8, test_split: True, detrend: False\n"
     ]
    },
    {
     "name": "stderr",
     "output_type": "stream",
     "text": [
      "/home/dongyu/miniconda/envs/aer-paper/lib/python3.7/site-packages/statsmodels/base/model.py:568: ConvergenceWarning: Maximum Likelihood optimization failed to converge. Check mle_retvals\n",
      "  ConvergenceWarning)\n",
      "/home/dongyu/miniconda/envs/aer-paper/lib/python3.7/site-packages/statsmodels/base/model.py:568: ConvergenceWarning: Maximum Likelihood optimization failed to converge. Check mle_retvals\n",
      "  ConvergenceWarning)\n",
      "/home/dongyu/miniconda/envs/aer-paper/lib/python3.7/site-packages/statsmodels/base/model.py:568: ConvergenceWarning: Maximum Likelihood optimization failed to converge. Check mle_retvals\n",
      "  ConvergenceWarning)\n",
      "Exception caught producing MLBlock statsmodels.tsa.arima_model.Arima#1\n",
      "Traceback (most recent call last):\n",
      "  File \"/home/dongyu/miniconda/envs/aer-paper/lib/python3.7/site-packages/mlblocks/mlpipeline.py\", line 679, in _produce_block\n",
      "    block_outputs = block.produce(**produce_args)\n",
      "  File \"/home/dongyu/miniconda/envs/aer-paper/lib/python3.7/site-packages/mlblocks/mlblock.py\", line 331, in produce\n",
      "    return getattr(self.instance, self.produce_method)(**produce_kwargs)\n",
      "  File \"/home/dongyu/miniconda/envs/aer-paper/lib/python3.7/site-packages/mlprimitives/adapters/statsmodels.py\", line 49, in predict\n",
      "    arima_fit = arima.fit(disp=0)\n",
      "  File \"/home/dongyu/miniconda/envs/aer-paper/lib/python3.7/site-packages/statsmodels/tsa/arima_model.py\", line 1017, in fit\n",
      "    start_ar_lags)\n",
      "  File \"/home/dongyu/miniconda/envs/aer-paper/lib/python3.7/site-packages/statsmodels/tsa/arima_model.py\", line 608, in _fit_start_params\n",
      "    start_params = self._fit_start_params_hr(order, start_ar_lags)\n",
      "  File \"/home/dongyu/miniconda/envs/aer-paper/lib/python3.7/site-packages/statsmodels/tsa/arima_model.py\", line 580, in _fit_start_params_hr\n",
      "    arcoefs = yule_walker(endog, order=p)[0]\n",
      "  File \"/home/dongyu/miniconda/envs/aer-paper/lib/python3.7/site-packages/statsmodels/regression/linear_model.py\", line 1429, in yule_walker\n",
      "    rho = np.linalg.solve(R, r[1:])\n",
      "  File \"<__array_function__ internals>\", line 6, in solve\n",
      "  File \"/home/dongyu/miniconda/envs/aer-paper/lib/python3.7/site-packages/numpy/linalg/linalg.py\", line 399, in solve\n",
      "    r = gufunc(a, b, signature=signature, extobj=extobj)\n",
      "  File \"/home/dongyu/miniconda/envs/aer-paper/lib/python3.7/site-packages/numpy/linalg/linalg.py\", line 97, in _raise_linalgerror_singular\n",
      "    raise LinAlgError(\"Singular matrix\")\n",
      "numpy.linalg.LinAlgError: Singular matrix\n",
      "Exception scoring pipeline <mlblocks.mlpipeline.MLPipeline object at 0x7f3319eb1110> on signal T-8 (test split: True), error Singular matrix.\n",
      "Traceback (most recent call last):\n",
      "  File \"/home/dongyu/apps/aer-paper/aer/benchmark.py\", line 162, in _evaluate_signal\n",
      "    anomalies = analyze(pipeline, train, test, save_output=save_output)\n",
      "  File \"/home/dongyu/miniconda/envs/aer-paper/lib/python3.7/site-packages/orion/analysis.py\", line 73, in analyze\n",
      "    events = _run_pipeline(pipeline, train, test, labels, save_output)\n",
      "  File \"/home/dongyu/miniconda/envs/aer-paper/lib/python3.7/site-packages/orion/analysis.py\", line 45, in _run_pipeline\n",
      "    output_=['default', 'model_info'])\n",
      "  File \"/home/dongyu/miniconda/envs/aer-paper/lib/python3.7/site-packages/mlblocks/mlpipeline.py\", line 913, in predict\n",
      "    self._produce_block(block, block_name, context, output_variables, outputs, debug_info)\n",
      "  File \"/home/dongyu/miniconda/envs/aer-paper/lib/python3.7/site-packages/mlblocks/mlpipeline.py\", line 679, in _produce_block\n",
      "    block_outputs = block.produce(**produce_args)\n",
      "  File \"/home/dongyu/miniconda/envs/aer-paper/lib/python3.7/site-packages/mlblocks/mlblock.py\", line 331, in produce\n",
      "    return getattr(self.instance, self.produce_method)(**produce_kwargs)\n",
      "  File \"/home/dongyu/miniconda/envs/aer-paper/lib/python3.7/site-packages/mlprimitives/adapters/statsmodels.py\", line 49, in predict\n",
      "    arima_fit = arima.fit(disp=0)\n",
      "  File \"/home/dongyu/miniconda/envs/aer-paper/lib/python3.7/site-packages/statsmodels/tsa/arima_model.py\", line 1017, in fit\n",
      "    start_ar_lags)\n",
      "  File \"/home/dongyu/miniconda/envs/aer-paper/lib/python3.7/site-packages/statsmodels/tsa/arima_model.py\", line 608, in _fit_start_params\n",
      "    start_params = self._fit_start_params_hr(order, start_ar_lags)\n",
      "  File \"/home/dongyu/miniconda/envs/aer-paper/lib/python3.7/site-packages/statsmodels/tsa/arima_model.py\", line 580, in _fit_start_params_hr\n",
      "    arcoefs = yule_walker(endog, order=p)[0]\n",
      "  File \"/home/dongyu/miniconda/envs/aer-paper/lib/python3.7/site-packages/statsmodels/regression/linear_model.py\", line 1429, in yule_walker\n",
      "    rho = np.linalg.solve(R, r[1:])\n",
      "  File \"<__array_function__ internals>\", line 6, in solve\n",
      "  File \"/home/dongyu/miniconda/envs/aer-paper/lib/python3.7/site-packages/numpy/linalg/linalg.py\", line 399, in solve\n",
      "    r = gufunc(a, b, signature=signature, extobj=extobj)\n",
      "  File \"/home/dongyu/miniconda/envs/aer-paper/lib/python3.7/site-packages/numpy/linalg/linalg.py\", line 97, in _raise_linalgerror_singular\n",
      "    raise LinAlgError(\"Singular matrix\")\n",
      "numpy.linalg.LinAlgError: Singular matrix\n",
      "\n",
      "\n",
      "  7%|▋         | 247/3710 [5:07:31<53:59:26, 56.13s/it]\u001b[A\u001b[A"
     ]
    },
    {
     "name": "stdout",
     "output_type": "stream",
     "text": [
      "pipeline: arima_ablation, signal: P-11, test_split: True, detrend: False\n"
     ]
    },
    {
     "name": "stderr",
     "output_type": "stream",
     "text": [
      "/home/dongyu/miniconda/envs/aer-paper/lib/python3.7/site-packages/statsmodels/base/model.py:568: ConvergenceWarning: Maximum Likelihood optimization failed to converge. Check mle_retvals\n",
      "  ConvergenceWarning)\n",
      "/home/dongyu/miniconda/envs/aer-paper/lib/python3.7/site-packages/statsmodels/base/model.py:568: ConvergenceWarning: Maximum Likelihood optimization failed to converge. Check mle_retvals\n",
      "  ConvergenceWarning)\n",
      "/home/dongyu/miniconda/envs/aer-paper/lib/python3.7/site-packages/statsmodels/base/model.py:568: ConvergenceWarning: Maximum Likelihood optimization failed to converge. Check mle_retvals\n",
      "  ConvergenceWarning)\n",
      "/home/dongyu/miniconda/envs/aer-paper/lib/python3.7/site-packages/statsmodels/base/model.py:568: ConvergenceWarning: Maximum Likelihood optimization failed to converge. Check mle_retvals\n",
      "  ConvergenceWarning)\n",
      "/home/dongyu/miniconda/envs/aer-paper/lib/python3.7/site-packages/statsmodels/base/model.py:568: ConvergenceWarning: Maximum Likelihood optimization failed to converge. Check mle_retvals\n",
      "  ConvergenceWarning)\n",
      "/home/dongyu/miniconda/envs/aer-paper/lib/python3.7/site-packages/statsmodels/base/model.py:568: ConvergenceWarning: Maximum Likelihood optimization failed to converge. Check mle_retvals\n",
      "  ConvergenceWarning)\n",
      "/home/dongyu/miniconda/envs/aer-paper/lib/python3.7/site-packages/statsmodels/base/model.py:568: ConvergenceWarning: Maximum Likelihood optimization failed to converge. Check mle_retvals\n",
      "  ConvergenceWarning)\n",
      "/home/dongyu/miniconda/envs/aer-paper/lib/python3.7/site-packages/statsmodels/base/model.py:568: ConvergenceWarning: Maximum Likelihood optimization failed to converge. Check mle_retvals\n",
      "  ConvergenceWarning)\n",
      "\n",
      "\n",
      "  7%|▋         | 248/3710 [5:08:32<55:21:57, 57.57s/it]\u001b[A\u001b[A"
     ]
    },
    {
     "name": "stdout",
     "output_type": "stream",
     "text": [
      "pipeline: arima_ablation, signal: D-15, test_split: True, detrend: False\n"
     ]
    },
    {
     "name": "stderr",
     "output_type": "stream",
     "text": [
      "/home/dongyu/miniconda/envs/aer-paper/lib/python3.7/site-packages/statsmodels/base/model.py:568: ConvergenceWarning: Maximum Likelihood optimization failed to converge. Check mle_retvals\n",
      "  ConvergenceWarning)\n",
      "/home/dongyu/miniconda/envs/aer-paper/lib/python3.7/site-packages/statsmodels/base/model.py:568: ConvergenceWarning: Maximum Likelihood optimization failed to converge. Check mle_retvals\n",
      "  ConvergenceWarning)\n",
      "/home/dongyu/miniconda/envs/aer-paper/lib/python3.7/site-packages/statsmodels/base/model.py:568: ConvergenceWarning: Maximum Likelihood optimization failed to converge. Check mle_retvals\n",
      "  ConvergenceWarning)\n",
      "/home/dongyu/miniconda/envs/aer-paper/lib/python3.7/site-packages/statsmodels/base/model.py:568: ConvergenceWarning: Maximum Likelihood optimization failed to converge. Check mle_retvals\n",
      "  ConvergenceWarning)\n",
      "/home/dongyu/miniconda/envs/aer-paper/lib/python3.7/site-packages/statsmodels/base/model.py:568: ConvergenceWarning: Maximum Likelihood optimization failed to converge. Check mle_retvals\n",
      "  ConvergenceWarning)\n",
      "/home/dongyu/miniconda/envs/aer-paper/lib/python3.7/site-packages/statsmodels/base/model.py:568: ConvergenceWarning: Maximum Likelihood optimization failed to converge. Check mle_retvals\n",
      "  ConvergenceWarning)\n",
      "/home/dongyu/miniconda/envs/aer-paper/lib/python3.7/site-packages/statsmodels/base/model.py:568: ConvergenceWarning: Maximum Likelihood optimization failed to converge. Check mle_retvals\n",
      "  ConvergenceWarning)\n",
      "Evaluation exception division by zero (tp 0/ fp 0).\n",
      "Traceback (most recent call last):\n",
      "  File \"/home/dongyu/miniconda/envs/aer-paper/lib/python3.7/site-packages/orion/evaluation/common.py\", line 43, in _precision\n",
      "    return tp / (tp + fp)\n",
      "ZeroDivisionError: division by zero\n",
      "Evaluation exception division by zero (tp 0/ fp 0).\n",
      "Traceback (most recent call last):\n",
      "  File \"/home/dongyu/miniconda/envs/aer-paper/lib/python3.7/site-packages/orion/evaluation/common.py\", line 43, in _precision\n",
      "    return tp / (tp + fp)\n",
      "ZeroDivisionError: division by zero\n",
      "\n",
      "\n",
      "  7%|▋         | 249/3710 [5:09:04<48:07:48, 50.06s/it]\u001b[A\u001b[A"
     ]
    },
    {
     "name": "stdout",
     "output_type": "stream",
     "text": [
      "pipeline: arima_ablation, signal: D-16, test_split: True, detrend: False\n"
     ]
    },
    {
     "name": "stderr",
     "output_type": "stream",
     "text": [
      "Exception caught producing MLBlock statsmodels.tsa.arima_model.Arima#1\n",
      "Traceback (most recent call last):\n",
      "  File \"/home/dongyu/miniconda/envs/aer-paper/lib/python3.7/site-packages/mlblocks/mlpipeline.py\", line 679, in _produce_block\n",
      "    block_outputs = block.produce(**produce_args)\n",
      "  File \"/home/dongyu/miniconda/envs/aer-paper/lib/python3.7/site-packages/mlblocks/mlblock.py\", line 331, in produce\n",
      "    return getattr(self.instance, self.produce_method)(**produce_kwargs)\n",
      "  File \"/home/dongyu/miniconda/envs/aer-paper/lib/python3.7/site-packages/mlprimitives/adapters/statsmodels.py\", line 49, in predict\n",
      "    arima_fit = arima.fit(disp=0)\n",
      "  File \"/home/dongyu/miniconda/envs/aer-paper/lib/python3.7/site-packages/statsmodels/tsa/arima_model.py\", line 1017, in fit\n",
      "    start_ar_lags)\n",
      "  File \"/home/dongyu/miniconda/envs/aer-paper/lib/python3.7/site-packages/statsmodels/tsa/arima_model.py\", line 608, in _fit_start_params\n",
      "    start_params = self._fit_start_params_hr(order, start_ar_lags)\n",
      "  File \"/home/dongyu/miniconda/envs/aer-paper/lib/python3.7/site-packages/statsmodels/tsa/arima_model.py\", line 580, in _fit_start_params_hr\n",
      "    arcoefs = yule_walker(endog, order=p)[0]\n",
      "  File \"/home/dongyu/miniconda/envs/aer-paper/lib/python3.7/site-packages/statsmodels/regression/linear_model.py\", line 1429, in yule_walker\n",
      "    rho = np.linalg.solve(R, r[1:])\n",
      "  File \"<__array_function__ internals>\", line 6, in solve\n",
      "  File \"/home/dongyu/miniconda/envs/aer-paper/lib/python3.7/site-packages/numpy/linalg/linalg.py\", line 399, in solve\n",
      "    r = gufunc(a, b, signature=signature, extobj=extobj)\n",
      "  File \"/home/dongyu/miniconda/envs/aer-paper/lib/python3.7/site-packages/numpy/linalg/linalg.py\", line 97, in _raise_linalgerror_singular\n",
      "    raise LinAlgError(\"Singular matrix\")\n",
      "numpy.linalg.LinAlgError: Singular matrix\n",
      "Exception scoring pipeline <mlblocks.mlpipeline.MLPipeline object at 0x7f33378fb5d0> on signal D-16 (test split: True), error Singular matrix.\n",
      "Traceback (most recent call last):\n",
      "  File \"/home/dongyu/apps/aer-paper/aer/benchmark.py\", line 162, in _evaluate_signal\n",
      "    anomalies = analyze(pipeline, train, test, save_output=save_output)\n",
      "  File \"/home/dongyu/miniconda/envs/aer-paper/lib/python3.7/site-packages/orion/analysis.py\", line 73, in analyze\n",
      "    events = _run_pipeline(pipeline, train, test, labels, save_output)\n",
      "  File \"/home/dongyu/miniconda/envs/aer-paper/lib/python3.7/site-packages/orion/analysis.py\", line 45, in _run_pipeline\n",
      "    output_=['default', 'model_info'])\n",
      "  File \"/home/dongyu/miniconda/envs/aer-paper/lib/python3.7/site-packages/mlblocks/mlpipeline.py\", line 913, in predict\n",
      "    self._produce_block(block, block_name, context, output_variables, outputs, debug_info)\n",
      "  File \"/home/dongyu/miniconda/envs/aer-paper/lib/python3.7/site-packages/mlblocks/mlpipeline.py\", line 679, in _produce_block\n",
      "    block_outputs = block.produce(**produce_args)\n",
      "  File \"/home/dongyu/miniconda/envs/aer-paper/lib/python3.7/site-packages/mlblocks/mlblock.py\", line 331, in produce\n",
      "    return getattr(self.instance, self.produce_method)(**produce_kwargs)\n",
      "  File \"/home/dongyu/miniconda/envs/aer-paper/lib/python3.7/site-packages/mlprimitives/adapters/statsmodels.py\", line 49, in predict\n",
      "    arima_fit = arima.fit(disp=0)\n",
      "  File \"/home/dongyu/miniconda/envs/aer-paper/lib/python3.7/site-packages/statsmodels/tsa/arima_model.py\", line 1017, in fit\n",
      "    start_ar_lags)\n",
      "  File \"/home/dongyu/miniconda/envs/aer-paper/lib/python3.7/site-packages/statsmodels/tsa/arima_model.py\", line 608, in _fit_start_params\n",
      "    start_params = self._fit_start_params_hr(order, start_ar_lags)\n",
      "  File \"/home/dongyu/miniconda/envs/aer-paper/lib/python3.7/site-packages/statsmodels/tsa/arima_model.py\", line 580, in _fit_start_params_hr\n",
      "    arcoefs = yule_walker(endog, order=p)[0]\n",
      "  File \"/home/dongyu/miniconda/envs/aer-paper/lib/python3.7/site-packages/statsmodels/regression/linear_model.py\", line 1429, in yule_walker\n",
      "    rho = np.linalg.solve(R, r[1:])\n",
      "  File \"<__array_function__ internals>\", line 6, in solve\n",
      "  File \"/home/dongyu/miniconda/envs/aer-paper/lib/python3.7/site-packages/numpy/linalg/linalg.py\", line 399, in solve\n",
      "    r = gufunc(a, b, signature=signature, extobj=extobj)\n",
      "  File \"/home/dongyu/miniconda/envs/aer-paper/lib/python3.7/site-packages/numpy/linalg/linalg.py\", line 97, in _raise_linalgerror_singular\n",
      "    raise LinAlgError(\"Singular matrix\")\n",
      "numpy.linalg.LinAlgError: Singular matrix\n",
      "\n",
      "\n",
      "  7%|▋         | 250/3710 [5:09:06<34:10:35, 35.56s/it]\u001b[A\u001b[A"
     ]
    },
    {
     "name": "stdout",
     "output_type": "stream",
     "text": [
      "pipeline: arima_ablation, signal: M-7, test_split: True, detrend: False\n"
     ]
    },
    {
     "name": "stderr",
     "output_type": "stream",
     "text": [
      "/home/dongyu/miniconda/envs/aer-paper/lib/python3.7/site-packages/statsmodels/base/model.py:568: ConvergenceWarning: Maximum Likelihood optimization failed to converge. Check mle_retvals\n",
      "  ConvergenceWarning)\n",
      "Exception caught producing MLBlock statsmodels.tsa.arima_model.Arima#1\n",
      "Traceback (most recent call last):\n",
      "  File \"/home/dongyu/miniconda/envs/aer-paper/lib/python3.7/site-packages/mlblocks/mlpipeline.py\", line 679, in _produce_block\n",
      "    block_outputs = block.produce(**produce_args)\n",
      "  File \"/home/dongyu/miniconda/envs/aer-paper/lib/python3.7/site-packages/mlblocks/mlblock.py\", line 331, in produce\n",
      "    return getattr(self.instance, self.produce_method)(**produce_kwargs)\n",
      "  File \"/home/dongyu/miniconda/envs/aer-paper/lib/python3.7/site-packages/mlprimitives/adapters/statsmodels.py\", line 49, in predict\n",
      "    arima_fit = arima.fit(disp=0)\n",
      "  File \"/home/dongyu/miniconda/envs/aer-paper/lib/python3.7/site-packages/statsmodels/tsa/arima_model.py\", line 1017, in fit\n",
      "    start_ar_lags)\n",
      "  File \"/home/dongyu/miniconda/envs/aer-paper/lib/python3.7/site-packages/statsmodels/tsa/arima_model.py\", line 608, in _fit_start_params\n",
      "    start_params = self._fit_start_params_hr(order, start_ar_lags)\n",
      "  File \"/home/dongyu/miniconda/envs/aer-paper/lib/python3.7/site-packages/statsmodels/tsa/arima_model.py\", line 580, in _fit_start_params_hr\n",
      "    arcoefs = yule_walker(endog, order=p)[0]\n",
      "  File \"/home/dongyu/miniconda/envs/aer-paper/lib/python3.7/site-packages/statsmodels/regression/linear_model.py\", line 1429, in yule_walker\n",
      "    rho = np.linalg.solve(R, r[1:])\n",
      "  File \"<__array_function__ internals>\", line 6, in solve\n",
      "  File \"/home/dongyu/miniconda/envs/aer-paper/lib/python3.7/site-packages/numpy/linalg/linalg.py\", line 399, in solve\n",
      "    r = gufunc(a, b, signature=signature, extobj=extobj)\n",
      "  File \"/home/dongyu/miniconda/envs/aer-paper/lib/python3.7/site-packages/numpy/linalg/linalg.py\", line 97, in _raise_linalgerror_singular\n",
      "    raise LinAlgError(\"Singular matrix\")\n",
      "numpy.linalg.LinAlgError: Singular matrix\n",
      "Exception scoring pipeline <mlblocks.mlpipeline.MLPipeline object at 0x7f331e0b9850> on signal M-7 (test split: True), error Singular matrix.\n",
      "Traceback (most recent call last):\n",
      "  File \"/home/dongyu/apps/aer-paper/aer/benchmark.py\", line 162, in _evaluate_signal\n",
      "    anomalies = analyze(pipeline, train, test, save_output=save_output)\n",
      "  File \"/home/dongyu/miniconda/envs/aer-paper/lib/python3.7/site-packages/orion/analysis.py\", line 73, in analyze\n",
      "    events = _run_pipeline(pipeline, train, test, labels, save_output)\n",
      "  File \"/home/dongyu/miniconda/envs/aer-paper/lib/python3.7/site-packages/orion/analysis.py\", line 45, in _run_pipeline\n",
      "    output_=['default', 'model_info'])\n",
      "  File \"/home/dongyu/miniconda/envs/aer-paper/lib/python3.7/site-packages/mlblocks/mlpipeline.py\", line 913, in predict\n",
      "    self._produce_block(block, block_name, context, output_variables, outputs, debug_info)\n",
      "  File \"/home/dongyu/miniconda/envs/aer-paper/lib/python3.7/site-packages/mlblocks/mlpipeline.py\", line 679, in _produce_block\n",
      "    block_outputs = block.produce(**produce_args)\n",
      "  File \"/home/dongyu/miniconda/envs/aer-paper/lib/python3.7/site-packages/mlblocks/mlblock.py\", line 331, in produce\n",
      "    return getattr(self.instance, self.produce_method)(**produce_kwargs)\n",
      "  File \"/home/dongyu/miniconda/envs/aer-paper/lib/python3.7/site-packages/mlprimitives/adapters/statsmodels.py\", line 49, in predict\n",
      "    arima_fit = arima.fit(disp=0)\n",
      "  File \"/home/dongyu/miniconda/envs/aer-paper/lib/python3.7/site-packages/statsmodels/tsa/arima_model.py\", line 1017, in fit\n",
      "    start_ar_lags)\n",
      "  File \"/home/dongyu/miniconda/envs/aer-paper/lib/python3.7/site-packages/statsmodels/tsa/arima_model.py\", line 608, in _fit_start_params\n",
      "    start_params = self._fit_start_params_hr(order, start_ar_lags)\n",
      "  File \"/home/dongyu/miniconda/envs/aer-paper/lib/python3.7/site-packages/statsmodels/tsa/arima_model.py\", line 580, in _fit_start_params_hr\n",
      "    arcoefs = yule_walker(endog, order=p)[0]\n",
      "  File \"/home/dongyu/miniconda/envs/aer-paper/lib/python3.7/site-packages/statsmodels/regression/linear_model.py\", line 1429, in yule_walker\n",
      "    rho = np.linalg.solve(R, r[1:])\n",
      "  File \"<__array_function__ internals>\", line 6, in solve\n",
      "  File \"/home/dongyu/miniconda/envs/aer-paper/lib/python3.7/site-packages/numpy/linalg/linalg.py\", line 399, in solve\n",
      "    r = gufunc(a, b, signature=signature, extobj=extobj)\n",
      "  File \"/home/dongyu/miniconda/envs/aer-paper/lib/python3.7/site-packages/numpy/linalg/linalg.py\", line 97, in _raise_linalgerror_singular\n",
      "    raise LinAlgError(\"Singular matrix\")\n",
      "numpy.linalg.LinAlgError: Singular matrix\n",
      "\n",
      "\n",
      "  7%|▋         | 251/3710 [5:09:12<25:42:06, 26.75s/it]\u001b[A\u001b[A"
     ]
    },
    {
     "name": "stdout",
     "output_type": "stream",
     "text": [
      "pipeline: arima_ablation, signal: F-8, test_split: True, detrend: False\n"
     ]
    },
    {
     "name": "stderr",
     "output_type": "stream",
     "text": [
      "/home/dongyu/miniconda/envs/aer-paper/lib/python3.7/site-packages/statsmodels/base/model.py:568: ConvergenceWarning: Maximum Likelihood optimization failed to converge. Check mle_retvals\n",
      "  ConvergenceWarning)\n",
      "/home/dongyu/miniconda/envs/aer-paper/lib/python3.7/site-packages/statsmodels/base/model.py:568: ConvergenceWarning: Maximum Likelihood optimization failed to converge. Check mle_retvals\n",
      "  ConvergenceWarning)\n",
      "/home/dongyu/miniconda/envs/aer-paper/lib/python3.7/site-packages/statsmodels/base/model.py:568: ConvergenceWarning: Maximum Likelihood optimization failed to converge. Check mle_retvals\n",
      "  ConvergenceWarning)\n",
      "/home/dongyu/miniconda/envs/aer-paper/lib/python3.7/site-packages/statsmodels/base/model.py:568: ConvergenceWarning: Maximum Likelihood optimization failed to converge. Check mle_retvals\n",
      "  ConvergenceWarning)\n",
      "/home/dongyu/miniconda/envs/aer-paper/lib/python3.7/site-packages/statsmodels/base/model.py:568: ConvergenceWarning: Maximum Likelihood optimization failed to converge. Check mle_retvals\n",
      "  ConvergenceWarning)\n",
      "\n",
      "\n",
      "  7%|▋         | 252/3710 [5:09:54<30:05:51, 31.33s/it]\u001b[A\u001b[A"
     ]
    },
    {
     "name": "stdout",
     "output_type": "stream",
     "text": [
      "pipeline: lstm_dynamic_threshold_ablation, signal: M-6, test_split: True, detrend: False\n"
     ]
    },
    {
     "name": "stderr",
     "output_type": "stream",
     "text": [
      "\n",
      "\n",
      "  7%|▋         | 253/3710 [5:10:11<25:57:08, 27.03s/it]\u001b[A\u001b[A"
     ]
    },
    {
     "name": "stdout",
     "output_type": "stream",
     "text": [
      "pipeline: lstm_dynamic_threshold_ablation, signal: M-1, test_split: True, detrend: False\n"
     ]
    },
    {
     "name": "stderr",
     "output_type": "stream",
     "text": [
      "\n",
      "\n",
      "  7%|▋         | 254/3710 [5:11:04<33:17:53, 34.69s/it]\u001b[A\u001b[A"
     ]
    },
    {
     "name": "stdout",
     "output_type": "stream",
     "text": [
      "pipeline: lstm_dynamic_threshold_ablation, signal: M-2, test_split: True, detrend: False\n"
     ]
    },
    {
     "name": "stderr",
     "output_type": "stream",
     "text": [
      "\n",
      "\n",
      "  7%|▋         | 255/3710 [5:11:57<38:31:42, 40.15s/it]\u001b[A\u001b[A"
     ]
    },
    {
     "name": "stdout",
     "output_type": "stream",
     "text": [
      "pipeline: lstm_dynamic_threshold_ablation, signal: S-2, test_split: True, detrend: False\n"
     ]
    },
    {
     "name": "stderr",
     "output_type": "stream",
     "text": [
      "\n",
      "\n",
      "  7%|▋         | 256/3710 [5:12:10<30:54:30, 32.21s/it]\u001b[A\u001b[A"
     ]
    },
    {
     "name": "stdout",
     "output_type": "stream",
     "text": [
      "pipeline: lstm_dynamic_threshold_ablation, signal: P-10, test_split: True, detrend: False\n"
     ]
    },
    {
     "name": "stderr",
     "output_type": "stream",
     "text": [
      "\n",
      "\n",
      "  7%|▋         | 257/3710 [5:12:49<32:47:40, 34.19s/it]\u001b[A\u001b[A"
     ]
    },
    {
     "name": "stdout",
     "output_type": "stream",
     "text": [
      "pipeline: lstm_dynamic_threshold_ablation, signal: T-4, test_split: True, detrend: False\n"
     ]
    },
    {
     "name": "stderr",
     "output_type": "stream",
     "text": [
      "\n",
      "\n",
      "  7%|▋         | 258/3710 [5:13:45<38:53:59, 40.57s/it]\u001b[A\u001b[A"
     ]
    },
    {
     "name": "stdout",
     "output_type": "stream",
     "text": [
      "pipeline: lstm_dynamic_threshold_ablation, signal: T-5, test_split: True, detrend: False\n"
     ]
    },
    {
     "name": "stderr",
     "output_type": "stream",
     "text": [
      "\n",
      "\n",
      "  7%|▋         | 259/3710 [5:14:07<33:47:14, 35.25s/it]\u001b[A\u001b[A"
     ]
    },
    {
     "name": "stdout",
     "output_type": "stream",
     "text": [
      "pipeline: lstm_dynamic_threshold_ablation, signal: F-7, test_split: True, detrend: False\n"
     ]
    },
    {
     "name": "stderr",
     "output_type": "stream",
     "text": [
      "Evaluation exception division by zero (tp 0/ fp 0).\n",
      "Traceback (most recent call last):\n",
      "  File \"/home/dongyu/miniconda/envs/aer-paper/lib/python3.7/site-packages/orion/evaluation/common.py\", line 43, in _precision\n",
      "    return tp / (tp + fp)\n",
      "ZeroDivisionError: division by zero\n",
      "Evaluation exception division by zero (tp 0/ fp 0).\n",
      "Traceback (most recent call last):\n",
      "  File \"/home/dongyu/miniconda/envs/aer-paper/lib/python3.7/site-packages/orion/evaluation/common.py\", line 43, in _precision\n",
      "    return tp / (tp + fp)\n",
      "ZeroDivisionError: division by zero\n",
      "\n",
      "\n",
      "  7%|▋         | 260/3710 [5:15:09<41:27:06, 43.25s/it]\u001b[A\u001b[A"
     ]
    },
    {
     "name": "stdout",
     "output_type": "stream",
     "text": [
      "pipeline: lstm_dynamic_threshold_ablation, signal: M-3, test_split: True, detrend: False\n"
     ]
    },
    {
     "name": "stderr",
     "output_type": "stream",
     "text": [
      "Evaluation exception division by zero (tp 0/ fp 0).\n",
      "Traceback (most recent call last):\n",
      "  File \"/home/dongyu/miniconda/envs/aer-paper/lib/python3.7/site-packages/orion/evaluation/common.py\", line 43, in _precision\n",
      "    return tp / (tp + fp)\n",
      "ZeroDivisionError: division by zero\n",
      "Evaluation exception division by zero (tp 0/ fp 0).\n",
      "Traceback (most recent call last):\n",
      "  File \"/home/dongyu/miniconda/envs/aer-paper/lib/python3.7/site-packages/orion/evaluation/common.py\", line 43, in _precision\n",
      "    return tp / (tp + fp)\n",
      "ZeroDivisionError: division by zero\n",
      "\n",
      "\n",
      "  7%|▋         | 261/3710 [5:15:58<43:07:00, 45.00s/it]\u001b[A\u001b[A"
     ]
    },
    {
     "name": "stdout",
     "output_type": "stream",
     "text": [
      "pipeline: lstm_dynamic_threshold_ablation, signal: M-4, test_split: True, detrend: False\n"
     ]
    },
    {
     "name": "stderr",
     "output_type": "stream",
     "text": [
      "Invalid value encountered for precision 0.0/ recall 0.0.\n",
      "Traceback (most recent call last):\n",
      "  File \"/home/dongyu/miniconda/envs/aer-paper/lib/python3.7/site-packages/orion/evaluation/common.py\", line 70, in _f1_score\n",
      "    return 2 * (precision * recall) / (precision + recall)\n",
      "ZeroDivisionError: float division by zero\n",
      "\n",
      "\n",
      "  7%|▋         | 262/3710 [5:16:48<44:23:22, 46.35s/it]\u001b[A\u001b[A"
     ]
    },
    {
     "name": "stdout",
     "output_type": "stream",
     "text": [
      "pipeline: lstm_dynamic_threshold_ablation, signal: M-5, test_split: True, detrend: False\n"
     ]
    },
    {
     "name": "stderr",
     "output_type": "stream",
     "text": [
      "\n",
      "\n",
      "  7%|▋         | 263/3710 [5:17:37<45:04:13, 47.07s/it]\u001b[A\u001b[A"
     ]
    },
    {
     "name": "stdout",
     "output_type": "stream",
     "text": [
      "pipeline: lstm_dynamic_threshold_ablation, signal: P-15, test_split: True, detrend: False\n"
     ]
    },
    {
     "name": "stderr",
     "output_type": "stream",
     "text": [
      "\n",
      "\n",
      "  7%|▋         | 264/3710 [5:18:56<54:16:21, 56.70s/it]\u001b[A\u001b[A"
     ]
    },
    {
     "name": "stdout",
     "output_type": "stream",
     "text": [
      "pipeline: lstm_dynamic_threshold_ablation, signal: C-1, test_split: True, detrend: False\n"
     ]
    },
    {
     "name": "stderr",
     "output_type": "stream",
     "text": [
      "\n",
      "\n",
      "  7%|▋         | 265/3710 [5:19:48<52:52:45, 55.26s/it]\u001b[A\u001b[A"
     ]
    },
    {
     "name": "stdout",
     "output_type": "stream",
     "text": [
      "pipeline: lstm_dynamic_threshold_ablation, signal: C-2, test_split: True, detrend: False\n"
     ]
    },
    {
     "name": "stderr",
     "output_type": "stream",
     "text": [
      "Invalid value encountered for precision 0.0/ recall 0.0.\n",
      "Traceback (most recent call last):\n",
      "  File \"/home/dongyu/miniconda/envs/aer-paper/lib/python3.7/site-packages/orion/evaluation/common.py\", line 70, in _f1_score\n",
      "    return 2 * (precision * recall) / (precision + recall)\n",
      "ZeroDivisionError: float division by zero\n",
      "\n",
      "\n",
      "  7%|▋         | 266/3710 [5:19:58<39:51:14, 41.66s/it]\u001b[A\u001b[A"
     ]
    },
    {
     "name": "stdout",
     "output_type": "stream",
     "text": [
      "pipeline: lstm_dynamic_threshold_ablation, signal: T-12, test_split: True, detrend: False\n"
     ]
    },
    {
     "name": "stderr",
     "output_type": "stream",
     "text": [
      "\n",
      "\n",
      "  7%|▋         | 267/3710 [5:20:26<36:04:38, 37.72s/it]\u001b[A\u001b[A"
     ]
    },
    {
     "name": "stdout",
     "output_type": "stream",
     "text": [
      "pipeline: lstm_dynamic_threshold_ablation, signal: T-13, test_split: True, detrend: False\n"
     ]
    },
    {
     "name": "stderr",
     "output_type": "stream",
     "text": [
      "\n",
      "\n",
      "  7%|▋         | 268/3710 [5:20:45<30:34:29, 31.98s/it]\u001b[A\u001b[A"
     ]
    },
    {
     "name": "stdout",
     "output_type": "stream",
     "text": [
      "pipeline: lstm_dynamic_threshold_ablation, signal: F-4, test_split: True, detrend: False\n"
     ]
    },
    {
     "name": "stderr",
     "output_type": "stream",
     "text": [
      "Invalid value encountered for precision 0.0/ recall 0.0.\n",
      "Traceback (most recent call last):\n",
      "  File \"/home/dongyu/miniconda/envs/aer-paper/lib/python3.7/site-packages/orion/evaluation/common.py\", line 70, in _f1_score\n",
      "    return 2 * (precision * recall) / (precision + recall)\n",
      "ZeroDivisionError: float division by zero\n",
      "\n",
      "\n",
      "  7%|▋         | 269/3710 [5:21:39<37:03:28, 38.77s/it]\u001b[A\u001b[A"
     ]
    },
    {
     "name": "stdout",
     "output_type": "stream",
     "text": [
      "pipeline: lstm_dynamic_threshold_ablation, signal: F-5, test_split: True, detrend: False\n"
     ]
    },
    {
     "name": "stderr",
     "output_type": "stream",
     "text": [
      "\n",
      "\n",
      "  7%|▋         | 270/3710 [5:22:43<44:06:08, 46.15s/it]\u001b[A\u001b[A"
     ]
    },
    {
     "name": "stdout",
     "output_type": "stream",
     "text": [
      "pipeline: lstm_dynamic_threshold_ablation, signal: D-14, test_split: True, detrend: False\n"
     ]
    },
    {
     "name": "stderr",
     "output_type": "stream",
     "text": [
      "\n",
      "\n",
      "  7%|▋         | 271/3710 [5:23:15<40:12:12, 42.09s/it]\u001b[A\u001b[A"
     ]
    },
    {
     "name": "stdout",
     "output_type": "stream",
     "text": [
      "pipeline: lstm_dynamic_threshold_ablation, signal: T-9, test_split: True, detrend: False\n"
     ]
    },
    {
     "name": "stderr",
     "output_type": "stream",
     "text": [
      "\n",
      "\n",
      "  7%|▋         | 272/3710 [5:23:23<30:16:40, 31.70s/it]\u001b[A\u001b[A"
     ]
    },
    {
     "name": "stdout",
     "output_type": "stream",
     "text": [
      "pipeline: lstm_dynamic_threshold_ablation, signal: P-14, test_split: True, detrend: False\n"
     ]
    },
    {
     "name": "stderr",
     "output_type": "stream",
     "text": [
      "\n",
      "\n",
      "  7%|▋         | 273/3710 [5:23:51<29:13:13, 30.61s/it]\u001b[A\u001b[A"
     ]
    },
    {
     "name": "stdout",
     "output_type": "stream",
     "text": [
      "pipeline: lstm_dynamic_threshold_ablation, signal: T-8, test_split: True, detrend: False\n"
     ]
    },
    {
     "name": "stderr",
     "output_type": "stream",
     "text": [
      "\n",
      "\n",
      "  7%|▋         | 274/3710 [5:24:03<23:47:47, 24.93s/it]\u001b[A\u001b[A"
     ]
    },
    {
     "name": "stdout",
     "output_type": "stream",
     "text": [
      "pipeline: lstm_dynamic_threshold_ablation, signal: P-11, test_split: True, detrend: False\n"
     ]
    },
    {
     "name": "stderr",
     "output_type": "stream",
     "text": [
      "\n",
      "\n",
      "  7%|▋         | 275/3710 [5:25:21<39:14:21, 41.12s/it]\u001b[A\u001b[A"
     ]
    },
    {
     "name": "stdout",
     "output_type": "stream",
     "text": [
      "pipeline: lstm_dynamic_threshold_ablation, signal: D-15, test_split: True, detrend: False\n"
     ]
    },
    {
     "name": "stderr",
     "output_type": "stream",
     "text": [
      "Evaluation exception division by zero (tp 0/ fp 0).\n",
      "Traceback (most recent call last):\n",
      "  File \"/home/dongyu/miniconda/envs/aer-paper/lib/python3.7/site-packages/orion/evaluation/common.py\", line 43, in _precision\n",
      "    return tp / (tp + fp)\n",
      "ZeroDivisionError: division by zero\n",
      "Evaluation exception division by zero (tp 0/ fp 0).\n",
      "Traceback (most recent call last):\n",
      "  File \"/home/dongyu/miniconda/envs/aer-paper/lib/python3.7/site-packages/orion/evaluation/common.py\", line 43, in _precision\n",
      "    return tp / (tp + fp)\n",
      "ZeroDivisionError: division by zero\n",
      "\n",
      "\n",
      "  7%|▋         | 276/3710 [5:26:11<41:35:26, 43.60s/it]\u001b[A\u001b[A"
     ]
    },
    {
     "name": "stdout",
     "output_type": "stream",
     "text": [
      "pipeline: lstm_dynamic_threshold_ablation, signal: D-16, test_split: True, detrend: False\n"
     ]
    },
    {
     "name": "stderr",
     "output_type": "stream",
     "text": [
      "Evaluation exception division by zero (tp 0/ fp 0).\n",
      "Traceback (most recent call last):\n",
      "  File \"/home/dongyu/miniconda/envs/aer-paper/lib/python3.7/site-packages/orion/evaluation/common.py\", line 43, in _precision\n",
      "    return tp / (tp + fp)\n",
      "ZeroDivisionError: division by zero\n",
      "Evaluation exception division by zero (tp 0/ fp 0).\n",
      "Traceback (most recent call last):\n",
      "  File \"/home/dongyu/miniconda/envs/aer-paper/lib/python3.7/site-packages/orion/evaluation/common.py\", line 43, in _precision\n",
      "    return tp / (tp + fp)\n",
      "ZeroDivisionError: division by zero\n",
      "\n",
      "\n",
      "  7%|▋         | 277/3710 [5:26:34<35:49:58, 37.58s/it]\u001b[A\u001b[A"
     ]
    },
    {
     "name": "stdout",
     "output_type": "stream",
     "text": [
      "pipeline: lstm_dynamic_threshold_ablation, signal: M-7, test_split: True, detrend: False\n"
     ]
    },
    {
     "name": "stderr",
     "output_type": "stream",
     "text": [
      "\n",
      "\n",
      "  7%|▋         | 278/3710 [5:26:53<30:17:01, 31.77s/it]\u001b[A\u001b[A"
     ]
    },
    {
     "name": "stdout",
     "output_type": "stream",
     "text": [
      "pipeline: lstm_dynamic_threshold_ablation, signal: F-8, test_split: True, detrend: False\n"
     ]
    },
    {
     "name": "stderr",
     "output_type": "stream",
     "text": [
      "\n",
      "\n",
      "  8%|▊         | 279/3710 [5:28:13<44:09:44, 46.34s/it]\u001b[A\u001b[A"
     ]
    },
    {
     "name": "stdout",
     "output_type": "stream",
     "text": [
      "pipeline: lstm_autoencoder_ablation, signal: M-6, test_split: True, detrend: False\n"
     ]
    },
    {
     "name": "stderr",
     "output_type": "stream",
     "text": [
      "\n",
      "\n",
      "  8%|▊         | 280/3710 [5:28:28<35:14:29, 36.99s/it]\u001b[A\u001b[A"
     ]
    },
    {
     "name": "stdout",
     "output_type": "stream",
     "text": [
      "pipeline: lstm_autoencoder_ablation, signal: M-1, test_split: True, detrend: False\n"
     ]
    },
    {
     "name": "stderr",
     "output_type": "stream",
     "text": [
      "\n",
      "\n",
      "  8%|▊         | 281/3710 [5:28:54<32:07:52, 33.73s/it]\u001b[A\u001b[A"
     ]
    },
    {
     "name": "stdout",
     "output_type": "stream",
     "text": [
      "pipeline: lstm_autoencoder_ablation, signal: M-2, test_split: True, detrend: False\n"
     ]
    },
    {
     "name": "stderr",
     "output_type": "stream",
     "text": [
      "Evaluation exception division by zero (tp 0/ fp 0).\n",
      "Traceback (most recent call last):\n",
      "  File \"/home/dongyu/miniconda/envs/aer-paper/lib/python3.7/site-packages/orion/evaluation/common.py\", line 43, in _precision\n",
      "    return tp / (tp + fp)\n",
      "ZeroDivisionError: division by zero\n",
      "Evaluation exception division by zero (tp 0/ fp 0).\n",
      "Traceback (most recent call last):\n",
      "  File \"/home/dongyu/miniconda/envs/aer-paper/lib/python3.7/site-packages/orion/evaluation/common.py\", line 43, in _precision\n",
      "    return tp / (tp + fp)\n",
      "ZeroDivisionError: division by zero\n",
      "\n",
      "\n",
      "  8%|▊         | 282/3710 [5:29:11<27:24:35, 28.79s/it]\u001b[A\u001b[A"
     ]
    },
    {
     "name": "stdout",
     "output_type": "stream",
     "text": [
      "pipeline: lstm_autoencoder_ablation, signal: S-2, test_split: True, detrend: False\n"
     ]
    },
    {
     "name": "stderr",
     "output_type": "stream",
     "text": [
      "\n",
      "\n",
      "  8%|▊         | 283/3710 [5:29:24<22:45:57, 23.92s/it]\u001b[A\u001b[A"
     ]
    },
    {
     "name": "stdout",
     "output_type": "stream",
     "text": [
      "pipeline: lstm_autoencoder_ablation, signal: P-10, test_split: True, detrend: False\n"
     ]
    },
    {
     "name": "stderr",
     "output_type": "stream",
     "text": [
      "\n",
      "\n",
      "  8%|▊         | 284/3710 [5:30:11<29:17:20, 30.78s/it]\u001b[A\u001b[A"
     ]
    },
    {
     "name": "stdout",
     "output_type": "stream",
     "text": [
      "pipeline: lstm_autoencoder_ablation, signal: T-4, test_split: True, detrend: False\n"
     ]
    },
    {
     "name": "stderr",
     "output_type": "stream",
     "text": [
      "Evaluation exception division by zero (tp 0/ fp 0).\n",
      "Traceback (most recent call last):\n",
      "  File \"/home/dongyu/miniconda/envs/aer-paper/lib/python3.7/site-packages/orion/evaluation/common.py\", line 43, in _precision\n",
      "    return tp / (tp + fp)\n",
      "ZeroDivisionError: division by zero\n",
      "Evaluation exception division by zero (tp 0/ fp 0).\n",
      "Traceback (most recent call last):\n",
      "  File \"/home/dongyu/miniconda/envs/aer-paper/lib/python3.7/site-packages/orion/evaluation/common.py\", line 43, in _precision\n",
      "    return tp / (tp + fp)\n",
      "ZeroDivisionError: division by zero\n",
      "\n",
      "\n",
      "  8%|▊         | 285/3710 [5:30:38<28:11:28, 29.63s/it]\u001b[A\u001b[A"
     ]
    },
    {
     "name": "stdout",
     "output_type": "stream",
     "text": [
      "pipeline: lstm_autoencoder_ablation, signal: T-5, test_split: True, detrend: False\n"
     ]
    },
    {
     "name": "stderr",
     "output_type": "stream",
     "text": [
      "\n",
      "\n",
      "  8%|▊         | 286/3710 [5:30:55<24:36:26, 25.87s/it]\u001b[A\u001b[A"
     ]
    },
    {
     "name": "stdout",
     "output_type": "stream",
     "text": [
      "pipeline: lstm_autoencoder_ablation, signal: F-7, test_split: True, detrend: False\n"
     ]
    },
    {
     "name": "stderr",
     "output_type": "stream",
     "text": [
      "Evaluation exception division by zero (tp 0/ fp 0).\n",
      "Traceback (most recent call last):\n",
      "  File \"/home/dongyu/miniconda/envs/aer-paper/lib/python3.7/site-packages/orion/evaluation/common.py\", line 43, in _precision\n",
      "    return tp / (tp + fp)\n",
      "ZeroDivisionError: division by zero\n",
      "Evaluation exception division by zero (tp 0/ fp 0).\n",
      "Traceback (most recent call last):\n",
      "  File \"/home/dongyu/miniconda/envs/aer-paper/lib/python3.7/site-packages/orion/evaluation/common.py\", line 43, in _precision\n",
      "    return tp / (tp + fp)\n",
      "ZeroDivisionError: division by zero\n",
      "\n",
      "\n",
      "  8%|▊         | 287/3710 [5:31:19<24:03:45, 25.31s/it]\u001b[A\u001b[A"
     ]
    },
    {
     "name": "stdout",
     "output_type": "stream",
     "text": [
      "pipeline: lstm_autoencoder_ablation, signal: M-3, test_split: True, detrend: False\n"
     ]
    },
    {
     "name": "stderr",
     "output_type": "stream",
     "text": [
      "\n",
      "\n",
      "  8%|▊         | 288/3710 [5:31:42<23:27:26, 24.68s/it]\u001b[A\u001b[A"
     ]
    },
    {
     "name": "stdout",
     "output_type": "stream",
     "text": [
      "pipeline: lstm_autoencoder_ablation, signal: M-4, test_split: True, detrend: False\n"
     ]
    },
    {
     "name": "stderr",
     "output_type": "stream",
     "text": [
      "Evaluation exception division by zero (tp 0/ fp 0).\n",
      "Traceback (most recent call last):\n",
      "  File \"/home/dongyu/miniconda/envs/aer-paper/lib/python3.7/site-packages/orion/evaluation/common.py\", line 43, in _precision\n",
      "    return tp / (tp + fp)\n",
      "ZeroDivisionError: division by zero\n",
      "Evaluation exception division by zero (tp 0/ fp 0).\n",
      "Traceback (most recent call last):\n",
      "  File \"/home/dongyu/miniconda/envs/aer-paper/lib/python3.7/site-packages/orion/evaluation/common.py\", line 43, in _precision\n",
      "    return tp / (tp + fp)\n",
      "ZeroDivisionError: division by zero\n",
      "\n",
      "\n",
      "  8%|▊         | 289/3710 [5:32:06<23:20:15, 24.56s/it]\u001b[A\u001b[A"
     ]
    },
    {
     "name": "stdout",
     "output_type": "stream",
     "text": [
      "pipeline: lstm_autoencoder_ablation, signal: M-5, test_split: True, detrend: False\n"
     ]
    },
    {
     "name": "stderr",
     "output_type": "stream",
     "text": [
      "Evaluation exception division by zero (tp 0/ fp 0).\n",
      "Traceback (most recent call last):\n",
      "  File \"/home/dongyu/miniconda/envs/aer-paper/lib/python3.7/site-packages/orion/evaluation/common.py\", line 43, in _precision\n",
      "    return tp / (tp + fp)\n",
      "ZeroDivisionError: division by zero\n",
      "Evaluation exception division by zero (tp 0/ fp 0).\n",
      "Traceback (most recent call last):\n",
      "  File \"/home/dongyu/miniconda/envs/aer-paper/lib/python3.7/site-packages/orion/evaluation/common.py\", line 43, in _precision\n",
      "    return tp / (tp + fp)\n",
      "ZeroDivisionError: division by zero\n",
      "\n",
      "\n",
      "  8%|▊         | 290/3710 [5:32:30<23:01:10, 24.23s/it]\u001b[A\u001b[A"
     ]
    },
    {
     "name": "stdout",
     "output_type": "stream",
     "text": [
      "pipeline: lstm_autoencoder_ablation, signal: P-15, test_split: True, detrend: False\n"
     ]
    },
    {
     "name": "stderr",
     "output_type": "stream",
     "text": [
      "\n",
      "\n",
      "  8%|▊         | 291/3710 [5:33:09<27:18:45, 28.76s/it]\u001b[A\u001b[A"
     ]
    },
    {
     "name": "stdout",
     "output_type": "stream",
     "text": [
      "pipeline: lstm_autoencoder_ablation, signal: C-1, test_split: True, detrend: False\n"
     ]
    },
    {
     "name": "stderr",
     "output_type": "stream",
     "text": [
      "\n",
      "\n",
      "  8%|▊         | 292/3710 [5:33:35<26:25:29, 27.83s/it]\u001b[A\u001b[A"
     ]
    },
    {
     "name": "stdout",
     "output_type": "stream",
     "text": [
      "pipeline: lstm_autoencoder_ablation, signal: C-2, test_split: True, detrend: False\n"
     ]
    },
    {
     "name": "stderr",
     "output_type": "stream",
     "text": [
      "Evaluation exception division by zero (tp 0/ fp 0).\n",
      "Traceback (most recent call last):\n",
      "  File \"/home/dongyu/miniconda/envs/aer-paper/lib/python3.7/site-packages/orion/evaluation/common.py\", line 43, in _precision\n",
      "    return tp / (tp + fp)\n",
      "ZeroDivisionError: division by zero\n",
      "Evaluation exception division by zero (tp 0/ fp 0).\n",
      "Traceback (most recent call last):\n",
      "  File \"/home/dongyu/miniconda/envs/aer-paper/lib/python3.7/site-packages/orion/evaluation/common.py\", line 43, in _precision\n",
      "    return tp / (tp + fp)\n",
      "ZeroDivisionError: division by zero\n",
      "\n",
      "\n",
      "  8%|▊         | 293/3710 [5:33:47<22:06:18, 23.29s/it]\u001b[A\u001b[A"
     ]
    },
    {
     "name": "stdout",
     "output_type": "stream",
     "text": [
      "pipeline: lstm_autoencoder_ablation, signal: T-12, test_split: True, detrend: False\n"
     ]
    },
    {
     "name": "stderr",
     "output_type": "stream",
     "text": [
      "Invalid value encountered for precision 0.0/ recall 0.0.\n",
      "Traceback (most recent call last):\n",
      "  File \"/home/dongyu/miniconda/envs/aer-paper/lib/python3.7/site-packages/orion/evaluation/common.py\", line 70, in _f1_score\n",
      "    return 2 * (precision * recall) / (precision + recall)\n",
      "ZeroDivisionError: float division by zero\n",
      "\n",
      "\n",
      "  8%|▊         | 294/3710 [5:34:00<18:54:30, 19.93s/it]\u001b[A\u001b[A"
     ]
    },
    {
     "name": "stdout",
     "output_type": "stream",
     "text": [
      "pipeline: lstm_autoencoder_ablation, signal: T-13, test_split: True, detrend: False\n"
     ]
    },
    {
     "name": "stderr",
     "output_type": "stream",
     "text": [
      "Evaluation exception division by zero (tp 0/ fp 0).\n",
      "Traceback (most recent call last):\n",
      "  File \"/home/dongyu/miniconda/envs/aer-paper/lib/python3.7/site-packages/orion/evaluation/common.py\", line 43, in _precision\n",
      "    return tp / (tp + fp)\n",
      "ZeroDivisionError: division by zero\n",
      "Evaluation exception division by zero (tp 0/ fp 0).\n",
      "Traceback (most recent call last):\n",
      "  File \"/home/dongyu/miniconda/envs/aer-paper/lib/python3.7/site-packages/orion/evaluation/common.py\", line 43, in _precision\n",
      "    return tp / (tp + fp)\n",
      "ZeroDivisionError: division by zero\n",
      "\n",
      "\n",
      "  8%|▊         | 295/3710 [5:34:15<17:36:01, 18.55s/it]\u001b[A\u001b[A"
     ]
    },
    {
     "name": "stdout",
     "output_type": "stream",
     "text": [
      "pipeline: lstm_autoencoder_ablation, signal: F-4, test_split: True, detrend: False\n"
     ]
    },
    {
     "name": "stderr",
     "output_type": "stream",
     "text": [
      "Invalid value encountered for precision 0.0/ recall 0.0.\n",
      "Traceback (most recent call last):\n",
      "  File \"/home/dongyu/miniconda/envs/aer-paper/lib/python3.7/site-packages/orion/evaluation/common.py\", line 70, in _f1_score\n",
      "    return 2 * (precision * recall) / (precision + recall)\n",
      "ZeroDivisionError: float division by zero\n",
      "\n",
      "\n",
      "  8%|▊         | 296/3710 [5:34:42<20:01:05, 21.11s/it]\u001b[A\u001b[A"
     ]
    },
    {
     "name": "stdout",
     "output_type": "stream",
     "text": [
      "pipeline: lstm_autoencoder_ablation, signal: F-5, test_split: True, detrend: False\n"
     ]
    },
    {
     "name": "stderr",
     "output_type": "stream",
     "text": [
      "\n",
      "\n",
      "  8%|▊         | 297/3710 [5:35:07<21:03:07, 22.21s/it]\u001b[A\u001b[A"
     ]
    },
    {
     "name": "stdout",
     "output_type": "stream",
     "text": [
      "pipeline: lstm_autoencoder_ablation, signal: D-14, test_split: True, detrend: False\n"
     ]
    },
    {
     "name": "stderr",
     "output_type": "stream",
     "text": [
      "\n",
      "\n",
      "  8%|▊         | 298/3710 [5:35:29<21:12:03, 22.37s/it]\u001b[A\u001b[A"
     ]
    },
    {
     "name": "stdout",
     "output_type": "stream",
     "text": [
      "pipeline: lstm_autoencoder_ablation, signal: T-9, test_split: True, detrend: False\n"
     ]
    },
    {
     "name": "stderr",
     "output_type": "stream",
     "text": [
      "\n",
      "\n",
      "  8%|▊         | 299/3710 [5:35:37<16:50:06, 17.77s/it]\u001b[A\u001b[A"
     ]
    },
    {
     "name": "stdout",
     "output_type": "stream",
     "text": [
      "pipeline: lstm_autoencoder_ablation, signal: P-14, test_split: True, detrend: False\n"
     ]
    }
   ],
   "source": [
    "experiment_name=\"Table_IV_A_no-mask\"\n",
    "pipelines = {\n",
    "    'arima': 'arima_ablation',\n",
    "    'lstm_dynamic_threshold': 'lstm_dynamic_threshold_ablation',\n",
    "    'lstm_autoencoder': 'lstm_autoencoder_ablation',\n",
    "    'vae': 'vae_ablation',\n",
    "    'tadgan': 'tadgan_ablation'\n",
    "}\n",
    "results = run_experiment(\n",
    "    experiment_name=experiment_name,\n",
    "    pipelines=pipelines,\n",
    "    # datasets=['artificialWithAnomaly'],\n",
    "    datasets=ALL_DATASETS,\n",
    "    metrics=METRICS,\n",
    "    results_directory=RESULTS_DIRECTORY,\n",
    "    workers=1,\n",
    "    tqdm_log_file = 'Table_IV_A_no-mask_progress.txt'\n",
    ")\n",
    "results.insert(1, 'pipeline_variation', '_ablation')\n",
    "results.to_csv(f'results/{experiment_name}_results.csv', index=False)"
   ]
  },
  {
   "cell_type": "code",
   "execution_count": null,
   "id": "39de825c-40f5-49c3-9ee8-79a879f907b6",
   "metadata": {},
   "outputs": [],
   "source": [
    "experiment_name=\"Table_IV_A_mask\"\n",
    "pipelines = {\n",
    "    'arima': 'arima_ablation-mask',\n",
    "    'lstm_dynamic_threshold': 'lstm_dynamic_threshold_ablation-mask',\n",
    "    'bi_reg': 'bi_reg_ablation',   # this pipeline comes with mask naturally\n",
    "    'lstm_autoencoder': 'lstm_autoencoder_ablation-mask',\n",
    "    'vae': 'vae_ablation-mask',\n",
    "    'tadgan': 'tadgan_ablation-mask'\n",
    "}\n",
    "_results = run_experiment(\n",
    "    experiment_name=experiment_name,\n",
    "    pipelines=pipelines,\n",
    "    # datasets=['artificialWithAnomaly'],\n",
    "    datasets=ALL_DATASETS,\n",
    "    metrics=METRICS,\n",
    "    results_directory=RESULTS_DIRECTORY,\n",
    "    workers=1,\n",
    "    tqdm_log_file = 'Table_IV_A_mask_progress.txt'\n",
    ")\n",
    "_results.insert(1, 'pipeline_variation', '_ablation-mask')\n",
    "_results.to_csv(f'results/{experiment_name}_results.csv', index=False)\n",
    "results = pd.concat([results, _results])"
   ]
  },
  {
   "cell_type": "code",
   "execution_count": null,
   "id": "bc0b05ce-e6eb-4f4f-a235-d0856243b4b4",
   "metadata": {},
   "outputs": [],
   "source": [
    "results.to_csv('Table_IV_A_results.csv', index=False)"
   ]
  }
 ],
 "metadata": {
  "kernelspec": {
   "display_name": "aer-paper",
   "language": "python",
   "name": "aer-paper"
  },
  "language_info": {
   "codemirror_mode": {
    "name": "ipython",
    "version": 3
   },
   "file_extension": ".py",
   "mimetype": "text/x-python",
   "name": "python",
   "nbconvert_exporter": "python",
   "pygments_lexer": "ipython3",
   "version": "3.7.13"
  }
 },
 "nbformat": 4,
 "nbformat_minor": 5
}
