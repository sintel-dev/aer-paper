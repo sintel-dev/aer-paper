{
 "cells": [
  {
   "cell_type": "markdown",
   "id": "7e77acdf-0cf3-4341-b0d6-ccdabf64b50c",
   "metadata": {},
   "source": [
    "### Important setup\n",
    "To run benchmark, you have to do the following steps:\n",
    "\n",
    "step1: download `data.zip` file over the link (xxx)\n",
    "\n",
    "step2: unzip it into `aer/data` folder"
   ]
  },
  {
   "cell_type": "markdown",
   "id": "e0644eb0-9336-4ad3-a726-a4051ba90844",
   "metadata": {},
   "source": [
    "### Imports"
   ]
  },
  {
   "cell_type": "code",
   "execution_count": null,
   "id": "6270f879-bea2-468a-b174-a94c3ed502e6",
   "metadata": {},
   "outputs": [],
   "source": [
    "import sys\n",
    "sys.path.append('..')\n",
    "\n",
    "from analysis import *\n",
    "\n",
    "os.environ[\"CUDA_VISIBLE_DEVICES\"]=\"3\""
   ]
  },
  {
   "cell_type": "markdown",
   "id": "55344263-88b9-4ad1-949b-f73fd2757caa",
   "metadata": {},
   "source": [
    "### Run pipelines in Table_IV_A"
   ]
  },
  {
   "cell_type": "code",
   "execution_count": null,
   "id": "c24410e7-8f9d-4702-8646-248c8779cf7a",
   "metadata": {},
   "outputs": [],
   "source": [
    "run_table_IV_A()\n",
    "\n",
    "# you can choose to seperate this running into the following two:\n",
    "# run_table_IV_A_nomask()\n",
    "# run_table_IV_A_mask()"
   ]
  },
  {
   "cell_type": "markdown",
   "id": "96ee5747-7dfc-4d71-87b3-26a79e6be22f",
   "metadata": {},
   "source": [
    "### Run pipelines in Table_IV_B"
   ]
  },
  {
   "cell_type": "code",
   "execution_count": null,
   "id": "ffeeaf4b-0871-4320-ad08-a298e9497718",
   "metadata": {},
   "outputs": [],
   "source": [
    "run_table_IV_B()"
   ]
  }
 ],
 "metadata": {
  "kernelspec": {
   "display_name": "aer-paper",
   "language": "python",
   "name": "aer-paper"
  },
  "language_info": {
   "codemirror_mode": {
    "name": "ipython",
    "version": 3
   },
   "file_extension": ".py",
   "mimetype": "text/x-python",
   "name": "python",
   "nbconvert_exporter": "python",
   "pygments_lexer": "ipython3",
   "version": "3.7.13"
  }
 },
 "nbformat": 4,
 "nbformat_minor": 5
}
