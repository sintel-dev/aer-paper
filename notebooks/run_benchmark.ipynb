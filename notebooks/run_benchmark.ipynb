{
 "cells": [
  {
   "cell_type": "code",
   "execution_count": null,
   "id": "9cabb6c5-dc3f-4006-96b6-ac9f4f21e4ac",
   "metadata": {},
   "outputs": [],
   "source": [
    "import sys\n",
    "sys.path.append('..')\n",
    "\n",
    "from analysis import *\n",
    "\n",
    "os.environ[\"CUDA_VISIBLE_DEVICES\"]=\"3\""
   ]
  },
  {
   "cell_type": "markdown",
   "id": "55344263-88b9-4ad1-949b-f73fd2757caa",
   "metadata": {},
   "source": [
    "### Run pipelines in Table_IV_A"
   ]
  },
  {
   "cell_type": "code",
   "execution_count": null,
   "id": "c24410e7-8f9d-4702-8646-248c8779cf7a",
   "metadata": {},
   "outputs": [],
   "source": [
    "run_table_IV_A()\n",
    "\n",
    "\n",
    "# you can choose to seperate this running into the following two:\n",
    "# run_table_IV_A_nomask()\n",
    "# run_table_IV_A_mask()"
   ]
  },
  {
   "cell_type": "markdown",
   "id": "96ee5747-7dfc-4d71-87b3-26a79e6be22f",
   "metadata": {},
   "source": [
    "### Run pipelines in Table_IV_B"
   ]
  },
  {
   "cell_type": "code",
   "execution_count": null,
   "id": "ffeeaf4b-0871-4320-ad08-a298e9497718",
   "metadata": {},
   "outputs": [],
   "source": [
    "run_table_IV_B()"
   ]
  }
 ],
 "metadata": {
  "kernelspec": {
   "display_name": "aer-paper",
   "language": "python",
   "name": "aer-paper"
  },
  "language_info": {
   "codemirror_mode": {
    "name": "ipython",
    "version": 3
   },
   "file_extension": ".py",
   "mimetype": "text/x-python",
   "name": "python",
   "nbconvert_exporter": "python",
   "pygments_lexer": "ipython3",
   "version": "3.7.13"
  }
 },
 "nbformat": 4,
 "nbformat_minor": 5
}
